{
 "cells": [
  {
   "cell_type": "markdown",
   "id": "c64aee70-4006-44f6-aefd-37c440c78817",
   "metadata": {},
   "source": [
    "# Evaluate regression model"
   ]
  },
  {
   "cell_type": "code",
   "execution_count": null,
   "id": "15d61575-d411-40d4-917e-56a07acd3603",
   "metadata": {
    "papermill": {
     "duration": 3.700467,
     "end_time": "2021-05-21T15:53:22.375142",
     "exception": false,
     "start_time": "2021-05-21T15:53:18.674675",
     "status": "completed"
    },
    "tags": []
   },
   "outputs": [],
   "source": [
    "# %load imports.py\n",
    "# %load ../imports.py\n",
    "%matplotlib inline\n",
    "%load_ext autoreload\n",
    "%autoreload 2\n",
    "\n",
    "import numpy as np\n",
    "import pandas as pd\n",
    "import matplotlib.pyplot as pltb\n",
    "import matplotlib.pyplot as plt\n",
    "import seaborn as sns\n",
    "width=20\n",
    "height=3\n",
    "plt.rcParams[\"figure.figsize\"] = (width,height)\n",
    "sns.set(rc={'figure.figsize':(width,height)})\n",
    "\n",
    "#import seaborn as sns\n",
    "import os\n",
    "from collections import OrderedDict\n",
    "\n",
    "from IPython.display import display\n",
    "\n",
    "pd.options.display.max_rows = 999\n",
    "pd.options.display.max_columns = 999\n",
    "pd.set_option(\"display.max_columns\", None)\n",
    "\n",
    "import folium\n",
    "import plotly.express as px\n",
    "import plotly.graph_objects as go\n",
    "\n",
    "import sys\n",
    "import os\n",
    "\n",
    "from sklearn.metrics import r2_score\n",
    "import seaborn as sns\n",
    "\n",
    "import statsmodels.api as sm\n",
    "\n",
    "from d2e2f.visualization import visualize\n",
    "import re\n",
    "import plotly.graph_objects as go"
   ]
  },
  {
   "cell_type": "code",
   "execution_count": null,
   "id": "b060f068-455f-4472-ad87-0f75ece0dc79",
   "metadata": {},
   "outputs": [],
   "source": [
    "df = pd.DataFrame()\n",
    "\n",
    "true = catalog.load('trip_statistics_joined_thrusters_test')\n",
    "loaded = catalog.load('trip_statistics_joined_thrusters_linear_regression_prediction')\n",
    "\n",
    "for partition_id, loader in loaded.items():\n",
    "    df_ = loader()\n",
    "    \n",
    "    df_true = true[partition_id]()\n",
    "    df_true['partition_id'] = partition_id\n",
    "    df_true['start_time'] = pd.to_datetime(df_true['start_time'])\n",
    "    df_true['end_time'] = pd.to_datetime(df_true['end_time'])\n",
    "    \n",
    "    df_true['P_pred'] = df_['P']\n",
    "    \n",
    "    df = df.append(df_true, ignore_index=True)\n",
    "\n",
    "df.sort_values(by='start_time', inplace=True)"
   ]
  },
  {
   "cell_type": "code",
   "execution_count": null,
   "id": "071164d4-51e9-4a6a-8901-667562639498",
   "metadata": {},
   "outputs": [],
   "source": [
    "df.head()"
   ]
  },
  {
   "cell_type": "code",
   "execution_count": null,
   "id": "7f0fb447-e5a8-4097-8c16-21891be719f6",
   "metadata": {},
   "outputs": [],
   "source": [
    "fig = px.scatter(df, x='P',y='P_pred', color='ship', width=1000, height=600, \n",
    "                color_discrete_sequence=['red','green'], hover_data=['trip_no','trip_time'], opacity=0.5)\n",
    "fig.show()"
   ]
  },
  {
   "cell_type": "code",
   "execution_count": null,
   "id": "560e59d3-6a86-4c5d-b423-cb3a750dd032",
   "metadata": {},
   "outputs": [],
   "source": [
    "df['ship'] = df['partition_id'].apply(lambda x:re.search(r'([^-]+)',x).groups(1)[0])"
   ]
  },
  {
   "cell_type": "code",
   "execution_count": null,
   "id": "d8635372-efbf-4573-84b4-2c4bac1a581e",
   "metadata": {},
   "outputs": [],
   "source": [
    "ships = df.groupby(by='ship')\n",
    "\n",
    "for ship_name, ship in ships:\n",
    "    fig = px.line(ship, x='start_time',y=['P','P_pred'], width=1000, height=600, \n",
    "                color_discrete_sequence=['red','green'], hover_data=['trip_no','trip_time'], markers=True, title=ship_name)\n",
    "    fig.show()"
   ]
  },
  {
   "cell_type": "code",
   "execution_count": null,
   "id": "9d863849-f37d-4cea-88b2-086349c4bf48",
   "metadata": {},
   "outputs": [],
   "source": []
  }
 ],
 "metadata": {
  "kernelspec": {
   "display_name": "d2e2f",
   "language": "python",
   "name": "python3"
  },
  "language_info": {
   "codemirror_mode": {
    "name": "ipython",
    "version": 3
   },
   "file_extension": ".py",
   "mimetype": "text/x-python",
   "name": "python",
   "nbconvert_exporter": "python",
   "pygments_lexer": "ipython3",
   "version": "3.7.9"
  }
 },
 "nbformat": 4,
 "nbformat_minor": 5
}
