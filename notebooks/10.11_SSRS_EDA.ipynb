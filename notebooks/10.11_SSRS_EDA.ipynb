{
 "cells": [
  {
   "cell_type": "markdown",
   "id": "4eff1980-b64b-4dfa-87d1-4ebb900df419",
   "metadata": {},
   "source": [
    "# SSRS Expolratory Data Analysis"
   ]
  },
  {
   "cell_type": "code",
   "execution_count": null,
   "id": "7238b7b3-a81a-44f0-8f61-4fd597bd30d5",
   "metadata": {},
   "outputs": [],
   "source": [
    "# %load imports.py\n",
    "%matplotlib inline\n",
    "%load_ext autoreload\n",
    "%autoreload 2\n",
    "\n",
    "import numpy as np\n",
    "import pandas as pd\n",
    "import matplotlib.pyplot as plt\n",
    "import matplotlib.pyplot as plt\n",
    "import seaborn as sns\n",
    "width=20\n",
    "height=3\n",
    "#plt.rcParams[\"figure.figsize\"] = (width,height)\n",
    "#sns.set(rc={'figure.figsize':(width,height)})\n",
    "\n",
    "#import seaborn as sns\n",
    "import os\n",
    "from collections import OrderedDict\n",
    "\n",
    "from IPython.display import display\n",
    "\n",
    "pd.options.display.max_rows = 999\n",
    "pd.options.display.max_columns = 999\n",
    "pd.set_option(\"display.max_columns\", None)\n",
    "\n",
    "import folium\n",
    "import plotly.express as px\n",
    "import plotly.graph_objects as go\n",
    "\n",
    "import sys\n",
    "import os\n",
    "\n",
    "from sklearn.metrics import r2_score\n",
    "\n",
    "import scipy.integrate\n",
    "import seaborn as sns\n",
    "\n",
    "import pyarrow as pa\n",
    "import pyarrow.parquet as pq\n",
    "\n",
    "import dask.dataframe\n",
    "import statsmodels.api as sm\n",
    "\n",
    "from d2e2f.visualization import visualize\n",
    "import scipy.integrate\n",
    "from sklearn.linear_model import LinearRegression, Ridge, Lasso\n",
    "from d2e2f.visualization.visualize import plot_map, plot_trips"
   ]
  },
  {
   "cell_type": "code",
   "execution_count": null,
   "id": "2a2b2af1-be0b-4032-b96e-f951cd3b6c47",
   "metadata": {},
   "outputs": [],
   "source": [
    "from functools import reduce\n",
    "from operator import add"
   ]
  },
  {
   "cell_type": "code",
   "execution_count": null,
   "id": "4bd6ce01-fa85-4744-9cf6-3cce7d437335",
   "metadata": {},
   "outputs": [],
   "source": [
    "datas = catalog.load(\"ssrs.data\")\n",
    "data = datas['SSRS15-03_322012059']()\n",
    "data.index = pd.to_datetime(data.index)"
   ]
  },
  {
   "cell_type": "markdown",
   "id": "84a16899-6366-4c4a-8ca9-016d1e8eb210",
   "metadata": {},
   "source": [
    "## Cleaning"
   ]
  },
  {
   "cell_type": "code",
   "execution_count": null,
   "id": "d4e9b086-5c9a-4d8c-8504-4bd2b4c4355d",
   "metadata": {},
   "outputs": [],
   "source": [
    "columns = data.columns[~data.isnull().all()]\n",
    "data_clean = data[columns]\n",
    "\n",
    "mask = ((-90 <= data['latitude']) & (data['latitude'] <=90) &\n",
    "        (0 <= data['longitude']) & (data['longitude'] <=180)     \n",
    "       )\n",
    "data_clean = data_clean.loc[mask]\n",
    "data_clean = data_clean.fillna(method='backfill').fillna(method='ffill')"
   ]
  },
  {
   "cell_type": "code",
   "execution_count": null,
   "id": "f31a2896-509a-467f-9ca6-6db9fa4024fa",
   "metadata": {},
   "outputs": [],
   "source": [
    "renames = {key: reduce(add, key.split('_')[2:]) for key in data_clean.columns if len(key.split('_')[2:]) > 0}\n",
    "data_clean.rename(columns=renames, inplace=True)\n",
    "data_clean.head()"
   ]
  },
  {
   "cell_type": "code",
   "execution_count": null,
   "id": "747f3d32-8808-4c8b-be4d-fdfa97adec90",
   "metadata": {},
   "outputs": [],
   "source": [
    "data_clean.plot(x='longitude', y='latitude')"
   ]
  },
  {
   "cell_type": "code",
   "execution_count": null,
   "id": "519ce75a-bd20-4d2c-aec0-f61a40f2a361",
   "metadata": {},
   "outputs": [],
   "source": [
    "#data_clean.plot(y='SOGdshSA13')\n",
    "data_clean.plot(y='SOGdshSA16')\n"
   ]
  },
  {
   "cell_type": "code",
   "execution_count": null,
   "id": "82379155-f7dd-4597-aa74-41a29fb95443",
   "metadata": {},
   "outputs": [],
   "source": [
    "mask = ~((data_clean.columns.str.contains('COG') | data_clean.columns.str.contains('SOG')))\n",
    "columns = list(data_clean.columns[mask])\n",
    "columns.remove('latitude')\n",
    "columns.remove('longitude')\n",
    "data_plot = data_clean[columns].resample('1D').mean()\n",
    "sns.pairplot(data_plot)"
   ]
  },
  {
   "cell_type": "code",
   "execution_count": null,
   "id": "1ac2579e-4578-4b43-bf73-d4cd0efd8647",
   "metadata": {},
   "outputs": [],
   "source": [
    "mask = (data_clean.columns.str.contains('SOG'))\n",
    "columns = list(data_clean.columns[mask])\n",
    "\n",
    "data_plot = data_clean[columns].resample('1D').mean()\n",
    "sns.pairplot(data_plot)"
   ]
  },
  {
   "cell_type": "code",
   "execution_count": null,
   "id": "30f1b005-6ca4-49a6-b8da-43e86567f312",
   "metadata": {},
   "outputs": [],
   "source": [
    "data_plot.sum()"
   ]
  },
  {
   "cell_type": "code",
   "execution_count": null,
   "id": "bc6d108f-cff3-4077-9276-6181fa69a614",
   "metadata": {},
   "outputs": [],
   "source": [
    "sns.heatmap(data_plot.corr().abs(), cmap='gray_r')"
   ]
  },
  {
   "cell_type": "code",
   "execution_count": null,
   "id": "efa32ce1-ab0b-4dc9-b7d6-a35cace905fa",
   "metadata": {},
   "outputs": [],
   "source": [
    "rpm_columns = list(data_clean.columns[data_clean.columns.str.contains('RPM')])\n",
    "fuel_rate_columns = list(data_clean.columns[data_clean.columns.str.contains('FuelRate')])\n",
    "speed_columns = list(data_clean.columns[data_clean.columns.str.contains('SOG')])\n"
   ]
  },
  {
   "cell_type": "code",
   "execution_count": null,
   "id": "744efe2b-c9f3-41f2-b285-37cb3c09dabf",
   "metadata": {},
   "outputs": [],
   "source": [
    "data_clean.iloc[0:1000].plot(y=speed_columns)"
   ]
  },
  {
   "cell_type": "code",
   "execution_count": null,
   "id": "cf0bfeda-f581-4f42-85ef-559811df240f",
   "metadata": {},
   "outputs": [],
   "source": [
    "fig,ax=plt.subplots()\n",
    "data_clean.iloc[0:1000].resample('20S').mean().plot(y='SOGdshSA16', ax=ax)\n",
    "data_clean.iloc[0:1000].plot(y='SOGdshSA15', ax=ax)"
   ]
  },
  {
   "cell_type": "code",
   "execution_count": null,
   "id": "a604ff47-0e3c-40ff-88da-3f29e9f90cad",
   "metadata": {},
   "outputs": [],
   "source": [
    "len(data_clean['SOGdshSA16'].unique())"
   ]
  },
  {
   "cell_type": "code",
   "execution_count": null,
   "id": "3bc7440f-62c7-4524-a90e-e7bb31f39fbf",
   "metadata": {},
   "outputs": [],
   "source": [
    "len(data_clean['SOGdshSA15'].unique())"
   ]
  },
  {
   "cell_type": "code",
   "execution_count": null,
   "id": "8a619c9d-d982-4090-85c2-a3ccc587eb3d",
   "metadata": {},
   "outputs": [],
   "source": [
    "data_clean['SOGdshSA16'].mean()"
   ]
  },
  {
   "cell_type": "code",
   "execution_count": null,
   "id": "ea90cd28-f8e3-4ac5-b246-014d53c715da",
   "metadata": {},
   "outputs": [],
   "source": [
    "data_clean['SOGdshSA15'].mean()"
   ]
  },
  {
   "cell_type": "code",
   "execution_count": null,
   "id": "3a21db18-ce5a-470e-b5b2-32988518a73b",
   "metadata": {},
   "outputs": [],
   "source": [
    "data_clean[['SOGdshSA15','SOGdshSA16']].mean(axis=1).mean()"
   ]
  },
  {
   "cell_type": "code",
   "execution_count": null,
   "id": "d73ab469-7d0f-48f3-a6f1-ecf4f7a63a54",
   "metadata": {},
   "outputs": [],
   "source": [
    "data_clean['rpm'] = data_clean[rpm_columns].mean(axis=1)\n",
    "data_clean['fuel_rate'] = data_clean[fuel_rate_columns].mean(axis=1)\n",
    "data_new = data_clean.drop(columns = rpm_columns + fuel_rate_columns)\n",
    "\n",
    "renames = {\n",
    "'SOGdshSA16' : 'sog',\n",
    "'COGTruedshSA16' : 'cog',\n",
    "}\n",
    "data_new.rename(columns=renames, inplace=True)\n",
    "data_new.drop(columns=['COGTruedshSA15','SOGdshSA15'], inplace=True)"
   ]
  },
  {
   "cell_type": "code",
   "execution_count": null,
   "id": "4c1f4882-ac8b-4966-8d32-fec4a7418b32",
   "metadata": {},
   "outputs": [],
   "source": [
    "data_new.head()"
   ]
  },
  {
   "cell_type": "code",
   "execution_count": null,
   "id": "4d513fb4-431b-4733-a2cf-30822570554f",
   "metadata": {},
   "outputs": [],
   "source": [
    "#dx = np.cos(np.deg2rad(data_new['COGTruedshSA15'])) - np.cos(np.deg2rad(data_new['cog']))\n",
    "#dy = np.sin(np.deg2rad(data_new['COGTruedshSA15'])) - np.sin(np.deg2rad(data_new['cog']))\n",
    "#beta = np.arctan2(dy,dx)\n",
    "#np.rad2deg(beta)"
   ]
  },
  {
   "cell_type": "code",
   "execution_count": null,
   "id": "6274acda-33d8-4f35-aa49-a010b1050a07",
   "metadata": {},
   "outputs": [],
   "source": [
    "sns.pairplot(data_new.resample('100S').mean().drop(columns=['latitude','longitude','cog']), kind='scatter', plot_kws={'alpha':0.01})\n",
    "\n",
    "#g = sns.PairGrid(data_new.resample('100S').mean().drop(columns=['latitude','longitude','cog']))\n",
    "#g.map_upper(sns.scatterplot)\n",
    "#g.map_lower(sns.scatterplot)"
   ]
  },
  {
   "cell_type": "code",
   "execution_count": null,
   "id": "021a5efd-60e8-4ac2-99f0-e9753165f464",
   "metadata": {},
   "outputs": [],
   "source": [
    "mask = data_new['sog']>3\n",
    "data_speed = data_new.loc[mask]"
   ]
  },
  {
   "cell_type": "code",
   "execution_count": null,
   "id": "858b0ade-8e82-49d3-aeab-dbab392e540a",
   "metadata": {},
   "outputs": [],
   "source": [
    "sns.pairplot(data_speed.drop(columns=['latitude','longitude','cog']), kind='scatter', plot_kws={'alpha':0.01})\n"
   ]
  },
  {
   "cell_type": "code",
   "execution_count": null,
   "id": "57e4445f-293f-4c91-a244-ebfb4b622365",
   "metadata": {},
   "outputs": [],
   "source": [
    "plot_map(df=data_speed, zoom_start=9, color_key='sog')"
   ]
  },
  {
   "cell_type": "code",
   "execution_count": null,
   "id": "9e5c327a-bf5d-48df-a61f-bba4e8d30698",
   "metadata": {},
   "outputs": [],
   "source": [
    "data_new['t'] = (data_new.index-data_new.index[0]).total_seconds()\n",
    "mask = data_new['t'].diff() > 30\n",
    "len(data_new.loc[mask])"
   ]
  },
  {
   "cell_type": "code",
   "execution_count": null,
   "id": "37ae6cfe-b228-4eec-8d1c-b305d685874c",
   "metadata": {},
   "outputs": [],
   "source": [
    "assert len(data_new.loc[mask]) / len(data_new) < 10**-4\n",
    "jumps = data_new.loc[mask]\n",
    "\n",
    "for index, jump in jumps.iterrows():\n",
    "    i = data_new.index.get_loc(index)\n",
    "    data_new.iloc[i][['sog','fuel_rate']] = 0\n",
    "    data_new.iloc[i+1][['sog','fuel_rate']] = 0\n",
    "    "
   ]
  },
  {
   "cell_type": "code",
   "execution_count": null,
   "id": "ef8a9c60-85e6-4135-9f2b-75f813634a8e",
   "metadata": {},
   "outputs": [],
   "source": [
    "distance = scipy.integrate.trapz(data_new['sog'], x=data_new['t'])\n",
    "distance"
   ]
  },
  {
   "cell_type": "code",
   "execution_count": null,
   "id": "8adfd4d9-224c-4953-b2f2-57e782765486",
   "metadata": {},
   "outputs": [],
   "source": [
    "consumption = scipy.integrate.trapz(data_new['fuel_rate']/3600, x=data_new['t'])\n",
    "consumption"
   ]
  },
  {
   "cell_type": "code",
   "execution_count": null,
   "id": "8a7be07d-de3d-4a68-af70-19b936c88173",
   "metadata": {},
   "outputs": [],
   "source": [
    "consumption/distance*1852*1000"
   ]
  },
  {
   "cell_type": "code",
   "execution_count": null,
   "id": "abf0ba27-8026-4f64-a00f-766cc3670c80",
   "metadata": {},
   "outputs": [],
   "source": [
    "consumption/data_new.iloc[-1]['t']*3600*1000"
   ]
  },
  {
   "cell_type": "code",
   "execution_count": null,
   "id": "70f93ccf-35cf-45dd-be1c-9acdf494c9aa",
   "metadata": {},
   "outputs": [],
   "source": [
    "data_new['sog'].mean()"
   ]
  },
  {
   "cell_type": "code",
   "execution_count": null,
   "id": "3ea5af76-1427-4665-8da7-cf7f1a565fa7",
   "metadata": {},
   "outputs": [],
   "source": [
    "mask = data_new['sog']>0.25\n",
    "data_speed = data_new.loc[mask]\n",
    "distance = scipy.integrate.trapz(data_speed['sog'], dx=1.0)\n",
    "distance"
   ]
  },
  {
   "cell_type": "code",
   "execution_count": null,
   "id": "771747b6-6639-436d-b929-a4ce5af7d4f8",
   "metadata": {},
   "outputs": [],
   "source": [
    "consumption = scipy.integrate.trapz(data_speed['fuel_rate']/3600, dx=1.0)\n",
    "consumption"
   ]
  },
  {
   "cell_type": "code",
   "execution_count": null,
   "id": "8e32b2ff-2dde-4e6a-a4f2-c29d926e3eeb",
   "metadata": {},
   "outputs": [],
   "source": [
    "consumption/distance*1852*1000"
   ]
  },
  {
   "cell_type": "code",
   "execution_count": null,
   "id": "6c4ba231-304b-46b2-a9b3-b99470574910",
   "metadata": {},
   "outputs": [],
   "source": [
    "elapsed_time = len(data_speed)*1.0\n",
    "consumption/elapsed_time*3600*1000"
   ]
  },
  {
   "cell_type": "code",
   "execution_count": null,
   "id": "db4d7da8-e20b-4166-8003-a4280f0a16f9",
   "metadata": {},
   "outputs": [],
   "source": [
    "data_speed['sog'].mean()"
   ]
  },
  {
   "cell_type": "code",
   "execution_count": null,
   "id": "9c09d59e-255a-4ab3-b7e2-72a378e43d6c",
   "metadata": {},
   "outputs": [],
   "source": [
    "import geopandas"
   ]
  },
  {
   "cell_type": "code",
   "execution_count": null,
   "id": "94e38b5e-4a6d-40ba-82d3-1b8374ff6176",
   "metadata": {},
   "outputs": [],
   "source": [
    "data = geopandas.GeoDataFrame(data_speed, \n",
    "                 geometry=geopandas.points_from_xy(data_speed.longitude, data_speed.latitude, crs=\"EPSG:4326\"))\n",
    "data = data.to_crs(epsg=3006)\n",
    "data['distance'] = data.distance(data.shift())"
   ]
  },
  {
   "cell_type": "code",
   "execution_count": null,
   "id": "98821b64-d33c-4719-9cc2-ce23f8136964",
   "metadata": {},
   "outputs": [],
   "source": [
    "data['distance'].sum()"
   ]
  },
  {
   "cell_type": "code",
   "execution_count": null,
   "id": "c642b46e-1a90-4a58-a08a-1f06b6d83840",
   "metadata": {},
   "outputs": [],
   "source": [
    "data['distance'].sum()/distance"
   ]
  },
  {
   "cell_type": "code",
   "execution_count": null,
   "id": "a15f9f85-5812-45d1-995a-ec013b8d63d7",
   "metadata": {},
   "outputs": [],
   "source": [
    "data_speed['fuel_per_m'] = data_speed['fuel_rate']/data_speed['sog']"
   ]
  },
  {
   "cell_type": "code",
   "execution_count": null,
   "id": "14ab7ae5-9b22-498f-9193-6014f20ca022",
   "metadata": {},
   "outputs": [],
   "source": [
    "from sklearn.svm import SVR\n",
    "model = LinearRegression()\n",
    "mask = data_speed['sog'] > 1\n",
    "data = data_speed.loc[mask].resample('30S').mean().dropna()\n",
    "\n",
    "def features(data):\n",
    "    X = pd.DataFrame(index=data.index)\n",
    "    X['sog'] = data['sog']\n",
    "    X['sog**2'] = data['sog']**2\n",
    "    X['sog**3'] = data['sog']**3\n",
    "    X['sog**4'] = data['sog']**4\n",
    "    X['sog**5'] = data['sog']**5\n",
    "    X['sog**6'] = data['sog']**6\n",
    "    \n",
    "    return X\n",
    "\n",
    "X = features(data)\n",
    "#y = data['fuel_per_m']\n",
    "y = data['fuel_rate']\n",
    "model.fit(X,y)"
   ]
  },
  {
   "cell_type": "code",
   "execution_count": null,
   "id": "34e346eb-380b-45cf-a821-05edbaeeeab0",
   "metadata": {},
   "outputs": [],
   "source": [
    "X_pred = pd.DataFrame()\n",
    "X_pred['sog'] = np.linspace(data_speed['sog'].min(), data_speed['sog'].max(), 100)\n",
    "X_pred = features(X_pred)\n",
    "\n",
    "prediction = X_pred.copy()\n",
    "prediction['fuel_rate'] = model.predict(X_pred)\n",
    "prediction['fuel_per_m'] = prediction['fuel_rate']/X_pred['sog']\n",
    "\n"
   ]
  },
  {
   "cell_type": "code",
   "execution_count": null,
   "id": "ca4f1083-c1cf-4618-8287-27ebe825f7e0",
   "metadata": {},
   "outputs": [],
   "source": [
    "fig,ax=plt.subplots()\n",
    "data_speed.resample('10S').mean().plot(x='sog', y='fuel_per_m', style='.', alpha=0.05, ax=ax)\n",
    "ax.set_ylim(data_speed['fuel_per_m'].quantile(0.01), \n",
    "            data_speed['fuel_per_m'].quantile(0.90))\n",
    "\n",
    "prediction.plot(x='sog', y='fuel_per_m', label='regression', ax=ax)\n",
    "ax.set_xticks(np.arange(0,int(np.ceil(data_speed['sog'].max())),1));\n",
    "ax.grid(True)"
   ]
  },
  {
   "cell_type": "code",
   "execution_count": null,
   "id": "81297e02-a151-4f62-9a42-aff488c03088",
   "metadata": {},
   "outputs": [],
   "source": [
    "data_speed['sog'].hist(bins=20)"
   ]
  },
  {
   "cell_type": "code",
   "execution_count": null,
   "id": "dc3bbd92-7ca4-45cb-9e59-6a499ead63fc",
   "metadata": {},
   "outputs": [],
   "source": []
  },
  {
   "cell_type": "code",
   "execution_count": null,
   "id": "fe858f74-bba5-44f1-be4b-b475069f28e6",
   "metadata": {},
   "outputs": [],
   "source": []
  },
  {
   "cell_type": "code",
   "execution_count": null,
   "id": "31f97e4b-e46d-4c91-9f95-d6e4b8c813c3",
   "metadata": {},
   "outputs": [],
   "source": []
  },
  {
   "cell_type": "code",
   "execution_count": null,
   "id": "789008b6-105f-41a4-9663-39c035282a9a",
   "metadata": {},
   "outputs": [],
   "source": [
    "model = LinearRegression(fit_intercept=True)\n",
    "\n",
    "def add_features(X):\n",
    "    X['rpm**2'] = X['rpm']**2\n",
    "    #X['rpm**3'] = X['rpm']**3\n",
    "    X['rpm**4'] = X['rpm']**4\n",
    "    #X['rpm**5'] = X['rpm']**5\n",
    "    \n",
    "\n",
    "y = data_speed['sog'].copy()\n",
    "X = data_speed[['rpm']].copy()\n",
    "add_features(X)\n",
    "\n",
    "model.fit(X=X, y=y)"
   ]
  },
  {
   "cell_type": "code",
   "execution_count": null,
   "id": "146bf4e2-141d-4044-84fa-2874bb6c60ae",
   "metadata": {},
   "outputs": [],
   "source": [
    "model.score(X, y)"
   ]
  },
  {
   "cell_type": "code",
   "execution_count": null,
   "id": "ca496ed9-f397-4d4d-924f-9982c249d4f0",
   "metadata": {},
   "outputs": [],
   "source": [
    "rpms = np.linspace(data_speed['rpm'].min(), data_speed['rpm'].max(), 100)\n",
    "f = scipy.interpolate.interp1d(x=rpms, y=rpms, kind='nearest')\n",
    "data_speed['rpm_round'] = f(data_speed['rpm'])\n",
    "data_weighted = data_speed.groupby(by='rpm_round').mean()"
   ]
  },
  {
   "cell_type": "code",
   "execution_count": null,
   "id": "3fd075d5-1c62-4f13-bdb9-dc92f126fb42",
   "metadata": {},
   "outputs": [],
   "source": [
    "y2 = data_weighted['sog'].copy()\n",
    "X2 = data_weighted[['rpm']].copy()\n",
    "add_features(X2)\n",
    "model2 = LinearRegression(fit_intercept=True)\n",
    "model2.fit(X=X2, y=y2)"
   ]
  },
  {
   "cell_type": "code",
   "execution_count": null,
   "id": "6e979329-ba05-4803-9a25-8fd69d531b81",
   "metadata": {},
   "outputs": [],
   "source": [
    "model3 = Ridge(alpha=1000, fit_intercept=True)\n",
    "model3.fit(X,y)"
   ]
  },
  {
   "cell_type": "code",
   "execution_count": null,
   "id": "520502c5-4a32-4bac-b6d0-fe4438dcc958",
   "metadata": {},
   "outputs": [],
   "source": [
    "model4 = Lasso(alpha=100, fit_intercept=True)\n",
    "model4.fit(X,y)"
   ]
  },
  {
   "cell_type": "code",
   "execution_count": null,
   "id": "48efda9a-0d25-49de-a3c4-f7da76f8045d",
   "metadata": {},
   "outputs": [],
   "source": [
    "from sklearn.svm import SVR\n",
    "model5 = SVR()\n",
    "model5.fit(X,y)"
   ]
  },
  {
   "cell_type": "code",
   "execution_count": null,
   "id": "124689ac-8d19-4a08-af3c-7464fb7f5680",
   "metadata": {},
   "outputs": [],
   "source": [
    "models = {'Linear1': model, \n",
    "          'Linear2': model2, \n",
    "          'Ridge': model3, \n",
    "          'Lasso': model4,\n",
    "          'SVR': model5}\n",
    "\n",
    "X_pred = pd.DataFrame()\n",
    "X_pred['rpm'] = np.linspace(data_speed['rpm'].min(), data_speed['rpm'].max(), 100)\n",
    "add_features(X_pred)\n",
    "\n",
    "df_predictions = pd.DataFrame()\n",
    "for name, model_ in models.items():\n",
    "    df_predictions[name] = model_.predict(X_pred)\n",
    "\n",
    "fig,ax=plt.subplots()\n",
    "data_speed.plot(x='rpm', y='sog', style='.', alpha=0.01, ax=ax)\n",
    "\n",
    "for name, y_pred in df_predictions.items():\n",
    "    ax.plot(X_pred['rpm'], y_pred, label=name)\n",
    "\n",
    "ax.legend()"
   ]
  },
  {
   "cell_type": "code",
   "execution_count": null,
   "id": "95e79e5c-30c0-4f89-a1d6-965b3be47ee8",
   "metadata": {},
   "outputs": [],
   "source": [
    "data_new['t'] = (data_new.index-data_new.index[0]).total_seconds()"
   ]
  },
  {
   "cell_type": "code",
   "execution_count": null,
   "id": "829effb3-51c1-4b5b-8a00-200f5c8b8d94",
   "metadata": {},
   "outputs": [],
   "source": [
    "distance = scipy.integrate.trapz(data_new['sog'], x=data_new['t'])\n",
    "distance"
   ]
  },
  {
   "cell_type": "code",
   "execution_count": null,
   "id": "1c75d0d8-3612-4d67-84e6-df96defcd32a",
   "metadata": {},
   "outputs": [],
   "source": [
    "consumption = scipy.integrate.trapz(data_new['fuel_rate'], x=data_new['t'])\n",
    "consumption"
   ]
  },
  {
   "cell_type": "code",
   "execution_count": null,
   "id": "67d40577-18c9-4a5f-9ad7-d5bea243d91c",
   "metadata": {},
   "outputs": [],
   "source": [
    "data_new.index[-1] - data_new.index[0]"
   ]
  },
  {
   "cell_type": "code",
   "execution_count": null,
   "id": "b7d9ec91-b504-4576-8005-8de0535bc986",
   "metadata": {},
   "outputs": [],
   "source": [
    "consumption/distance*1852"
   ]
  },
  {
   "cell_type": "code",
   "execution_count": null,
   "id": "840d1f98-3c1f-43f7-94de-81feb7b3bde2",
   "metadata": {},
   "outputs": [],
   "source": [
    "consumption/data_new.iloc[-1]['t']*1000"
   ]
  },
  {
   "cell_type": "code",
   "execution_count": null,
   "id": "c03de0d3-db71-41c1-a769-5851f72b6f1b",
   "metadata": {},
   "outputs": [],
   "source": []
  },
  {
   "cell_type": "code",
   "execution_count": null,
   "id": "07e320af-c6c6-4553-a8bb-464615b50244",
   "metadata": {},
   "outputs": [],
   "source": []
  }
 ],
 "metadata": {
  "kernelspec": {
   "display_name": "d2e2f",
   "language": "python",
   "name": "python3"
  },
  "language_info": {
   "codemirror_mode": {
    "name": "ipython",
    "version": 3
   },
   "file_extension": ".py",
   "mimetype": "text/x-python",
   "name": "python",
   "nbconvert_exporter": "python",
   "pygments_lexer": "ipython3",
   "version": "3.7.9"
  }
 },
 "nbformat": 4,
 "nbformat_minor": 5
}
