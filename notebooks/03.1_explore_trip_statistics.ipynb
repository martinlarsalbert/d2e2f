{
 "cells": [
  {
   "cell_type": "markdown",
   "id": "1510ac6f",
   "metadata": {
    "papermill": {
     "duration": 0.015624,
     "end_time": "2021-05-21T15:53:18.518461",
     "exception": false,
     "start_time": "2021-05-21T15:53:18.502837",
     "status": "completed"
    },
    "tags": []
   },
   "source": [
    "# Exploratory data analysis (EDA) : trip statistics"
   ]
  },
  {
   "cell_type": "markdown",
   "id": "68ad8479",
   "metadata": {
    "papermill": {
     "duration": 0.015653,
     "end_time": "2021-05-21T15:53:18.565325",
     "exception": false,
     "start_time": "2021-05-21T15:53:18.549672",
     "status": "completed"
    },
    "tags": []
   },
   "source": [
    "# Purpose\n",
    "Some statistics have been generated for each trip. This will be explored in this notebook, to find some possible patterns in the data."
   ]
  },
  {
   "cell_type": "markdown",
   "id": "78d41d1d",
   "metadata": {
    "papermill": {
     "duration": 0.03121,
     "end_time": "2021-05-21T15:53:18.612157",
     "exception": false,
     "start_time": "2021-05-21T15:53:18.580947",
     "status": "completed"
    },
    "tags": []
   },
   "source": [
    "# Methodology\n",
    "* Load the statistics.\n",
    "* Descriptive statistics.\n",
    "* Make some nice seaborn plots\n",
    "* Generate heat map."
   ]
  },
  {
   "cell_type": "markdown",
   "id": "c17804fe",
   "metadata": {
    "papermill": {
     "duration": 0.015622,
     "end_time": "2021-05-21T15:53:18.643400",
     "exception": false,
     "start_time": "2021-05-21T15:53:18.627778",
     "status": "completed"
    },
    "tags": []
   },
   "source": [
    "# Setup"
   ]
  },
  {
   "cell_type": "code",
   "execution_count": null,
   "id": "f5fcb76d-bedf-47ee-bda7-31fe7ea5cfe5",
   "metadata": {
    "papermill": {
     "duration": 3.700467,
     "end_time": "2021-05-21T15:53:22.375142",
     "exception": false,
     "start_time": "2021-05-21T15:53:18.674675",
     "status": "completed"
    },
    "tags": []
   },
   "outputs": [],
   "source": [
    "# %load imports.py\n",
    "# %load ../imports.py\n",
    "%matplotlib inline\n",
    "%load_ext autoreload\n",
    "%autoreload 2\n",
    "\n",
    "import numpy as np\n",
    "import pandas as pd\n",
    "import matplotlib.pyplot as plt\n",
    "import matplotlib.pyplot as plt\n",
    "import seaborn as sns\n",
    "width=20\n",
    "height=3\n",
    "plt.rcParams[\"figure.figsize\"] = (width,height)\n",
    "sns.set(rc={'figure.figsize':(width,height)})\n",
    "\n",
    "#import seaborn as sns\n",
    "import os\n",
    "from collections import OrderedDict\n",
    "\n",
    "from IPython.display import display\n",
    "\n",
    "pd.options.display.max_rows = 999\n",
    "pd.options.display.max_columns = 999\n",
    "pd.set_option(\"display.max_columns\", None)\n",
    "\n",
    "import folium\n",
    "import plotly.express as px\n",
    "import plotly.graph_objects as go\n",
    "\n",
    "import sys\n",
    "import os\n",
    "\n",
    "from sklearn.metrics import r2_score\n",
    "\n",
    "import scipy.integrate\n",
    "import seaborn as sns\n",
    "\n",
    "import pyarrow as pa\n",
    "import pyarrow.parquet as pq\n",
    "\n",
    "import dask.dataframe\n",
    "import statsmodels.api as sm\n",
    "\n",
    "from d2e2f.visualization import visualize\n",
    "import scipy.integrate\n",
    "\n",
    "from d2e2f.pipelines.trip_statistics import clean_statistics"
   ]
  },
  {
   "cell_type": "code",
   "execution_count": null,
   "id": "c4af21de",
   "metadata": {
    "papermill": {
     "duration": 0.234474,
     "end_time": "2021-05-21T15:53:22.625141",
     "exception": false,
     "start_time": "2021-05-21T15:53:22.390667",
     "status": "completed"
    },
    "tags": []
   },
   "outputs": [],
   "source": [
    "loaded = catalog.load('trip_statistics_clean')\n",
    "df_stat = loaded['tycho-brahe-wind-2021-04-10--2021-06-30.csv']()\n",
    "df_stat.head()"
   ]
  },
  {
   "cell_type": "code",
   "execution_count": null,
   "id": "c1e2f916-ce6d-4f72-9403-c6cf58eceddd",
   "metadata": {},
   "outputs": [],
   "source": [
    "df_stat.describe()"
   ]
  },
  {
   "cell_type": "code",
   "execution_count": null,
   "id": "9493ba73",
   "metadata": {
    "papermill": {
     "duration": 0.171935,
     "end_time": "2021-05-21T15:53:22.812733",
     "exception": false,
     "start_time": "2021-05-21T15:53:22.640798",
     "status": "completed"
    },
    "tags": []
   },
   "outputs": [],
   "source": [
    "df_stat.shape"
   ]
  },
  {
   "cell_type": "code",
   "execution_count": null,
   "id": "14f16344",
   "metadata": {
    "papermill": {
     "duration": 0.17193,
     "end_time": "2021-05-21T15:53:23.000185",
     "exception": false,
     "start_time": "2021-05-21T15:53:22.828255",
     "status": "completed"
    },
    "tags": []
   },
   "outputs": [],
   "source": [
    "df_stat.info()"
   ]
  },
  {
   "cell_type": "code",
   "execution_count": null,
   "id": "473dd188",
   "metadata": {
    "papermill": {
     "duration": 0.218799,
     "end_time": "2021-05-21T15:53:23.234510",
     "exception": false,
     "start_time": "2021-05-21T15:53:23.015711",
     "status": "completed"
    },
    "tags": []
   },
   "outputs": [],
   "source": [
    "df_stat.describe()"
   ]
  },
  {
   "cell_type": "code",
   "execution_count": null,
   "id": "bc1bc777-e4b2-4e77-add2-e99e74a31c0b",
   "metadata": {
    "papermill": {
     "duration": 0.171804,
     "end_time": "2021-05-21T15:53:23.421835",
     "exception": false,
     "start_time": "2021-05-21T15:53:23.250031",
     "status": "completed"
    },
    "tags": []
   },
   "outputs": [],
   "source": [
    "df_stat['trip_direction'].unique()"
   ]
  },
  {
   "cell_type": "markdown",
   "id": "e64c0a5b-fed4-4916-8421-097bf54c8eae",
   "metadata": {
    "papermill": {
     "duration": 0.031276,
     "end_time": "2021-05-21T15:53:23.468731",
     "exception": false,
     "start_time": "2021-05-21T15:53:23.437455",
     "status": "completed"
    },
    "tags": []
   },
   "source": [
    "Some data is missing, so that the trip_direction always has the sequence:0,1,0,... cannot be taken for granted:"
   ]
  },
  {
   "cell_type": "markdown",
   "id": "75ddc654",
   "metadata": {
    "papermill": {
     "duration": 0.031275,
     "end_time": "2021-05-21T15:53:23.703051",
     "exception": false,
     "start_time": "2021-05-21T15:53:23.671776",
     "status": "completed"
    },
    "tags": []
   },
   "source": [
    "## Time and direction matter"
   ]
  },
  {
   "cell_type": "code",
   "execution_count": null,
   "id": "617e435d-acfb-42b3-acc1-44fe1facacc2",
   "metadata": {},
   "outputs": [],
   "source": [
    "fig = px.scatter(df_stat, x='start_time',y='P', color='trip_direction', width=1500, height=600, \n",
    "                color_discrete_sequence=['red','green'], hover_data=['trip_no','trip_time'])\n",
    "fig.show()"
   ]
  },
  {
   "cell_type": "code",
   "execution_count": null,
   "id": "43ee679f-7e82-496a-a708-fa51b26a8ef0",
   "metadata": {},
   "outputs": [],
   "source": [
    "fig = px.scatter(df_stat, x='start_time',y='sog', color='trip_direction', width=1500, height=600, \n",
    "                color_discrete_sequence=['red','green'], hover_data=['trip_no','trip_time'])\n",
    "fig.show()"
   ]
  },
  {
   "cell_type": "code",
   "execution_count": null,
   "id": "7aef7c44-a3ef-40cf-9d96-d53e6a475fc3",
   "metadata": {
    "papermill": {
     "duration": 1.155956,
     "end_time": "2021-05-21T15:53:26.221817",
     "exception": false,
     "start_time": "2021-05-21T15:53:25.065861",
     "status": "completed"
    },
    "tags": []
   },
   "outputs": [],
   "source": [
    "sns.displot(df_stat, x='P', hue='trip_direction', binwidth=25, aspect=3)"
   ]
  },
  {
   "cell_type": "code",
   "execution_count": null,
   "id": "8ac17855-95c8-497b-a68b-76bf36d2562e",
   "metadata": {
    "papermill": {
     "duration": 0.609285,
     "end_time": "2021-05-21T15:53:27.745177",
     "exception": false,
     "start_time": "2021-05-21T15:53:27.135892",
     "status": "completed"
    },
    "tags": []
   },
   "outputs": [],
   "source": [
    "sns.displot(df_stat, x='P', hue='trip_direction', kind=\"kde\", bw_adjust=2, aspect=3)"
   ]
  },
  {
   "cell_type": "markdown",
   "id": "2d5a48b2",
   "metadata": {
    "papermill": {
     "duration": 0.197448,
     "end_time": "2021-05-21T15:55:56.727361",
     "exception": false,
     "start_time": "2021-05-21T15:55:56.529913",
     "status": "completed"
    },
    "tags": []
   },
   "source": [
    "## Heat maps"
   ]
  },
  {
   "cell_type": "code",
   "execution_count": null,
   "id": "d5a55f6d-187d-49d2-9c73-705926c00f50",
   "metadata": {},
   "outputs": [],
   "source": [
    "df = df_stat.groupby(by='trip_direction').get_group('Helsingør-Helsingborg').copy()\n",
    "df.drop(columns=['end_time','trip_direction'], inplace=True)"
   ]
  },
  {
   "cell_type": "code",
   "execution_count": null,
   "id": "a935824e-4fe9-4472-a754-c910a5c0680f",
   "metadata": {},
   "outputs": [],
   "source": [
    "df.describe()"
   ]
  },
  {
   "cell_type": "code",
   "execution_count": null,
   "id": "bbe9d931-255e-4c86-9924-d1bc8506658c",
   "metadata": {},
   "outputs": [],
   "source": [
    "selection = [f'P{i}' for i in range(1,5)]\n",
    "df_selection = df[selection]\n",
    "corr = df_selection.corr().abs()\n",
    "ax = sns.heatmap(corr, vmin=0, vmax=1, yticklabels=corr.index, cmap='Blues')\n",
    "fig = ax.get_figure()\n",
    "fig.set_size_inches(9,9)"
   ]
  },
  {
   "cell_type": "code",
   "execution_count": null,
   "id": "1b84bb5f-b19a-4043-8289-61a6b0fbe493",
   "metadata": {},
   "outputs": [],
   "source": [
    "g = sns.PairGrid(df_selection)\n",
    "g.map_diag(sns.histplot)\n",
    "g.map_offdiag(sns.scatterplot)"
   ]
  },
  {
   "cell_type": "markdown",
   "id": "4f15856a-8047-485f-ba60-fe9442f3ae32",
   "metadata": {},
   "source": [
    "<a id='P_corr'></a>\n",
    "* P1 and P2 are highly correlated\n",
    "* P3 and P4 are highly correlated"
   ]
  },
  {
   "cell_type": "code",
   "execution_count": null,
   "id": "bb54786e",
   "metadata": {
    "papermill": {
     "duration": 0.935599,
     "end_time": "2021-05-21T15:55:57.886361",
     "exception": false,
     "start_time": "2021-05-21T15:55:56.950762",
     "status": "completed"
    },
    "tags": []
   },
   "outputs": [],
   "source": [
    "selection = [f'sin_pm{i}' for i in range(1,5)]\n",
    "df_selection = df[selection]\n",
    "corr = df_selection.corr().abs()\n",
    "\n",
    "ax = sns.heatmap(corr, vmin=0, vmax=1, yticklabels=corr.index, cmap='Blues')\n",
    "fig = ax.get_figure()\n",
    "fig.set_size_inches(9,9)"
   ]
  },
  {
   "cell_type": "markdown",
   "id": "1a0e03a2-e5ff-444f-bbed-7d4aa416539d",
   "metadata": {},
   "source": [
    "* sin_pm1 and sin_pm2 are highly correlated\n",
    "* sin_pm3 and sin_pm4 are highly correlated"
   ]
  },
  {
   "cell_type": "code",
   "execution_count": null,
   "id": "c700d320-b613-40da-bb5e-20a0dfed2d61",
   "metadata": {},
   "outputs": [],
   "source": [
    "g = sns.PairGrid(df_selection)\n",
    "g.map_diag(sns.histplot)\n",
    "g.map_offdiag(sns.scatterplot)"
   ]
  },
  {
   "cell_type": "code",
   "execution_count": null,
   "id": "69f01807-4b32-4d11-be0e-696823616853",
   "metadata": {},
   "outputs": [],
   "source": [
    "selection = [f'cos_pm{i}' for i in range(1,5)]\n",
    "df_selection = df[selection]\n",
    "corr = df_selection.corr().abs()\n",
    "\n",
    "ax = sns.heatmap(corr, vmin=0, vmax=1, yticklabels=corr.index, cmap='Blues')\n",
    "fig = ax.get_figure()\n",
    "fig.set_size_inches(9,9)"
   ]
  },
  {
   "cell_type": "markdown",
   "id": "88d4af86-332e-4a4f-9f6b-b361ae9eb477",
   "metadata": {},
   "source": [
    "* cos_pm1 and cos_pm2 are highly correlated\n",
    "* cos_pm3 and cos_pm4 are also correlated but not as much!"
   ]
  },
  {
   "cell_type": "markdown",
   "id": "624d4eab-b219-42ee-a291-cda9d4b3c810",
   "metadata": {},
   "source": [
    "<a id='fwd_cos'></a>"
   ]
  },
  {
   "cell_type": "code",
   "execution_count": null,
   "id": "7224584c-9489-4a22-8573-ce54635df5c3",
   "metadata": {},
   "outputs": [],
   "source": [
    "g = sns.PairGrid(df_selection)\n",
    "g.map_diag(sns.histplot)\n",
    "g.map_offdiag(sns.scatterplot)"
   ]
  },
  {
   "cell_type": "markdown",
   "id": "9c0886bc-e435-4846-adeb-89f49d6df43a",
   "metadata": {},
   "source": [
    "* There seams to be something strange with the cos_pm3 and cos_pm4 data"
   ]
  },
  {
   "cell_type": "code",
   "execution_count": null,
   "id": "63ea9bbf-93fc-4f04-93e3-372cde914c19",
   "metadata": {},
   "outputs": [],
   "source": [
    "df2 = df.copy()\n",
    "\n",
    "mask = ((df2['P1']==0) |\n",
    "        (df2['P2']==0) |\n",
    "        (df2['P3']==0) |\n",
    "        (df2['P4']==0) )\n",
    "\n",
    "df2 = df2.loc[~mask].copy()\n",
    "\n",
    "P_fwd_ratio = (df2['P1']/df2['P2'])\n",
    "P_aft_ratio = (df2['P3']/df2['P4'])\n",
    "max_ratio_diff = 0.1\n",
    "mask = (P_fwd_ratio.between((1-max_ratio_diff), (1+max_ratio_diff)) &\n",
    "        P_aft_ratio.between((1-max_ratio_diff), (1+max_ratio_diff)))\n",
    "df2 = df2.loc[mask].copy() \n",
    "\n",
    "P_fwd_ratio = (df2['cos_pm1']/df2['cos_pm2'])\n",
    "P_aft_ratio = (df2['cos_pm3']/df2['cos_pm4'])\n",
    "max_ratio_diff = 0.3\n",
    "mask = (P_fwd_ratio.between((1-max_ratio_diff), (1+max_ratio_diff)) &\n",
    "        P_aft_ratio.between((1-max_ratio_diff), (1+max_ratio_diff)))\n",
    "df2 = df2.loc[mask].copy() \n",
    "\n",
    "\n",
    "df2['P_fwd'] = df2['P1'] + df2['P2']\n",
    "df2['P_aft'] = df2['P3'] + df2['P4']\n",
    "df2['sin_pm_fwd'] = (df2['sin_pm1'] + df2['sin_pm2'])/2\n",
    "df2['cos_pm_fwd'] = (df2['cos_pm1'] + df2['cos_pm2'])/2\n",
    "df2['sin_pm_aft'] = (df2['sin_pm3'] + df2['sin_pm4'])/2\n",
    "df2['cos_pm_aft'] = (df2['cos_pm3'] + df2['cos_pm4'])/2\n",
    "\n",
    "removes = []\n",
    "removes+=([f'P{i}' for i in range(1,5)])\n",
    "removes+=([f'sin_pm{i}' for i in range(1,5)])\n",
    "removes+=([f'cos_pm{i}' for i in range(1,5)])\n",
    "\n",
    "df2.drop(columns=removes, inplace=True)"
   ]
  },
  {
   "cell_type": "code",
   "execution_count": null,
   "id": "737468ad-8f1d-4f46-b33a-b31ad151620f",
   "metadata": {},
   "outputs": [],
   "source": [
    "df2.head()"
   ]
  },
  {
   "cell_type": "code",
   "execution_count": null,
   "id": "ea669171-54d4-4c5e-ab1d-ad0c02ac58ea",
   "metadata": {},
   "outputs": [],
   "source": [
    "corr = df2.corr().abs()\n",
    "\n",
    "ax = sns.heatmap(corr, vmin=0, vmax=1, yticklabels=corr.index, cmap='Blues')\n",
    "fig = ax.get_figure()\n",
    "fig.set_size_inches(9,9)"
   ]
  },
  {
   "cell_type": "code",
   "execution_count": null,
   "id": "c9239b65-7201-4c46-b55e-6038cc35146a",
   "metadata": {},
   "outputs": [],
   "source": [
    "df_selection = df2.select_dtypes(exclude='object').copy()\n",
    "\n",
    "selection = list(df_selection.columns)\n",
    "selection.remove('P_fwd')\n",
    "selection.remove('P_aft')\n",
    "selection.remove('sin_pm_aft')\n",
    "selection.remove('cos_pm_aft')\n",
    "selection.remove('sin_pm_fwd')\n",
    "selection.remove('cos_pm_fwd')\n",
    "selection.remove('reversing')\n",
    "selection.remove('E')\n",
    "selection.remove('E1')\n",
    "selection.remove('E2')\n",
    "selection.remove('E3')\n",
    "selection.remove('E4')\n",
    "\n",
    "#selection.remove('start_time')\n",
    "selection.remove('trip_time')  # Very correlated with sog\n",
    "#selection.remove('aw')\n",
    "selection.remove('Effekt Propulsion Total (kW)')\n",
    "\n",
    "df_selection = df_selection[selection].copy()\n",
    "\n",
    "corr = df_selection.corr().abs()\n",
    "\n",
    "grid = sns.heatmap(corr, vmin=0, vmax=1, cmap='Blues', annot=True)\n",
    "grid.set_xticklabels(grid.get_xticklabels(), rotation = 90)\n",
    "fig = grid.get_figure()\n",
    "\n",
    "fig.set_size_inches(10,10)"
   ]
  },
  {
   "cell_type": "code",
   "execution_count": null,
   "id": "96f4e63e-2d5b-4b0b-9996-912a0197c89d",
   "metadata": {},
   "outputs": [],
   "source": [
    "df_selection.columns"
   ]
  },
  {
   "cell_type": "code",
   "execution_count": null,
   "id": "0c0a81a6-689e-4afc-b793-d94d8c688c4f",
   "metadata": {},
   "outputs": [],
   "source": [
    "mask = corr.loc['P'] > 0.25\n",
    "df_selection2 = df_selection[df_selection.columns[mask]]\n",
    "\n",
    "x_vars=list(df_selection2.columns)\n",
    "x_vars.remove('P')\n",
    "g = sns.PairGrid(df_selection2, y_vars=[\"P\"], x_vars=x_vars, height=4)\n",
    "g.map(sns.scatterplot, color=\".3\")\n"
   ]
  },
  {
   "cell_type": "code",
   "execution_count": null,
   "id": "becab4ff-6df3-4527-9f1f-4dca0439889c",
   "metadata": {},
   "outputs": [],
   "source": [
    "from statsmodels.sandbox.regression.predstd import wls_prediction_std\n",
    "import statsmodels.api as sm\n",
    "\n",
    "def fit_predict(y,X):\n",
    "    \n",
    "    model = sm.OLS(y,X)\n",
    "    results = model.fit()\n",
    "    display(results.summary())\n",
    "    \n",
    "    sog = np.linspace(X.index.min(), X.index.max(), 100)\n",
    "    y_pred = results.predict(X)\n",
    "    prstd, iv_l, iv_u = wls_prediction_std(results, exog=X, alpha=0.05)\n",
    "    \n",
    "    data = pd.DataFrame(index=X.index)\n",
    "    data['sog'] = X.index\n",
    "    data['P'] = y \n",
    "    \n",
    "    grid = sns.relplot(x=\"sog\", y=\"P\", data=data);\n",
    "    \n",
    "    grid.ax.plot(X.index, y_pred, 'r')\n",
    "    grid.ax.plot(X.index, iv_l, 'k--')\n",
    "    grid.ax.plot(X.index, iv_u, 'k--')\n",
    "    \n",
    "    display(grid)\n",
    "    \n",
    "    return results"
   ]
  },
  {
   "cell_type": "code",
   "execution_count": null,
   "id": "151bc20e-29cf-485b-be3a-9e2855fc9a1d",
   "metadata": {},
   "outputs": [],
   "source": [
    "data = df_selection[['P','sog']].copy()\n",
    "data.sort_values(by='sog', inplace=True)\n",
    "data.set_index('sog', inplace=True)\n",
    "\n",
    "y = data.pop('P')\n",
    "X = data\n",
    "X['sog**3'] = X.index**3\n",
    "\n",
    "fit_predict(y=y, X=X)"
   ]
  },
  {
   "cell_type": "markdown",
   "id": "92ae8d25-1b4f-49e9-a544-150cf0f822f4",
   "metadata": {},
   "source": [
    "<a id='sog'></a>\n",
    "...so it seems that that a cubic resistance model can describe 99.4% of the variance in the trip mean power."
   ]
  },
  {
   "cell_type": "code",
   "execution_count": null,
   "id": "1d4182f0-4406-4a58-a2ec-7b9736724990",
   "metadata": {},
   "outputs": [],
   "source": [
    "sns.jointplot(data=df_selection, x=\"sog\", y=\"P\", kind=\"kde\", fill=True, height=10)"
   ]
  },
  {
   "cell_type": "code",
   "execution_count": null,
   "id": "9392835e-bdfa-43a4-a130-5a06378412b9",
   "metadata": {},
   "outputs": [],
   "source": [
    "def fit_predict2(y,X):\n",
    "    \n",
    "    model = sm.OLS(y,X)\n",
    "    results = model.fit()\n",
    "    display(results.summary())\n",
    "    \n",
    "    sog = np.linspace(X.index.min(), X.index.max(), 100)\n",
    "    y_pred = results.predict(X)\n",
    "    prstd, iv_l, iv_u = wls_prediction_std(results, exog=X, alpha=0.05)\n",
    "    \n",
    "    #data = pd.DataFrame(index=X.index)\n",
    "    #data['sog'] = X.index\n",
    "    #data['P'] = y \n",
    "    \n",
    "    #grid = sns.relplot(x=\"sog\", y=\"P\", data=data);\n",
    "    \n",
    "    #grid.ax.plot(X.index, y_pred, 'r')\n",
    "    \n",
    "    #grid.ax.plot(X.index, iv_l, 'k--')\n",
    "    #grid.ax.plot(X.index, iv_u, 'k--')\n",
    "    \n",
    "    fig,ax=plt.subplots()\n",
    "    ax.plot(y, y_pred, '.')\n",
    "    ax.set_aspect('equal', 'box')\n",
    "    ax.plot([np.min(y), np.max(y)], [np.min(y), np.max(y)], 'r-')\n",
    "    ax.set_ylabel('Y_pred')\n",
    "    ax.set_xlabel('Y')\n",
    "    \n",
    "    \n",
    "    return results"
   ]
  },
  {
   "cell_type": "code",
   "execution_count": null,
   "id": "3e3be5fe-3371-4bb6-9310-8dc8788c0271",
   "metadata": {},
   "outputs": [],
   "source": [
    "data = df_selection2.copy()\n",
    "data.sort_values(by='sog', inplace=True)\n",
    "data.set_index('sog', inplace=True)\n",
    "\n",
    "y = data.pop('P')\n",
    "X = data\n",
    "X['sog**3'] = X.index**3\n",
    "\n",
    "fit_predict2(y=y, X=X)"
   ]
  },
  {
   "cell_type": "markdown",
   "id": "c62c9e69-9cf0-4f93-8e0a-f9b283e73ba5",
   "metadata": {},
   "source": [
    "# Following trips\n",
    "How does the correlation, for a certain trip direction, look between a trip and following trips. "
   ]
  },
  {
   "cell_type": "code",
   "execution_count": null,
   "id": "58889c44-1bbb-42fb-afc8-51ed2e208ef7",
   "metadata": {
    "papermill": {
     "duration": 0.525527,
     "end_time": "2021-05-21T15:55:48.785530",
     "exception": false,
     "start_time": "2021-05-21T15:55:48.260003",
     "status": "completed"
    },
    "tags": []
   },
   "outputs": [],
   "source": [
    "df = df_stat.groupby('trip_direction').get_group('Helsingborg-Helsingør')\n",
    "df1 = df.iloc[0:-1]\n",
    "df2 = df.iloc[1:]\n",
    "\n",
    "df_energy_following = pd.DataFrame(index=df1.index)\n",
    "df_energy_following['mean(power) [kW] at trips'] = df1['P'].values.copy()\n",
    "df_energy_following['mean(power) [kW] at the following trips'] = df2['P'].values.copy()\n",
    "\n",
    "grid = sns.displot(\n",
    "    data=df_energy_following,\n",
    "    x='mean(power) [kW] at trips', y='mean(power) [kW] at the following trips',\n",
    "    kind=\"kde\", height=10, fill=True,\n",
    ")\n",
    "\n",
    "\n",
    "ax=grid.ax\n",
    "\n",
    "ax.plot(df1['P'], df2['P'], 'r.', alpha=0.20, zorder=10)\n",
    "ax.set_xlabel('power_em_thruster_total at trips')\n",
    "ax.set_ylabel('power_em_thruster_total at the followin trips');\n",
    "\n"
   ]
  },
  {
   "cell_type": "code",
   "execution_count": null,
   "id": "d5d08487-872b-40c6-b540-d31d982e99fd",
   "metadata": {},
   "outputs": [],
   "source": [
    "df = df_stat.groupby('trip_direction').get_group('Helsingør-Helsingborg')\n",
    "df1 = df.iloc[0:-1]\n",
    "df2 = df.iloc[1:]\n",
    "\n",
    "df_energy_following = pd.DataFrame(index=df1.index)\n",
    "df_energy_following['mean(power) [kW] at trips'] = df1['P'].values.copy()\n",
    "df_energy_following['mean(power) [kW] at the following trips'] = df2['P'].values.copy()\n",
    "\n",
    "grid = sns.displot(\n",
    "    data=df_energy_following,\n",
    "    x='mean(power) [kW] at trips', y='mean(power) [kW] at the following trips',\n",
    "    kind=\"kde\", height=10, fill=True,\n",
    ")\n",
    "\n",
    "\n",
    "ax=grid.ax\n",
    "\n",
    "ax.plot(df1['P'], df2['P'], 'r.', alpha=0.20, zorder=10)\n",
    "ax.set_xlabel('power_em_thruster_total at trips')\n",
    "ax.set_ylabel('power_em_thruster_total at the followin trips');"
   ]
  },
  {
   "cell_type": "code",
   "execution_count": null,
   "id": "a9d234be-300a-4281-8622-3aaac00908bb",
   "metadata": {},
   "outputs": [],
   "source": [
    "from statsmodels.graphics.tsaplots import plot_acf\n",
    "plot_acf(df_selection['P']);"
   ]
  },
  {
   "cell_type": "code",
   "execution_count": null,
   "id": "3e548a42-1ded-4155-980f-6be4a45be406",
   "metadata": {},
   "outputs": [],
   "source": [
    "y = df_selection['P'].values\n",
    "\n",
    "def calcualte_autocorrelation(y,lag = 1):\n",
    "    \n",
    "    if lag==0:\n",
    "        return 1.0\n",
    "    else:\n",
    "        y_mean = np.mean(y)\n",
    "        return np.sum((y[0:-lag]-y_mean)*(y[lag:]-y_mean)) / np.sum((y-y_mean)**2)\n",
    "\n",
    "autocorrelations = []\n",
    "for lag in np.arange(0,35):\n",
    "    autocorrelation = calcualte_autocorrelation(y=y, lag=lag)\n",
    "    autocorrelations.append(autocorrelation)\n",
    "    \n",
    "fig,ax=plt.subplots()\n",
    "ax.plot(autocorrelations)"
   ]
  },
  {
   "cell_type": "code",
   "execution_count": null,
   "id": "05ec9e22-56f9-42ad-8255-4fbb3ff90c30",
   "metadata": {},
   "outputs": [],
   "source": [
    "np.sum((y-y_mean)**2)"
   ]
  },
  {
   "cell_type": "code",
   "execution_count": null,
   "id": "d81292fa-d908-48be-b0ed-997dff1ad535",
   "metadata": {},
   "outputs": [],
   "source": [
    "np.var(y)"
   ]
  },
  {
   "cell_type": "code",
   "execution_count": null,
   "id": "f932d612-d650-4f57-b350-8da11f0bd5ae",
   "metadata": {},
   "outputs": [],
   "source": [
    "np.std(y)"
   ]
  },
  {
   "cell_type": "code",
   "execution_count": null,
   "id": "19c245fa-cc04-435b-984b-faa10455e7e4",
   "metadata": {},
   "outputs": [],
   "source": [
    "np.sqrt(np.sum((y-y_mean)**2)/len(y))"
   ]
  },
  {
   "cell_type": "code",
   "execution_count": null,
   "id": "9f0cd99f-5264-4410-927f-b37f75652954",
   "metadata": {},
   "outputs": [],
   "source": [
    "np.std(y)**2"
   ]
  },
  {
   "cell_type": "code",
   "execution_count": null,
   "id": "36e4443e-9656-4de0-b039-d32a8b965a5b",
   "metadata": {},
   "outputs": [],
   "source": [
    "np.var(y)"
   ]
  },
  {
   "cell_type": "code",
   "execution_count": null,
   "id": "e3ece3b8-b353-4a66-a14e-2475071355e5",
   "metadata": {},
   "outputs": [],
   "source": []
  }
 ],
 "metadata": {
  "kernelspec": {
   "display_name": "d2e2f",
   "language": "python",
   "name": "python3"
  },
  "language_info": {
   "codemirror_mode": {
    "name": "ipython",
    "version": 3
   },
   "file_extension": ".py",
   "mimetype": "text/x-python",
   "name": "python",
   "nbconvert_exporter": "python",
   "pygments_lexer": "ipython3",
   "version": "3.7.9"
  },
  "papermill": {
   "default_parameters": {},
   "duration": 468.144174,
   "end_time": "2021-05-21T16:01:05.321603",
   "environment_variables": {},
   "exception": null,
   "input_path": "steps\\03.1_explore_trip_statistics.ipynb",
   "output_path": "experiments\\2020-01-01-till-2021-02-28-tycho-brahe\\03.1_explore_trip_statistics.ipynb",
   "parameters": {
    "n_rows": null,
    "name": "2020-01-01-till-2021-02-28-tycho-brahe"
   },
   "start_time": "2021-05-21T15:53:17.177429",
   "version": "2.3.3"
  }
 },
 "nbformat": 4,
 "nbformat_minor": 5
}
