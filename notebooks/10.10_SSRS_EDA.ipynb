{
 "cells": [
  {
   "cell_type": "markdown",
   "id": "4eff1980-b64b-4dfa-87d1-4ebb900df419",
   "metadata": {},
   "source": [
    "# SSRS Expolratory Data Analysis"
   ]
  },
  {
   "cell_type": "code",
   "execution_count": null,
   "id": "7238b7b3-a81a-44f0-8f61-4fd597bd30d5",
   "metadata": {},
   "outputs": [],
   "source": [
    "# %load imports.py\n",
    "%matplotlib inline\n",
    "%load_ext autoreload\n",
    "%autoreload 2\n",
    "\n",
    "import warnings\n",
    "warnings.filterwarnings('ignore')\n",
    "\n",
    "import numpy as np\n",
    "import pandas as pd\n",
    "import matplotlib.pyplot as plt\n",
    "import matplotlib.pyplot as plt\n",
    "import seaborn as sns\n",
    "width=20\n",
    "height=3\n",
    "#plt.rcParams[\"figure.figsize\"] = (width,height)\n",
    "#sns.set(rc={'figure.figsize':(width,height)})\n",
    "\n",
    "#import seaborn as sns\n",
    "import os\n",
    "from collections import OrderedDict\n",
    "\n",
    "from IPython.display import display\n",
    "\n",
    "pd.options.display.max_rows = 999\n",
    "pd.options.display.max_columns = 999\n",
    "pd.set_option(\"display.max_columns\", None)\n",
    "\n",
    "import folium\n",
    "import plotly.express as px\n",
    "import plotly.graph_objects as go\n",
    "\n",
    "import sys\n",
    "import os\n",
    "\n",
    "from sklearn.metrics import r2_score\n",
    "\n",
    "import scipy.integrate\n",
    "import seaborn as sns\n",
    "\n",
    "import pyarrow as pa\n",
    "import pyarrow.parquet as pq\n",
    "\n",
    "import dask.dataframe\n",
    "import statsmodels.api as sm\n",
    "\n",
    "from d2e2f.visualization import visualize\n",
    "import scipy.integrate\n",
    "from sklearn.linear_model import LinearRegression, Ridge, Lasso\n",
    "from d2e2f.visualization.visualize import plot_map, plot_trips"
   ]
  },
  {
   "cell_type": "code",
   "execution_count": null,
   "id": "2a2b2af1-be0b-4032-b96e-f951cd3b6c47",
   "metadata": {},
   "outputs": [],
   "source": [
    "from functools import reduce\n",
    "from operator import add"
   ]
  },
  {
   "cell_type": "code",
   "execution_count": null,
   "id": "4bd6ce01-fa85-4744-9cf6-3cce7d437335",
   "metadata": {},
   "outputs": [],
   "source": [
    "datas = catalog.load(\"ssrs.data\")\n",
    "data = datas['SSRS15-01_322012079']()\n",
    "data.index = pd.to_datetime(data.index)"
   ]
  },
  {
   "cell_type": "code",
   "execution_count": null,
   "id": "bf96d3d6-92e4-4c10-a0bc-2305fdd1f080",
   "metadata": {},
   "outputs": [],
   "source": [
    "data['t'] = data.index - data.index[0]\n",
    "data['latitude'].notnull()"
   ]
  },
  {
   "cell_type": "markdown",
   "id": "84a16899-6366-4c4a-8ca9-016d1e8eb210",
   "metadata": {},
   "source": [
    "## Cleaning"
   ]
  },
  {
   "cell_type": "code",
   "execution_count": null,
   "id": "af782b67-da53-44b5-92d9-456b680f6acd",
   "metadata": {},
   "outputs": [],
   "source": [
    "def quantile_clean(data: pd.DataFrame, columns :list = None, alpha=0.001):\n",
    "    \n",
    "    if columns is None:\n",
    "        columns = data.columns\n",
    "    \n",
    "    for key in columns:\n",
    "        values = data[key]\n",
    "        mask = ((values.quantile(alpha) < values) & \n",
    "        (values.quantile(1-alpha) > values)  )\n",
    "        data = data.loc[mask]\n",
    "        \n",
    "    return data\n",
    "        "
   ]
  },
  {
   "cell_type": "code",
   "execution_count": null,
   "id": "d4e9b086-5c9a-4d8c-8504-4bd2b4c4355d",
   "metadata": {},
   "outputs": [],
   "source": [
    "columns = data.columns[~data.isnull().all()]\n",
    "data_clean = data[columns]\n",
    "\n",
    "mask = ((-90 <= data['latitude']) & (data['latitude'] <=90) &\n",
    "        (0 <= data['longitude']) & (data['longitude'] <=180)     \n",
    "       )\n",
    "\n",
    "\n",
    "\n",
    "data_clean = data_clean.loc[mask]\n",
    "data_clean = quantile_clean(data_clean, columns=['latitude', 'longitude'])\n",
    "data_clean = data_clean.fillna(method='backfill').fillna(method='ffill')"
   ]
  },
  {
   "cell_type": "code",
   "execution_count": null,
   "id": "f31a2896-509a-467f-9ca6-6db9fa4024fa",
   "metadata": {},
   "outputs": [],
   "source": [
    "renames = {key: reduce(add, key.split('_')[2:]) for key in data_clean.columns if len(key.split('_')[2:]) > 0}\n",
    "data_clean.rename(columns=renames, inplace=True)\n",
    "data_clean.head()"
   ]
  },
  {
   "cell_type": "code",
   "execution_count": null,
   "id": "747f3d32-8808-4c8b-be4d-fdfa97adec90",
   "metadata": {},
   "outputs": [],
   "source": [
    "data_clean.plot(x='longitude', y='latitude')"
   ]
  },
  {
   "cell_type": "code",
   "execution_count": null,
   "id": "074eb70f-1c5f-455c-b00b-e9d910e04309",
   "metadata": {},
   "outputs": [],
   "source": [
    "data_clean['longitude'].quantile(0.001)"
   ]
  },
  {
   "cell_type": "code",
   "execution_count": null,
   "id": "4b5a0007-36fd-4956-b697-c973ed356903",
   "metadata": {},
   "outputs": [],
   "source": []
  },
  {
   "cell_type": "code",
   "execution_count": null,
   "id": "519ce75a-bd20-4d2c-aec0-f61a40f2a361",
   "metadata": {},
   "outputs": [],
   "source": [
    "data_clean.plot(y='SOGdshSA13')"
   ]
  },
  {
   "cell_type": "code",
   "execution_count": null,
   "id": "82379155-f7dd-4597-aa74-41a29fb95443",
   "metadata": {},
   "outputs": [],
   "source": [
    "mask = ~((data_clean.columns.str.contains('COG') | data_clean.columns.str.contains('SOG')))\n",
    "columns = list(data_clean.columns[mask])\n",
    "columns.remove('latitude')\n",
    "columns.remove('longitude')\n",
    "data_plot = data_clean[columns].resample('1D').mean()\n",
    "sns.pairplot(data_plot)"
   ]
  },
  {
   "cell_type": "code",
   "execution_count": null,
   "id": "30f1b005-6ca4-49a6-b8da-43e86567f312",
   "metadata": {},
   "outputs": [],
   "source": [
    "data_plot.sum()"
   ]
  },
  {
   "cell_type": "code",
   "execution_count": null,
   "id": "bc6d108f-cff3-4077-9276-6181fa69a614",
   "metadata": {},
   "outputs": [],
   "source": [
    "sns.heatmap(data_plot.corr().abs(), cmap='gray_r')"
   ]
  },
  {
   "cell_type": "code",
   "execution_count": null,
   "id": "efa32ce1-ab0b-4dc9-b7d6-a35cace905fa",
   "metadata": {},
   "outputs": [],
   "source": [
    "rpm_columns = list(data_clean.columns[data_clean.columns.str.contains('RPM')])\n",
    "fuel_rate_columns = list(data_clean.columns[data_clean.columns.str.contains('FuelRate')])\n"
   ]
  },
  {
   "cell_type": "code",
   "execution_count": null,
   "id": "d73ab469-7d0f-48f3-a6f1-ecf4f7a63a54",
   "metadata": {},
   "outputs": [],
   "source": [
    "data_clean['rpm'] = data_clean[rpm_columns].mean(axis=1)\n",
    "data_clean['fuel_rate'] = data_clean[fuel_rate_columns].mean(axis=1)\n",
    "data_new = data_clean.drop(columns = rpm_columns + fuel_rate_columns)\n",
    "\n",
    "renames = {\n",
    "'SOGdshSA13' : 'sog',\n",
    "'COGTruedshSA13' : 'cog',\n",
    "}\n",
    "data_new.rename(columns=renames, inplace=True)"
   ]
  },
  {
   "cell_type": "code",
   "execution_count": null,
   "id": "6274acda-33d8-4f35-aa49-a010b1050a07",
   "metadata": {},
   "outputs": [],
   "source": [
    "sns.pairplot(data_new.resample('100S').mean().drop(columns=['latitude','longitude','cog']), kind='scatter', plot_kws={'alpha':0.01})\n",
    "\n",
    "#g = sns.PairGrid(data_new.resample('100S').mean().drop(columns=['latitude','longitude','cog']))\n",
    "#g.map_upper(sns.scatterplot)\n",
    "#g.map_lower(sns.scatterplot)"
   ]
  },
  {
   "cell_type": "code",
   "execution_count": null,
   "id": "021a5efd-60e8-4ac2-99f0-e9753165f464",
   "metadata": {},
   "outputs": [],
   "source": [
    "mask = data_new['sog']>3\n",
    "data_speed = data_new.loc[mask]"
   ]
  },
  {
   "cell_type": "code",
   "execution_count": null,
   "id": "858b0ade-8e82-49d3-aeab-dbab392e540a",
   "metadata": {},
   "outputs": [],
   "source": [
    "sns.pairplot(data_speed.drop(columns=['latitude','longitude','cog']).resample('100S').mean(), kind='scatter', plot_kws={'alpha':0.1})\n"
   ]
  },
  {
   "cell_type": "code",
   "execution_count": null,
   "id": "57e4445f-293f-4c91-a244-ebfb4b622365",
   "metadata": {},
   "outputs": [],
   "source": [
    "plot_map(df=data_speed, zoom_start=9, color_key='sog')"
   ]
  },
  {
   "cell_type": "code",
   "execution_count": null,
   "id": "2f9ea323-7316-4dfc-9f25-639b76342e17",
   "metadata": {},
   "outputs": [],
   "source": [
    "data_new['t'] = (data_new.index-data_new.index[0]).total_seconds()\n",
    "    "
   ]
  },
  {
   "cell_type": "code",
   "execution_count": null,
   "id": "003b5419-4778-4ea1-a071-26e28a9cff52",
   "metadata": {},
   "outputs": [],
   "source": [
    "def insert_zero_at_time_jump(data_new):\n",
    "    \n",
    "    mask = data_new['t'].diff() > 30\n",
    "    \n",
    "    assert len(data_new.loc[mask]) / len(data_new) < 10**-2\n",
    "    \n",
    "    jumps = data_new.loc[mask]\n",
    "    \n",
    "    # Insering zeros before and after a jump to get correct integration.\n",
    "    for index, jump in jumps.iterrows():\n",
    "        i = data_new.index.get_loc(index)\n",
    "        data_new.iloc[i][['sog','fuel_rate']] = 0\n",
    "        data_new.iloc[i+1][['sog','fuel_rate']] = 0\n",
    "        "
   ]
  },
  {
   "cell_type": "code",
   "execution_count": null,
   "id": "f015a93c-8a8b-4335-b2f2-a6b54f790177",
   "metadata": {},
   "outputs": [],
   "source": [
    "distance = scipy.integrate.trapz(data_new['sog'], dx=1.0)\n",
    "distance"
   ]
  },
  {
   "cell_type": "code",
   "execution_count": null,
   "id": "7b8615fa-5b79-4481-bdaf-1e7da317d964",
   "metadata": {},
   "outputs": [],
   "source": [
    "consumption = scipy.integrate.trapz(data_new['fuel_rate']/3600, x=data_new['t'])\n",
    "consumption"
   ]
  },
  {
   "cell_type": "code",
   "execution_count": null,
   "id": "da9d8375-e8d8-4d93-822f-675bf8275547",
   "metadata": {},
   "outputs": [],
   "source": [
    "consumption = scipy.integrate.trapz(data_new['fuel_rate']/3600, x=data_new['t'])\n",
    "consumption"
   ]
  },
  {
   "cell_type": "code",
   "execution_count": null,
   "id": "ae280026-6226-4be2-b03a-623e03985a74",
   "metadata": {},
   "outputs": [],
   "source": [
    "consumption/distance*1852*1000"
   ]
  },
  {
   "cell_type": "code",
   "execution_count": null,
   "id": "03e0efb5-71cb-4525-84e7-53350c7a03bb",
   "metadata": {},
   "outputs": [],
   "source": [
    "consumption/data_new.iloc[-1]['t']*3600*1000"
   ]
  },
  {
   "cell_type": "code",
   "execution_count": null,
   "id": "728aba22-903e-41ed-98fc-cbc16d604d82",
   "metadata": {},
   "outputs": [],
   "source": [
    "data_new['sog'].mean()"
   ]
  },
  {
   "cell_type": "code",
   "execution_count": null,
   "id": "9f490f85-165a-4cb9-b1b1-f1a1046e741f",
   "metadata": {},
   "outputs": [],
   "source": [
    "mask = data_new['sog']>0.25\n",
    "data_speed = data_new.loc[mask]\n",
    "distance = scipy.integrate.trapz(data_speed['sog'], dx=1.0)\n",
    "distance"
   ]
  },
  {
   "cell_type": "code",
   "execution_count": null,
   "id": "9668bf9e-2ec3-45a3-a9e2-f6ec9c544368",
   "metadata": {},
   "outputs": [],
   "source": [
    "consumption = scipy.integrate.trapz(data_speed['fuel_rate']/3600, dx=1.0)\n",
    "consumption"
   ]
  },
  {
   "cell_type": "code",
   "execution_count": null,
   "id": "aa38620a-5e72-4618-a9bc-60a77058dc4d",
   "metadata": {},
   "outputs": [],
   "source": [
    "consumption/distance*1852*1000"
   ]
  },
  {
   "cell_type": "code",
   "execution_count": null,
   "id": "9962ec40-dd02-41fc-8f49-5af87faf5437",
   "metadata": {},
   "outputs": [],
   "source": [
    "elapsed_time = len(data_speed)*1.0\n",
    "consumption/elapsed_time*3600*1000"
   ]
  },
  {
   "cell_type": "code",
   "execution_count": null,
   "id": "bef6b8ec-e3ed-44d7-a8b2-7f58317340ec",
   "metadata": {},
   "outputs": [],
   "source": [
    "data_speed['sog'].mean()"
   ]
  },
  {
   "cell_type": "code",
   "execution_count": null,
   "id": "40aa88fd-3a3a-4923-86cd-756eeec5cfa4",
   "metadata": {},
   "outputs": [],
   "source": [
    "import geopandas"
   ]
  },
  {
   "cell_type": "code",
   "execution_count": null,
   "id": "233421be-1a48-4886-a3cf-43e039188484",
   "metadata": {},
   "outputs": [],
   "source": [
    "data = geopandas.GeoDataFrame(data_speed, \n",
    "                 geometry=geopandas.points_from_xy(data_speed.longitude, data_speed.latitude, crs=\"EPSG:4326\"))\n",
    "data = data.to_crs(epsg=3006)\n",
    "data['distance'] = data.distance(data.shift())"
   ]
  },
  {
   "cell_type": "code",
   "execution_count": null,
   "id": "ddad3ea3-a257-4a68-8574-5290c8fec4b7",
   "metadata": {},
   "outputs": [],
   "source": [
    "data['distance'].sum()"
   ]
  },
  {
   "cell_type": "code",
   "execution_count": null,
   "id": "2473a851-985b-4ef5-bbd5-b94916c63e0f",
   "metadata": {},
   "outputs": [],
   "source": [
    "data['distance'].sum()/distance"
   ]
  },
  {
   "cell_type": "code",
   "execution_count": null,
   "id": "f568ef8b-37cd-453e-8471-e7dfab86971c",
   "metadata": {},
   "outputs": [],
   "source": [
    "data_speed['fuel_per_m'] = data_speed['fuel_rate']/data_speed['sog']"
   ]
  },
  {
   "cell_type": "code",
   "execution_count": null,
   "id": "74474f81-886b-4ff4-9fb0-75d406dca974",
   "metadata": {},
   "outputs": [],
   "source": [
    "from sklearn.svm import SVR\n",
    "model = LinearRegression()\n",
    "mask = data_speed['sog'] > 1\n",
    "data = data_speed.loc[mask].resample('2S').mean().dropna()\n",
    "\n",
    "def features(data):\n",
    "    X = pd.DataFrame(index=data.index)\n",
    "    X['sog'] = data['sog']\n",
    "    X['sog**2'] = data['sog']**2\n",
    "    X['sog**3'] = data['sog']**3\n",
    "    X['sog**4'] = data['sog']**4\n",
    "    X['sog**5'] = data['sog']**5\n",
    "    X['sog**6'] = data['sog']**6\n",
    "    X['sog**7'] = data['sog']**7\n",
    "    \n",
    "    return X\n",
    "\n",
    "X = features(data)\n",
    "#y = data['fuel_per_m']\n",
    "y = data['fuel_rate']\n",
    "model.fit(X,y)"
   ]
  },
  {
   "cell_type": "code",
   "execution_count": null,
   "id": "ac374597-8653-4963-a40f-0c2c2e47b386",
   "metadata": {},
   "outputs": [],
   "source": [
    "X_pred = pd.DataFrame()\n",
    "X_pred['sog'] = np.linspace(data_speed['sog'].min(), data_speed['sog'].max(), 100)\n",
    "X_pred = features(X_pred)\n",
    "\n",
    "prediction = X_pred.copy()\n",
    "prediction['fuel_rate'] = model.predict(X_pred)\n",
    "prediction['fuel_per_m'] = prediction['fuel_rate']/X_pred['sog']\n",
    "\n"
   ]
  },
  {
   "cell_type": "code",
   "execution_count": null,
   "id": "cd220d72-ee1f-4a88-a938-f697542cc0ac",
   "metadata": {},
   "outputs": [],
   "source": [
    "fig,ax=plt.subplots()\n",
    "data_speed.resample('10S').mean().plot(x='sog', y='fuel_per_m', style='.', alpha=0.05, ax=ax, label='__no_label__')\n",
    "ax.set_ylim(data_speed['fuel_per_m'].quantile(0.01), \n",
    "            data_speed['fuel_per_m'].quantile(0.90))\n",
    "ax.plot([],'b.', label='fuel rate per m')\n",
    "\n",
    "prediction.plot(x='sog', y='fuel_per_m', ax=ax, label='regression')\n",
    "ax.set_xticks(np.arange(0,int(np.ceil(data_speed['sog'].max())),1));\n",
    "ax.grid(True)\n",
    "ax.legend()"
   ]
  },
  {
   "cell_type": "code",
   "execution_count": null,
   "id": "f509e7f1-faf9-4467-b938-02ae55c875c3",
   "metadata": {},
   "outputs": [],
   "source": [
    "data_speed['sog'].hist(bins=20)"
   ]
  },
  {
   "cell_type": "code",
   "execution_count": null,
   "id": "26ce4a40-2694-4f1f-8cad-c4cc6ba1d621",
   "metadata": {},
   "outputs": [],
   "source": [
    "model = SVR(kernel='sigmoid', tol=0.0000000000001)\n",
    "model.fit(X[['sog']], y)"
   ]
  },
  {
   "cell_type": "code",
   "execution_count": null,
   "id": "84ebf2e2-4b19-43ee-9af0-ebfd7dce7de2",
   "metadata": {},
   "outputs": [],
   "source": [
    "model.score(X[['sog']], y)"
   ]
  },
  {
   "cell_type": "code",
   "execution_count": null,
   "id": "0427670d-5b07-48e9-9d41-e8f95f354635",
   "metadata": {},
   "outputs": [],
   "source": [
    "model = LinearRegression()\n",
    "model.fit(X, y)\n",
    "model.score(X, y)"
   ]
  },
  {
   "cell_type": "code",
   "execution_count": null,
   "id": "5b16c09e-7622-4383-b76a-9d68109c8cfd",
   "metadata": {},
   "outputs": [],
   "source": [
    "from sklearn.linear_model import Ridge\n",
    "from sklearn.preprocessing import PolynomialFeatures, SplineTransformer\n",
    "from sklearn.pipeline import make_pipeline\n",
    "\n",
    "model = make_pipeline(SplineTransformer(n_knots=4, degree=4), Ridge(alpha=1e-3))\n",
    "model.fit(X[['sog']],y)\n",
    "model.score(X[['sog']],y)"
   ]
  },
  {
   "cell_type": "code",
   "execution_count": null,
   "id": "9ca5c458-71ae-497e-be47-0fa18d4d3b21",
   "metadata": {},
   "outputs": [],
   "source": [
    "model=Ridge(alpha=0.5)\n",
    "model.fit(X,y)\n",
    "model.score(X,y)"
   ]
  },
  {
   "cell_type": "code",
   "execution_count": null,
   "id": "c6e8a408-ffc8-41b5-a4df-b3fabff19adf",
   "metadata": {},
   "outputs": [],
   "source": []
  },
  {
   "cell_type": "code",
   "execution_count": null,
   "id": "5e4548ab-ee60-43a5-9e99-f8fb700a5b9d",
   "metadata": {},
   "outputs": [],
   "source": [
    "from sklearn.feature_selection import SelectKBest\n",
    "from sklearn.feature_selection import f_regression\n",
    "from sklearn.preprocessing import StandardScaler\n",
    "from sklearn.preprocessing import PolynomialFeatures\n",
    "from sklearn.linear_model import LinearRegression\n",
    "from sklearn.pipeline import Pipeline\n",
    "from sklearn.model_selection import cross_val_score\n",
    "from sklearn.model_selection import RepeatedKFold\n",
    "cv = RepeatedKFold(n_splits=3, n_repeats=5, random_state=1)\n",
    "\n",
    "standard_scaler = StandardScaler()\n",
    "polynomial_features = PolynomialFeatures(degree=7)\n",
    "select_k_best = SelectKBest(score_func=f_regression, k=7)\n",
    "linear_regression = LinearRegression()\n",
    "\n",
    "steps = [\n",
    "    ('scaler', standard_scaler),\n",
    "    ('polynomial_features', polynomial_features),\n",
    "    ('select_k_best', select_k_best),\n",
    "    ('linear_regression', linear_regression),\n",
    "]\n",
    "\n",
    "model = Pipeline(steps=steps)"
   ]
  },
  {
   "cell_type": "code",
   "execution_count": null,
   "id": "91dae9db-765c-4efa-bc9b-3f3b0347e614",
   "metadata": {},
   "outputs": [],
   "source": [
    "from sklearn.model_selection import GridSearchCV\n",
    "\n",
    "grid = dict()\n",
    "grid['select_k_best__k'] = [i for i in range(10)]\n",
    "grid['polynomial_features__degree'] = [i for i in range(3, 15)]\n",
    "\n",
    "\n",
    "# define the grid search\n",
    "search = GridSearchCV(estimator=model, param_grid=grid, scoring='neg_mean_absolute_error', n_jobs=-1, cv=cv)\n",
    "# perform the search\n",
    "search_result = search.fit(X[['sog']], y)\n"
   ]
  },
  {
   "cell_type": "code",
   "execution_count": null,
   "id": "94be1b6c-89ae-4000-8527-129a3c40ebcf",
   "metadata": {},
   "outputs": [],
   "source": [
    "steps = [\n",
    " ('transformer' ,SplineTransformer(n_knots=4, degree=3)),\n",
    " ('estimator', Ridge(alpha=1e-3)),\n",
    "]\n",
    "  \n",
    "model = Pipeline(steps)\n",
    "\n",
    "grid = dict()\n",
    "grid['transformer__n_knots'] = [i for i in range(5)]\n",
    "grid['transformer__degree'] = [i for i in range(10)]\n",
    "\n",
    "# define the grid search\n",
    "search = GridSearchCV(estimator=model, param_grid=grid, scoring='neg_mean_absolute_error', n_jobs=-1, cv=cv)\n",
    "# perform the search\n",
    "search_result = search.fit(X[['sog']], y)"
   ]
  },
  {
   "cell_type": "code",
   "execution_count": null,
   "id": "dad8d01d-85ed-42eb-81ae-307becdca089",
   "metadata": {},
   "outputs": [],
   "source": [
    "model = search_result.best_estimator_"
   ]
  },
  {
   "cell_type": "code",
   "execution_count": null,
   "id": "e5466f1f-1636-45a3-be45-0db941752af2",
   "metadata": {},
   "outputs": [],
   "source": [
    "model.score(X[['sog']],y)"
   ]
  },
  {
   "cell_type": "code",
   "execution_count": null,
   "id": "df0d8890-f784-40f3-82a4-cde91de33bbe",
   "metadata": {},
   "outputs": [],
   "source": [
    "model"
   ]
  },
  {
   "cell_type": "code",
   "execution_count": null,
   "id": "78ea6d19-568d-401d-baad-6f0aa3e01a9e",
   "metadata": {},
   "outputs": [],
   "source": [
    "X_pred = pd.DataFrame()\n",
    "X_pred['sog'] = np.linspace(data['sog'].min(), data['sog'].max(), 100)\n",
    "\n",
    "prediction = X_pred.copy()\n",
    "prediction['fuel_rate'] = model.predict(X_pred)\n",
    "prediction['fuel_per_m'] = prediction['fuel_rate']/X_pred['sog']*1000/3600*1852"
   ]
  },
  {
   "cell_type": "code",
   "execution_count": null,
   "id": "55ca7287-fb5f-4183-aafa-454a1ad13db3",
   "metadata": {},
   "outputs": [],
   "source": [
    "fig,ax=plt.subplots()\n",
    "data['fuel_per_m'] = data['fuel_rate']/data['sog']*1000/3600*1852\n",
    "data.resample('10S').mean().plot(x='sog', y='fuel_per_m', style='.', alpha=0.05, ax=ax, label='__no_label__')\n",
    "\n",
    "ax.set_ylim(data['fuel_per_m'].quantile(0.01), \n",
    "            data['fuel_per_m'].quantile(0.90))\n",
    "ax.plot([],'b.', label='data')\n",
    "\n",
    "prediction.plot(x='sog', y='fuel_per_m', ax=ax, label='regression')\n",
    "ax.set_xticks(np.arange(0,int(np.ceil(data['sog'].max())),1));\n",
    "ax.grid(True)\n",
    "ax.legend()\n",
    "ax.set_ylabel('Consumption per nautical mile [L/NM]')\n",
    "ax.set_xlabel('Speed over ground [m/s]')"
   ]
  },
  {
   "cell_type": "code",
   "execution_count": null,
   "id": "ee7f23cc-bfdb-4d0d-956d-5d2f23af6e5b",
   "metadata": {},
   "outputs": [],
   "source": []
  }
 ],
 "metadata": {
  "kernelspec": {
   "display_name": "d2e2f",
   "language": "python",
   "name": "python3"
  },
  "language_info": {
   "codemirror_mode": {
    "name": "ipython",
    "version": 3
   },
   "file_extension": ".py",
   "mimetype": "text/x-python",
   "name": "python",
   "nbconvert_exporter": "python",
   "pygments_lexer": "ipython3",
   "version": "3.7.9"
  }
 },
 "nbformat": 4,
 "nbformat_minor": 5
}
