{
 "cells": [
  {
   "cell_type": "markdown",
   "id": "1510ac6f",
   "metadata": {
    "papermill": {
     "duration": 0.015624,
     "end_time": "2021-05-21T15:53:18.518461",
     "exception": false,
     "start_time": "2021-05-21T15:53:18.502837",
     "status": "completed"
    },
    "tags": []
   },
   "source": [
    "# Uraniborg"
   ]
  },
  {
   "cell_type": "code",
   "execution_count": null,
   "id": "c06d4e35",
   "metadata": {
    "papermill": {
     "duration": 3.700467,
     "end_time": "2021-05-21T15:53:22.375142",
     "exception": false,
     "start_time": "2021-05-21T15:53:18.674675",
     "status": "completed"
    },
    "tags": [
     "remove_cell"
    ]
   },
   "outputs": [],
   "source": [
    "# %load imports.py\n",
    "# %load ../imports.py\n",
    "%matplotlib inline\n",
    "%load_ext autoreload\n",
    "%autoreload 2\n",
    "%config Completer.use_jedi = False  ## (To fix autocomplete)\n",
    "\n",
    "import numpy as np\n",
    "import pandas as pd\n",
    "import matplotlib.pyplot as plt\n",
    "import matplotlib.pyplot as plt\n",
    "import seaborn as sns\n",
    "width=20\n",
    "height=3\n",
    "plt.rcParams[\"figure.figsize\"] = (width,height)\n",
    "sns.set(rc={'figure.figsize':(width,height)})\n",
    "\n",
    "#import seaborn as sns\n",
    "import os\n",
    "from collections import OrderedDict\n",
    "\n",
    "from IPython.display import display\n",
    "\n",
    "pd.options.display.max_rows = 999\n",
    "pd.options.display.max_columns = 999\n",
    "pd.set_option(\"display.max_columns\", None)\n",
    "\n",
    "import folium\n",
    "import plotly.express as px\n",
    "import plotly.graph_objects as go\n",
    "\n",
    "import sys\n",
    "import os\n",
    "\n",
    "from sklearn.metrics import r2_score\n",
    "\n",
    "import scipy.integrate\n",
    "import seaborn as sns\n",
    "\n",
    "import pyarrow as pa\n",
    "import pyarrow.parquet as pq\n",
    "\n",
    "import dask.dataframe\n",
    "import statsmodels.api as sm\n",
    "\n",
    "from d2e2f.visualization import visualize\n",
    "import scipy.integrate\n",
    "\n",
    "from d2e2f.pipelines.trip_statistics import clean_statistics\n",
    "from scipy.stats import norm"
   ]
  },
  {
   "cell_type": "code",
   "execution_count": null,
   "id": "c4af21de",
   "metadata": {
    "papermill": {
     "duration": 0.234474,
     "end_time": "2021-05-21T15:53:22.625141",
     "exception": false,
     "start_time": "2021-05-21T15:53:22.390667",
     "status": "completed"
    },
    "tags": [
     "remove_cell",
     "remove_output"
    ]
   },
   "outputs": [],
   "source": [
    "%reload_kedro\n",
    "df_stat = catalog.load('uraniborg.trip_statistics_clean')\n",
    "#df_stat = catalog.load('uraniborg.trip_statistics')\n",
    "df_stat['start_time'] = pd.to_datetime(df_stat['start_time'], utc=True)\n",
    "df_stat['end_time'] = pd.to_datetime(df_stat['end_time'], utc=True);\n",
    "#df_stat.describe()"
   ]
  },
  {
   "cell_type": "code",
   "execution_count": null,
   "id": "14f16344",
   "metadata": {
    "papermill": {
     "duration": 0.17193,
     "end_time": "2021-05-21T15:53:23.000185",
     "exception": false,
     "start_time": "2021-05-21T15:53:22.828255",
     "status": "completed"
    },
    "tags": [
     "remove_cell"
    ]
   },
   "outputs": [],
   "source": [
    "#df_stat.info()"
   ]
  },
  {
   "cell_type": "code",
   "execution_count": null,
   "id": "3afab4e6-982a-4fbd-bc0b-75cb22f6b6d0",
   "metadata": {},
   "outputs": [],
   "source": [
    "df_stat[\"consumption\"] = df_stat[\"Consumption ME1 (L)\"] + df_stat[\"Consumption ME2 (L)\"]"
   ]
  },
  {
   "cell_type": "code",
   "execution_count": null,
   "id": "49e4574d-b31c-49fb-b526-04c2b98eaaa1",
   "metadata": {},
   "outputs": [],
   "source": [
    "df_stat['item'] = 'raw'\n",
    "df_clean = df_stat.copy()\n",
    "df_clean['item'] = 'clean'\n",
    "df_clean.dropna(subset=['consumption'], inplace=True)\n",
    "#mask = df_clean['E'] > df_clean['E'].quantile(0.01) \n",
    "#df_clean = df_clean.loc[mask].copy()"
   ]
  },
  {
   "cell_type": "code",
   "execution_count": null,
   "id": "f0a18f24-93f8-4179-9baa-96c0556d2541",
   "metadata": {
    "tags": [
     "remove_cell"
    ]
   },
   "outputs": [],
   "source": [
    "facegrid = sns.relplot(data=df_clean, x='start_time',y='consumption', height=3, aspect=3);\n",
    "facegrid.set_ylabels('(Fuel consumption per trip) [l]');"
   ]
  },
  {
   "cell_type": "code",
   "execution_count": null,
   "id": "939a40d0-4e48-4aea-abb2-6eaf9e96fb25",
   "metadata": {},
   "outputs": [],
   "source": [
    "sns.displot(df_clean, x='consumption', hue='trip_direction', aspect=3);"
   ]
  },
  {
   "cell_type": "code",
   "execution_count": null,
   "id": "9177fead-9cec-433f-a356-75f28eec294f",
   "metadata": {},
   "outputs": [],
   "source": [
    "df_ = df_clean.set_index('start_time')\n",
    "df_.sort_index(inplace=True)\n",
    "\n",
    "tänd = '2021-04-01'\n",
    "utbildning = '2021-05-11'\n",
    "\n",
    "df_.loc[:tänd,'period'] = 'släckta skärmar'\n",
    "df_.loc[tänd:utbildning,'period'] = 'tända skärmar'\n",
    "df_.loc[utbildning:,'period'] = 'efter utbildning'"
   ]
  },
  {
   "cell_type": "code",
   "execution_count": null,
   "id": "b8edcd45-f570-4ea3-9a41-3f99c434f20d",
   "metadata": {},
   "outputs": [],
   "source": [
    "df_expanding = df_.expanding().mean()"
   ]
  },
  {
   "cell_type": "code",
   "execution_count": null,
   "id": "95c496af-db5c-4fe6-877d-9e3ff5094e4d",
   "metadata": {},
   "outputs": [],
   "source": [
    "fig,ax=plt.subplots()\n",
    "fig.set_size_inches(20,7)\n",
    "\n",
    "#df_before.plot(y='consumption', label='before', ax=ax, style='b.')\n",
    "#df_after.plot(y='consumption', label='after', ax=ax, style='g.')\n",
    "\n",
    "styles = ['k.','y.','b.']\n",
    "for style, (period, df_period) in zip(styles,df_.groupby(by='period', sort=False)):\n",
    "    df_period.plot(y='consumption', label=period, ax=ax, style=style)\n",
    "\n",
    "\n",
    "\n",
    "#df_rolling.plot(y='consumption', label=f'rolling mean ({window})', ax=ax, style='m-')\n",
    "df_expanding.loc[tänd:].plot(y='consumption', label=f'expanding mean', ax=ax, style='k-', lw=3)\n",
    "ax.set_ylabel('Fuel consumption [liters]')\n",
    "ax.legend();"
   ]
  },
  {
   "cell_type": "code",
   "execution_count": null,
   "id": "0cb14def-7d7c-47dc-a3b8-13f97235d329",
   "metadata": {
    "tags": [
     "remove_cell"
    ]
   },
   "outputs": [],
   "source": [
    "#import plotly.graph_objects as go\n",
    "#\n",
    "#fig1 = px.scatter(df_, y='consumption', color='period')\n",
    "#fig2 = px.line(df_expanding.loc[tänd:], y='consumption')\n",
    "#fig = go.Figure(fig1.data + fig2.data)\n",
    "#fig"
   ]
  },
  {
   "cell_type": "code",
   "execution_count": null,
   "id": "74441ce4-35bc-498d-8a21-39948516fc5b",
   "metadata": {},
   "outputs": [],
   "source": [
    "fig,ax=plt.subplots()\n",
    "fig.set_size_inches(20,7)\n",
    "\n",
    "styles = ['k.','y.','b.']\n",
    "for style, (period, df_period) in zip(styles,df_.groupby(by='period', sort=False)):\n",
    "    df_period.plot(y='w', label=period, ax=ax, style=style)\n",
    "\n",
    "df_expanding.loc[tänd:].plot(y='w', label=f'expanding mean', ax=ax, style='k-', lw=3)\n",
    "ylims = ax.get_ylim()\n",
    "ax.set_ylim((0,ylims[1]))\n",
    "ax.set_ylabel('Wind speed [m/s]')\n",
    "ax.legend();"
   ]
  },
  {
   "cell_type": "code",
   "execution_count": null,
   "id": "d770d101-4515-4629-9737-59cf2d8744be",
   "metadata": {},
   "outputs": [],
   "source": [
    "interesting = ['sog','consumption','E','distance','w']\n",
    "df_compare = df_.groupby(by='period', sort=False).mean()[interesting]\n",
    "df_compare"
   ]
  },
  {
   "cell_type": "code",
   "execution_count": null,
   "id": "1136d08b-3de0-4a72-992a-5b4a9d74a0b9",
   "metadata": {},
   "outputs": [],
   "source": [
    "M = np.tile(df_compare['consumption'],(len(df_compare),1))\n",
    "changes = np.triu(M - M.T)\n",
    "df_changes = pd.DataFrame(changes, index=df_compare.index, columns=df_compare.index)\n",
    "\n",
    "columns = df_changes.columns[~(df_changes==0).all(axis=0)]\n",
    "rows = df_changes.index[~(df_changes==0).all(axis=1)]\n",
    "df_changes = df_changes.loc[rows,columns].copy()\n",
    "\n",
    "(df_changes/df_compare.loc['släckta skärmar']['consumption'])*100"
   ]
  },
  {
   "cell_type": "markdown",
   "id": "0c5b2dc9-c91d-4317-8879-8f1511cc91b8",
   "metadata": {},
   "source": [
    "## Hypothesis testing"
   ]
  },
  {
   "cell_type": "code",
   "execution_count": null,
   "id": "89a02912-c06f-41b0-a626-68295ba5157d",
   "metadata": {},
   "outputs": [],
   "source": [
    "from statsmodels.stats import weightstats as stests"
   ]
  },
  {
   "cell_type": "code",
   "execution_count": null,
   "id": "276211bb-affc-4bc2-8e01-6e1c2dde48d0",
   "metadata": {},
   "outputs": [],
   "source": [
    "key = 'consumption'\n",
    "for direction, df_direction in df_.groupby(by='trip_direction', sort=False):\n",
    "    \n",
    "    periods = df_direction.groupby(by='period', sort=False)\n",
    "    \n",
    "    z1 = periods.get_group('släckta skärmar')[key]\n",
    "    z2 = periods.get_group('efter utbildning')[key]\n",
    "    bins = np.linspace(df_[key].min(),df_[key].max(),100)\n",
    "    \n",
    "    fig,ax=plt.subplots()\n",
    "    grid = sns.histplot(z1, stat=\"density\", bins=bins, label='släckta skärmar', ax=ax);\n",
    "    grid = sns.histplot(z2, stat=\"density\", bins=bins, color='r', label='efter utbildning', ax=ax)\n",
    "    fig.suptitle(direction)\n",
    "    ax.legend();\n",
    "    \n",
    "    "
   ]
  },
  {
   "cell_type": "code",
   "execution_count": null,
   "id": "de2ecf2b-fc4a-4414-9985-115100ac1a15",
   "metadata": {},
   "outputs": [],
   "source": [
    "periods = df_.groupby(by='period', sort=False)\n",
    "    \n",
    "z1 = periods.get_group('släckta skärmar')[key]\n",
    "z2 = periods.get_group('efter utbildning')[key]"
   ]
  },
  {
   "cell_type": "code",
   "execution_count": null,
   "id": "5b596ef1-64fd-465d-ad37-eafe95edfcd7",
   "metadata": {},
   "outputs": [],
   "source": [
    "z1.mean()"
   ]
  },
  {
   "cell_type": "code",
   "execution_count": null,
   "id": "5c358ae8-30cb-4d83-b05e-ea0a88ca3fe5",
   "metadata": {},
   "outputs": [],
   "source": [
    "z2.mean()"
   ]
  },
  {
   "cell_type": "code",
   "execution_count": null,
   "id": "5ec4e62a-6524-4ba8-8cdc-546fb40cd4a1",
   "metadata": {},
   "outputs": [],
   "source": [
    "diff = 0.05*z1.mean()\n",
    "ztest ,pvalue = stests.ztest(z1, z2, value=diff)"
   ]
  },
  {
   "cell_type": "code",
   "execution_count": null,
   "id": "a8d00bae-ccaf-4ba0-92ed-5d955a46b2ee",
   "metadata": {},
   "outputs": [],
   "source": [
    "pvalue"
   ]
  },
  {
   "cell_type": "code",
   "execution_count": null,
   "id": "f2aa58b0-28eb-495d-bbb8-5e41c546d271",
   "metadata": {},
   "outputs": [],
   "source": [
    "ttest,pvalue,_ = stests.ttest_ind(z1, z2, value=diff)"
   ]
  },
  {
   "cell_type": "code",
   "execution_count": null,
   "id": "f37bd86e-ca0e-454b-be04-59dbe6438fd2",
   "metadata": {},
   "outputs": [],
   "source": [
    "pvalue"
   ]
  },
  {
   "cell_type": "code",
   "execution_count": null,
   "id": "12e4da18-b3c3-4f95-ba2a-f911c3b4ba88",
   "metadata": {},
   "outputs": [],
   "source": [
    "N = 20000\n",
    "z1_means = np.zeros(N)\n",
    "for i in range(N):\n",
    "    z1_means[i] = z1.sample(replace=True, n=3).mean()"
   ]
  },
  {
   "cell_type": "code",
   "execution_count": null,
   "id": "99a22bcb-1237-4322-a8e9-d7ac7a823acb",
   "metadata": {},
   "outputs": [],
   "source": [
    "z2_means = np.zeros(N)\n",
    "for i in range(N):\n",
    "    z2_means[i] = z2.sample(replace=True, n=3).mean()"
   ]
  },
  {
   "cell_type": "code",
   "execution_count": null,
   "id": "7cc32076-07d4-455e-ac43-5cf26fbfaae1",
   "metadata": {},
   "outputs": [],
   "source": [
    "fig,ax=plt.subplots()\n",
    "bins = np.linspace(np.min([np.quantile(z1_means,0.001), np.quantile(z2_means, 0.001)]), np.max([np.quantile(z1_means,0.999),np.quantile(z2_means,0.999)]),100)\n",
    "sns.histplot(z1_means, kde=True, stat=\"density\", bins=bins, label='släckta skärmar', ax=ax);\n",
    "sns.histplot(z2_means, kde=True, stat=\"density\", bins=bins, label='efter utbildning', color='r', ax=ax);\n",
    "ax.set_xlabel('Energy consumption [kJ]')\n",
    "ax.legend();"
   ]
  },
  {
   "cell_type": "code",
   "execution_count": null,
   "id": "52485dbf-476e-4938-9d5b-a34ac2b244ac",
   "metadata": {},
   "outputs": [],
   "source": [
    "rv1 = norm(loc=z1_means.mean(), scale=z1_means.std())\n",
    "rv2 = norm(loc=z2_means.mean(), scale=z2_means.std())"
   ]
  }
 ],
 "metadata": {
  "kernelspec": {
   "display_name": "d2e2f",
   "language": "python",
   "name": "python3"
  },
  "language_info": {
   "codemirror_mode": {
    "name": "ipython",
    "version": 3
   },
   "file_extension": ".py",
   "mimetype": "text/x-python",
   "name": "python",
   "nbconvert_exporter": "python",
   "pygments_lexer": "ipython3",
   "version": "3.7.9"
  },
  "papermill": {
   "default_parameters": {},
   "duration": 468.144174,
   "end_time": "2021-05-21T16:01:05.321603",
   "environment_variables": {},
   "exception": null,
   "input_path": "steps\\03.1_explore_trip_statistics.ipynb",
   "output_path": "experiments\\2020-01-01-till-2021-02-28-tycho-brahe\\03.1_explore_trip_statistics.ipynb",
   "parameters": {
    "n_rows": null,
    "name": "2020-01-01-till-2021-02-28-tycho-brahe"
   },
   "start_time": "2021-05-21T15:53:17.177429",
   "version": "2.3.3"
  }
 },
 "nbformat": 4,
 "nbformat_minor": 5
}
