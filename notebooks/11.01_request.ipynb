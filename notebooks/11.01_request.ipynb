{
 "cells": [
  {
   "cell_type": "code",
   "execution_count": null,
   "id": "f5de88cb-d0dc-4493-ade7-7fbc24d029dc",
   "metadata": {},
   "outputs": [],
   "source": [
    "import requests\n",
    "import pandas as pd\n",
    "from dotenv import load_dotenv\n",
    "import os\n",
    "from io import StringIO"
   ]
  },
  {
   "cell_type": "code",
   "execution_count": null,
   "id": "41c0c5ce-a283-4ab9-a2c6-5536567c1d68",
   "metadata": {},
   "outputs": [],
   "source": [
    "load_dotenv('../.env')"
   ]
  },
  {
   "cell_type": "code",
   "execution_count": null,
   "id": "a9224c28-0693-4fed-ba55-2a2dff523f1a",
   "metadata": {},
   "outputs": [],
   "source": [
    "context = session.load_context()\n",
    "credentials = context._get_config_credentials()"
   ]
  },
  {
   "cell_type": "code",
   "execution_count": null,
   "id": "3474ff78-90aa-4f2d-9cc4-5e14bfe68cbf",
   "metadata": {},
   "outputs": [],
   "source": [
    "def get_months(start:str, end:str):\n",
    "\n",
    "    start=pd.Timestamp(start)\n",
    "    end=pd.Timestamp(end)\n",
    "    months = pd.date_range(start=start, end=end, freq='M')\n",
    "    \n",
    "    if len(months) > 0:\n",
    "    \n",
    "        if months[0] > start:\n",
    "            months = months.insert(0,start)\n",
    "    \n",
    "        if months[-1] < end:\n",
    "            months = months.append(pd.DatetimeIndex([end]))\n",
    "        \n",
    "    else:\n",
    "        months = pd.DatetimeIndex([start,end])\n",
    "        \n",
    "    return months\n",
    "    "
   ]
  },
  {
   "cell_type": "code",
   "execution_count": null,
   "id": "bc8c34cf-d01b-40da-909b-676b4e6853f2",
   "metadata": {},
   "outputs": [],
   "source": [
    "months = get_months(start='2022-01-01', end='2022-10-18')\n",
    "months"
   ]
  },
  {
   "cell_type": "code",
   "execution_count": null,
   "id": "51055172-f4ba-497a-9966-d835a230a049",
   "metadata": {},
   "outputs": [],
   "source": [
    "months_str = [str(date) for date in months.date]"
   ]
  },
  {
   "cell_type": "code",
   "execution_count": null,
   "id": "9a910ac4-5897-438c-b02d-746716ebaf71",
   "metadata": {},
   "outputs": [],
   "source": [
    "months_str"
   ]
  },
  {
   "cell_type": "code",
   "execution_count": null,
   "id": "4115fe7c-98d4-4842-b743-3d4467f9c895",
   "metadata": {},
   "outputs": [],
   "source": [
    "def read_month(start:str, end:str, session:requests.Session):\n",
    "    \n",
    "    url = f'https://online.blueflow.se/be/external/raw/2?fromDate={start}&toDate={end}'\n",
    "    r = session.get(url)\n",
    "    s = r.content.decode('utf-8')\n",
    "    df = pd.read_csv(StringIO(s))\n",
    "    return df"
   ]
  },
  {
   "cell_type": "code",
   "execution_count": null,
   "id": "7efa7177-63f9-43b0-bb5f-2aec57236c98",
   "metadata": {},
   "outputs": [],
   "source": [
    "def load_blueflow(start:str, end:str, user:str, password:str):\n",
    "    \n",
    "    months = get_months(start=start, end=end)\n",
    "    months_str = [str(date) for date in months.date]\n",
    "    \n",
    "    files = {}\n",
    "    \n",
    "    with requests.Session() as session:\n",
    "        session.auth = (user, password)\n",
    "        \n",
    "        for i,month_str in enumerate(months_str[0:-1]):\n",
    "            start_month = month_str\n",
    "            end_month = months_str[i+1]\n",
    "            s_month = read_month(start=start_month, end=end_month, session=session)\n",
    "            \n",
    "            file_name = f'{start_month}--{end_month}'\n",
    "            files[file_name] = s_month\n",
    "            \n",
    "    return files\n"
   ]
  },
  {
   "cell_type": "code",
   "execution_count": null,
   "id": "aed6d0d3-a7d8-45ea-b115-7c73321d2ba8",
   "metadata": {},
   "outputs": [],
   "source": [
    "files = load_blueflow(start='2022-09-01', end='2022-10-18', user=credentials['user'], password=credentials['pass'])"
   ]
  },
  {
   "cell_type": "code",
   "execution_count": null,
   "id": "19f4d903-0813-4d4e-8e45-803841b7e8ed",
   "metadata": {},
   "outputs": [],
   "source": [
    "files.keys()"
   ]
  }
 ],
 "metadata": {
  "kernelspec": {
   "display_name": "d2e2f",
   "language": "python",
   "name": "python3"
  },
  "language_info": {
   "codemirror_mode": {
    "name": "ipython",
    "version": 3
   },
   "file_extension": ".py",
   "mimetype": "text/x-python",
   "name": "python",
   "nbconvert_exporter": "python",
   "pygments_lexer": "ipython3",
   "version": "3.7.9"
  }
 },
 "nbformat": 4,
 "nbformat_minor": 5
}
