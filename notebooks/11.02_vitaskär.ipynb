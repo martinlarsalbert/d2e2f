{
 "cells": [
  {
   "cell_type": "markdown",
   "id": "9388f23f-d037-4905-906a-49edf33ef3a6",
   "metadata": {
    "tags": []
   },
   "source": [
    "# M/S Vitaskär with preprocessed data\n",
    "![](https://www.skargardsbatar.se/oydronningen_1982/oydronningen_1.jpg)"
   ]
  },
  {
   "cell_type": "markdown",
   "id": "1eb0b4c0-facc-460a-a138-5b04ad0e8977",
   "metadata": {},
   "source": [
    "I have added a kedro pipeline to do the preprocessing of data:\n",
    "* **Join Files Node** : join all data from all files.\n",
    "* **Preprocess Node**\n",
    "* **Preprocess Trip Columns Node**\n",
    "\n",
    "Some trip statistics is also calculated.\n",
    "You will need to run this pipeline to get the new datasets.\n",
    "\n",
    "* Some new dependencies are needed which can be installed with: In the project folder type: ```kedro install```\n",
    "* Then type: ```kedro run``` this should do the preprocessing and store the preprocessed data. How to access these new datasets is shown below."
   ]
  },
  {
   "cell_type": "code",
   "execution_count": null,
   "id": "a10f735d-ea1a-4882-b9aa-315aac54187c",
   "metadata": {},
   "outputs": [],
   "source": [
    "%load_ext autoreload\n",
    "%autoreload 2\n",
    "\n",
    "from d2e2f.visualization.visualize import plot_map, plot_trips\n",
    "import pandas as pd"
   ]
  },
  {
   "cell_type": "markdown",
   "id": "6f042493-67ef-4a78-826c-93b34bce1f3a",
   "metadata": {},
   "source": [
    "## Loading the data"
   ]
  },
  {
   "cell_type": "code",
   "execution_count": null,
   "id": "968af4fc-ab2e-466e-bbb7-ee093bc87a1f",
   "metadata": {},
   "outputs": [],
   "source": [
    "%reload_kedro\n",
    "loaders = catalog.load('vitaskar.raw_data')\n",
    "loaders"
   ]
  },
  {
   "cell_type": "code",
   "execution_count": null,
   "id": "9e2a01d7-4c37-4963-9d59-caf1986a530f",
   "metadata": {},
   "outputs": [],
   "source": [
    "loader = list(loaders.values())[0]\n",
    "df_raw = loader()"
   ]
  },
  {
   "cell_type": "code",
   "execution_count": null,
   "id": "daaf54af-53d6-4c0d-beb4-1f6c995f06b3",
   "metadata": {},
   "outputs": [],
   "source": [
    "df_raw.head()"
   ]
  },
  {
   "cell_type": "code",
   "execution_count": null,
   "id": "8393566b-7684-4846-96e1-bdb3ebe4d8dc",
   "metadata": {},
   "outputs": [],
   "source": [
    "df_raw.plot(y='Speed over ground (kts)')"
   ]
  },
  {
   "cell_type": "code",
   "execution_count": null,
   "id": "53004eea-eb87-4bd4-beaf-488beb940007",
   "metadata": {},
   "outputs": [],
   "source": [
    "df = catalog.load(\"vitaskar.data_with_trip_columns\")"
   ]
  },
  {
   "cell_type": "code",
   "execution_count": null,
   "id": "f865fb37-2397-49d6-a664-9f0ad791b8f4",
   "metadata": {},
   "outputs": [],
   "source": [
    "df.longitude.quantile(0.10)"
   ]
  },
  {
   "cell_type": "code",
   "execution_count": null,
   "id": "34499847-c39d-414d-beb1-87ddfb041316",
   "metadata": {},
   "outputs": [],
   "source": [
    "df.longitude.quantile(0.90)"
   ]
  },
  {
   "cell_type": "markdown",
   "id": "588a505c-d693-4a92-8c04-fa3dc0042878",
   "metadata": {},
   "source": [
    "And here is a nice map of the data. You may have to install \"folium\" to get this to work:\n",
    "\n",
    "```pip install folium```"
   ]
  },
  {
   "cell_type": "code",
   "execution_count": null,
   "id": "e214b632-7261-404f-ad3b-b60fbbd09a60",
   "metadata": {},
   "outputs": [],
   "source": [
    "plot_trips(df=df, zoom_start=13)"
   ]
  },
  {
   "cell_type": "markdown",
   "id": "5fda7546-774b-49d3-81b1-e99ffca26bba",
   "metadata": {},
   "source": [
    "## One trip"
   ]
  },
  {
   "cell_type": "code",
   "execution_count": null,
   "id": "25e0eb52-5441-4ac7-a0af-279762c613c8",
   "metadata": {},
   "outputs": [],
   "source": [
    "trips = df.groupby('trip_no')\n",
    "trip_no = list(trips.groups.keys())[1]\n",
    "trip = trips.get_group(trip_no)\n",
    "\n",
    "trip.head()"
   ]
  },
  {
   "cell_type": "code",
   "execution_count": null,
   "id": "b26fce92-9beb-4ea8-9cd3-7ac32fc14e02",
   "metadata": {},
   "outputs": [],
   "source": [
    "plot_map(trip)"
   ]
  },
  {
   "cell_type": "markdown",
   "id": "65d8f32b-8a3a-4f62-93dd-63583d1661ce",
   "metadata": {},
   "source": [
    "## Statistics"
   ]
  },
  {
   "cell_type": "code",
   "execution_count": null,
   "id": "810a47db-1d6c-48ef-93b3-461f562e2a33",
   "metadata": {},
   "outputs": [],
   "source": [
    "df_statistics_raw = catalog.load(\"vitaskar.trip_statistics\")\n",
    "df_statistics = catalog.load(\"vitaskar.trip_statistics_clean\")"
   ]
  },
  {
   "cell_type": "code",
   "execution_count": null,
   "id": "42543f45-cb00-4733-ad8a-f6483b97af37",
   "metadata": {},
   "outputs": [],
   "source": [
    "df_statistics.describe()"
   ]
  },
  {
   "cell_type": "code",
   "execution_count": null,
   "id": "1310a3d8-c0d2-4c21-a0f8-4c926cab7c23",
   "metadata": {},
   "outputs": [],
   "source": [
    "df_statistics.hist('distance')"
   ]
  },
  {
   "cell_type": "code",
   "execution_count": null,
   "id": "c0e05182-4755-4aac-bc89-184b9cf953eb",
   "metadata": {},
   "outputs": [],
   "source": [
    "df_statistics.hist('trip_time')"
   ]
  },
  {
   "cell_type": "code",
   "execution_count": null,
   "id": "1d62321c-46f0-4392-b5a6-ce95a5403841",
   "metadata": {},
   "outputs": [],
   "source": [
    "df_statistics.hist(column='sog', bins=100)"
   ]
  }
 ],
 "metadata": {
  "kernelspec": {
   "display_name": "d2e2f",
   "language": "python",
   "name": "python3"
  },
  "language_info": {
   "codemirror_mode": {
    "name": "ipython",
    "version": 3
   },
   "file_extension": ".py",
   "mimetype": "text/x-python",
   "name": "python",
   "nbconvert_exporter": "python",
   "pygments_lexer": "ipython3",
   "version": "3.7.9"
  }
 },
 "nbformat": 4,
 "nbformat_minor": 5
}
