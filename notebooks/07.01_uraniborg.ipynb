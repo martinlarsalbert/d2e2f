{
 "cells": [
  {
   "cell_type": "markdown",
   "id": "9388f23f-d037-4905-906a-49edf33ef3a6",
   "metadata": {},
   "source": [
    "# Uraniborg\n",
    "![](https://ventrafiken.se/wp-content/uploads/2020/02/ura-20130125-655x311-1.png.webp)"
   ]
  },
  {
   "cell_type": "code",
   "execution_count": null,
   "id": "78811e7e-f3da-48ea-9f26-458dcdc12cc8",
   "metadata": {},
   "outputs": [],
   "source": [
    "df = catalog.load(f'uraniborg.raw_data')"
   ]
  },
  {
   "cell_type": "code",
   "execution_count": null,
   "id": "8b86afe7-7ff5-4431-96eb-3beeb86040e3",
   "metadata": {},
   "outputs": [],
   "source": [
    "df.head()"
   ]
  },
  {
   "cell_type": "code",
   "execution_count": null,
   "id": "6b412497-7daa-45ae-95c1-8b3df254073d",
   "metadata": {},
   "outputs": [],
   "source": [
    "df.describe()"
   ]
  },
  {
   "cell_type": "code",
   "execution_count": null,
   "id": "62815e4a-8002-4151-b878-6e3302a05ec9",
   "metadata": {},
   "outputs": [],
   "source": [
    "df.info()"
   ]
  },
  {
   "cell_type": "code",
   "execution_count": null,
   "id": "8aecc0ef-afcb-4325-a5cb-224eb1f2c57a",
   "metadata": {},
   "outputs": [],
   "source": []
  }
 ],
 "metadata": {
  "kernelspec": {
   "display_name": "d2e2f",
   "language": "python",
   "name": "python3"
  },
  "language_info": {
   "codemirror_mode": {
    "name": "ipython",
    "version": 3
   },
   "file_extension": ".py",
   "mimetype": "text/x-python",
   "name": "python",
   "nbconvert_exporter": "python",
   "pygments_lexer": "ipython3",
   "version": "3.7.9"
  }
 },
 "nbformat": 4,
 "nbformat_minor": 5
}
