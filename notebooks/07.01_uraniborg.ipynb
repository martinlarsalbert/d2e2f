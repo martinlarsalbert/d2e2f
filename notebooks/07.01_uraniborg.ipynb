{
 "cells": [
  {
   "cell_type": "markdown",
   "id": "9388f23f-d037-4905-906a-49edf33ef3a6",
   "metadata": {
    "tags": []
   },
   "source": [
    "# Uraniborg\n",
    "![](https://ventrafiken.se/wp-content/uploads/2020/02/ura-20130125-655x311-1.png.webp)"
   ]
  },
  {
   "cell_type": "code",
   "execution_count": null,
   "id": "a10f735d-ea1a-4882-b9aa-315aac54187c",
   "metadata": {},
   "outputs": [],
   "source": [
    "from d2e2f.visualization.visualize import plot_map\n",
    "import pandas as pd"
   ]
  },
  {
   "cell_type": "code",
   "execution_count": null,
   "id": "78811e7e-f3da-48ea-9f26-458dcdc12cc8",
   "metadata": {},
   "outputs": [],
   "source": [
    "loaders = catalog.load(f'uraniborg.raw_data')"
   ]
  },
  {
   "cell_type": "code",
   "execution_count": null,
   "id": "8f786b35-b86e-4cfc-b82e-77a7af45e44c",
   "metadata": {},
   "outputs": [],
   "source": [
    "df = loaders['uraniborg-2021-05']()\n",
    "df.index = pd.to_datetime(df['Timestamp'])\n",
    "df.rename(columns={\n",
    "'Latitude (deg)':'latitude',\n",
    "'Longitude (deg)':'longitude',\n",
    "'Course over ground (deg)':'cog',\n",
    "    \n",
    "}, inplace=True)"
   ]
  },
  {
   "cell_type": "code",
   "execution_count": null,
   "id": "8b86afe7-7ff5-4431-96eb-3beeb86040e3",
   "metadata": {},
   "outputs": [],
   "source": [
    "df.head()"
   ]
  },
  {
   "cell_type": "code",
   "execution_count": null,
   "id": "d0003245-a05f-4670-be53-e1050db01890",
   "metadata": {},
   "outputs": [],
   "source": [
    "df.columns"
   ]
  },
  {
   "cell_type": "code",
   "execution_count": null,
   "id": "6b44b3e4-8cb9-4163-899e-a23011edcb18",
   "metadata": {},
   "outputs": [],
   "source": [
    "plot_map(df=df,zoom_start=13)"
   ]
  }
 ],
 "metadata": {
  "kernelspec": {
   "display_name": "d2e2f",
   "language": "python",
   "name": "python3"
  },
  "language_info": {
   "codemirror_mode": {
    "name": "ipython",
    "version": 3
   },
   "file_extension": ".py",
   "mimetype": "text/x-python",
   "name": "python",
   "nbconvert_exporter": "python",
   "pygments_lexer": "ipython3",
   "version": "3.7.9"
  }
 },
 "nbformat": 4,
 "nbformat_minor": 5
}
