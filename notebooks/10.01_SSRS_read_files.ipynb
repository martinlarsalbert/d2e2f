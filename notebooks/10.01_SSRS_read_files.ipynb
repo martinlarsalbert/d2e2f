{
 "cells": [
  {
   "cell_type": "markdown",
   "id": "c2aa9c98-22d7-402c-bac2-7a675f770cf3",
   "metadata": {},
   "source": [
    "# Explore SSRS files"
   ]
  },
  {
   "cell_type": "code",
   "execution_count": null,
   "id": "b345bb91-bc12-4b15-b7e8-1733404a9c21",
   "metadata": {},
   "outputs": [],
   "source": [
    "# %load imports.py\n",
    "%matplotlib inline\n",
    "%load_ext autoreload\n",
    "%autoreload 2\n",
    "\n",
    "import numpy as np\n",
    "import pandas as pd\n",
    "import matplotlib.pyplot as plt\n",
    "import matplotlib.pyplot as plt\n",
    "import seaborn as sns\n",
    "width=20\n",
    "height=3\n",
    "plt.rcParams[\"figure.figsize\"] = (width,height)\n",
    "sns.set(rc={'figure.figsize':(width,height)})\n",
    "\n",
    "#import seaborn as sns\n",
    "import os\n",
    "from collections import OrderedDict\n",
    "\n",
    "from IPython.display import display\n",
    "\n",
    "pd.options.display.max_rows = 999\n",
    "pd.options.display.max_columns = 999\n",
    "pd.set_option(\"display.max_columns\", None)\n",
    "\n",
    "import folium\n",
    "import plotly.express as px\n",
    "import plotly.graph_objects as go\n",
    "\n",
    "import sys\n",
    "import os\n",
    "\n",
    "from sklearn.metrics import r2_score\n",
    "\n",
    "import scipy.integrate\n",
    "import seaborn as sns\n",
    "\n",
    "import pyarrow as pa\n",
    "import pyarrow.parquet as pq\n",
    "\n",
    "import dask.dataframe\n",
    "import statsmodels.api as sm\n",
    "\n",
    "from d2e2f.visualization import visualize\n",
    "import scipy.integrate"
   ]
  },
  {
   "cell_type": "code",
   "execution_count": null,
   "id": "837ae68c-c014-4fe2-aa44-b3a47fa5f108",
   "metadata": {},
   "outputs": [],
   "source": [
    "df = pd.read_json(\"../data/01_raw/sendaway/SSRS15-01_322012079/PGN129025_POSITION_LAT-LON_DSH_SA16/1635242819.txt.gz\", compression='gzip', lines=True, orient=\"columns\")"
   ]
  },
  {
   "cell_type": "code",
   "execution_count": null,
   "id": "2eb8b12a-1e07-4031-8ce1-d0e8198f5977",
   "metadata": {},
   "outputs": [],
   "source": [
    "df"
   ]
  },
  {
   "cell_type": "code",
   "execution_count": null,
   "id": "3b1115cc-02a2-48df-b5ae-afea7e4051c7",
   "metadata": {},
   "outputs": [],
   "source": [
    "pd.to_datetime(df[['min_time_stamp','max_time_stamp']].mean(axis=1), unit='s')"
   ]
  },
  {
   "cell_type": "code",
   "execution_count": null,
   "id": "63f04866-177c-4d5c-96d8-6dfff9db8742",
   "metadata": {},
   "outputs": [],
   "source": [
    "dir_path = \"../data/01_raw/sendaway/SSRS15-01_322012079/PGN129025_POSITION_LAT-LON_DSH_SA13\"\n",
    "parts = []\n",
    "for file in os.listdir(dir_path):\n",
    "    file_path = os.path.join(dir_path, file)\n",
    "    part = pd.read_json(file_path, compression='gzip', lines=True, orient=\"columns\")\n",
    "    parts.append(part)"
   ]
  },
  {
   "cell_type": "code",
   "execution_count": null,
   "id": "6e336e97-e017-4607-9e1b-11c1e5afbd7e",
   "metadata": {},
   "outputs": [],
   "source": [
    "df = pd.concat(parts)\n",
    "df.index = pd.to_datetime(df[['min_time_stamp','max_time_stamp']].mean(axis=1), unit='s')"
   ]
  },
  {
   "cell_type": "code",
   "execution_count": null,
   "id": "7a394e00-7521-46d4-84a8-8ac2932b4601",
   "metadata": {},
   "outputs": [],
   "source": [
    "df.describe()"
   ]
  },
  {
   "cell_type": "code",
   "execution_count": null,
   "id": "2570c602-222a-482c-9732-3093a5645d91",
   "metadata": {},
   "outputs": [],
   "source": [
    "df.head()"
   ]
  },
  {
   "cell_type": "code",
   "execution_count": null,
   "id": "4f936562-3b8c-4354-a5b3-753f17dffa2c",
   "metadata": {},
   "outputs": [],
   "source": [
    "type(df['last'].iloc[0])"
   ]
  },
  {
   "cell_type": "code",
   "execution_count": null,
   "id": "fe5aec68-6f9d-424c-b4bb-52fea6af9752",
   "metadata": {},
   "outputs": [],
   "source": [
    "dir_path = \"../data/01_raw/sendaway/SSRS15-01_322012079/\"\n",
    "parts = []\n",
    "counter = 0\n",
    "limit = 1000\n",
    "for directory in os.listdir(dir_path):\n",
    "    \n",
    "   \n",
    "    if 'SSRS' in directory:\n",
    "        continue  # skipping these strange folders...\n",
    "    \n",
    "    sub_dir_path = os.path.join(dir_path, directory)\n",
    "        \n",
    "    for file in os.listdir(sub_dir_path):\n",
    "\n",
    "    \n",
    "    \n",
    "        file_path = os.path.join(sub_dir_path, file)\n",
    "        part = pd.read_json(file_path, compression='gzip', lines=True, orient=\"columns\")\n",
    "        \n",
    "        for index,row in part.iterrows():\n",
    "            \n",
    "            content = row['decimated_signal']\n",
    "            df_ = pd.DataFrame(index=content.keys())\n",
    "            df_[str(row['signal'])] = [item['value'] for item in content.values()]\n",
    "            df_['unit'] = row['unit']\n",
    "                    \n",
    "            parts.append(df_)\n",
    "            \n",
    "            counter+=1\n",
    "        if counter > limit:\n",
    "            break\n",
    "\n",
    "    if counter > limit:\n",
    "        break"
   ]
  },
  {
   "cell_type": "code",
   "execution_count": null,
   "id": "0746fe2c-a077-45b8-a27e-f32f4be19037",
   "metadata": {},
   "outputs": [],
   "source": [
    "parts[0]"
   ]
  },
  {
   "cell_type": "code",
   "execution_count": null,
   "id": "de47998d-8a17-4fa2-835c-4d4e63fa6550",
   "metadata": {},
   "outputs": [],
   "source": [
    "directory"
   ]
  },
  {
   "cell_type": "code",
   "execution_count": null,
   "id": "4e4a0695-dc56-4887-8f76-2258ec5f53f6",
   "metadata": {},
   "outputs": [],
   "source": [
    "def save_signal(row, name:str, data, values):\n",
    "    \n",
    "    content = row['decimated_signal']\n",
    "    index = content.keys()\n",
    "    \n",
    "    s = pd.Series(data = values, index=index, name=name, dtype=float)\n",
    "                \n",
    "    s.index=s.index.astype(int)\n",
    "    s.index = pd.to_datetime(s.index, unit='s')\n",
    "    s.sort_index(inplace=True)\n",
    "    \n",
    "    s2 = s.resample('10S').interpolate()\n",
    "    \n",
    "    if not name in data:\n",
    "        data[name]=s2\n",
    "    else:\n",
    "        data[name] = data[name].append(s2)"
   ]
  },
  {
   "cell_type": "code",
   "execution_count": null,
   "id": "050a61eb-82ef-40b3-9f4c-ffd4d7350c9a",
   "metadata": {},
   "outputs": [],
   "source": [
    "dir_path = \"../data/01_raw/sendaway/SSRS15-01_322012079/\"\n",
    "parts = []\n",
    "counter = 0\n",
    "limit = np.inf\n",
    "indexes = []\n",
    "names = []\n",
    "\n",
    "excludes = [\n",
    "    'ENGINEOILTEMP',\n",
    "    'ENGINETEMP',\n",
    "    'TOTALENGINEHOURS',\n",
    "    'EngineOilPressure',\n",
    "]\n",
    "\n",
    "data = {}\n",
    "\n",
    "for directory in os.listdir(dir_path):\n",
    "    \n",
    "    if np.any(np.array([exclude.lower() in directory.lower() for exclude in excludes])):\n",
    "        continue\n",
    "   \n",
    "    if 'SSRS' in directory:\n",
    "        continue  # skipping these strange folders...\n",
    "    \n",
    "    sub_dir_path = os.path.join(dir_path, directory)\n",
    "        \n",
    "    for file in os.listdir(sub_dir_path):\n",
    "\n",
    "         \n",
    "    \n",
    "        file_path = os.path.join(sub_dir_path, file)\n",
    "        part = pd.read_json(file_path, compression='gzip', lines=True, orient=\"columns\")\n",
    "        \n",
    "        for index,row in part.iterrows():\n",
    "                        \n",
    "            name=str(row['signal'])\n",
    "            content = row['decimated_signal']\n",
    "            if 'LAT-LON' in name:\n",
    "                \n",
    "                name = 'latitude'\n",
    "                values = [item['value'][0] for item in content.values()]\n",
    "                save_signal(row=row, name=name, data=data, values=values)\n",
    "                \n",
    "                name = 'longitude'\n",
    "                values = [item['value'][1] for item in content.values()]\n",
    "                save_signal(row=row, name=name, data=data, values=values)\n",
    "                \n",
    "            else:\n",
    "                values = [item['value'] for item in content.values()]\n",
    "                \n",
    "                save_signal(row=row, name=name, data=data, values=values)\n",
    "            \n",
    "            counter+=1\n",
    "        if counter > limit:\n",
    "            break\n",
    "\n",
    "    if counter > limit:\n",
    "        break"
   ]
  },
  {
   "cell_type": "code",
   "execution_count": null,
   "id": "d940d091-b640-468b-bf40-c3bfdbb404d6",
   "metadata": {},
   "outputs": [],
   "source": [
    "data.keys()"
   ]
  },
  {
   "cell_type": "code",
   "execution_count": null,
   "id": "07fc6fb5-a669-4c84-aa93-ecaa80bfed2f",
   "metadata": {},
   "outputs": [],
   "source": [
    "s1 = data['PGN127489_ENGINEPARAMETERSDYNAMIC_FuelRate_dsh_SA236_dsh_INST_1']\n",
    "s2 = data['PGN127489_ENGINEPARAMETERSDYNAMIC_FuelRate_dsh_SA236_dsh_INST_0']\n"
   ]
  },
  {
   "cell_type": "code",
   "execution_count": null,
   "id": "d2522351-9a8b-46bb-9d46-3217c5ca1ac4",
   "metadata": {},
   "outputs": [],
   "source": [
    "s1"
   ]
  },
  {
   "cell_type": "code",
   "execution_count": null,
   "id": "959b87c4-8c65-475f-bd65-242cfb7a4c93",
   "metadata": {},
   "outputs": [],
   "source": [
    "s2"
   ]
  },
  {
   "cell_type": "code",
   "execution_count": null,
   "id": "770d5cac-30de-4817-8106-6c999248d759",
   "metadata": {},
   "outputs": [],
   "source": [
    "for key,value in data.items():\n",
    "    \n",
    "    print(f\"{pd.to_datetime(value.index.min(), unit='s')} : {key}\")"
   ]
  },
  {
   "cell_type": "code",
   "execution_count": null,
   "id": "553d296a-071c-49f8-9a4c-239f0dd70dbe",
   "metadata": {},
   "outputs": [],
   "source": [
    "min_index = np.max([value.index.min() for value in data.values()])\n",
    "min_index"
   ]
  },
  {
   "cell_type": "code",
   "execution_count": null,
   "id": "b5a0dc20-cfa9-46f1-af2c-876060ab64cc",
   "metadata": {},
   "outputs": [],
   "source": [
    "max_index = np.min([value.index.max() for value in data.values()])\n",
    "max_index"
   ]
  },
  {
   "cell_type": "code",
   "execution_count": null,
   "id": "a65b7294-a13f-436a-aed6-eb682e67ab2d",
   "metadata": {},
   "outputs": [],
   "source": [
    "df"
   ]
  },
  {
   "cell_type": "code",
   "execution_count": null,
   "id": "38fe6956-50e1-4454-9b5a-6d083a4d0a01",
   "metadata": {},
   "outputs": [],
   "source": [
    "df = pd.DataFrame()\n",
    "for key,values in data.items():\n",
    "    #mask = ((values.index >= min_index) & (values.index <= max_index) )\n",
    "    #df[key] = values.loc[mask].values\n",
    "    \n",
    "    if len(df) == 0:\n",
    "        df=values.to_frame()\n",
    "    else:\n",
    "        df = df.combine_first(values.to_frame())\n",
    "    "
   ]
  },
  {
   "cell_type": "code",
   "execution_count": null,
   "id": "10c432ec-35a0-484c-8b02-ffa85ca1763e",
   "metadata": {},
   "outputs": [],
   "source": [
    "df"
   ]
  },
  {
   "cell_type": "code",
   "execution_count": null,
   "id": "3c69cba9-1910-47d0-9bb9-3286c409d179",
   "metadata": {},
   "outputs": [],
   "source": [
    "df.describe()"
   ]
  }
 ],
 "metadata": {
  "kernelspec": {
   "display_name": "d2e2f",
   "language": "python",
   "name": "python3"
  },
  "language_info": {
   "codemirror_mode": {
    "name": "ipython",
    "version": 3
   },
   "file_extension": ".py",
   "mimetype": "text/x-python",
   "name": "python",
   "nbconvert_exporter": "python",
   "pygments_lexer": "ipython3",
   "version": "3.7.9"
  }
 },
 "nbformat": 4,
 "nbformat_minor": 5
}
