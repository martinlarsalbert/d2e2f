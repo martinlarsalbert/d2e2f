{
 "cells": [
  {
   "cell_type": "markdown",
   "id": "b972aee4-0f7d-49b8-bb13-9d8cbd7238e5",
   "metadata": {},
   "source": [
    "# SSRS"
   ]
  },
  {
   "cell_type": "code",
   "execution_count": null,
   "id": "9f84e2da-5c96-42c9-98ea-2acb990d665b",
   "metadata": {},
   "outputs": [],
   "source": [
    "# %load imports.py\n",
    "%matplotlib inline\n",
    "%load_ext autoreload\n",
    "%autoreload 2\n",
    "%config Completer.use_jedi = False  ## (To fix autocomplete)\n",
    "\n",
    "import numpy as np\n",
    "import pandas as pd\n",
    "import matplotlib.pyplot as plt\n",
    "import matplotlib.pyplot as plt\n",
    "import seaborn as sns\n",
    "width=20\n",
    "height=3\n",
    "#plt.rcParams[\"figure.figsize\"] = (width,height)\n",
    "#sns.set(rc={'figure.figsize':(width,height)})\n",
    "\n",
    "#import seaborn as sns\n",
    "import os\n",
    "from collections import OrderedDict\n",
    "\n",
    "from IPython.display import display\n",
    "\n",
    "pd.options.display.max_rows = 999\n",
    "pd.options.display.max_columns = 999\n",
    "pd.set_option(\"display.max_columns\", None)\n",
    "\n",
    "import folium\n",
    "import plotly.express as px\n",
    "import plotly.graph_objects as go\n",
    "\n",
    "import sys\n",
    "import os\n",
    "\n",
    "from sklearn.metrics import r2_score\n",
    "\n",
    "import scipy.integrate\n",
    "import seaborn as sns\n",
    "\n",
    "import pyarrow as pa\n",
    "import pyarrow.parquet as pq\n",
    "\n",
    "import dask.dataframe\n",
    "import statsmodels.api as sm\n",
    "\n",
    "from d2e2f.visualization import visualize\n",
    "import scipy.integrate\n",
    "from sklearn.linear_model import LinearRegression, Ridge, Lasso\n",
    "from d2e2f.visualization.visualize import plot_map, plot_trips"
   ]
  },
  {
   "cell_type": "code",
   "execution_count": null,
   "id": "67ded4aa-3989-47ba-b0b7-b23fd2eb8fa2",
   "metadata": {},
   "outputs": [],
   "source": [
    "%reload_kedro\n",
    "ship = 'SSRS15-01_322012079' # west coast\n",
    "#ship = 'SSRS15-04_322012068' #(bad)\n",
    "#ship = 'SSRS15-03_322012059' # east coast\n",
    "\n",
    "data_selected = catalog.load(\"ssrs.data_selected\")[ship]()\n",
    "\n",
    "datas_moving = catalog.load(\"ssrs.data_moving\")\n",
    "data_moving = datas_moving[ship]()\n",
    "\n",
    "datas_running = catalog.load(\"ssrs.data_running\")\n",
    "data_running = datas_running[ship]()"
   ]
  },
  {
   "cell_type": "code",
   "execution_count": null,
   "id": "38e30c54-81db-4a4e-9755-423132e4b0af",
   "metadata": {},
   "outputs": [],
   "source": [
    "signal = catalog.load(\"ssrs.telematikenheter\")[f\"{ship}/latitude\"]()\n",
    "signal.index = pd.to_datetime(signal.index)\n",
    "signal.sort_index(inplace=True)"
   ]
  },
  {
   "cell_type": "code",
   "execution_count": null,
   "id": "976c4a54-861c-4c79-afb0-be036d40b29d",
   "metadata": {},
   "outputs": [],
   "source": [
    "signal['time'] = (signal.index - signal.index[0]).total_seconds()\n",
    "signal['time'].diff().hist(bins=100)"
   ]
  },
  {
   "cell_type": "code",
   "execution_count": null,
   "id": "6bb8f112-ec96-45a1-a177-cb4dc57b1182",
   "metadata": {},
   "outputs": [],
   "source": [
    "raw_data = catalog.load(\"ssrs.data\")[ship]()"
   ]
  },
  {
   "cell_type": "code",
   "execution_count": null,
   "id": "08ca7af0-d008-4dad-a138-23f5d276155f",
   "metadata": {},
   "outputs": [],
   "source": [
    "raw_data.head()"
   ]
  },
  {
   "cell_type": "code",
   "execution_count": null,
   "id": "ae293553-a388-4b14-9f9e-1b188b05a9a7",
   "metadata": {},
   "outputs": [],
   "source": [
    "raw_data.isnull().any()"
   ]
  },
  {
   "cell_type": "code",
   "execution_count": null,
   "id": "6a095a59-03e0-4f13-a5a8-5a19f6f2429e",
   "metadata": {},
   "outputs": [],
   "source": [
    "raw_data['time'] = (raw_data.index - raw_data.index[0]).total_seconds()\n",
    "assert not (raw_data['time'].diff() < 0 ).any()\n",
    "\n",
    "mask = raw_data['time'].diff() > 1\n",
    "jumps = raw_data.loc[mask]\n",
    "i = raw_data.index.get_loc(jumps.index[0])"
   ]
  },
  {
   "cell_type": "code",
   "execution_count": null,
   "id": "a7924a7f-bdd7-415b-92fb-9dfa697c6001",
   "metadata": {},
   "outputs": [],
   "source": [
    "raw_data.index[i-1]"
   ]
  },
  {
   "cell_type": "code",
   "execution_count": null,
   "id": "16c6d13e-e104-4a75-bb36-87d9ab713508",
   "metadata": {},
   "outputs": [],
   "source": [
    "raw_data.index[i]"
   ]
  },
  {
   "cell_type": "code",
   "execution_count": null,
   "id": "58d5ca70-abe7-4ae4-bdb8-736d1518715b",
   "metadata": {},
   "outputs": [],
   "source": [
    "(raw_data.index[i] - raw_data.index[i-1]).total_seconds()"
   ]
  },
  {
   "cell_type": "code",
   "execution_count": null,
   "id": "b82af3a5-65d1-4faa-b9db-5f2078227f99",
   "metadata": {},
   "outputs": [],
   "source": [
    "df_ = pd.concat((raw_data.iloc[0:3],raw_data.iloc[100:103], raw_data.iloc[300:303]))\n",
    "#mask = df_['time'].diff() > 1\n",
    "#df_['time'] = \n",
    "#mask = (df_.index - df_.index[0]).total_seconds() > 1\n",
    "mask = np.concatenate(([True],(df_.index[1:] - df_.index[0:-1]) > \"1S\"))\n",
    "n_groups = mask.sum()\n",
    "df_.loc[mask,'group'] = np.arange(0,n_groups) \n",
    "df_['group'] = df_['group'].ffill()\n",
    "#df_['group'].fillna(0, inplace=True)\n",
    "groups = []\n",
    "for group, df_group in df_.groupby(by=['group'], sort=False):\n",
    "    groups.append(df_group.resample('0.5S').interpolate())\n",
    "    \n",
    "df_resample = pd.concat(groups)"
   ]
  },
  {
   "cell_type": "code",
   "execution_count": null,
   "id": "f3df6802-e9f3-4af7-b9fe-b3af9e228b0f",
   "metadata": {},
   "outputs": [],
   "source": [
    "df_resample[['time','group']]"
   ]
  },
  {
   "cell_type": "code",
   "execution_count": null,
   "id": "e5209ae3-5341-493a-b7ab-205c9dcd6be3",
   "metadata": {},
   "outputs": [],
   "source": [
    "%reload_kedro\n",
    "statistics = catalog.load(\"ssrs.statistics\")[ship]()\n",
    "statistics_moving = catalog.load(\"ssrs.statistics_moving\")[ship]()\n",
    "statistics_running = catalog.load(\"ssrs.statistics_running\")[ship]()\n",
    "model = catalog.load(\"ssrs.model_running\")[ship]()\n",
    "models = catalog.load(\"ssrs.model_running\")\n"
   ]
  },
  {
   "cell_type": "code",
   "execution_count": null,
   "id": "ba280824-65dc-41f4-b913-f9ceb08a04cf",
   "metadata": {},
   "outputs": [],
   "source": [
    "plot_map(df=data_moving, zoom_start=9, color_key='sog', colormap=['black','red'])"
   ]
  },
  {
   "cell_type": "code",
   "execution_count": null,
   "id": "ce0251bc-ab9b-4088-9c59-8ba589b117fa",
   "metadata": {},
   "outputs": [],
   "source": [
    "data_running['sog'].mean()"
   ]
  },
  {
   "cell_type": "code",
   "execution_count": null,
   "id": "88103073-aa35-42eb-8d7e-9a2e5577ee66",
   "metadata": {},
   "outputs": [],
   "source": [
    "sns.pairplot(data_moving.drop(columns=['latitude','longitude','cog']).resample('100S').mean(), \n",
    "             kind='scatter', plot_kws={'alpha':0.1}, y_vars=['fuel_rate'])\n"
   ]
  },
  {
   "cell_type": "code",
   "execution_count": null,
   "id": "993c9340-6221-4ef0-aa74-80e26f4344f6",
   "metadata": {},
   "outputs": [],
   "source": [
    "sns.pairplot(data_running.drop(columns=['latitude','longitude','cog']).resample('100S').mean(), \n",
    "             kind='scatter', plot_kws={'alpha':0.1}, y_vars=['fuel_rate'])"
   ]
  },
  {
   "cell_type": "code",
   "execution_count": null,
   "id": "a55608af-b03d-491d-a725-b5558dd4f1f8",
   "metadata": {},
   "outputs": [],
   "source": [
    "statistics"
   ]
  },
  {
   "cell_type": "code",
   "execution_count": null,
   "id": "ef0ce902-5b55-4731-8211-e0a7c648848f",
   "metadata": {},
   "outputs": [],
   "source": [
    "statistics_moving"
   ]
  },
  {
   "cell_type": "code",
   "execution_count": null,
   "id": "ba279f1d-4b41-4d7a-a572-166d26550625",
   "metadata": {},
   "outputs": [],
   "source": [
    "statistics_running"
   ]
  },
  {
   "cell_type": "code",
   "execution_count": null,
   "id": "1aa5c477-5ad2-4a9c-84d0-81eae6781adb",
   "metadata": {},
   "outputs": [],
   "source": [
    "data = data_running.copy()\n",
    "data['sog_kt'] = data['sog']*3.6/1.852\n",
    "X_pred = pd.DataFrame()\n",
    "X_pred['sog'] = np.linspace(data['sog'].min(), data['sog'].max(), 100)\n",
    "\n",
    "prediction = X_pred.copy()\n",
    "prediction['fuel_rate'] = model.predict(X_pred)\n",
    "prediction['fuel_per_m'] = prediction['fuel_rate']/X_pred['sog']*1000/3600*1852"
   ]
  },
  {
   "cell_type": "code",
   "execution_count": null,
   "id": "afce0eb5-e2b3-482b-a16c-598df635caf7",
   "metadata": {},
   "outputs": [],
   "source": [
    "fig,axes=plt.subplots(nrows=2)\n",
    "ax =axes[0]\n",
    "data['fuel_per_m'] = data['fuel_rate']/data['sog']*1000/3600*1852\n",
    "data.resample('10S').mean().plot(x='sog', y='fuel_per_m', style='.', alpha=0.1, ax=ax, label='__no_label__')\n",
    "\n",
    "ax.set_ylim(data['fuel_per_m'].quantile(0.01), \n",
    "            data['fuel_per_m'].quantile(0.90))\n",
    "ax.plot([],'b.', label='data')\n",
    "\n",
    "prediction.plot(x='sog', y='fuel_per_m', ax=ax, label='regression')\n",
    "ax.set_xticks(np.arange(0,int(np.ceil(data['sog'].max())),1));\n",
    "ax.grid(True)\n",
    "ax.legend()\n",
    "ax.set_ylabel('Consumption per nautical mile [L/NM]')\n",
    "ax.set_xlabel('Speed over ground [m/s]')\n",
    "\n",
    "\n",
    "ax = axes[1]\n",
    "data['sog_kt'].hist(bins=50, density=True, ax=ax)\n",
    "ax.set_xticks(np.arange(0,int(np.ceil(data['sog_kt'].max())),2));\n",
    "ax.set_xlabel('sog [m/s]');\n",
    "ax.set_ylabel('Probability density')\n",
    "ax.set_xlabel('Speed over ground [kts]')"
   ]
  },
  {
   "cell_type": "code",
   "execution_count": null,
   "id": "aab942da-301c-4d2e-92a7-07cdce842e9e",
   "metadata": {},
   "outputs": [],
   "source": [
    "fig,ax=plt.subplots()\n",
    "data['fuel_per_m'] = data['fuel_rate']/data['sog']*1000/3600*1852\n",
    "data.resample('10S').mean().plot(x='sog_kt', y='fuel_per_m', style='.', alpha=0.10, ax=ax, label='__no_label__')\n",
    "\n",
    "ax.set_ylim(data['fuel_per_m'].quantile(0.01), \n",
    "            data['fuel_per_m'].quantile(0.90))\n",
    "ax.plot([],'b.', label='data')\n",
    "\n",
    "for key, loader in models.items():\n",
    "\n",
    "    model_ = loader()\n",
    "    prediction_ = X_pred.copy()\n",
    "    prediction_['fuel_rate'] = model_.predict(X_pred)\n",
    "    prediction_['fuel_per_m'] = prediction_['fuel_rate']/X_pred['sog']*1000/3600*1852\n",
    "    prediction_['sog_kt'] = prediction_['sog']*3.6/1.852\n",
    "    prediction_.plot(x='sog_kt', y='fuel_per_m', ax=ax, label=key)\n",
    "\n",
    "\n",
    "\n",
    "ax.set_xticks(np.arange(0,int(np.ceil(data['sog_kt'].max())),2));\n",
    "ax.grid(True)\n",
    "ax.legend()\n",
    "ax.set_ylabel('Consumption per nautical mile [L/NM]')\n",
    "ax.set_xlabel('Speed over ground [kts]')"
   ]
  },
  {
   "cell_type": "code",
   "execution_count": null,
   "id": "58896daa-099a-455f-85de-3f51b3f3d7ec",
   "metadata": {},
   "outputs": [],
   "source": [
    "data_selected['sog_kt'] = data_selected['sog']*3.6/1.852\n",
    "data_selected['fuel_per_m'] = data_selected['fuel_rate']/data_selected['sog']*1000/3600*1852\n",
    "data_selected['sog_kt_round'] = 2*(1/2*data_selected['sog_kt']).round(decimals=0)\n",
    "df_speed_table = data_selected.groupby(by='sog_kt_round').mean()\n",
    "df_speed_table_std = data_selected.groupby(by='sog_kt_round').std()\n"
   ]
  },
  {
   "cell_type": "code",
   "execution_count": null,
   "id": "f1549440-c5a6-4a9c-84b6-2b75be8ff898",
   "metadata": {},
   "outputs": [],
   "source": [
    "df_speed_table.plot(x='sog_kt', y='fuel_per_m')"
   ]
  },
  {
   "cell_type": "code",
   "execution_count": null,
   "id": "b797ef81-6007-4afd-852d-0d55f24e2f05",
   "metadata": {},
   "outputs": [],
   "source": [
    "fig,ax=plt.subplots()\n",
    "df_speed_table.plot(x='sog_kt', y='fuel_per_m', style='k-', ax=ax)\n",
    "y1 = (df_speed_table - df_speed_table_std)['fuel_per_m']\n",
    "y2 = (df_speed_table + df_speed_table_std)['fuel_per_m']\n",
    "\n",
    "\n",
    "ax.fill_between(df_speed_table['sog_kt'], y1, y2, zorder=-10, color='lightgray', label='+/-std')\n",
    "ax.set_ylim(0,15.0)\n",
    "ax.legend()\n",
    "ax.grid(True)"
   ]
  },
  {
   "cell_type": "code",
   "execution_count": null,
   "id": "6c0df2c1-e22b-46e6-815b-271e6d8cd097",
   "metadata": {},
   "outputs": [],
   "source": [
    "speed_table = df_speed_table[['sog_kt','rpm','fuel_rate','fuel_per_m']].copy()\n",
    "speed_table['sog_kt'] = speed_table['sog_kt'].round(decimals=1)\n",
    "speed_table['rpm'] = speed_table['rpm'].round(decimals=0)\n",
    "speed_table['fuel_rate'] = (1000*speed_table['fuel_rate']).round(decimals=0)\n",
    "speed_table['fuel_per_m'] = (speed_table['fuel_per_m']).round(decimals=0)\n",
    "speed_table"
   ]
  }
 ],
 "metadata": {
  "kernelspec": {
   "display_name": "d2e2f",
   "language": "python",
   "name": "python3"
  },
  "language_info": {
   "codemirror_mode": {
    "name": "ipython",
    "version": 3
   },
   "file_extension": ".py",
   "mimetype": "text/x-python",
   "name": "python",
   "nbconvert_exporter": "python",
   "pygments_lexer": "ipython3",
   "version": "3.7.9"
  }
 },
 "nbformat": 4,
 "nbformat_minor": 5
}
