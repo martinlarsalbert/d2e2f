{
 "cells": [
  {
   "cell_type": "markdown",
   "id": "b972aee4-0f7d-49b8-bb13-9d8cbd7238e5",
   "metadata": {},
   "source": [
    "# SSRS"
   ]
  },
  {
   "cell_type": "code",
   "execution_count": null,
   "id": "9f84e2da-5c96-42c9-98ea-2acb990d665b",
   "metadata": {},
   "outputs": [],
   "source": [
    "# %load imports.py\n",
    "%matplotlib inline\n",
    "%load_ext autoreload\n",
    "%autoreload 2\n",
    "\n",
    "import numpy as np\n",
    "import pandas as pd\n",
    "import matplotlib.pyplot as plt\n",
    "import matplotlib.pyplot as plt\n",
    "import seaborn as sns\n",
    "width=20\n",
    "height=3\n",
    "#plt.rcParams[\"figure.figsize\"] = (width,height)\n",
    "#sns.set(rc={'figure.figsize':(width,height)})\n",
    "\n",
    "#import seaborn as sns\n",
    "import os\n",
    "from collections import OrderedDict\n",
    "\n",
    "from IPython.display import display\n",
    "\n",
    "pd.options.display.max_rows = 999\n",
    "pd.options.display.max_columns = 999\n",
    "pd.set_option(\"display.max_columns\", None)\n",
    "\n",
    "import folium\n",
    "import plotly.express as px\n",
    "import plotly.graph_objects as go\n",
    "\n",
    "import sys\n",
    "import os\n",
    "\n",
    "from sklearn.metrics import r2_score\n",
    "\n",
    "import scipy.integrate\n",
    "import seaborn as sns\n",
    "\n",
    "import pyarrow as pa\n",
    "import pyarrow.parquet as pq\n",
    "\n",
    "import dask.dataframe\n",
    "import statsmodels.api as sm\n",
    "\n",
    "from d2e2f.visualization import visualize\n",
    "import scipy.integrate\n",
    "from sklearn.linear_model import LinearRegression, Ridge, Lasso\n",
    "from d2e2f.visualization.visualize import plot_map, plot_trips"
   ]
  },
  {
   "cell_type": "code",
   "execution_count": null,
   "id": "67ded4aa-3989-47ba-b0b7-b23fd2eb8fa2",
   "metadata": {},
   "outputs": [],
   "source": [
    "%reload_kedro\n",
    "#ship = 'SSRS15-01_322012079' # west coast\n",
    "#ship = 'SSRS15-04_322012068' #(bad)\n",
    "ship = 'SSRS15-03_322012059' # east coast\n",
    "\n",
    "data_selected = catalog.load(\"ssrs.data_selected\")[ship]()\n",
    "\n",
    "datas_moving = catalog.load(\"ssrs.data_moving\")\n",
    "data_moving = datas_moving[ship]()\n",
    "\n",
    "datas_running = catalog.load(\"ssrs.data_running\")\n",
    "data_running = datas_running[ship]()"
   ]
  },
  {
   "cell_type": "code",
   "execution_count": null,
   "id": "e5209ae3-5341-493a-b7ab-205c9dcd6be3",
   "metadata": {},
   "outputs": [],
   "source": [
    "statistics = catalog.load(\"ssrs.statistics\")[ship]()\n",
    "statistics_moving = catalog.load(\"ssrs.statistics_moving\")[ship]()\n",
    "statistics_running = catalog.load(\"ssrs.statistics_running\")[ship]()"
   ]
  },
  {
   "cell_type": "code",
   "execution_count": null,
   "id": "ba280824-65dc-41f4-b913-f9ceb08a04cf",
   "metadata": {},
   "outputs": [],
   "source": [
    "plot_map(df=data_moving, zoom_start=9, color_key='sog', colormap=['black','red'])"
   ]
  },
  {
   "cell_type": "code",
   "execution_count": null,
   "id": "ce0251bc-ab9b-4088-9c59-8ba589b117fa",
   "metadata": {},
   "outputs": [],
   "source": [
    "data_running['sog'].mean()"
   ]
  },
  {
   "cell_type": "code",
   "execution_count": null,
   "id": "88103073-aa35-42eb-8d7e-9a2e5577ee66",
   "metadata": {},
   "outputs": [],
   "source": [
    "sns.pairplot(data_moving.drop(columns=['latitude','longitude','cog']).resample('100S').mean(), \n",
    "             kind='scatter', plot_kws={'alpha':0.1})\n"
   ]
  },
  {
   "cell_type": "code",
   "execution_count": null,
   "id": "993c9340-6221-4ef0-aa74-80e26f4344f6",
   "metadata": {},
   "outputs": [],
   "source": [
    "sns.pairplot(data_running.drop(columns=['latitude','longitude','cog']).resample('100S').mean(), \n",
    "             kind='scatter', plot_kws={'alpha':0.1})"
   ]
  },
  {
   "cell_type": "code",
   "execution_count": null,
   "id": "a55608af-b03d-491d-a725-b5558dd4f1f8",
   "metadata": {},
   "outputs": [],
   "source": [
    "statistics"
   ]
  },
  {
   "cell_type": "code",
   "execution_count": null,
   "id": "ef0ce902-5b55-4731-8211-e0a7c648848f",
   "metadata": {},
   "outputs": [],
   "source": [
    "statistics_moving"
   ]
  },
  {
   "cell_type": "code",
   "execution_count": null,
   "id": "ba279f1d-4b41-4d7a-a572-166d26550625",
   "metadata": {},
   "outputs": [],
   "source": [
    "statistics_running"
   ]
  },
  {
   "cell_type": "code",
   "execution_count": null,
   "id": "87352102-6cc9-4c75-9d62-0b3e06b606c0",
   "metadata": {},
   "outputs": [],
   "source": [
    "from sklearn.svm import SVR\n",
    "model = LinearRegression()\n",
    "\n",
    "def features(data):\n",
    "    X = pd.DataFrame(index=data.index)\n",
    "    X['sog'] = data['sog']\n",
    "    X['sog**2'] = data['sog']**2\n",
    "    X['sog**3'] = data['sog']**3\n",
    "    X['sog**4'] = data['sog']**4\n",
    "    X['sog**5'] = data['sog']**5\n",
    "    X['sog**6'] = data['sog']**6\n",
    "    \n",
    "    return X\n",
    "\n",
    "data = data_running\n",
    "\n",
    "\n",
    "X = features(data)\n",
    "#y = data['fuel_per_m']\n",
    "y = data['fuel_rate']\n",
    "model.fit(X,y)"
   ]
  },
  {
   "cell_type": "code",
   "execution_count": null,
   "id": "1aa5c477-5ad2-4a9c-84d0-81eae6781adb",
   "metadata": {},
   "outputs": [],
   "source": [
    "X_pred = pd.DataFrame()\n",
    "X_pred['sog'] = np.linspace(data['sog'].min(), data['sog'].max(), 100)\n",
    "X_pred = features(X_pred)\n",
    "\n",
    "prediction = X_pred.copy()\n",
    "prediction['fuel_rate'] = model.predict(X_pred)\n",
    "prediction['fuel_per_m'] = prediction['fuel_rate']/X_pred['sog']"
   ]
  },
  {
   "cell_type": "code",
   "execution_count": null,
   "id": "e79313f3-723f-4393-94f4-f1bfcb7ead9f",
   "metadata": {},
   "outputs": [],
   "source": [
    "fig,ax=plt.subplots()\n",
    "data_running['fuel_per_m'] = data_running['fuel_rate']/data_running['sog']\n",
    "data_running.resample('10S').mean().plot(x='sog', y='fuel_per_m', style='.', alpha=0.05, ax=ax, label='__no_label__')\n",
    "\n",
    "ax.set_ylim(data_running['fuel_per_m'].quantile(0.01), \n",
    "            data_running['fuel_per_m'].quantile(0.90))\n",
    "ax.plot([],'b.', label='fuel rate per m')\n",
    "\n",
    "prediction.plot(x='sog', y='fuel_per_m', ax=ax, label='regression')\n",
    "ax.set_xticks(np.arange(0,int(np.ceil(data['sog'].max())),1));\n",
    "ax.grid(True)\n",
    "ax.legend()"
   ]
  },
  {
   "cell_type": "code",
   "execution_count": null,
   "id": "93645e59-284a-41b3-a97f-b3df0efc0bb3",
   "metadata": {},
   "outputs": [],
   "source": [
    "\n",
    "#df_ = data_running.resample('10S').mean().dropna()\n",
    "df_ = data_running\n",
    "\n",
    "mask = ((df_['fuel_per_m'] > data_running['fuel_per_m'].quantile(0.01)) & \n",
    "        (df_['fuel_per_m'] < data_running['fuel_per_m'].quantile(0.90))\n",
    "       )\n",
    "df_ = df_.loc[mask].copy()\n",
    "\n",
    "x = df_['sog']\n",
    "y = df_['fuel_per_m']\n",
    "[H, xedges, yedges] = np.histogram2d(y, x, bins=50, density=True)"
   ]
  },
  {
   "cell_type": "code",
   "execution_count": null,
   "id": "bfd5b6d2-35f7-4383-9154-6dbd7b152cb3",
   "metadata": {},
   "outputs": [],
   "source": [
    "X,Y = np.meshgrid((yedges[1:] + yedges[0:-1])/2, (xedges[1:] + xedges[0:-1])/2)"
   ]
  },
  {
   "cell_type": "code",
   "execution_count": null,
   "id": "54409423-f232-479a-84f3-d83b24d1533d",
   "metadata": {},
   "outputs": [],
   "source": [
    "fig,axes=plt.subplots(nrows=2)\n",
    "ax =axes[0]\n",
    "ax.contourf(X,Y,H, levels=20, cmap='gray_r', antialiased=False, label='data')\n",
    "ax.plot([],'k.', label='fuel rate per m')\n",
    "\n",
    "prediction.plot(x='sog', y='fuel_per_m', style='k-', ax=ax, label='regression')\n",
    "ax.set_xticks(np.arange(0,int(np.ceil(data['sog'].max())),1));\n",
    "ax.set_xticklabels([]);\n",
    "ax.set_xlabel('')\n",
    "ax.grid(True)\n",
    "ax.legend()\n",
    "\n",
    "ax = axes[1]\n",
    "data_running['sog'].hist(bins=50, density=True, ax=ax)\n",
    "ax.set_xticks(np.arange(0,int(np.ceil(data['sog'].max())),1));\n",
    "ax.set_xlabel('sog [m/s]');\n",
    "ax.set_ylabel('Occurance')"
   ]
  },
  {
   "cell_type": "code",
   "execution_count": null,
   "id": "437bf6e8-3d79-4ba2-8e18-1448bab8b6d4",
   "metadata": {},
   "outputs": [],
   "source": [
    "import geopandas\n",
    "data = geopandas.GeoDataFrame(data_running, \n",
    "                 geometry=geopandas.points_from_xy(data_running.longitude, data_running.latitude, crs=\"EPSG:4326\"))\n",
    "data = data.to_crs(epsg=3006)\n",
    "data['distance'] = data.distance(data.shift())"
   ]
  },
  {
   "cell_type": "code",
   "execution_count": null,
   "id": "adcd6c65-2cee-405a-8759-79e2a7a87cf1",
   "metadata": {},
   "outputs": [],
   "source": [
    "data['distance'].sum()"
   ]
  },
  {
   "cell_type": "code",
   "execution_count": null,
   "id": "deb76f46-6433-40a4-babd-889025ab7ba7",
   "metadata": {},
   "outputs": [],
   "source": [
    "data.plot()"
   ]
  },
  {
   "cell_type": "code",
   "execution_count": null,
   "id": "aab942da-301c-4d2e-92a7-07cdce842e9e",
   "metadata": {},
   "outputs": [],
   "source": []
  }
 ],
 "metadata": {
  "kernelspec": {
   "display_name": "d2e2f",
   "language": "python",
   "name": "python3"
  },
  "language_info": {
   "codemirror_mode": {
    "name": "ipython",
    "version": 3
   },
   "file_extension": ".py",
   "mimetype": "text/x-python",
   "name": "python",
   "nbconvert_exporter": "python",
   "pygments_lexer": "ipython3",
   "version": "3.7.9"
  }
 },
 "nbformat": 4,
 "nbformat_minor": 5
}
