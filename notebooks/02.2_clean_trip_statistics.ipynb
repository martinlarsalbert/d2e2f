{
 "cells": [
  {
   "cell_type": "markdown",
   "id": "1510ac6f",
   "metadata": {
    "papermill": {
     "duration": 0.015624,
     "end_time": "2021-05-21T15:53:18.518461",
     "exception": false,
     "start_time": "2021-05-21T15:53:18.502837",
     "status": "completed"
    },
    "tags": []
   },
   "source": [
    "# Clean : trip statistics"
   ]
  },
  {
   "cell_type": "markdown",
   "id": "68ad8479",
   "metadata": {
    "papermill": {
     "duration": 0.015653,
     "end_time": "2021-05-21T15:53:18.565325",
     "exception": false,
     "start_time": "2021-05-21T15:53:18.549672",
     "status": "completed"
    },
    "tags": []
   },
   "source": [
    "# Purpose\n",
    "There are some outliers in the trip statistics that will need to be removed."
   ]
  },
  {
   "cell_type": "markdown",
   "id": "c17804fe",
   "metadata": {
    "papermill": {
     "duration": 0.015622,
     "end_time": "2021-05-21T15:53:18.643400",
     "exception": false,
     "start_time": "2021-05-21T15:53:18.627778",
     "status": "completed"
    },
    "tags": []
   },
   "source": [
    "# Setup"
   ]
  },
  {
   "cell_type": "code",
   "execution_count": null,
   "id": "c06d4e35",
   "metadata": {
    "papermill": {
     "duration": 3.700467,
     "end_time": "2021-05-21T15:53:22.375142",
     "exception": false,
     "start_time": "2021-05-21T15:53:18.674675",
     "status": "completed"
    },
    "tags": []
   },
   "outputs": [],
   "source": [
    "# %load imports.py\n",
    "# %load ../imports.py\n",
    "%matplotlib inline\n",
    "%load_ext autoreload\n",
    "%autoreload 2\n",
    "\n",
    "import numpy as np\n",
    "import pandas as pd\n",
    "import matplotlib.pyplot as plt\n",
    "import matplotlib.pyplot as plt\n",
    "import seaborn as sns\n",
    "width=20\n",
    "height=3\n",
    "plt.rcParams[\"figure.figsize\"] = (width,height)\n",
    "sns.set(rc={'figure.figsize':(width,height)})\n",
    "\n",
    "#import seaborn as sns\n",
    "import os\n",
    "from collections import OrderedDict\n",
    "\n",
    "from IPython.display import display\n",
    "\n",
    "pd.options.display.max_rows = 999\n",
    "pd.options.display.max_columns = 999\n",
    "pd.set_option(\"display.max_columns\", None)\n",
    "\n",
    "import folium\n",
    "import plotly.express as px\n",
    "import plotly.graph_objects as go\n",
    "\n",
    "import sys\n",
    "import os\n",
    "\n",
    "from sklearn.metrics import r2_score\n",
    "\n",
    "import scipy.integrate\n",
    "import seaborn as sns\n",
    "\n",
    "import pyarrow as pa\n",
    "import pyarrow.parquet as pq\n",
    "\n",
    "import dask.dataframe\n",
    "import statsmodels.api as sm\n",
    "\n",
    "from d2e2f.visualization import visualize\n",
    "import scipy.integrate\n",
    "\n",
    "from d2e2f.pipelines.trip_statistics import clean_statistics"
   ]
  },
  {
   "cell_type": "code",
   "execution_count": null,
   "id": "c4af21de",
   "metadata": {
    "papermill": {
     "duration": 0.234474,
     "end_time": "2021-05-21T15:53:22.625141",
     "exception": false,
     "start_time": "2021-05-21T15:53:22.390667",
     "status": "completed"
    },
    "tags": []
   },
   "outputs": [],
   "source": [
    "%reload_kedro\n",
    "df_stat = catalog.load('uraniborg.trip_statistics_clean')\n",
    "#df_stat = catalog.load('uraniborg.trip_statistics')\n",
    "df_stat['start_time'] = pd.to_datetime(df_stat['start_time'], utc=True)\n",
    "df_stat['end_time'] = pd.to_datetime(df_stat['end_time'], utc=True)\n",
    "df_stat.describe()"
   ]
  },
  {
   "cell_type": "code",
   "execution_count": null,
   "id": "fbc9d5f4-d0f1-479a-afb3-00aa98d106ac",
   "metadata": {},
   "outputs": [],
   "source": [
    "df_stat.head()"
   ]
  },
  {
   "cell_type": "code",
   "execution_count": null,
   "id": "9493ba73",
   "metadata": {
    "papermill": {
     "duration": 0.171935,
     "end_time": "2021-05-21T15:53:22.812733",
     "exception": false,
     "start_time": "2021-05-21T15:53:22.640798",
     "status": "completed"
    },
    "tags": []
   },
   "outputs": [],
   "source": [
    "df_stat.shape"
   ]
  },
  {
   "cell_type": "code",
   "execution_count": null,
   "id": "14f16344",
   "metadata": {
    "papermill": {
     "duration": 0.17193,
     "end_time": "2021-05-21T15:53:23.000185",
     "exception": false,
     "start_time": "2021-05-21T15:53:22.828255",
     "status": "completed"
    },
    "tags": []
   },
   "outputs": [],
   "source": [
    "df_stat.info()"
   ]
  },
  {
   "cell_type": "code",
   "execution_count": null,
   "id": "798e1abe-b0de-45be-902d-49149ba29c00",
   "metadata": {},
   "outputs": [],
   "source": [
    "sns.displot(df_stat, x='distance', aspect=3);"
   ]
  },
  {
   "cell_type": "code",
   "execution_count": null,
   "id": "8a078c7f-4eac-4b71-9449-24b3d39dd091",
   "metadata": {},
   "outputs": [],
   "source": [
    "sns.displot(df_stat, x='trip_time', aspect=3);"
   ]
  },
  {
   "cell_type": "code",
   "execution_count": null,
   "id": "3afab4e6-982a-4fbd-bc0b-75cb22f6b6d0",
   "metadata": {},
   "outputs": [],
   "source": [
    "df_stat[\"consumption\"] = df_stat[\"Consumption ME1 (L)\"] + df_stat[\"Consumption ME2 (L)\"]"
   ]
  },
  {
   "cell_type": "code",
   "execution_count": null,
   "id": "1768cfa9-9f0e-4f91-b4f9-ecedaf4cb7d3",
   "metadata": {},
   "outputs": [],
   "source": [
    "sns.displot(df_stat, x='consumption', aspect=3);"
   ]
  },
  {
   "cell_type": "code",
   "execution_count": null,
   "id": "c4aadd68-483b-4727-9153-30ddda03d522",
   "metadata": {},
   "outputs": [],
   "source": [
    "df_clean = clean_statistics.clean(df_stat=df_stat, min_distance=4000, min_time=700)"
   ]
  },
  {
   "cell_type": "code",
   "execution_count": null,
   "id": "d8445feb-c6ab-4a46-82cd-1300f7aa8670",
   "metadata": {},
   "outputs": [],
   "source": [
    "df_compare = df_stat.copy()\n",
    "df_compare['item'] = 'raw'\n",
    "\n",
    "df_clean['item'] = 'clean'\n",
    "df_compare = df_compare.append(df_clean, ignore_index=True)"
   ]
  },
  {
   "cell_type": "code",
   "execution_count": null,
   "id": "b1b15bd9-a18f-41ab-a3f8-e9be4de5fdba",
   "metadata": {},
   "outputs": [],
   "source": [
    "df_compare.describe()"
   ]
  },
  {
   "cell_type": "code",
   "execution_count": null,
   "id": "939a40d0-4e48-4aea-abb2-6eaf9e96fb25",
   "metadata": {},
   "outputs": [],
   "source": [
    "sns.displot(df_compare, x='E', hue='item', binwidth=5*10**4, aspect=3)"
   ]
  },
  {
   "cell_type": "code",
   "execution_count": null,
   "id": "f6c63543-51e8-4f91-a2d5-121b000a6d0a",
   "metadata": {},
   "outputs": [],
   "source": [
    "sns.displot(df_compare, x='trip_time', hue='item', binwidth=25, aspect=3)"
   ]
  },
  {
   "cell_type": "code",
   "execution_count": null,
   "id": "8a0b6c45-bcab-4c76-b835-efb7f620417d",
   "metadata": {},
   "outputs": [],
   "source": []
  },
  {
   "cell_type": "code",
   "execution_count": null,
   "id": "f0a18f24-93f8-4179-9baa-96c0556d2541",
   "metadata": {
    "tags": [
     "remove_cell"
    ]
   },
   "outputs": [],
   "source": [
    "facegrid = sns.relplot(data=df_stat, x='start_time',y='consumption', height=3, aspect=3);\n",
    "facegrid.set_ylabels('(Fuel consumption per trip) [l]')"
   ]
  },
  {
   "cell_type": "code",
   "execution_count": null,
   "id": "5aabe0e4-b3e5-497b-b15b-8858e095d03d",
   "metadata": {},
   "outputs": [],
   "source": [
    "df_ = df_stat.set_index('start_time')\n",
    "df_.sort_index(inplace=True)\n",
    "\n",
    "df_['dt'] = np.concatenate(([0],np.diff((df_.index-df_.index[0]).total_seconds())))\n",
    "\n",
    "mask = df_['dt'] > 60*60*24*5\n",
    "\n",
    "mask[0]=True\n",
    "df_.loc[mask,'group'] = np.arange(mask.sum())\n",
    "df_['group'] = df_['group'].fillna(method='pad')\n",
    "\n",
    "fig,ax=plt.subplots()\n",
    "\n",
    "#df_.plot(y='dt', ax=ax)\n",
    "df_.loc[mask].plot(y='dt', style='ro', ax=ax)\n",
    "\n",
    "for group, df_group in df_.groupby(by='group'):\n",
    "    \n",
    "    df_group.plot(y='dt', label=group, ax=ax)\n"
   ]
  },
  {
   "cell_type": "code",
   "execution_count": null,
   "id": "c6eff972-3914-49ad-84bd-b4aaf575bd50",
   "metadata": {},
   "outputs": [],
   "source": [
    "window = \"30D\"\n",
    "\n",
    "df_rolling = pd.DataFrame()\n",
    "\n",
    "for group, df_group in df_.groupby(by='group'):\n",
    "\n",
    "    df_rolling_ = df_group.rolling(window=window).mean().iloc[10:]\n",
    "    df_rolling_['group'] = group\n",
    "    df_rolling = df_rolling.append(df_rolling_)"
   ]
  },
  {
   "cell_type": "code",
   "execution_count": null,
   "id": "d69e45a2-1125-4cf1-b9d6-069af52cd868",
   "metadata": {},
   "outputs": [],
   "source": [
    "\n",
    "\n",
    "\n",
    "df_expanding = df_.expanding().mean().iloc[20:]\n",
    "\n",
    "facegrid = sns.relplot(data=df_rolling, x='start_time', y='consumption', height=3, aspect=3);\n",
    "facegrid.set_ylabels('(Fuel consumption per trip) [l]')"
   ]
  },
  {
   "cell_type": "code",
   "execution_count": null,
   "id": "9177fead-9cec-433f-a356-75f28eec294f",
   "metadata": {},
   "outputs": [],
   "source": [
    "tänd = '2021-04-01'\n",
    "utbildning = '2021-05-11'\n",
    "\n",
    "df_.loc[:tänd,'period'] = 'släckta skärmar'\n",
    "df_.loc[tänd:utbildning,'period'] = 'tända skärmar'\n",
    "df_.loc[utbildning:,'period'] = 'efter utbildning'"
   ]
  },
  {
   "cell_type": "code",
   "execution_count": null,
   "id": "95c496af-db5c-4fe6-877d-9e3ff5094e4d",
   "metadata": {},
   "outputs": [],
   "source": [
    "fig,ax=plt.subplots()\n",
    "fig.set_size_inches(20,7)\n",
    "\n",
    "#df_before.plot(y='consumption', label='before', ax=ax, style='b.')\n",
    "#df_after.plot(y='consumption', label='after', ax=ax, style='g.')\n",
    "\n",
    "styles = ['k.','y.','b.']\n",
    "for style, (period, df_period) in zip(styles,df_.groupby(by='period', sort=False)):\n",
    "    df_period.plot(y='consumption', label=period, ax=ax, style=style)\n",
    "\n",
    "\n",
    "\n",
    "df_rolling.plot(y='consumption', label=f'rolling mean ({window})', ax=ax, style='m-')\n",
    "df_expanding.plot(y='consumption', label=f'expanding mean', ax=ax, style='c-')\n",
    "ax.legend();"
   ]
  },
  {
   "cell_type": "code",
   "execution_count": null,
   "id": "cf7eed6e-049c-4388-855b-8a7c5439ae44",
   "metadata": {},
   "outputs": [],
   "source": [
    "fig,ax=plt.subplots()\n",
    "fig.set_size_inches(20,7)\n",
    "\n",
    "for group, df_rolling_group in df_rolling.groupby(by='group'):\n",
    "    df_rolling_group.plot(y='consumption', label=f'rolling mean', ax=ax, style='-')\n",
    "\n",
    "\n",
    "df_expanding.plot(y='consumption', label=f'expanding mean', ax=ax, style='-')\n",
    "\n",
    "ax.set_ylim(0.85*df_before['consumption'].mean(),1.1*df_before['consumption'].mean())\n",
    "ax.legend();"
   ]
  },
  {
   "cell_type": "code",
   "execution_count": null,
   "id": "d770d101-4515-4629-9737-59cf2d8744be",
   "metadata": {},
   "outputs": [],
   "source": [
    "interesting = ['sog','consumption','distance','aw']\n",
    "df_compare = df_.groupby(by='period', sort=False).mean()[interesting]\n",
    "df_compare"
   ]
  },
  {
   "cell_type": "code",
   "execution_count": null,
   "id": "1136d08b-3de0-4a72-992a-5b4a9d74a0b9",
   "metadata": {},
   "outputs": [],
   "source": [
    "M = np.tile(df_compare['consumption'],(len(df_compare),1))\n",
    "changes = np.triu(M - M.T)\n",
    "df_changes = pd.DataFrame(changes, index=df_compare.index, columns=df_compare.index)\n",
    "\n",
    "columns = df_changes.columns[~(df_changes==0).all(axis=0)]\n",
    "rows = df_changes.index[~(df_changes==0).all(axis=1)]\n",
    "df_changes = df_changes.loc[rows,columns].copy()"
   ]
  },
  {
   "cell_type": "code",
   "execution_count": null,
   "id": "7e40ea76-0106-469a-a6c0-86d8e8d478ce",
   "metadata": {},
   "outputs": [],
   "source": [
    "(df_changes/df_compare.loc['släckta skärmar']['consumption'])*100"
   ]
  }
 ],
 "metadata": {
  "kernelspec": {
   "display_name": "d2e2f",
   "language": "python",
   "name": "python3"
  },
  "language_info": {
   "codemirror_mode": {
    "name": "ipython",
    "version": 3
   },
   "file_extension": ".py",
   "mimetype": "text/x-python",
   "name": "python",
   "nbconvert_exporter": "python",
   "pygments_lexer": "ipython3",
   "version": "3.7.9"
  },
  "papermill": {
   "default_parameters": {},
   "duration": 468.144174,
   "end_time": "2021-05-21T16:01:05.321603",
   "environment_variables": {},
   "exception": null,
   "input_path": "steps\\03.1_explore_trip_statistics.ipynb",
   "output_path": "experiments\\2020-01-01-till-2021-02-28-tycho-brahe\\03.1_explore_trip_statistics.ipynb",
   "parameters": {
    "n_rows": null,
    "name": "2020-01-01-till-2021-02-28-tycho-brahe"
   },
   "start_time": "2021-05-21T15:53:17.177429",
   "version": "2.3.3"
  }
 },
 "nbformat": 4,
 "nbformat_minor": 5
}
