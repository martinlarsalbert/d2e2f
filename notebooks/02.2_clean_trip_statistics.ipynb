{
 "cells": [
  {
   "cell_type": "markdown",
   "id": "1510ac6f",
   "metadata": {
    "papermill": {
     "duration": 0.015624,
     "end_time": "2021-05-21T15:53:18.518461",
     "exception": false,
     "start_time": "2021-05-21T15:53:18.502837",
     "status": "completed"
    },
    "tags": []
   },
   "source": [
    "# Clean : trip statistics"
   ]
  },
  {
   "cell_type": "markdown",
   "id": "68ad8479",
   "metadata": {
    "papermill": {
     "duration": 0.015653,
     "end_time": "2021-05-21T15:53:18.565325",
     "exception": false,
     "start_time": "2021-05-21T15:53:18.549672",
     "status": "completed"
    },
    "tags": []
   },
   "source": [
    "# Purpose\n",
    "There are some outliers in the trip statistics that will need to be removed."
   ]
  },
  {
   "cell_type": "markdown",
   "id": "c17804fe",
   "metadata": {
    "papermill": {
     "duration": 0.015622,
     "end_time": "2021-05-21T15:53:18.643400",
     "exception": false,
     "start_time": "2021-05-21T15:53:18.627778",
     "status": "completed"
    },
    "tags": []
   },
   "source": [
    "# Setup"
   ]
  },
  {
   "cell_type": "code",
   "execution_count": null,
   "id": "c06d4e35",
   "metadata": {
    "papermill": {
     "duration": 3.700467,
     "end_time": "2021-05-21T15:53:22.375142",
     "exception": false,
     "start_time": "2021-05-21T15:53:18.674675",
     "status": "completed"
    },
    "tags": []
   },
   "outputs": [],
   "source": [
    "# %load imports.py\n",
    "# %load ../imports.py\n",
    "%matplotlib inline\n",
    "%load_ext autoreload\n",
    "%autoreload 2\n",
    "\n",
    "import numpy as np\n",
    "import pandas as pd\n",
    "import matplotlib.pyplot as plt\n",
    "import matplotlib.pyplot as plt\n",
    "import seaborn as sns\n",
    "width=20\n",
    "height=3\n",
    "plt.rcParams[\"figure.figsize\"] = (width,height)\n",
    "sns.set(rc={'figure.figsize':(width,height)})\n",
    "\n",
    "#import seaborn as sns\n",
    "import os\n",
    "from collections import OrderedDict\n",
    "\n",
    "from IPython.display import display\n",
    "\n",
    "pd.options.display.max_rows = 999\n",
    "pd.options.display.max_columns = 999\n",
    "pd.set_option(\"display.max_columns\", None)\n",
    "\n",
    "import folium\n",
    "import plotly.express as px\n",
    "import plotly.graph_objects as go\n",
    "\n",
    "import sys\n",
    "import os\n",
    "\n",
    "from sklearn.metrics import r2_score\n",
    "\n",
    "import scipy.integrate\n",
    "import seaborn as sns\n",
    "\n",
    "import pyarrow as pa\n",
    "import pyarrow.parquet as pq\n",
    "\n",
    "import dask.dataframe\n",
    "import statsmodels.api as sm\n",
    "\n",
    "from d2e2f.visualization import visualize\n",
    "import scipy.integrate\n",
    "\n",
    "from d2e2f.pipelines.trip_statistics import clean_statistics"
   ]
  },
  {
   "cell_type": "code",
   "execution_count": null,
   "id": "c4af21de",
   "metadata": {
    "papermill": {
     "duration": 0.234474,
     "end_time": "2021-05-21T15:53:22.625141",
     "exception": false,
     "start_time": "2021-05-21T15:53:22.390667",
     "status": "completed"
    },
    "tags": []
   },
   "outputs": [],
   "source": [
    "df_stat = catalog.load('trip_statistics')\n",
    "df_stat.describe()"
   ]
  },
  {
   "cell_type": "code",
   "execution_count": null,
   "id": "9493ba73",
   "metadata": {
    "papermill": {
     "duration": 0.171935,
     "end_time": "2021-05-21T15:53:22.812733",
     "exception": false,
     "start_time": "2021-05-21T15:53:22.640798",
     "status": "completed"
    },
    "tags": []
   },
   "outputs": [],
   "source": [
    "df_stat.shape"
   ]
  },
  {
   "cell_type": "code",
   "execution_count": null,
   "id": "14f16344",
   "metadata": {
    "papermill": {
     "duration": 0.17193,
     "end_time": "2021-05-21T15:53:23.000185",
     "exception": false,
     "start_time": "2021-05-21T15:53:22.828255",
     "status": "completed"
    },
    "tags": []
   },
   "outputs": [],
   "source": [
    "df_stat.info()"
   ]
  },
  {
   "cell_type": "code",
   "execution_count": null,
   "id": "473dd188",
   "metadata": {
    "papermill": {
     "duration": 0.218799,
     "end_time": "2021-05-21T15:53:23.234510",
     "exception": false,
     "start_time": "2021-05-21T15:53:23.015711",
     "status": "completed"
    },
    "tags": []
   },
   "outputs": [],
   "source": [
    "df_stat.describe()"
   ]
  },
  {
   "cell_type": "markdown",
   "id": "46d9b7d6-1002-4ad5-80a9-aadf52de7253",
   "metadata": {},
   "source": [
    "# Clean"
   ]
  },
  {
   "cell_type": "code",
   "execution_count": null,
   "id": "c4aadd68-483b-4727-9153-30ddda03d522",
   "metadata": {},
   "outputs": [],
   "source": [
    "df_clean = clean_statistics.clean(df_stat=df_stat, min_distance=4000, min_time=700)"
   ]
  },
  {
   "cell_type": "code",
   "execution_count": null,
   "id": "d8445feb-c6ab-4a46-82cd-1300f7aa8670",
   "metadata": {},
   "outputs": [],
   "source": [
    "df_compare = df_stat.copy()\n",
    "df_compare['item'] = 'raw'\n",
    "\n",
    "df_clean['item'] = 'clean'\n",
    "df_compare = df_compare.append(df_clean, ignore_index=True)"
   ]
  },
  {
   "cell_type": "code",
   "execution_count": null,
   "id": "b1b15bd9-a18f-41ab-a3f8-e9be4de5fdba",
   "metadata": {},
   "outputs": [],
   "source": [
    "df_compare.describe()"
   ]
  },
  {
   "cell_type": "code",
   "execution_count": null,
   "id": "939a40d0-4e48-4aea-abb2-6eaf9e96fb25",
   "metadata": {},
   "outputs": [],
   "source": [
    "sns.displot(df_compare, x='P', hue='item', binwidth=25, aspect=3)"
   ]
  },
  {
   "cell_type": "code",
   "execution_count": null,
   "id": "f6c63543-51e8-4f91-a2d5-121b000a6d0a",
   "metadata": {},
   "outputs": [],
   "source": [
    "sns.displot(df_compare, x='trip_time', hue='item', binwidth=25, aspect=3)"
   ]
  },
  {
   "cell_type": "code",
   "execution_count": null,
   "id": "ecb87277-e981-4cac-bfc0-c0ce4cd4684e",
   "metadata": {},
   "outputs": [],
   "source": []
  },
  {
   "cell_type": "code",
   "execution_count": null,
   "id": "7b96e3e1-f445-4d61-bf10-d88a0522fabd",
   "metadata": {},
   "outputs": [],
   "source": []
  },
  {
   "cell_type": "code",
   "execution_count": null,
   "id": "2f6a05f3-d434-4761-8450-5c6000f40bfb",
   "metadata": {},
   "outputs": [],
   "source": []
  },
  {
   "cell_type": "code",
   "execution_count": null,
   "id": "24f11a60-5ff9-4a6a-a01b-197481ebe4f2",
   "metadata": {},
   "outputs": [],
   "source": []
  },
  {
   "cell_type": "code",
   "execution_count": null,
   "id": "167b556e-62a5-4c80-8743-d19caa89774a",
   "metadata": {},
   "outputs": [],
   "source": []
  }
 ],
 "metadata": {
  "kernelspec": {
   "display_name": "d2e2f",
   "language": "python",
   "name": "python3"
  },
  "language_info": {
   "codemirror_mode": {
    "name": "ipython",
    "version": 3
   },
   "file_extension": ".py",
   "mimetype": "text/x-python",
   "name": "python",
   "nbconvert_exporter": "python",
   "pygments_lexer": "ipython3",
   "version": "3.7.9"
  },
  "papermill": {
   "default_parameters": {},
   "duration": 468.144174,
   "end_time": "2021-05-21T16:01:05.321603",
   "environment_variables": {},
   "exception": null,
   "input_path": "steps\\03.1_explore_trip_statistics.ipynb",
   "output_path": "experiments\\2020-01-01-till-2021-02-28-tycho-brahe\\03.1_explore_trip_statistics.ipynb",
   "parameters": {
    "n_rows": null,
    "name": "2020-01-01-till-2021-02-28-tycho-brahe"
   },
   "start_time": "2021-05-21T15:53:17.177429",
   "version": "2.3.3"
  }
 },
 "nbformat": 4,
 "nbformat_minor": 5
}
