{
 "cells": [
  {
   "cell_type": "markdown",
   "id": "56d1aeeb-976f-4d11-959e-493b8b782ac6",
   "metadata": {},
   "source": [
    "# Exploring one trip"
   ]
  },
  {
   "cell_type": "code",
   "execution_count": null,
   "id": "2a40c024-c369-431c-94ca-66a83ae6484f",
   "metadata": {
    "papermill": {
     "duration": 3.700467,
     "end_time": "2021-05-21T15:53:22.375142",
     "exception": false,
     "start_time": "2021-05-21T15:53:18.674675",
     "status": "completed"
    },
    "tags": []
   },
   "outputs": [],
   "source": [
    "# %load imports.py\n",
    "# %load ../imports.py\n",
    "%matplotlib inline\n",
    "%load_ext autoreload\n",
    "%autoreload 2\n",
    "\n",
    "import numpy as np\n",
    "import pandas as pd\n",
    "import matplotlib.pyplot as pltb\n",
    "import matplotlib.pyplot as plt\n",
    "import seaborn as sns\n",
    "width=20\n",
    "height=3\n",
    "plt.rcParams[\"figure.figsize\"] = (width,height)\n",
    "sns.set(rc={'figure.figsize':(width,height)})\n",
    "\n",
    "#import seaborn as sns\n",
    "import os\n",
    "from collections import OrderedDict\n",
    "\n",
    "from IPython.display import display\n",
    "\n",
    "pd.options.display.max_rows = 999\n",
    "pd.options.display.max_columns = 999\n",
    "pd.set_option(\"display.max_columns\", None)\n",
    "\n",
    "import folium\n",
    "import plotly.express as px\n",
    "import plotly.graph_objects as go\n",
    "\n",
    "import sys\n",
    "import os\n",
    "\n",
    "from sklearn.metrics import r2_score\n",
    "import seaborn as sns\n",
    "\n",
    "import statsmodels.api as sm\n",
    "\n",
    "from d2e2f.visualization import visualize\n",
    "import re\n",
    "import plotly.graph_objects as go"
   ]
  },
  {
   "cell_type": "code",
   "execution_count": null,
   "id": "de0bde4f-1200-498a-900d-a9f79844ac88",
   "metadata": {},
   "outputs": [],
   "source": [
    "loaded = catalog.load('trip_statistics_joined_thrusters')\n",
    "df = pd.DataFrame()\n",
    "for partition_id, loader in loaded.items():\n",
    "    df_ = loader()\n",
    "    df_['partition_id'] = partition_id\n",
    "    df_['start_time'] = pd.to_datetime(df_['start_time'])\n",
    "    df_['end_time'] = pd.to_datetime(df_['end_time'])\n",
    "    \n",
    "    df = df.append(df_, ignore_index=True)\n",
    "\n",
    "df.sort_values(by='start_time', inplace=True)"
   ]
  },
  {
   "cell_type": "code",
   "execution_count": null,
   "id": "a4f9d16d-b930-4487-82a0-5c251d5dfadc",
   "metadata": {},
   "outputs": [],
   "source": [
    "df['ship'] = df['partition_id'].apply(lambda x:re.search(r'([^-]+)',x).groups(1)[0])"
   ]
  },
  {
   "cell_type": "code",
   "execution_count": null,
   "id": "c461ea6c-aa19-44fa-aa77-3cdda276150c",
   "metadata": {},
   "outputs": [],
   "source": [
    "fig = px.scatter(df, x='start_time',y='P', color='ship', width=1000, height=600, \n",
    "                color_discrete_sequence=['red','green'], hover_data=['trip_no','trip_time'])\n",
    "fig.show()"
   ]
  },
  {
   "cell_type": "code",
   "execution_count": null,
   "id": "e4af7f9d-6884-401e-a62a-b96b75506c94",
   "metadata": {},
   "outputs": [],
   "source": [
    "dataset = catalog.load('data_with_trip_columns')\n",
    "dataset.keys()"
   ]
  },
  {
   "cell_type": "code",
   "execution_count": null,
   "id": "508bcedc-1efa-4955-ae7c-ac40c43d7322",
   "metadata": {},
   "outputs": [],
   "source": [
    "loader = dataset['tycho-brahe-wind-2021-04-10--2021-06-30.parquet']\n",
    "df_time = loader()"
   ]
  },
  {
   "cell_type": "code",
   "execution_count": null,
   "id": "8938e79f-331b-40d7-9c7a-41e9e9efca20",
   "metadata": {},
   "outputs": [],
   "source": [
    "trips = df_time.groupby('trip_no')"
   ]
  },
  {
   "cell_type": "code",
   "execution_count": null,
   "id": "f2fde16f-7d61-45ee-9db2-f3aaea6d7368",
   "metadata": {},
   "outputs": [],
   "source": [
    "trip = trips.get_group(556)"
   ]
  },
  {
   "cell_type": "code",
   "execution_count": null,
   "id": "1bc23688-5cf5-4255-8b7c-95d05dd0aba1",
   "metadata": {},
   "outputs": [],
   "source": [
    "trip['trip_direction'].dtype == 'object'"
   ]
  },
  {
   "cell_type": "code",
   "execution_count": null,
   "id": "9b3ed4ed-f912-44c9-aa21-bca8101457ec",
   "metadata": {},
   "outputs": [],
   "source": [
    "visualize.plot_map(trip, time_step=None, color_key='trip_direction')"
   ]
  },
  {
   "cell_type": "code",
   "execution_count": null,
   "id": "b86e1faa-bad6-4cde-9e7a-01df37d57ad6",
   "metadata": {},
   "outputs": [],
   "source": [
    "trip.head()"
   ]
  },
  {
   "cell_type": "code",
   "execution_count": null,
   "id": "2e516ed5-b43f-4c96-a3ff-7d1df3a3def3",
   "metadata": {},
   "outputs": [],
   "source": [
    "df_ = trip.copy()\n",
    "df_['alpha'] = alpha = np.deg2rad(df_['wa'] - df_['heading'])  # True pointing angle relative to wind\n",
    "W = df_['w']\n",
    "V = df_['sog']\n",
    "df_['aw_'] = A = np.sqrt(W**2 + V**2 + 2*W*V*np.cos(alpha))\n",
    "df_['beta'] = np.arccos((W*np.cos(alpha) + V)/A)\n",
    "df_['beta_deg'] = np.rad2deg(df_['beta'])\n",
    "\n",
    "px.line(data_frame=df_.iloc[0:-1000], y=['awa','beta_deg'], width=900, height=300,)"
   ]
  },
  {
   "cell_type": "code",
   "execution_count": null,
   "id": "0b6b090c-cd32-403b-9f90-8daaa82649c0",
   "metadata": {},
   "outputs": [],
   "source": [
    "px.line(data_frame=df_.iloc[0:-1000], y=['aw','aw_'], width=900, height=300,)"
   ]
  },
  {
   "cell_type": "code",
   "execution_count": null,
   "id": "28918b60-3b67-472d-a4c2-2d135189b05f",
   "metadata": {},
   "outputs": [],
   "source": [
    "px.line(data_frame=df_, y=['wa','awa','heading'], width=900, height=300,)"
   ]
  },
  {
   "cell_type": "code",
   "execution_count": null,
   "id": "2677f38e-327f-47f4-bebc-abc10e37aae1",
   "metadata": {},
   "outputs": [],
   "source": [
    "px.line(data_frame=trip, y=['w','aw','sog'], width=900, height=300,)"
   ]
  },
  {
   "cell_type": "code",
   "execution_count": null,
   "id": "d42506f5-e22e-40fa-a427-4ed19d1f01c9",
   "metadata": {},
   "outputs": [],
   "source": [
    "px.line(data_frame=trip, y=['heading','cog'], width=900, height=300,)"
   ]
  },
  {
   "cell_type": "code",
   "execution_count": null,
   "id": "f063d04c-f5cf-4e6e-b7ec-622bc22cf68c",
   "metadata": {},
   "outputs": [],
   "source": []
  },
  {
   "cell_type": "code",
   "execution_count": null,
   "id": "04c5ebe5-a742-4b96-af37-2bc70eeac3a2",
   "metadata": {},
   "outputs": [],
   "source": []
  }
 ],
 "metadata": {
  "kernelspec": {
   "display_name": "d2e2f",
   "language": "python",
   "name": "python3"
  },
  "language_info": {
   "codemirror_mode": {
    "name": "ipython",
    "version": 3
   },
   "file_extension": ".py",
   "mimetype": "text/x-python",
   "name": "python",
   "nbconvert_exporter": "python",
   "pygments_lexer": "ipython3",
   "version": "3.7.9"
  }
 },
 "nbformat": 4,
 "nbformat_minor": 5
}
