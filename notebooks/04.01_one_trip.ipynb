{
 "cells": [
  {
   "cell_type": "markdown",
   "id": "56d1aeeb-976f-4d11-959e-493b8b782ac6",
   "metadata": {},
   "source": [
    "# Exploring one trip"
   ]
  },
  {
   "cell_type": "code",
   "execution_count": null,
   "id": "41aa3757-817c-4eaa-8cdc-fb837fe48cc2",
   "metadata": {
    "papermill": {
     "duration": 3.700467,
     "end_time": "2021-05-21T15:53:22.375142",
     "exception": false,
     "start_time": "2021-05-21T15:53:18.674675",
     "status": "completed"
    },
    "tags": [
     "remove_cell"
    ]
   },
   "outputs": [],
   "source": [
    "# %load imports.py\n",
    "# %load ../imports.py\n",
    "%matplotlib inline\n",
    "%load_ext autoreload\n",
    "%autoreload 2\n",
    "%config Completer.use_jedi = False  ## (To fix autocomplete)\n",
    "\n",
    "import numpy as np\n",
    "import pandas as pd\n",
    "import matplotlib.pyplot as plt\n",
    "\n",
    "import seaborn as sns\n",
    "plt.style.use('paper')\n",
    "from IPython.display import set_matplotlib_formats\n",
    "set_matplotlib_formats('pdf')\n",
    "\n",
    "#import seaborn as sns\n",
    "import os\n",
    "from collections import OrderedDict\n",
    "\n",
    "from IPython.display import display\n",
    "\n",
    "pd.options.display.max_rows = 999\n",
    "pd.options.display.max_columns = 999\n",
    "pd.set_option(\"display.max_columns\", None)\n",
    "\n",
    "import folium\n",
    "import plotly.express as px\n",
    "import plotly.graph_objects as go\n",
    "\n",
    "import sys\n",
    "import os\n",
    "\n",
    "from sklearn.metrics import r2_score\n",
    "\n",
    "import scipy.integrate\n",
    "import seaborn as sns\n",
    "\n",
    "import pyarrow as pa\n",
    "import pyarrow.parquet as pq\n",
    "\n",
    "import dask.dataframe\n",
    "import statsmodels.api as sm\n",
    "\n",
    "from d2e2f.visualization import visualize\n",
    "import scipy.integrate\n",
    "\n",
    "from d2e2f.pipelines.trip_statistics import clean_statistics\n",
    "from scipy.stats import norm\n",
    "from myst_nb import glue\n",
    "#plt.style.use('presentation')\n",
    "from IPython.display import display, Markdown, Latex\n",
    "import sympy as sp\n",
    "from d2e2f.visualization.visualize import plot_map, plot_trips\n",
    "from d2e2f.visualization import animate\n",
    "import statsmodels.api as sm\n",
    "import geopandas as gp\n",
    "from d2e2f.reporting import pop_index, reload_kedro\n",
    "import yaml\n",
    "catalog = reload_kedro(project_path='../')\n",
    "from d2e2f.analyze import arange_trip_matrix"
   ]
  },
  {
   "cell_type": "code",
   "execution_count": null,
   "id": "f063d04c-f5cf-4e6e-b7ec-622bc22cf68c",
   "metadata": {},
   "outputs": [],
   "source": [
    "ship='uraniborg_experiment'\n",
    "df = catalog.load(f'{ship}.data_with_trip_columns')"
   ]
  },
  {
   "cell_type": "code",
   "execution_count": null,
   "id": "04c5ebe5-a742-4b96-af37-2bc70eeac3a2",
   "metadata": {},
   "outputs": [],
   "source": [
    "trip_no = df['trip_no'].unique()[0]\n",
    "trip = df.groupby(by='trip_no').get_group(trip_no) "
   ]
  },
  {
   "cell_type": "code",
   "execution_count": null,
   "id": "b9400a66-8dd4-4f78-a987-5ab8271be163",
   "metadata": {},
   "outputs": [],
   "source": [
    "visualize.plot_map(df=trip, width=800, height=500, zoom_start=13)"
   ]
  },
  {
   "cell_type": "code",
   "execution_count": null,
   "id": "a0fbb141-fb4d-4f2e-9157-44ffc76bc721",
   "metadata": {},
   "outputs": [],
   "source": [
    "animate.widget(trip=trip)"
   ]
  }
 ],
 "metadata": {
  "kernelspec": {
   "display_name": "Python 3 (ipykernel)",
   "language": "python",
   "name": "python3"
  },
  "language_info": {
   "codemirror_mode": {
    "name": "ipython",
    "version": 3
   },
   "file_extension": ".py",
   "mimetype": "text/x-python",
   "name": "python",
   "nbconvert_exporter": "python",
   "pygments_lexer": "ipython3",
   "version": "3.7.9"
  }
 },
 "nbformat": 4,
 "nbformat_minor": 5
}
