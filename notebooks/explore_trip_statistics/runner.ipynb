{
 "cells": [
  {
   "cell_type": "code",
   "execution_count": null,
   "id": "d83aa404-b629-4e7f-b3b7-282284358167",
   "metadata": {},
   "outputs": [],
   "source": [
    "import papermill as pm\n",
    "import os\n",
    "import warnings"
   ]
  },
  {
   "cell_type": "code",
   "execution_count": null,
   "id": "63df7ec9-2c60-431c-be1b-d7a2e56a3264",
   "metadata": {},
   "outputs": [],
   "source": [
    "save_path = 'runs'"
   ]
  },
  {
   "cell_type": "code",
   "execution_count": null,
   "id": "5b2700ce-6c7b-4ea3-b5df-477269e0bbd0",
   "metadata": {},
   "outputs": [],
   "source": [
    "loaded = catalog.load('trip_statistics_clean')"
   ]
  },
  {
   "cell_type": "code",
   "execution_count": null,
   "id": "2ca6b1b0-18f5-40b3-9bfb-eec0ce9c863d",
   "metadata": {},
   "outputs": [],
   "source": [
    "if not os.path.exists(save_path):\n",
    "    os.mkdir(save_path)\n",
    "\n",
    "for partition_file_name in loaded.keys():\n",
    "    \n",
    "    partition_id = partition_file_name.replace('csv','')\n",
    "    output_path = os.path.join(save_path,f\"{partition_id}.ipynb\")\n",
    "    \n",
    "    if os.path.exists(output_path):\n",
    "        continue\n",
    "    \n",
    "    try:\n",
    "        pm.execute_notebook(\n",
    "           input_path = '03.1_explore_trip_statistics.ipynb',\n",
    "           output_path = output_path,\n",
    "           parameters={\n",
    "               'partition_id' : partition_file_name\n",
    "           }\n",
    "        )\n",
    "    except Exception as e:\n",
    "        warnings.warn(str(e))\n",
    "        continue"
   ]
  },
  {
   "cell_type": "code",
   "execution_count": null,
   "id": "99479df1-e78a-4676-a2fe-97ce6c7cfd44",
   "metadata": {},
   "outputs": [],
   "source": []
  },
  {
   "cell_type": "code",
   "execution_count": null,
   "id": "7a0c8232-54b3-4047-87d0-6a6c5605d4ce",
   "metadata": {},
   "outputs": [],
   "source": []
  },
  {
   "cell_type": "code",
   "execution_count": null,
   "id": "0ffbcd9d-f8bd-4cc9-b538-00cfe1629718",
   "metadata": {},
   "outputs": [],
   "source": []
  },
  {
   "cell_type": "code",
   "execution_count": null,
   "id": "e0c97669-6ccb-41d5-8a51-a0ad7266c0ab",
   "metadata": {},
   "outputs": [],
   "source": []
  },
  {
   "cell_type": "code",
   "execution_count": null,
   "id": "e2b8909d-b1bc-436b-acc1-a3ac4189c65d",
   "metadata": {},
   "outputs": [],
   "source": []
  }
 ],
 "metadata": {
  "kernelspec": {
   "display_name": "d2e2f",
   "language": "python",
   "name": "python3"
  },
  "language_info": {
   "codemirror_mode": {
    "name": "ipython",
    "version": 3
   },
   "file_extension": ".py",
   "mimetype": "text/x-python",
   "name": "python",
   "nbconvert_exporter": "python",
   "pygments_lexer": "ipython3",
   "version": "3.7.9"
  }
 },
 "nbformat": 4,
 "nbformat_minor": 5
}
