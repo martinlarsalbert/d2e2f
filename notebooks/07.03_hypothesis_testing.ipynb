{
 "cells": [
  {
   "cell_type": "markdown",
   "id": "e2cc4c1f-9c71-4192-9767-3c1af6dd5384",
   "metadata": {},
   "source": [
    "# Hypothesis testing"
   ]
  },
  {
   "cell_type": "code",
   "execution_count": null,
   "id": "208ca500-2e18-4ca0-8c0f-408a716f10e9",
   "metadata": {},
   "outputs": [],
   "source": [
    "# %load imports.py\n",
    "%matplotlib inline\n",
    "%load_ext autoreload\n",
    "%autoreload 2\n",
    "\n",
    "import numpy as np\n",
    "import pandas as pd\n",
    "import matplotlib.pyplot as plt\n",
    "import matplotlib.pyplot as plt\n",
    "import seaborn as sns\n",
    "width=20\n",
    "height=3\n",
    "plt.rcParams[\"figure.figsize\"] = (width,height)\n",
    "sns.set(rc={'figure.figsize':(width,height)})\n",
    "\n",
    "#import seaborn as sns\n",
    "import os\n",
    "from collections import OrderedDict\n",
    "\n",
    "from IPython.display import display\n",
    "\n",
    "pd.options.display.max_rows = 999\n",
    "pd.options.display.max_columns = 999\n",
    "pd.set_option(\"display.max_columns\", None)\n",
    "\n",
    "import folium\n",
    "import plotly.express as px\n",
    "import plotly.graph_objects as go\n",
    "\n",
    "import sys\n",
    "import os\n",
    "\n",
    "from sklearn.metrics import r2_score\n",
    "\n",
    "import scipy.integrate\n",
    "import seaborn as sns\n",
    "\n",
    "import pyarrow as pa\n",
    "import pyarrow.parquet as pq\n",
    "\n",
    "import dask.dataframe\n",
    "import statsmodels.api as sm\n",
    "\n",
    "from d2e2f.visualization import visualize\n",
    "import scipy.integrate"
   ]
  },
  {
   "cell_type": "code",
   "execution_count": null,
   "id": "2afacac4-9307-4f63-83d0-8fc53db326dc",
   "metadata": {},
   "outputs": [],
   "source": [
    "from scipy.stats import norm\n",
    "from statsmodels.stats import weightstats as stests"
   ]
  },
  {
   "cell_type": "code",
   "execution_count": null,
   "id": "011967f6-dd05-4349-abc4-5acf8af6b607",
   "metadata": {},
   "outputs": [],
   "source": [
    "loc1 = 50\n",
    "rv1 = norm(loc=loc1, scale=10)\n",
    "\n",
    "loc2 = 60\n",
    "rv2 = norm(loc=loc2, scale=10)"
   ]
  },
  {
   "cell_type": "code",
   "execution_count": null,
   "id": "4432d0f2-c3b4-4c54-b6e5-b4b3b3d206b8",
   "metadata": {},
   "outputs": [],
   "source": [
    "np.random.seed(423)\n",
    "N = 3\n",
    "z1 = rv1.rvs(N)\n",
    "z2 = rv2.rvs(N)\n"
   ]
  },
  {
   "cell_type": "code",
   "execution_count": null,
   "id": "ace7d649-0f9e-4a10-a243-dff72713cfb7",
   "metadata": {},
   "outputs": [],
   "source": [
    "ztest ,pval = stests.ztest(z1, z2, value=loc1-loc2)"
   ]
  },
  {
   "cell_type": "code",
   "execution_count": null,
   "id": "937efbe8-0868-4289-9e4a-826f01f77abb",
   "metadata": {},
   "outputs": [],
   "source": [
    "if pval<0.05:\n",
    "    print(\"reject null hypothesis\")\n",
    "else:\n",
    "    print(\"accept null hypothesis\")"
   ]
  },
  {
   "cell_type": "code",
   "execution_count": null,
   "id": "cc7332b1-23c7-4391-ad65-13f9ad72f03b",
   "metadata": {},
   "outputs": [],
   "source": [
    "pval"
   ]
  },
  {
   "cell_type": "code",
   "execution_count": null,
   "id": "ecd18b29-f008-4719-81d2-bcd57f4c2119",
   "metadata": {},
   "outputs": [],
   "source": [
    "ztest ,pval = stests.ztest(z1, z2, value=z1.mean()-z2.mean())\n",
    "pval"
   ]
  },
  {
   "cell_type": "code",
   "execution_count": null,
   "id": "50fef8ac-708b-4ea4-9940-91a0ec83d889",
   "metadata": {},
   "outputs": [],
   "source": [
    "z1.mean()"
   ]
  },
  {
   "cell_type": "code",
   "execution_count": null,
   "id": "3494b13e-fe1f-4281-a13d-ae278ca5f562",
   "metadata": {},
   "outputs": [],
   "source": [
    "z2.mean()"
   ]
  }
 ],
 "metadata": {
  "kernelspec": {
   "display_name": "d2e2f",
   "language": "python",
   "name": "python3"
  },
  "language_info": {
   "codemirror_mode": {
    "name": "ipython",
    "version": 3
   },
   "file_extension": ".py",
   "mimetype": "text/x-python",
   "name": "python",
   "nbconvert_exporter": "python",
   "pygments_lexer": "ipython3",
   "version": "3.7.9"
  }
 },
 "nbformat": 4,
 "nbformat_minor": 5
}
