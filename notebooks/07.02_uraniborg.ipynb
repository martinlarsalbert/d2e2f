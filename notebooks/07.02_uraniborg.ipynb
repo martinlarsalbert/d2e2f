{
 "cells": [
  {
   "cell_type": "markdown",
   "id": "9388f23f-d037-4905-906a-49edf33ef3a6",
   "metadata": {
    "tags": []
   },
   "source": [
    "# Uraniborg with preprocessed data\n",
    "![](https://ventrafiken.se/wp-content/uploads/2020/02/ura-20130125-655x311-1.png.webp)"
   ]
  },
  {
   "cell_type": "markdown",
   "id": "1eb0b4c0-facc-460a-a138-5b04ad0e8977",
   "metadata": {},
   "source": [
    "I have added a kedro pipeline to do the preprocessing of data:\n",
    "* **Join Files Node** : join all data from all files.\n",
    "* **Preprocess Node**\n",
    "* **Preprocess Trip Columns Node**\n",
    "\n",
    "Some trip statistics is also calculated.\n",
    "You will need to run this pipeline to get the new datasets.\n",
    "\n",
    "* Some new dependencies are needed which can be installed with: In the project folder type: ```kedro install```\n",
    "* Then type: ```kedro run``` this should do the preprocessing and store the preprocessed data. How to access these new datasets is shown below."
   ]
  },
  {
   "cell_type": "markdown",
   "id": "02fbc27d-90b9-4a0a-8a41-915173563a68",
   "metadata": {},
   "source": [
    "![](pipeline.PNG)"
   ]
  },
  {
   "cell_type": "code",
   "execution_count": null,
   "id": "a10f735d-ea1a-4882-b9aa-315aac54187c",
   "metadata": {},
   "outputs": [],
   "source": [
    "%load_ext autoreload\n",
    "%autoreload 2\n",
    "\n",
    "from d2e2f.visualization.visualize import plot_map, plot_trips\n",
    "import pandas as pd"
   ]
  },
  {
   "cell_type": "markdown",
   "id": "6f042493-67ef-4a78-826c-93b34bce1f3a",
   "metadata": {},
   "source": [
    "## Loading the data"
   ]
  },
  {
   "cell_type": "code",
   "execution_count": null,
   "id": "78811e7e-f3da-48ea-9f26-458dcdc12cc8",
   "metadata": {},
   "outputs": [],
   "source": [
    "%reload_kedro\n",
    "#loaders = catalog.load(f'uraniborg.raw_data')\n",
    "\n",
    "df = catalog.load('uraniborg.data_with_trip_columns')\n",
    "df = df.iloc[-10000:].copy()  # Taking just a few samples for demo"
   ]
  },
  {
   "cell_type": "code",
   "execution_count": null,
   "id": "8b86afe7-7ff5-4431-96eb-3beeb86040e3",
   "metadata": {},
   "outputs": [],
   "source": [
    "df.head()"
   ]
  },
  {
   "cell_type": "code",
   "execution_count": null,
   "id": "7ccae8ee-e5b9-46fe-acf4-c5fb3c159957",
   "metadata": {},
   "outputs": [],
   "source": [
    "df.columns"
   ]
  },
  {
   "cell_type": "code",
   "execution_count": null,
   "id": "1e39194c-2872-4ed5-b702-6e2a02e4dd79",
   "metadata": {},
   "outputs": [],
   "source": [
    "df['Engine load ME1 (%)']*1397"
   ]
  },
  {
   "cell_type": "code",
   "execution_count": null,
   "id": "f865fb37-2397-49d6-a664-9f0ad791b8f4",
   "metadata": {},
   "outputs": [],
   "source": [
    "df.longitude.quantile(0.10)"
   ]
  },
  {
   "cell_type": "code",
   "execution_count": null,
   "id": "34499847-c39d-414d-beb1-87ddfb041316",
   "metadata": {},
   "outputs": [],
   "source": [
    "df.longitude.quantile(0.90)"
   ]
  },
  {
   "cell_type": "markdown",
   "id": "588a505c-d693-4a92-8c04-fa3dc0042878",
   "metadata": {},
   "source": [
    "And here is a nice map of the data. You may have to install \"folium\" to get this to work:\n",
    "\n",
    "```pip install folium```"
   ]
  },
  {
   "cell_type": "code",
   "execution_count": null,
   "id": "e214b632-7261-404f-ad3b-b60fbbd09a60",
   "metadata": {},
   "outputs": [],
   "source": [
    "plot_trips(df=df, zoom_start=13)"
   ]
  },
  {
   "cell_type": "markdown",
   "id": "5fda7546-774b-49d3-81b1-e99ffca26bba",
   "metadata": {},
   "source": [
    "## One trip"
   ]
  },
  {
   "cell_type": "code",
   "execution_count": null,
   "id": "25e0eb52-5441-4ac7-a0af-279762c613c8",
   "metadata": {},
   "outputs": [],
   "source": [
    "trip = df.groupby('trip_no').get_group(1)\n",
    "trip.head()"
   ]
  },
  {
   "cell_type": "code",
   "execution_count": null,
   "id": "b26fce92-9beb-4ea8-9cd3-7ac32fc14e02",
   "metadata": {},
   "outputs": [],
   "source": [
    "plot_map(trip)"
   ]
  },
  {
   "cell_type": "markdown",
   "id": "65d8f32b-8a3a-4f62-93dd-63583d1661ce",
   "metadata": {},
   "source": [
    "## Statistics"
   ]
  },
  {
   "cell_type": "code",
   "execution_count": null,
   "id": "810a47db-1d6c-48ef-93b3-461f562e2a33",
   "metadata": {},
   "outputs": [],
   "source": [
    "df_statistics = catalog.load(\"uraniborg.trip_statistics_clean\")"
   ]
  },
  {
   "cell_type": "code",
   "execution_count": null,
   "id": "42543f45-cb00-4733-ad8a-f6483b97af37",
   "metadata": {},
   "outputs": [],
   "source": [
    "df_statistics.describe()"
   ]
  },
  {
   "cell_type": "code",
   "execution_count": null,
   "id": "1d62321c-46f0-4392-b5a6-ce95a5403841",
   "metadata": {},
   "outputs": [],
   "source": [
    "df_statistics.hist(column='sog', bins=100)"
   ]
  },
  {
   "cell_type": "code",
   "execution_count": null,
   "id": "66a2c1c6-4a83-410a-8824-080391d8fd78",
   "metadata": {},
   "outputs": [],
   "source": []
  },
  {
   "cell_type": "code",
   "execution_count": null,
   "id": "e7635283-a774-4218-9672-80dd56a88985",
   "metadata": {},
   "outputs": [],
   "source": []
  },
  {
   "cell_type": "code",
   "execution_count": null,
   "id": "c6205354-63e6-4485-95f6-4c3ebaf1b960",
   "metadata": {},
   "outputs": [],
   "source": [
    "import re\n",
    "regexp = re.compile(r'P\\d+$')\n",
    "if regexp.search('P10g0'):\n",
    "    print('yes')"
   ]
  },
  {
   "cell_type": "code",
   "execution_count": null,
   "id": "a156d8ef-f113-49ff-97ba-6d879a0e0b88",
   "metadata": {},
   "outputs": [],
   "source": []
  }
 ],
 "metadata": {
  "kernelspec": {
   "display_name": "d2e2f",
   "language": "python",
   "name": "python3"
  },
  "language_info": {
   "codemirror_mode": {
    "name": "ipython",
    "version": 3
   },
   "file_extension": ".py",
   "mimetype": "text/x-python",
   "name": "python",
   "nbconvert_exporter": "python",
   "pygments_lexer": "ipython3",
   "version": "3.7.9"
  }
 },
 "nbformat": 4,
 "nbformat_minor": 5
}
