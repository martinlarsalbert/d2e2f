{
 "cells": [
  {
   "cell_type": "markdown",
   "id": "0fd51c6d-18b8-4559-bf86-cf007cdde60c",
   "metadata": {},
   "source": [
    "# Request data from SMHI REST API"
   ]
  },
  {
   "cell_type": "code",
   "execution_count": null,
   "id": "81834152-00ce-4186-a6c2-528868febdaf",
   "metadata": {},
   "outputs": [],
   "source": [
    "import requests\n",
    "from d2e2f import request_water_depth\n",
    "import pandas as pd\n",
    "import re\n",
    "from d2e2f.visualization import visualize\n",
    "import folium"
   ]
  },
  {
   "cell_type": "code",
   "execution_count": null,
   "id": "cbb22ae8-dfbf-457b-9326-07619bc70a87",
   "metadata": {},
   "outputs": [],
   "source": [
    "station = 2110  ## (Stenungsund)\n",
    "request_water_depth.get(station=station)"
   ]
  },
  {
   "cell_type": "code",
   "execution_count": null,
   "id": "2c394c28-167e-40dc-9ff8-891efbad24c7",
   "metadata": {},
   "outputs": [],
   "source": [
    "url=r\"https://opendata-download-ocobs.smhi.se/\"\n",
    "response = requests.get(f\"{url}api/version/latest/parameter/6/station/{station}/period/latest-day/data.xml\")"
   ]
  },
  {
   "cell_type": "code",
   "execution_count": null,
   "id": "3a8afa6c-fa97-4b69-bed4-4ef0a82b9a37",
   "metadata": {},
   "outputs": [],
   "source": [
    "response = requests.get(f\"{url}api/version/latest.json\")\n",
    "j = response.json()\n",
    "df_parameters = pd.DataFrame()\n",
    "\n",
    "for parameter in j['resource']:\n",
    "    interesting = ['key','title','summary']\n",
    "    s = pd.Series(dtype='object')\n",
    "    for key in interesting:\n",
    "        s[key] = parameter[key]\n",
    "    \n",
    "    df_parameters = df_parameters.append(s, ignore_index=True)\n",
    "    \n",
    "df_parameters.set_index('key', inplace=True)\n",
    "df_parameters.index = df_parameters.index.astype(int)\n",
    "df_parameters.sort_index(inplace=True)"
   ]
  },
  {
   "cell_type": "code",
   "execution_count": null,
   "id": "3145132e-6a98-4c28-a559-7d2e225a1939",
   "metadata": {},
   "outputs": [],
   "source": [
    "df_parameters"
   ]
  },
  {
   "cell_type": "code",
   "execution_count": null,
   "id": "654f264b-79d2-4055-863c-1fec1120d8e6",
   "metadata": {},
   "outputs": [],
   "source": [
    "response = requests.get(f\"{url}api/version/latest/parameter/3.json\")\n",
    "j = response.json()"
   ]
  },
  {
   "cell_type": "code",
   "execution_count": null,
   "id": "464c8843-fff0-4bef-94be-124d90ea75c7",
   "metadata": {},
   "outputs": [],
   "source": [
    "stations = j['station']\n",
    "df_stations = pd.DataFrame()\n",
    "\n",
    "for station in stations:\n",
    "    df_stations = df_stations.append(station, ignore_index=True)\n",
    "df_stations['updated'] = pd.to_datetime(df_stations['updated'], unit='ms')\n",
    "df_stations['active'] = df_stations['active'].replace({0:False,1:True})"
   ]
  },
  {
   "cell_type": "code",
   "execution_count": null,
   "id": "2533f0ff-8736-443d-8b9d-2e7cfa36bd62",
   "metadata": {},
   "outputs": [],
   "source": [
    "df_stations.head()"
   ]
  },
  {
   "cell_type": "code",
   "execution_count": null,
   "id": "bb6a65ce-85a5-453f-89ef-346cd0e5b127",
   "metadata": {},
   "outputs": [],
   "source": [
    "df_stations.head()"
   ]
  },
  {
   "cell_type": "code",
   "execution_count": null,
   "id": "468c6a2f-873c-498e-a7f9-4273a5b7a848",
   "metadata": {},
   "outputs": [],
   "source": [
    "station = df_stations.iloc[0]"
   ]
  },
  {
   "cell_type": "code",
   "execution_count": null,
   "id": "82e1abdc-8c07-4ac0-9d96-633cef45d869",
   "metadata": {},
   "outputs": [],
   "source": [
    "s = station.summary\n",
    "s"
   ]
  },
  {
   "cell_type": "code",
   "execution_count": null,
   "id": "11932f69-d79d-4025-9ab7-0318efc9fb18",
   "metadata": {},
   "outputs": [],
   "source": [
    "def lat_lon(s):\n",
    "    groups = re.search(r'Latitud: ([^ ]+) Longitud: ([^ ]+)',s).groups()\n",
    "    output = pd.Series()    \n",
    "    output['latitude'] = float(groups[0])\n",
    "    output['longitude'] = float(groups[1])\n",
    "    return output"
   ]
  },
  {
   "cell_type": "code",
   "execution_count": null,
   "id": "920db8ca-3478-4c1d-8eb7-e9c9fe728f54",
   "metadata": {},
   "outputs": [],
   "source": [
    "df_stations[['latitude','longitude']] = df_stations['summary'].apply(func=lat_lon)"
   ]
  },
  {
   "cell_type": "code",
   "execution_count": null,
   "id": "203b5e42-fab2-4c2b-8229-5882f8eb12a9",
   "metadata": {},
   "outputs": [],
   "source": [
    "f, my_map = visualize.get_map(df_stations, zoom_start=4)\n",
    "\n",
    "for index, station in df_stations.iterrows():\n",
    "    color = 'green' if station.active else 'red'\n",
    "    folium.Marker(\n",
    "                [station[\"latitude\"], station[\"longitude\"]],\n",
    "                popup=station[['key','name','title','updated']],\n",
    "                icon=folium.Icon(color=color, icon=\"stream\"),\n",
    "            ).add_to(my_map)\n",
    "\n",
    "display(f)"
   ]
  },
  {
   "cell_type": "code",
   "execution_count": null,
   "id": "9e6f87cb-63b0-469c-9db1-55cb8316933d",
   "metadata": {},
   "outputs": [],
   "source": [
    "from io import StringIO\n",
    "\n",
    "def get_data(key = 35110, parameter_id = 3):\n",
    "    response = requests.get(f\"{url}api/version/latest/parameter/{parameter_id}/station/{key}/period/corrected-archive/data.csv\")\n",
    "    \n",
    "    assert response.ok\n",
    "    \n",
    "    s = response.text\n",
    "    \n",
    "    df_current = pd.read_csv(StringIO(s), sep=';', header=4, index_col=0)\n",
    "    df_current.index = pd.to_datetime(df_current.index)\n",
    "    \n",
    "    return df_current"
   ]
  },
  {
   "cell_type": "code",
   "execution_count": null,
   "id": "eb3d4b41-efb4-4bfa-814b-1e6b3f56c1b2",
   "metadata": {},
   "outputs": [],
   "source": [
    "df_current = get_data(key=35110, parameter_id=3)\n",
    "df_current.head()"
   ]
  },
  {
   "cell_type": "code",
   "execution_count": null,
   "id": "7b8211ff-f9b5-4048-9907-181b0974321c",
   "metadata": {},
   "outputs": [],
   "source": [
    "df_current = get_data(key=35110, parameter_id=2)\n",
    "df_current.head()"
   ]
  },
  {
   "cell_type": "code",
   "execution_count": null,
   "id": "e5a4e92e-4e47-4f07-ba85-cc98e81591ef",
   "metadata": {},
   "outputs": [],
   "source": [
    "df_current.tail()"
   ]
  },
  {
   "cell_type": "code",
   "execution_count": null,
   "id": "7d2a88b6-beac-418a-b5d5-7aa0ceed3376",
   "metadata": {},
   "outputs": [],
   "source": [
    "df_current = get_data(key=38043, parameter_id=2)\n",
    "df_current.tail()"
   ]
  },
  {
   "cell_type": "code",
   "execution_count": null,
   "id": "bc1a01a0-7400-497b-88d0-2725f7cb62f5",
   "metadata": {},
   "outputs": [],
   "source": []
  }
 ],
 "metadata": {
  "kernelspec": {
   "display_name": "d2e2f",
   "language": "python",
   "name": "python3"
  },
  "language_info": {
   "codemirror_mode": {
    "name": "ipython",
    "version": 3
   },
   "file_extension": ".py",
   "mimetype": "text/x-python",
   "name": "python",
   "nbconvert_exporter": "python",
   "pygments_lexer": "ipython3",
   "version": "3.7.9"
  }
 },
 "nbformat": 4,
 "nbformat_minor": 5
}
