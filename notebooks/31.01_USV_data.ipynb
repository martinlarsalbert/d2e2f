{
 "cells": [
  {
   "cell_type": "markdown",
   "id": "9163d20d-4f88-4cc6-88ea-09a96a12f4ad",
   "metadata": {},
   "source": [
    "# Investigating the USV data from Paper 2"
   ]
  },
  {
   "cell_type": "code",
   "execution_count": null,
   "id": "b66071cb-242c-4058-9647-ee4d5a1f20fa",
   "metadata": {},
   "outputs": [],
   "source": [
    "# %load imports.py\n",
    "%load_ext autoreload\n",
    "%autoreload 2\n",
    "%reload_kedro\n",
    "%config Completer.use_jedi = False  ## (To fix autocomplete)\n",
    "%matplotlib inline\n",
    "\n",
    "import warnings\n",
    "warnings.filterwarnings('ignore')\n",
    "\n",
    "import pandas as pd\n",
    "import geopandas\n",
    "import matplotlib.pyplot as plt\n",
    "import numpy as np"
   ]
  },
  {
   "cell_type": "code",
   "execution_count": null,
   "id": "89ff239b-27f5-4530-aa0e-429bb55866f6",
   "metadata": {},
   "outputs": [],
   "source": [
    "#file_name = \"zigzag_30_inter\"\n",
    "file_name = \"turnningdata\"\n",
    "\n",
    "data = pd.read_csv(f\"{file_name}.csv\")\n",
    "#data['time']/=10\n",
    "data.set_index('time', inplace=True)\n",
    "data.sort_index(inplace=True)\n",
    "\n",
    "if file_name == \"turnningdata\":\n",
    "    data = data.iloc[0:190]\n",
    "\n",
    "data.index = pd.to_datetime(data.index, unit='s')\n",
    "data['rudder']-=40\n",
    "data['delta'] = -np.deg2rad(data['rudder'])\n",
    "data['psi'] = np.unwrap(np.deg2rad(data['heading']))\n",
    "data['thrust'] = 0\n",
    "data = data.resample('0.5S').mean().dropna()\n",
    "\n",
    "data.index = (data.index-data.index[0]).total_seconds()\n",
    "\n",
    "\n"
   ]
  },
  {
   "cell_type": "code",
   "execution_count": null,
   "id": "eca58a74-4f8f-429b-aab9-2d30b7d3e1f9",
   "metadata": {},
   "outputs": [],
   "source": [
    "data['psi'].diff() > 0.8*np.pi"
   ]
  },
  {
   "cell_type": "code",
   "execution_count": null,
   "id": "a4e9c7cb-4c2e-4ed4-bbf3-c91a9dd3cfff",
   "metadata": {},
   "outputs": [],
   "source": [
    "data.head()"
   ]
  },
  {
   "cell_type": "code",
   "execution_count": null,
   "id": "1fc44b12-0356-40c9-ab4c-d6b37b4f0520",
   "metadata": {},
   "outputs": [],
   "source": [
    "data['psi'].diff().abs().max()"
   ]
  },
  {
   "cell_type": "code",
   "execution_count": null,
   "id": "73d1e865-4251-4cb1-9f28-9fc4f360a9bf",
   "metadata": {},
   "outputs": [],
   "source": [
    "data.describe()"
   ]
  },
  {
   "cell_type": "code",
   "execution_count": null,
   "id": "986eb8fe-3d65-4720-a2ae-bdeedfd98e10",
   "metadata": {},
   "outputs": [],
   "source": [
    "data.index[-1]"
   ]
  },
  {
   "cell_type": "code",
   "execution_count": null,
   "id": "e5760226-dfdd-46c6-8721-64ef8037fbd6",
   "metadata": {},
   "outputs": [],
   "source": [
    "fig,ax=plt.subplots()\n",
    "ax.plot(np.diff(data.index))"
   ]
  },
  {
   "cell_type": "code",
   "execution_count": null,
   "id": "d1d49acd-c621-4ad7-9dd6-9748834d966c",
   "metadata": {},
   "outputs": [],
   "source": [
    "np.mean(np.diff(data.index))"
   ]
  },
  {
   "cell_type": "code",
   "execution_count": null,
   "id": "567c9d00-1689-46ef-85d6-2b3e9b679cd3",
   "metadata": {},
   "outputs": [],
   "source": [
    "data.dtypes"
   ]
  },
  {
   "cell_type": "code",
   "execution_count": null,
   "id": "fdadff65-f0d1-476b-83cb-2fc9fea2a2d2",
   "metadata": {},
   "outputs": [],
   "source": [
    "data['-rudder'] = -data['rudder']\n",
    "data.plot(y=['psi','delta'], style='.-')"
   ]
  },
  {
   "cell_type": "code",
   "execution_count": null,
   "id": "f9f5cb0b-34d3-44fd-8702-448c4e980b0a",
   "metadata": {},
   "outputs": [],
   "source": [
    "data"
   ]
  },
  {
   "cell_type": "code",
   "execution_count": null,
   "id": "e5f93de0-3b23-47c1-a079-b92445187dd8",
   "metadata": {},
   "outputs": [],
   "source": [
    "df = geopandas.GeoDataFrame(data.copy(), \n",
    "                 geometry=geopandas.points_from_xy(data.lon, data.lat, crs=\"EPSG:4326\"))\n",
    "df = df.to_crs(epsg=3829)\n",
    "df['y0'] = df.geometry.x - df.geometry.x[0]\n",
    "df['x0'] = df.geometry.y - df.geometry.y[0]\n",
    "df['distance'] = df.distance(df.shift())"
   ]
  },
  {
   "cell_type": "code",
   "execution_count": null,
   "id": "6f94f405-52a8-4324-b124-92e3737b3c7a",
   "metadata": {},
   "outputs": [],
   "source": [
    "df['distance'].sum()"
   ]
  },
  {
   "cell_type": "code",
   "execution_count": null,
   "id": "c5935432-dbee-4035-a686-daeca1e92aee",
   "metadata": {},
   "outputs": [],
   "source": [
    "df.plot()"
   ]
  },
  {
   "cell_type": "code",
   "execution_count": null,
   "id": "c0b68ad1-bce6-4cdc-a141-0f836b781384",
   "metadata": {},
   "outputs": [],
   "source": [
    "df.head()"
   ]
  },
  {
   "cell_type": "code",
   "execution_count": null,
   "id": "5b9e8d4e-0038-4384-ab70-dd29634abe9a",
   "metadata": {},
   "outputs": [],
   "source": [
    "fig,ax=plt.subplots()\n",
    "df.plot(x='y0',y='x0', kind='line', ax=ax)\n",
    "ax.axis('equal')\n"
   ]
  },
  {
   "cell_type": "code",
   "execution_count": null,
   "id": "79fa4fbb-9ded-4e69-9c43-0ce236038964",
   "metadata": {},
   "outputs": [],
   "source": [
    "data['x0'] = df['x0'].copy()\n",
    "data['y0'] = df['y0'].copy()"
   ]
  },
  {
   "cell_type": "code",
   "execution_count": null,
   "id": "889cbb86-a691-4c9c-af11-9747f9dba3dc",
   "metadata": {},
   "outputs": [],
   "source": [
    "dt_min = np.diff(data.index).min()"
   ]
  },
  {
   "cell_type": "code",
   "execution_count": null,
   "id": "1a5b9ada-348d-4713-814c-f626d8fb37af",
   "metadata": {},
   "outputs": [],
   "source": [
    "np.diff(data.index).max()"
   ]
  },
  {
   "cell_type": "code",
   "execution_count": null,
   "id": "9c98469d-d410-4ace-ad6e-5c643b64cbec",
   "metadata": {},
   "outputs": [],
   "source": [
    "dt_min"
   ]
  },
  {
   "cell_type": "code",
   "execution_count": null,
   "id": "73f2a01c-2cc8-466c-9522-1a3aabe22ffd",
   "metadata": {},
   "outputs": [],
   "source": [
    "np.round(dt_min,4)"
   ]
  },
  {
   "cell_type": "code",
   "execution_count": null,
   "id": "b7271e24-043f-4236-b198-1170b4c6daab",
   "metadata": {},
   "outputs": [],
   "source": [
    "np.floor(dt_min*10**4)/(10**4)"
   ]
  },
  {
   "cell_type": "code",
   "execution_count": null,
   "id": "7cb806cb-a06e-421a-955d-e0fb7239c0a3",
   "metadata": {},
   "outputs": [],
   "source": [
    "f'{dt_min_floor}S'"
   ]
  },
  {
   "cell_type": "code",
   "execution_count": null,
   "id": "df530f81-d207-4199-975c-9db2500f1260",
   "metadata": {},
   "outputs": [],
   "source": [
    "f'{dt_min_floor}S'"
   ]
  },
  {
   "cell_type": "code",
   "execution_count": null,
   "id": "51782644-f247-4f37-8f82-29d9daee8820",
   "metadata": {},
   "outputs": [],
   "source": [
    "#data.to_csv('zigzag_30_inter_xy.csv')\n",
    "data.to_csv(f'{file_name}_xy.csv')"
   ]
  },
  {
   "cell_type": "code",
   "execution_count": null,
   "id": "c9a34429-9369-4b70-ad8c-3c966981ee98",
   "metadata": {},
   "outputs": [],
   "source": [
    "data.head()"
   ]
  },
  {
   "cell_type": "code",
   "execution_count": null,
   "id": "8cefb71e-015b-4565-bd84-51775a9a3472",
   "metadata": {},
   "outputs": [],
   "source": [
    "data.index[-1]"
   ]
  },
  {
   "cell_type": "code",
   "execution_count": null,
   "id": "642c0131-e027-45aa-a95e-75dd292f96d1",
   "metadata": {},
   "outputs": [],
   "source": []
  },
  {
   "cell_type": "code",
   "execution_count": null,
   "id": "7d9bd1a2-c13b-4ab1-8dbe-fb616a395ee5",
   "metadata": {},
   "outputs": [],
   "source": []
  }
 ],
 "metadata": {
  "citation-manager": {
   "items": {}
  },
  "kernelspec": {
   "display_name": "d2e2f",
   "language": "python",
   "name": "python3"
  },
  "language_info": {
   "codemirror_mode": {
    "name": "ipython",
    "version": 3
   },
   "file_extension": ".py",
   "mimetype": "text/x-python",
   "name": "python",
   "nbconvert_exporter": "python",
   "pygments_lexer": "ipython3",
   "version": "3.7.9"
  }
 },
 "nbformat": 4,
 "nbformat_minor": 5
}
