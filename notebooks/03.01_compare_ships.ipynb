{
 "cells": [
  {
   "cell_type": "markdown",
   "id": "2f3a8e0a-7ce7-49ba-9dae-905127fb3361",
   "metadata": {},
   "source": [
    "# Compare Tycho and Aurora"
   ]
  },
  {
   "cell_type": "code",
   "execution_count": null,
   "id": "e0b66af2-a6b9-4a49-9569-68f1a8202b35",
   "metadata": {
    "papermill": {
     "duration": 3.700467,
     "end_time": "2021-05-21T15:53:22.375142",
     "exception": false,
     "start_time": "2021-05-21T15:53:18.674675",
     "status": "completed"
    },
    "tags": []
   },
   "outputs": [],
   "source": [
    "# %load imports.py\n",
    "# %load ../imports.py\n",
    "%matplotlib inline\n",
    "%load_ext autoreload\n",
    "%autoreload 2\n",
    "\n",
    "import numpy as np\n",
    "import pandas as pd\n",
    "import matplotlib.pyplot as pltb\n",
    "import matplotlib.pyplot as plt\n",
    "import seaborn as sns\n",
    "width=20\n",
    "height=3\n",
    "plt.rcParams[\"figure.figsize\"] = (width,height)\n",
    "sns.set(rc={'figure.figsize':(width,height)})\n",
    "\n",
    "#import seaborn as sns\n",
    "import os\n",
    "from collections import OrderedDict\n",
    "\n",
    "from IPython.display import display\n",
    "\n",
    "pd.options.display.max_rows = 999\n",
    "pd.options.display.max_columns = 999\n",
    "pd.set_option(\"display.max_columns\", None)\n",
    "\n",
    "import folium\n",
    "import plotly.express as px\n",
    "import plotly.graph_objects as go\n",
    "\n",
    "import sys\n",
    "import os\n",
    "\n",
    "from sklearn.metrics import r2_score\n",
    "import seaborn as sns\n",
    "\n",
    "import statsmodels.api as sm\n",
    "\n",
    "from d2e2f.visualization import visualize\n",
    "import re"
   ]
  },
  {
   "cell_type": "code",
   "execution_count": null,
   "id": "521b7ce6-5f04-4700-b4a2-c8ab9c742310",
   "metadata": {},
   "outputs": [],
   "source": [
    "loaded = catalog.load('trip_statistics_joined_thrusters')\n",
    "df = pd.DataFrame()\n",
    "for partition_id, loader in loaded.items():\n",
    "    df_ = loader()\n",
    "    df_['partition_id'] = partition_id\n",
    "    df_['start_time'] = pd.to_datetime(df_['start_time'])\n",
    "    df_['end_time'] = pd.to_datetime(df_['end_time'])\n",
    "    \n",
    "    df = df.append(df_, ignore_index=True)\n",
    "\n",
    "df.sort_values(by='start_time', inplace=True)"
   ]
  },
  {
   "cell_type": "code",
   "execution_count": null,
   "id": "c8599498-7d54-441b-a56d-726f9ecc1643",
   "metadata": {},
   "outputs": [],
   "source": [
    "df.head()"
   ]
  },
  {
   "cell_type": "code",
   "execution_count": null,
   "id": "b4a015ce-d719-4c7d-8853-00fbf005181c",
   "metadata": {},
   "outputs": [],
   "source": [
    "df['partition_id'].unique()"
   ]
  },
  {
   "cell_type": "code",
   "execution_count": null,
   "id": "39944c1e-4641-4a64-8a95-d8789b51e38e",
   "metadata": {},
   "outputs": [],
   "source": [
    "df['ship'] = df['partition_id'].apply(lambda x:re.search(r'([^-]+)',x).groups(1)[0])"
   ]
  },
  {
   "cell_type": "code",
   "execution_count": null,
   "id": "55a78279-dae8-47ab-b678-6e6f7ee2977a",
   "metadata": {},
   "outputs": [],
   "source": [
    "fig = px.scatter(df, x='start_time',y='P', color='ship', width=1000, height=600, \n",
    "                color_discrete_sequence=['red','green'], hover_data=['trip_no','trip_time'])\n",
    "fig.show()"
   ]
  },
  {
   "cell_type": "code",
   "execution_count": null,
   "id": "35c8377b-4d4c-4739-a0ce-d6a4ed966d19",
   "metadata": {},
   "outputs": [],
   "source": [
    "ships = df.groupby(by='ship')"
   ]
  },
  {
   "cell_type": "code",
   "execution_count": null,
   "id": "8e5472aa-6c64-4c02-a8e2-5cc983246bdf",
   "metadata": {},
   "outputs": [],
   "source": [
    "df_tycho=ships.get_group('tycho')\n",
    "df_aurora=ships.get_group('aurora')\n"
   ]
  },
  {
   "cell_type": "code",
   "execution_count": null,
   "id": "d54cc4f2-47b8-4733-be9e-f34d69578b4f",
   "metadata": {},
   "outputs": [],
   "source": [
    "df_tycho.info()"
   ]
  },
  {
   "cell_type": "code",
   "execution_count": null,
   "id": "5e9d29aa-5818-46df-b06e-f9993c41014e",
   "metadata": {},
   "outputs": [],
   "source": [
    "df_tycho.head()"
   ]
  },
  {
   "cell_type": "code",
   "execution_count": null,
   "id": "e5d3ce53-d89b-41a4-bdb2-d2bf46ece2ef",
   "metadata": {},
   "outputs": [],
   "source": [
    "str(df_tycho['start_time'].iloc[0])"
   ]
  },
  {
   "cell_type": "code",
   "execution_count": null,
   "id": "3613e015-d10a-468b-8c32-1aa676d5b721",
   "metadata": {},
   "outputs": [],
   "source": [
    "(df_tycho['start_time'].diff().iloc[1:] > \"0\").all()"
   ]
  },
  {
   "cell_type": "code",
   "execution_count": null,
   "id": "a0f296c9-a020-4d67-9a6a-02f3e3b3c77f",
   "metadata": {},
   "outputs": [],
   "source": [
    "mask = df_tycho['start_time'].diff() > \"1 days\""
   ]
  },
  {
   "cell_type": "code",
   "execution_count": null,
   "id": "432b038d-bbd4-47d8-922e-be6b90618dfe",
   "metadata": {},
   "outputs": [],
   "source": [
    "mask = df_aurora['start_time'].apply(lambda x: ((x-df_tycho['start_time']).abs() < \"0 days 01:00:00\").any())\n",
    "df_aurora = df_aurora.loc[mask].copy()"
   ]
  },
  {
   "cell_type": "code",
   "execution_count": null,
   "id": "06cf997d-fa2d-4d0b-81f2-1cd97bb5caf2",
   "metadata": {},
   "outputs": [],
   "source": [
    "df_cut = pd.concat([df_tycho, df_aurora])\n",
    "df_cut.sort_values(by='start_time', inplace=True)\n",
    "fig = px.scatter(df_cut, x='start_time',y='P', color='ship', width=1000, height=600, \n",
    "                color_discrete_sequence=['red','green'], hover_data=['trip_no','trip_time'])\n",
    "fig.show()"
   ]
  },
  {
   "cell_type": "code",
   "execution_count": null,
   "id": "97c7377b-3bc9-4886-beaa-0281a155176c",
   "metadata": {
    "papermill": {
     "duration": 0.609285,
     "end_time": "2021-05-21T15:53:27.745177",
     "exception": false,
     "start_time": "2021-05-21T15:53:27.135892",
     "status": "completed"
    },
    "tags": []
   },
   "outputs": [],
   "source": [
    "sns.displot(df_cut, x='P', hue='ship', kind=\"kde\", bw_adjust=1, aspect=3)"
   ]
  },
  {
   "cell_type": "code",
   "execution_count": null,
   "id": "cb7f1a35-2f14-431c-98a9-697156d0a7c8",
   "metadata": {},
   "outputs": [],
   "source": [
    "df_tycho.describe()"
   ]
  },
  {
   "cell_type": "code",
   "execution_count": null,
   "id": "d8f082f2-fbd3-4f18-840e-0e30ce8495ab",
   "metadata": {},
   "outputs": [],
   "source": [
    "df_aurora.describe()"
   ]
  },
  {
   "cell_type": "code",
   "execution_count": null,
   "id": "b9ffc3f3-bfd6-40e8-875e-c19697dc3992",
   "metadata": {},
   "outputs": [],
   "source": [
    "fig = px.scatter_3d(df_cut, x='start_time', y='sog', z='P', color='ship',\n",
    "              opacity=0.5,\n",
    "                    width=1000,\n",
    "                    height=800\n",
    "    )\n",
    "\n",
    "fig.update_traces(marker=dict(size=2,\n",
    "                         ))\n",
    "\n",
    "fig.show()"
   ]
  },
  {
   "cell_type": "code",
   "execution_count": null,
   "id": "f20d5881-e5a7-4a59-a3d1-72f9e92bf9a1",
   "metadata": {},
   "outputs": [],
   "source": []
  }
 ],
 "metadata": {
  "kernelspec": {
   "display_name": "d2e2f",
   "language": "python",
   "name": "python3"
  },
  "language_info": {
   "codemirror_mode": {
    "name": "ipython",
    "version": 3
   },
   "file_extension": ".py",
   "mimetype": "text/x-python",
   "name": "python",
   "nbconvert_exporter": "python",
   "pygments_lexer": "ipython3",
   "version": "3.7.9"
  }
 },
 "nbformat": 4,
 "nbformat_minor": 5
}
