{
 "cells": [
  {
   "cell_type": "markdown",
   "id": "2f3a8e0a-7ce7-49ba-9dae-905127fb3361",
   "metadata": {},
   "source": [
    "# Compare Tycho and Aurora"
   ]
  },
  {
   "cell_type": "code",
   "execution_count": null,
   "id": "e0b66af2-a6b9-4a49-9569-68f1a8202b35",
   "metadata": {
    "papermill": {
     "duration": 3.700467,
     "end_time": "2021-05-21T15:53:22.375142",
     "exception": false,
     "start_time": "2021-05-21T15:53:18.674675",
     "status": "completed"
    },
    "tags": []
   },
   "outputs": [],
   "source": [
    "# %load imports.py\n",
    "# %load ../imports.py\n",
    "%matplotlib inline\n",
    "%load_ext autoreload\n",
    "%autoreload 2\n",
    "\n",
    "import numpy as np\n",
    "import pandas as pd\n",
    "import matplotlib.pyplot as pltb\n",
    "import matplotlib.pyplot as plt\n",
    "import seaborn as sns\n",
    "width=20\n",
    "height=3\n",
    "plt.rcParams[\"figure.figsize\"] = (width,height)\n",
    "sns.set(rc={'figure.figsize':(width,height)})\n",
    "\n",
    "#import seaborn as sns\n",
    "import os\n",
    "from collections import OrderedDict\n",
    "\n",
    "from IPython.display import display\n",
    "\n",
    "pd.options.display.max_rows = 999\n",
    "pd.options.display.max_columns = 999\n",
    "pd.set_option(\"display.max_columns\", None)\n",
    "\n",
    "import folium\n",
    "import plotly.express as px\n",
    "import plotly.graph_objects as go\n",
    "\n",
    "import sys\n",
    "import os\n",
    "\n",
    "from sklearn.metrics import r2_score\n",
    "import seaborn as sns\n",
    "\n",
    "import statsmodels.api as sm\n",
    "\n",
    "from d2e2f.visualization import visualize\n",
    "import re\n",
    "import plotly.graph_objects as go"
   ]
  },
  {
   "cell_type": "code",
   "execution_count": null,
   "id": "521b7ce6-5f04-4700-b4a2-c8ab9c742310",
   "metadata": {},
   "outputs": [],
   "source": [
    "#loaded = catalog.load('trip_statistics_joined_thrusters')\n",
    "#df = pd.DataFrame()\n",
    "#for partition_id, loader in loaded.items():\n",
    "#    df_ = loader()\n",
    "#    df_['partition_id'] = partition_id\n",
    "#    df_['start_time'] = pd.to_datetime(df_['start_time'], utc=True)\n",
    "#    df_['end_time'] = pd.to_datetime(df_['end_time'], utc=True)\n",
    "#    \n",
    "#    df = df.append(df_, ignore_index=True)\n",
    "#\n",
    "#df.sort_values(by='start_time', inplace=True)"
   ]
  },
  {
   "cell_type": "code",
   "execution_count": null,
   "id": "38f472ab-f982-41fd-92e6-0b03a6c2e34a",
   "metadata": {},
   "outputs": [],
   "source": [
    "ship_names = ['tycho','aurora']\n",
    "\n",
    "df = pd.DataFrame()\n",
    "for ship_name in ship_names:\n",
    "    df_ = catalog.load(f'{ship_name}.trip_statistics_joined_thrusters')\n",
    "    df_['ship'] = ship_name\n",
    "    df_['start_time'] = pd.to_datetime(df_['start_time'], utc=True)\n",
    "    df_['end_time'] = pd.to_datetime(df_['end_time'], utc=True)\n",
    "    \n",
    "    df = df.append(df_, ignore_index=True)\n",
    "\n",
    "df.sort_values(by='start_time', inplace=True)"
   ]
  },
  {
   "cell_type": "code",
   "execution_count": null,
   "id": "c8599498-7d54-441b-a56d-726f9ecc1643",
   "metadata": {},
   "outputs": [],
   "source": [
    "df.head()"
   ]
  },
  {
   "cell_type": "code",
   "execution_count": null,
   "id": "b4a015ce-d719-4c7d-8853-00fbf005181c",
   "metadata": {},
   "outputs": [],
   "source": [
    "df['ship'].unique()"
   ]
  },
  {
   "cell_type": "code",
   "execution_count": null,
   "id": "39944c1e-4641-4a64-8a95-d8789b51e38e",
   "metadata": {},
   "outputs": [],
   "source": [
    "#df['ship'] = df['partition_id'].apply(lambda x:re.search(r'([^-]+)',x).groups(1)[0])"
   ]
  },
  {
   "cell_type": "code",
   "execution_count": null,
   "id": "55a78279-dae8-47ab-b678-6e6f7ee2977a",
   "metadata": {},
   "outputs": [],
   "source": [
    "fig = px.scatter(df, x='start_time',y='P', color='ship', width=1000, height=600, \n",
    "                color_discrete_sequence=['red','green'], hover_data=['trip_no','trip_time'])\n",
    "fig.show()"
   ]
  },
  {
   "cell_type": "code",
   "execution_count": null,
   "id": "35c8377b-4d4c-4739-a0ce-d6a4ed966d19",
   "metadata": {},
   "outputs": [],
   "source": [
    "ships = df.groupby(by='ship')"
   ]
  },
  {
   "cell_type": "code",
   "execution_count": null,
   "id": "8e5472aa-6c64-4c02-a8e2-5cc983246bdf",
   "metadata": {},
   "outputs": [],
   "source": [
    "df_tycho=ships.get_group('tycho')\n",
    "df_aurora=ships.get_group('aurora')\n"
   ]
  },
  {
   "cell_type": "code",
   "execution_count": null,
   "id": "d54cc4f2-47b8-4733-be9e-f34d69578b4f",
   "metadata": {},
   "outputs": [],
   "source": [
    "df_tycho.info()"
   ]
  },
  {
   "cell_type": "code",
   "execution_count": null,
   "id": "5e9d29aa-5818-46df-b06e-f9993c41014e",
   "metadata": {},
   "outputs": [],
   "source": [
    "df_tycho.head()"
   ]
  },
  {
   "cell_type": "code",
   "execution_count": null,
   "id": "e5d3ce53-d89b-41a4-bdb2-d2bf46ece2ef",
   "metadata": {},
   "outputs": [],
   "source": [
    "str(df_tycho['start_time'].iloc[0])"
   ]
  },
  {
   "cell_type": "code",
   "execution_count": null,
   "id": "3613e015-d10a-468b-8c32-1aa676d5b721",
   "metadata": {},
   "outputs": [],
   "source": [
    "(df_tycho['start_time'].diff().iloc[1:] > \"0\").all()"
   ]
  },
  {
   "cell_type": "code",
   "execution_count": null,
   "id": "a0f296c9-a020-4d67-9a6a-02f3e3b3c77f",
   "metadata": {},
   "outputs": [],
   "source": [
    "mask = df_tycho['start_time'].diff() > \"1 days\""
   ]
  },
  {
   "cell_type": "code",
   "execution_count": null,
   "id": "432b038d-bbd4-47d8-922e-be6b90618dfe",
   "metadata": {},
   "outputs": [],
   "source": [
    "mask = df_aurora['start_time'].apply(lambda x: ((x-df_tycho['start_time']).abs() < \"0 days 01:00:00\").any())\n",
    "df_aurora = df_aurora.loc[mask].copy()"
   ]
  },
  {
   "cell_type": "code",
   "execution_count": null,
   "id": "06cf997d-fa2d-4d0b-81f2-1cd97bb5caf2",
   "metadata": {},
   "outputs": [],
   "source": [
    "df_cut = pd.concat([df_tycho, df_aurora])\n",
    "df_cut.sort_values(by='start_time', inplace=True)\n",
    "fig = px.scatter(df_cut, x='start_time',y='P', color='ship', width=1000, height=600, \n",
    "                color_discrete_sequence=['red','green'], hover_data=['trip_no','trip_time'])\n",
    "fig.show()"
   ]
  },
  {
   "cell_type": "code",
   "execution_count": null,
   "id": "24288a77-f8de-4ae7-bee6-8d43b5b4bcc9",
   "metadata": {},
   "outputs": [],
   "source": [
    "fig = px.line(df_cut, x='start_time',y='w', color='ship', width=1000, height=600, \n",
    "                color_discrete_sequence=['red','green'], hover_data=['trip_no','trip_time'])\n",
    "fig.show()"
   ]
  },
  {
   "cell_type": "code",
   "execution_count": null,
   "id": "97c7377b-3bc9-4886-beaa-0281a155176c",
   "metadata": {
    "papermill": {
     "duration": 0.609285,
     "end_time": "2021-05-21T15:53:27.745177",
     "exception": false,
     "start_time": "2021-05-21T15:53:27.135892",
     "status": "completed"
    },
    "tags": []
   },
   "outputs": [],
   "source": [
    "sns.displot(df_cut, x='P', hue='ship', kind=\"kde\", bw_adjust=1, aspect=3)"
   ]
  },
  {
   "cell_type": "code",
   "execution_count": null,
   "id": "cb7f1a35-2f14-431c-98a9-697156d0a7c8",
   "metadata": {},
   "outputs": [],
   "source": [
    "df_tycho.describe()"
   ]
  },
  {
   "cell_type": "code",
   "execution_count": null,
   "id": "d8f082f2-fbd3-4f18-840e-0e30ce8495ab",
   "metadata": {},
   "outputs": [],
   "source": [
    "df_aurora.describe()"
   ]
  },
  {
   "cell_type": "markdown",
   "id": "5dcd9a78-c908-47fd-bfa2-c9d7f1bd459d",
   "metadata": {},
   "source": [
    "## Following trips"
   ]
  },
  {
   "cell_type": "code",
   "execution_count": null,
   "id": "2cb1722c-1df5-459d-844b-281edaa343ec",
   "metadata": {},
   "outputs": [],
   "source": [
    "for trip_direction, df_aurora_ in df_aurora.groupby(by='trip_direction'):\n",
    "    df_tycho_ = df_tycho.groupby(by='trip_direction').get_group(trip_direction)\n",
    "    \n",
    "    close_indexes = df_aurora_['start_time'].apply(lambda x: ((x-df_tycho_['start_time']).abs()).idxmin())\n",
    "    \n",
    "    #df['P_aurora'] = df_aurora_['P']\n",
    "    #df['P_tycho'] = df_tycho_.loc[close_indexes]['P'].values\n",
    "    \n",
    "    df_aurora_.reset_index(inplace=True)\n",
    "    df_tycho_ = df_tycho_.loc[close_indexes].reset_index()\n",
    "    \n",
    "    df = pd.merge(df_aurora_, df_tycho_, how='inner', left_index=True, right_index=True, suffixes = ('_aurora', '_tycho'))\n",
    "    \n",
    "    \n",
    "    df['P_min'] = df[['P_aurora','P_tycho']].min(axis=1)\n",
    "    df['P_max'] = df[['P_aurora','P_tycho']].max(axis=1)\n",
    "    df['P_tot'] = df[['P_aurora','P_tycho']].sum(axis=1)\n",
    "    \n",
    "    df['P_aurora - P_tycho'] = df['P_aurora'] - df['P_tycho']\n",
    "    df['sog_aurora - sog_tycho'] = df['sog_aurora'] - df['sog_tycho']\n",
    "    \n",
    "    energy_saving = (df['P_max'] - df['P_min']).sum() / df['P_tot'].sum()\n",
    "    \n",
    "    fig = px.scatter(df, x='P_aurora',y='P_tycho', width=1000, height=600, \n",
    "                     opacity=0.3, \n",
    "                     hover_data=['P_aurora','P_tycho','sog_aurora', 'sog_tycho'],\n",
    "                     title=f'{trip_direction} energy saving: {np.round(energy_saving*100)}%')\n",
    "    fig.show()\n",
    "    \n",
    "    \n",
    "    fig = px.scatter(df, x='sog_aurora - sog_tycho',y='P_aurora - P_tycho', width=1000, height=600, \n",
    "                     opacity=0.3, \n",
    "                     hover_data=['P_aurora','P_tycho','sog_aurora', 'sog_tycho'],\n",
    "                     title=f'{trip_direction} energy saving: {np.round(energy_saving*100)}%')\n",
    "    fig.show()\n",
    "    "
   ]
  },
  {
   "cell_type": "code",
   "execution_count": null,
   "id": "3807d48b-c8dc-47eb-9743-10bb32479438",
   "metadata": {},
   "outputs": [],
   "source": [
    "for trip_direction, df_aurora_ in df_aurora.groupby(by='trip_direction'):\n",
    "    df_tycho_ = df_tycho.groupby(by='trip_direction').get_group(trip_direction)\n",
    "    \n",
    "    df = pd.DataFrame()\n",
    "    df['w_aurora'] = df_aurora_['w']\n",
    "    df['start_aurora'] = df_aurora_['start_time']\n",
    "    close_indexes = df_aurora_['start_time'].apply(lambda x: ((x-df_tycho_['start_time']).abs()).idxmin())\n",
    "    df['w_tycho'] = df_tycho_.loc[close_indexes]['w'].values\n",
    "    df['start_tycho'] = df_tycho_.loc[close_indexes]['start_time'].values\n",
    "\n",
    "    fig = px.scatter(df, x='w_aurora',y='w_tycho', width=1000, height=600, \n",
    "                     opacity=0.3, title=f'{trip_direction}')\n",
    "            \n",
    "    fig.show()\n",
    "    \n",
    "    #fig = px.scatter(df, x='start_aurora',y='start_tycho', width=1000, height=600, \n",
    "    #                 opacity=0.3, title=f'{trip_direction}')\n",
    "    #fig.show()"
   ]
  },
  {
   "cell_type": "code",
   "execution_count": null,
   "id": "b9ffc3f3-bfd6-40e8-875e-c19697dc3992",
   "metadata": {},
   "outputs": [],
   "source": [
    "fig = px.scatter_3d(df_cut, x='start_time', y='sog', z='P', color='ship',\n",
    "              opacity=0.5,\n",
    "                    width=1000,\n",
    "                    height=800\n",
    "    )\n",
    "\n",
    "fig.update_traces(marker=dict(size=2,\n",
    "                         ))\n",
    "\n",
    "fig.show()"
   ]
  },
  {
   "cell_type": "code",
   "execution_count": null,
   "id": "f20d5881-e5a7-4a59-a3d1-72f9e92bf9a1",
   "metadata": {},
   "outputs": [],
   "source": [
    "def select_features(df):\n",
    "    \n",
    "    data = df[['P','sog']].copy()\n",
    "    data.sort_values(by='sog', inplace=True)\n",
    "    data.set_index('sog', inplace=True)\n",
    "    y = data.pop('P')\n",
    "    X = data\n",
    "    X['sog**3'] = X.index**3\n",
    "    \n",
    "    return y,X\n",
    "\n",
    "def fit_sog3(df):\n",
    "    \n",
    "    y,X = select_features(df)\n",
    "    model = sm.OLS(y,X)\n",
    "    results = model.fit()\n",
    "    \n",
    "    return results"
   ]
  },
  {
   "cell_type": "code",
   "execution_count": null,
   "id": "4a469498-87d7-46e0-9c33-097dc8efcbc8",
   "metadata": {},
   "outputs": [],
   "source": [
    "models = ships.apply(fit_sog3)\n",
    "models"
   ]
  },
  {
   "cell_type": "code",
   "execution_count": null,
   "id": "57301035-20cd-4ddf-92e4-180bb4aceb93",
   "metadata": {},
   "outputs": [],
   "source": [
    "ships = df_cut.groupby(by='ship', sort=False)\n",
    "P_pred = pd.Series(dtype=float)\n",
    "for ship_name, ship in ships:\n",
    "    model = models[ship_name]\n",
    "    \n",
    "    P_pred = P_pred.append(model.predict(ship[['sog']]**3))\n",
    "\n",
    "df_cut['P_pred'] = P_pred"
   ]
  },
  {
   "cell_type": "code",
   "execution_count": null,
   "id": "c3d63b89-a448-43d7-84d9-f82aa09fe83d",
   "metadata": {},
   "outputs": [],
   "source": [
    "fig = px.scatter(df_cut, x='sog',y='P', color='ship', width=1000, height=600, \n",
    "                color_discrete_sequence=['red','green'], hover_data=['trip_no','trip_time'], opacity=0.2)\n",
    "\n",
    "for ship_name, model in models.items():\n",
    "    \n",
    "    sog = np.linspace(df_cut['sog'].min(), df_cut['sog'].max(), 100)\n",
    "    df_ = pd.DataFrame()\n",
    "    df_['sog**3'] = sog**3\n",
    "    P_pred = model.predict(df_)\n",
    "    \n",
    "    line = go.Scatter(x=sog, y=P_pred, name=ship_name)\n",
    "\n",
    "    fig.add_trace(line)\n",
    "\n",
    "fig.show()"
   ]
  },
  {
   "cell_type": "code",
   "execution_count": null,
   "id": "845974f2-08b8-4f37-996f-77ad77570749",
   "metadata": {},
   "outputs": [],
   "source": [
    "df_cut['P_rest'] = df_cut['P'] - df_cut['P_pred']"
   ]
  },
  {
   "cell_type": "code",
   "execution_count": null,
   "id": "fa8be79c-9afb-47eb-b83d-c8ef8f06e240",
   "metadata": {},
   "outputs": [],
   "source": [
    "df_cut['trip_direction'].unique()"
   ]
  },
  {
   "cell_type": "code",
   "execution_count": null,
   "id": "ede2296f-5ab2-4784-8508-8af62cac6b8c",
   "metadata": {},
   "outputs": [],
   "source": [
    "trip_direction='Helsingborg-Helsingør'\n",
    "df_ = df_cut.groupby(by='trip_direction').get_group(trip_direction)\n",
    "\n",
    "fig = px.scatter(df_, x='start_time',y='P_rest', color='ship', width=1000, height=600, \n",
    "            color_discrete_sequence=['red','green'], hover_data=['trip_no','trip_time'], title=trip_direction)\n",
    "fig.show()\n",
    "\n",
    "fig = px.scatter(df_, x='start_time',y='w', color='ship', width=1000, height=600, \n",
    "            color_discrete_sequence=['red','green'], hover_data=['trip_no','trip_time'], title=trip_direction)\n",
    "fig.show()\n",
    "\n",
    "fig = px.scatter(df_, x='start_time',y='aw', color='ship', width=1000, height=600, \n",
    "            color_discrete_sequence=['red','green'], hover_data=['trip_no','trip_time'], title=trip_direction)\n",
    "fig.show()\n",
    "\n",
    "fig = px.scatter(df_, x='start_time',y='aw_x', color='ship', width=1000, height=600, \n",
    "            color_discrete_sequence=['red','green'], hover_data=['trip_no','trip_time'], title=trip_direction)\n",
    "fig.show()\n",
    "\n",
    "fig = px.scatter(df_, x='start_time',y='aw_y', color='ship', width=1000, height=600, \n",
    "            color_discrete_sequence=['red','green'], hover_data=['trip_no','trip_time'], title=trip_direction)\n",
    "fig.show()"
   ]
  },
  {
   "cell_type": "code",
   "execution_count": null,
   "id": "6d728562-e057-4993-8a6e-7a8d58974123",
   "metadata": {},
   "outputs": [],
   "source": [
    "for trip_direction,df_ in df_cut.groupby(by='trip_direction'):\n",
    "    fig = px.scatter(df_, x='start_time',y='P_rest', color='ship', width=1000, height=600, \n",
    "                color_discrete_sequence=['red','green'], hover_data=['trip_no','trip_time'], title=trip_direction)\n",
    "    fig.show()\n",
    "    \n",
    "    fig = px.scatter(df_, x='start_time',y='w', color='ship', width=1000, height=600, \n",
    "                color_discrete_sequence=['red','green'], hover_data=['trip_no','trip_time'], title=trip_direction)\n",
    "    fig.show()\n",
    "    \n",
    "    fig = px.scatter(df_, x='start_time',y='aw_x', color='ship', width=1000, height=600, \n",
    "                color_discrete_sequence=['red','green'], hover_data=['trip_no','trip_time'], title=trip_direction)\n",
    "    fig.show()"
   ]
  },
  {
   "cell_type": "code",
   "execution_count": null,
   "id": "7d537f4b-aff9-4c0e-ae02-9115eaf4edce",
   "metadata": {},
   "outputs": [],
   "source": [
    "for trip_direction,df_ in df_cut.groupby(by='trip_direction'):\n",
    "    fig = px.scatter_3d(df_, x='start_time', y='w', z='P_rest', color='ship',\n",
    "                  opacity=0.5,\n",
    "                        width=1000,\n",
    "                        height=800, title=trip_direction\n",
    "        )\n",
    "    \n",
    "    fig.update_traces(marker=dict(size=2,\n",
    "                             ))\n",
    "    \n",
    "    fig.show()"
   ]
  },
  {
   "cell_type": "code",
   "execution_count": null,
   "id": "4ebe5538-068a-42fc-b895-4cf38290acee",
   "metadata": {},
   "outputs": [],
   "source": []
  },
  {
   "cell_type": "code",
   "execution_count": null,
   "id": "bd244a97-d297-4426-97d5-b88809e85f99",
   "metadata": {},
   "outputs": [],
   "source": []
  },
  {
   "cell_type": "code",
   "execution_count": null,
   "id": "f847a490-e109-494f-8e13-d120eaee72b1",
   "metadata": {},
   "outputs": [],
   "source": []
  },
  {
   "cell_type": "code",
   "execution_count": null,
   "id": "be98c718-f160-4124-b968-ccdded3b5fdf",
   "metadata": {},
   "outputs": [],
   "source": []
  }
 ],
 "metadata": {
  "kernelspec": {
   "display_name": "d2e2f",
   "language": "python",
   "name": "python3"
  },
  "language_info": {
   "codemirror_mode": {
    "name": "ipython",
    "version": 3
   },
   "file_extension": ".py",
   "mimetype": "text/x-python",
   "name": "python",
   "nbconvert_exporter": "python",
   "pygments_lexer": "ipython3",
   "version": "3.7.9"
  }
 },
 "nbformat": 4,
 "nbformat_minor": 5
}
