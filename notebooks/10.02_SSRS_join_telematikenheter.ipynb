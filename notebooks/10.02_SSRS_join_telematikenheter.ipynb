{
 "cells": [
  {
   "cell_type": "code",
   "execution_count": null,
   "id": "9ffc7770-19c4-4815-a7ef-32970f878bf8",
   "metadata": {},
   "outputs": [],
   "source": [
    "# %load imports.py\n",
    "%matplotlib inline\n",
    "%load_ext autoreload\n",
    "%autoreload 2\n",
    "\n",
    "import numpy as np\n",
    "import pandas as pd\n",
    "import matplotlib.pyplot as plt\n",
    "import matplotlib.pyplot as plt\n",
    "import seaborn as sns\n",
    "width=20\n",
    "height=3\n",
    "plt.rcParams[\"figure.figsize\"] = (width,height)\n",
    "sns.set(rc={'figure.figsize':(width,height)})\n",
    "\n",
    "#import seaborn as sns\n",
    "import os\n",
    "from collections import OrderedDict\n",
    "\n",
    "from IPython.display import display\n",
    "\n",
    "pd.options.display.max_rows = 999\n",
    "pd.options.display.max_columns = 999\n",
    "pd.set_option(\"display.max_columns\", None)\n",
    "\n",
    "import folium\n",
    "import plotly.express as px\n",
    "import plotly.graph_objects as go\n",
    "\n",
    "import sys\n",
    "import os\n",
    "\n",
    "from sklearn.metrics import r2_score\n",
    "\n",
    "import scipy.integrate\n",
    "import seaborn as sns\n",
    "\n",
    "import pyarrow as pa\n",
    "import pyarrow.parquet as pq\n",
    "\n",
    "import dask.dataframe\n",
    "import statsmodels.api as sm\n",
    "\n",
    "from d2e2f.visualization import visualize\n",
    "import scipy.integrate\n",
    "from pathlib import Path"
   ]
  },
  {
   "cell_type": "code",
   "execution_count": null,
   "id": "cdcd331f-6444-44e9-af04-74b42b027615",
   "metadata": {},
   "outputs": [],
   "source": [
    "telematikenheter_loaders = catalog.load(\"ssrs.telematikenheter\")"
   ]
  },
  {
   "cell_type": "code",
   "execution_count": null,
   "id": "9b8dd8fb-78d5-4ca9-801e-6fb654033b03",
   "metadata": {},
   "outputs": [],
   "source": [
    "wantes_ship = 'SSRS15-03_322012059'\n",
    "telematikenheter = {}\n",
    "for key, loader in telematikenheter_loaders.items():\n",
    "    ship = Path(key).parts[0]\n",
    "    if not ship==wantes_ship:\n",
    "        continue\n",
    "    \n",
    "    telematikenhet = Path(key).parts[1]\n",
    "    s = loader()[telematikenhet]\n",
    "    s.index = pd.to_datetime(s.index)\n",
    "    telematikenheter[telematikenhet] = s.sort_index() "
   ]
  },
  {
   "cell_type": "code",
   "execution_count": null,
   "id": "64dcf8a6-cb19-42e5-9396-7f3418e2c346",
   "metadata": {},
   "outputs": [],
   "source": [
    "telematikenheter.keys()"
   ]
  },
  {
   "cell_type": "code",
   "execution_count": null,
   "id": "846f7967-1911-494b-8101-6a0356eaefd5",
   "metadata": {},
   "outputs": [],
   "source": [
    "time_step_mins = {}\n",
    "for key, values in telematikenheter.items():\n",
    "    time = values.index -  values.index[0]\n",
    "    time_step_mins[key] = np.min(np.diff(time.total_seconds()))\n",
    "time_step_mins"
   ]
  },
  {
   "cell_type": "code",
   "execution_count": null,
   "id": "17bfeca0-10fd-44b2-9c88-010ef8c6d462",
   "metadata": {},
   "outputs": [],
   "source": [
    "telematikenheter['latitude']"
   ]
  },
  {
   "cell_type": "code",
   "execution_count": null,
   "id": "8cb2af9f-77d8-476f-8b31-bcc27ebaef20",
   "metadata": {},
   "outputs": [],
   "source": [
    "(telematikenheter['longitude'].index == telematikenheter['latitude'].index).all()"
   ]
  },
  {
   "cell_type": "code",
   "execution_count": null,
   "id": "6fbd4328-ca48-402b-a32f-06b953ec9088",
   "metadata": {},
   "outputs": [],
   "source": [
    "telematikenheter['latitude'].index"
   ]
  },
  {
   "cell_type": "code",
   "execution_count": null,
   "id": "0b5aa874-e940-436b-88f3-1841f9972a38",
   "metadata": {},
   "outputs": [],
   "source": [
    "telematikenheter['PGN129026_COGSOG_COGTrue_dsh_SA16'].index"
   ]
  },
  {
   "cell_type": "code",
   "execution_count": null,
   "id": "f147590b-5fd1-4faf-8304-14dfba1c2cc1",
   "metadata": {},
   "outputs": [],
   "source": [
    "fig,ax=plt.subplots()\n",
    "i=50\n",
    "\n",
    "time = latitude.index -  latitude.index[0]\n",
    "\n",
    "key = 'PGN129026_COGSOG_COGTrue_dsh_SA16'\n",
    "signal = telematikenheter[key]\n",
    "time_signal = signal.index -  signal.index[0]\n",
    "\n",
    "time_resolution_min = np.min([np.min(np.diff(time.total_seconds())), np.min(np.diff(time_signal.total_seconds()))])\n",
    "\n",
    "time_resolution = f'{time_resolution_min}S'\n",
    "latitude = telematikenheter['latitude'].iloc[0:i]\n",
    "latitude_resample = latitude.resample(time_resolution).interpolate()\n",
    "latitude.plot(ax=ax, style='b.-', label='latitude')\n",
    "latitude_resample.plot(ax=ax, style='b:', label='__no_label__')\n",
    "ax.legend()\n",
    "\n",
    "mask = signal.index <= latitude.index[-1]\n",
    "signal = signal.loc[mask]\n",
    "signal_resample = signal.resample(time_resolution).interpolate()\n",
    "\n",
    "ax2 = ax.twinx()\n",
    "signal.plot(ax=ax2, style='r.-', label=key)\n",
    "signal_resample.plot(ax=ax2, style='r:', label='__no_label__')\n",
    "ax2.legend()"
   ]
  },
  {
   "cell_type": "code",
   "execution_count": null,
   "id": "81778bfb-3784-4113-8c6b-f886fe484c5d",
   "metadata": {},
   "outputs": [],
   "source": [
    "time_resolution_min"
   ]
  },
  {
   "cell_type": "code",
   "execution_count": null,
   "id": "87d21a32-5068-42df-a4e9-d9b08ab5405a",
   "metadata": {},
   "outputs": [],
   "source": [
    "fig,ax=plt.subplots()\n",
    "latitude_resample.plot(ax=ax, style='b.-', label='latitude')\n",
    "ax2 = ax.twinx()\n",
    "signal_resample.plot(ax=ax2, style='r.-', label=key)\n",
    "ax2.legend()"
   ]
  },
  {
   "cell_type": "code",
   "execution_count": null,
   "id": "b68c0d15-dfdc-4ebc-9935-41fceb1d91c1",
   "metadata": {},
   "outputs": [],
   "source": []
  },
  {
   "cell_type": "code",
   "execution_count": null,
   "id": "1dd006fd-2742-4aae-8c47-42a8a24cc62d",
   "metadata": {},
   "outputs": [],
   "source": []
  }
 ],
 "metadata": {
  "kernelspec": {
   "display_name": "d2e2f",
   "language": "python",
   "name": "python3"
  },
  "language_info": {
   "codemirror_mode": {
    "name": "ipython",
    "version": 3
   },
   "file_extension": ".py",
   "mimetype": "text/x-python",
   "name": "python",
   "nbconvert_exporter": "python",
   "pygments_lexer": "ipython3",
   "version": "3.7.9"
  }
 },
 "nbformat": 4,
 "nbformat_minor": 5
}
