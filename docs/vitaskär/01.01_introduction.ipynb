{
 "cells": [
  {
   "cell_type": "markdown",
   "id": "103adefa-a070-48bb-9b6f-149cc1355df5",
   "metadata": {},
   "source": [
    "# Introduction\n",
    "The operation of Vitaskär as seen in {numref}`fig:vitaskar` is investigated with historical data collected from the online [Blueflow](https://www.blueflow.se/) monitoring systems installed on the ships. This kind of analysis is important for the *Energy management* of ships: monitoring, analyzing and controlling. Only energy consumption that is related to the propulsion of the ships, the energy that moves the ships from A to B is analyzed. The energy consumption from the ''hotel'' of the ships is thereby not included in this analysis.   \n",
    "\n",
    "```{figure} vitaskär.jpg\n",
    "---\n",
    "height: 200px\n",
    "name: fig:vitaskar\n",
    "---\n",
    "Vitaskär\n",
    "```\n",
    "\n",
    "The report is organized with a [method section](method) which explains how the analysis has been conducted in detail followed by a section about the [collected data](data). The results from the analysis is presented in the [result section](results) followed by [summary and conclusions](summary)."
   ]
  }
 ],
 "metadata": {
  "kernelspec": {
   "display_name": "d2e2f",
   "language": "python",
   "name": "python3"
  },
  "language_info": {
   "codemirror_mode": {
    "name": "ipython",
    "version": 3
   },
   "file_extension": ".py",
   "mimetype": "text/x-python",
   "name": "python",
   "nbconvert_exporter": "python",
   "pygments_lexer": "ipython3",
   "version": "3.7.9"
  }
 },
 "nbformat": 4,
 "nbformat_minor": 5
}
