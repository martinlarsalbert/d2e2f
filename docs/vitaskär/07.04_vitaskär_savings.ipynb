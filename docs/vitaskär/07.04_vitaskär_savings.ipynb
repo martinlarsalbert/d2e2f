{
 "cells": [
  {
   "cell_type": "markdown",
   "id": "1510ac6f",
   "metadata": {
    "papermill": {
     "duration": 0.015624,
     "end_time": "2021-05-21T15:53:18.518461",
     "exception": false,
     "start_time": "2021-05-21T15:53:18.502837",
     "status": "completed"
    },
    "tags": []
   },
   "source": [
    "# M/S Vitaskär"
   ]
  },
  {
   "cell_type": "code",
   "execution_count": null,
   "id": "c06d4e35",
   "metadata": {
    "papermill": {
     "duration": 3.700467,
     "end_time": "2021-05-21T15:53:22.375142",
     "exception": false,
     "start_time": "2021-05-21T15:53:18.674675",
     "status": "completed"
    },
    "tags": [
     "remove_cell"
    ]
   },
   "outputs": [],
   "source": [
    "# %load imports.py\n",
    "# %load ../imports.py\n",
    "%matplotlib inline\n",
    "%load_ext autoreload\n",
    "%autoreload 2\n",
    "%config Completer.use_jedi = False  ## (To fix autocomplete)\n",
    "\n",
    "import numpy as np\n",
    "import pandas as pd\n",
    "import matplotlib.pyplot as plt\n",
    "\n",
    "import seaborn as sns\n",
    "width=20\n",
    "height=3\n",
    "plt.rcParams[\"figure.figsize\"] = (width,height)\n",
    "sns.set(rc={'figure.figsize':(width,height)})\n",
    "\n",
    "#import seaborn as sns\n",
    "import os\n",
    "from collections import OrderedDict\n",
    "\n",
    "from IPython.display import display\n",
    "\n",
    "pd.options.display.max_rows = 999\n",
    "pd.options.display.max_columns = 999\n",
    "pd.set_option(\"display.max_columns\", None)\n",
    "\n",
    "import folium\n",
    "import plotly.express as px\n",
    "import plotly.graph_objects as go\n",
    "\n",
    "import sys\n",
    "import os\n",
    "\n",
    "from sklearn.metrics import r2_score\n",
    "\n",
    "import scipy.integrate\n",
    "import seaborn as sns\n",
    "\n",
    "import pyarrow as pa\n",
    "import pyarrow.parquet as pq\n",
    "\n",
    "import dask.dataframe\n",
    "import statsmodels.api as sm\n",
    "\n",
    "from d2e2f.visualization import visualize\n",
    "import scipy.integrate\n",
    "\n",
    "from d2e2f.pipelines.trip_statistics import clean_statistics\n",
    "from scipy.stats import norm\n",
    "from myst_nb import glue\n",
    "#plt.style.use('presentation')\n",
    "from IPython.display import display, Markdown, Latex\n",
    "import sympy as sp\n",
    "from d2e2f.visualization.visualize import plot_map, plot_trips"
   ]
  },
  {
   "cell_type": "code",
   "execution_count": null,
   "id": "c4af21de",
   "metadata": {
    "papermill": {
     "duration": 0.234474,
     "end_time": "2021-05-21T15:53:22.625141",
     "exception": false,
     "start_time": "2021-05-21T15:53:22.390667",
     "status": "completed"
    },
    "tags": [
     "remove_cell",
     "remove_output"
    ]
   },
   "outputs": [],
   "source": [
    "%reload_kedro\n",
    "df_stat = catalog.load('vitaskar.trip_statistics_clean')\n",
    "#df_stat = catalog.load('uraniborg.trip_statistics')\n",
    "df_stat['start_time'] = pd.to_datetime(df_stat['start_time'], utc=True)\n",
    "df_stat['end_time'] = pd.to_datetime(df_stat['end_time'], utc=True);\n",
    "#df_stat.describe()"
   ]
  },
  {
   "cell_type": "code",
   "execution_count": null,
   "id": "49e4574d-b31c-49fb-b526-04c2b98eaaa1",
   "metadata": {
    "tags": [
     "remove_cell"
    ]
   },
   "outputs": [],
   "source": [
    "df_stat['item'] = 'raw'\n",
    "df_clean = df_stat.copy()\n",
    "df_clean['item'] = 'clean'\n",
    "df_clean.dropna(subset=[\"Consumption ME1 (L)\", \"Consumption ME2 (L)\"], inplace=True)\n",
    "\n",
    "\n",
    "\n",
    "mask = df_clean['consumption'] > 0\n",
    "df_clean = df_clean.loc[mask].copy()\n",
    "\n",
    "#mask = df_clean['E'] > df_clean['E'].quantile(0.01) \n",
    "#df_clean = df_clean.loc[mask].copy()"
   ]
  },
  {
   "cell_type": "code",
   "execution_count": null,
   "id": "68476f1c-cb74-444a-8af4-d3dc230c83d2",
   "metadata": {
    "tags": [
     "remove_cell"
    ]
   },
   "outputs": [],
   "source": [
    "df_clean.head()"
   ]
  },
  {
   "cell_type": "code",
   "execution_count": null,
   "id": "f0a18f24-93f8-4179-9baa-96c0556d2541",
   "metadata": {
    "tags": [
     "remove_input",
     "remove_cell"
    ]
   },
   "outputs": [],
   "source": [
    "fig,ax=plt.subplots()\n",
    "fig.set_size_inches(20,5)\n",
    "facegrid = sns.scatterplot(data=df_clean, x='start_time',y='consumption', ax=ax);\n",
    "ax.set_ylabel('(Fuel consumption per trip) [l]');\n",
    "\n",
    "fig = ax.get_figure()\n",
    "fig_name = 'overview'\n",
    "glue(fig_name, fig, display=False)"
   ]
  },
  {
   "cell_type": "code",
   "execution_count": null,
   "id": "939a40d0-4e48-4aea-abb2-6eaf9e96fb25",
   "metadata": {
    "tags": [
     "remove_input",
     "remove_cell"
    ]
   },
   "outputs": [],
   "source": [
    "fig,ax=plt.subplots()\n",
    "fig.set_size_inches(20,5)\n",
    "sns.histplot(df_clean, x='consumption', hue='trip_direction', ax=ax);\n",
    "\n",
    "fig_name = 'fuel_hist'\n",
    "glue(fig_name, fig, display=False)"
   ]
  },
  {
   "cell_type": "code",
   "execution_count": null,
   "id": "c4ca8d14-77c2-47fd-853c-a95f5327653d",
   "metadata": {
    "tags": [
     "remove_cell"
    ]
   },
   "outputs": [],
   "source": [
    "fig,ax=plt.subplots()\n",
    "fig.set_size_inches(20,5)\n",
    "sns.histplot(df_clean, x='sog', hue='trip_direction', ax=ax);\n",
    "\n",
    "fig_name = 'sog_hist'\n",
    "glue(fig_name, fig, display=False)"
   ]
  },
  {
   "cell_type": "markdown",
   "id": "a056578f-ffbc-4898-9f7c-40e62ffd999a",
   "metadata": {},
   "source": [
    "```{glue:figure} overview\n",
    ":figwidth: 1000px\n",
    ":name: \"overview\"\n",
    "\n",
    "Fuel consumption over time\n",
    "```\n",
    "\n",
    "```{glue:figure} fuel_hist\n",
    ":figwidth: 1000px\n",
    ":name: \"fuel_hist\"\n",
    "\n",
    "Histogram over fuel consumption in both directions.\n",
    "```\n",
    "\n",
    "```{glue:figure} sog_hist\n",
    ":figwidth: 1000px\n",
    ":name: \"sog_hist\"\n",
    "\n",
    "Histogram over speed over ground in both directions.\n",
    "```"
   ]
  },
  {
   "cell_type": "code",
   "execution_count": null,
   "id": "9177fead-9cec-433f-a356-75f28eec294f",
   "metadata": {
    "tags": [
     "remove_cell"
    ]
   },
   "outputs": [],
   "source": [
    "df_ = df_clean.set_index('start_time')\n",
    "df_.sort_index(inplace=True)\n",
    "\n",
    "tänd = '2022-02-01'\n",
    "utbildning = '2022-07-13'\n",
    "\n",
    "df_.loc[:tänd,'period'] = 'släckta skärmar'\n",
    "df_.loc[tänd:utbildning,'period'] = 'tända skärmar'\n",
    "df_.loc[utbildning:,'period'] = 'efter utbildning'"
   ]
  },
  {
   "cell_type": "code",
   "execution_count": null,
   "id": "b8edcd45-f570-4ea3-9a41-3f99c434f20d",
   "metadata": {
    "tags": [
     "remove_cell"
    ]
   },
   "outputs": [],
   "source": [
    "df_expanding = df_.expanding().mean()"
   ]
  },
  {
   "cell_type": "code",
   "execution_count": null,
   "id": "95c496af-db5c-4fe6-877d-9e3ff5094e4d",
   "metadata": {
    "tags": [
     "remove_input",
     "remove_cell"
    ]
   },
   "outputs": [],
   "source": [
    "def plot_periods(y='consumption', ylabel='Fuel consumption [liters]', fig_name = 'fuel'):\n",
    "    \n",
    "    fig,ax=plt.subplots()\n",
    "    fig.set_size_inches(20,10)\n",
    "    \n",
    "    styles = ['k.','g.','b.']\n",
    "    for style, (period, df_period) in zip(styles,df_.groupby(by='period', sort=False)):\n",
    "        df_period.plot(y=y, label=period, ax=ax, style=style)\n",
    "    df_expanding.loc[tänd:].plot(y=y, label=f'expanding mean', ax=ax, style='k-', lw=3)\n",
    "    ax.set_ylabel(ylabel)\n",
    "    ax.legend();\n",
    "    \n",
    "    \n",
    "    fig = ax.get_figure()\n",
    "    glue(fig_name, fig, display=False)\n",
    "    \n",
    "plot_periods()\n",
    "#plot_periods(y='w', ylabel='Wind speed [m/s]', fig_name='wind')\n",
    "plot_periods(y='trip_time', ylabel='trip time', fig_name='trip_times')\n"
   ]
  },
  {
   "cell_type": "code",
   "execution_count": null,
   "id": "fa12e876-5c6f-4763-b76e-01c1e9ca2715",
   "metadata": {},
   "outputs": [],
   "source": [
    "trips = catalog.load(\"vitaskar.data_with_trip_columns\")\n",
    "harbours = catalog.load(\"params:vitaskar.harbours\")\n",
    "initial_speed_separator = catalog.load(\"params:initial_speed_separator\")"
   ]
  },
  {
   "cell_type": "code",
   "execution_count": null,
   "id": "5afbdf25-3d90-4317-af65-039587dc8d87",
   "metadata": {},
   "outputs": [],
   "source": [
    "trip_nos = df_.groupby(by='period')['trip_no'].unique()\n",
    "trip_nos"
   ]
  },
  {
   "cell_type": "code",
   "execution_count": null,
   "id": "c3519401-2ebe-4696-be20-738ea1bd0fbf",
   "metadata": {},
   "outputs": [],
   "source": [
    "mask = trips['trip_no'].isin(trip_nos['tända skärmar'])\n",
    "plot_trips(df=trips.loc[mask], zoom_start=12)"
   ]
  },
  {
   "cell_type": "code",
   "execution_count": null,
   "id": "9aa53bd8-d6ae-47ed-951b-8d86d4bb451a",
   "metadata": {},
   "outputs": [],
   "source": [
    "mask = trips['trip_no'].isin(trip_nos['efter utbildning'])\n",
    "plot_trips(df=trips.loc[mask], zoom_start=12)"
   ]
  },
  {
   "cell_type": "code",
   "execution_count": null,
   "id": "0fccb608-2530-4a7e-889f-f4ca886b9da0",
   "metadata": {},
   "outputs": [],
   "source": [
    "df_.rolling(window='10D').mean().plot(y='consumption')"
   ]
  },
  {
   "cell_type": "code",
   "execution_count": null,
   "id": "2b97b3c9-11b3-4a9f-8b83-216f0dfda3d5",
   "metadata": {},
   "outputs": [],
   "source": [
    "df_.rolling(window='10D').sum().plot(y='consumption')"
   ]
  },
  {
   "cell_type": "code",
   "execution_count": null,
   "id": "b8a5e177-7f32-4f58-805a-62591643bef0",
   "metadata": {},
   "outputs": [],
   "source": [
    "df_.hist('consumption', bins=100)"
   ]
  },
  {
   "cell_type": "code",
   "execution_count": null,
   "id": "528437ff-7e86-4097-8f19-fa45e431eaa5",
   "metadata": {},
   "outputs": [],
   "source": [
    "mask = df_.index <= '2022-07-13'\n",
    "df_.loc[mask].mean()['consumption']"
   ]
  },
  {
   "cell_type": "code",
   "execution_count": null,
   "id": "f11cb0ec-bfe2-4eba-b67b-c639e5168080",
   "metadata": {},
   "outputs": [],
   "source": [
    "mask = df_.index <= '2022-07-13'\n",
    "df_.loc[mask].max()['consumption']"
   ]
  },
  {
   "cell_type": "code",
   "execution_count": null,
   "id": "c4c87447-c632-40a2-b4ff-13a7baf9164e",
   "metadata": {},
   "outputs": [],
   "source": [
    "mask = df_.index > '2022-07-13'\n",
    "df_.loc[mask].mean()['consumption']"
   ]
  },
  {
   "cell_type": "code",
   "execution_count": null,
   "id": "c748380f-cba1-4864-8521-359ea35a1ccf",
   "metadata": {},
   "outputs": [],
   "source": [
    "mask = df_.index > '2022-07-13'\n",
    "df_.loc[mask].max()['consumption']"
   ]
  },
  {
   "cell_type": "code",
   "execution_count": null,
   "id": "0f1ceff1-906c-4e97-8c53-1bdd652b6641",
   "metadata": {},
   "outputs": [],
   "source": [
    "mask = trips.index <= utbildning\n",
    "trips.loc[mask].describe()"
   ]
  },
  {
   "cell_type": "code",
   "execution_count": null,
   "id": "ff36cea2-063c-40d4-8700-f0b6a76b052a",
   "metadata": {},
   "outputs": [],
   "source": [
    "mask = trips.index > utbildning\n",
    "trips.loc[mask].describe()"
   ]
  },
  {
   "cell_type": "code",
   "execution_count": null,
   "id": "9974348c-c5c4-442b-8ad2-a2f75c9e40d6",
   "metadata": {},
   "outputs": [],
   "source": [
    "mask = trips['trip_no'].isin(df_clean['trip_no'])\n",
    "trips=trips.loc[mask]\n",
    "trips.sort_index(inplace=True)\n",
    "trips.head()\n",
    "trips['time'] = (trips.index - trips.index[0]).total_seconds()\n",
    "trips.head()"
   ]
  },
  {
   "cell_type": "code",
   "execution_count": null,
   "id": "0754464d-434a-4503-8814-30226f85d0a3",
   "metadata": {},
   "outputs": [],
   "source": [
    "trips['time'].diff().max()"
   ]
  },
  {
   "cell_type": "code",
   "execution_count": null,
   "id": "1cef6ca9-190f-4c12-82e7-db94362b7224",
   "metadata": {},
   "outputs": [],
   "source": [
    "trips['time'].diff().plot()"
   ]
  },
  {
   "cell_type": "code",
   "execution_count": null,
   "id": "b64e8bcc-b3ed-4f3f-b642-3f36c6be40b9",
   "metadata": {},
   "outputs": [],
   "source": [
    "mask = trips['time'].diff() > 600\n",
    "trips.loc[mask]['consumption'].max()"
   ]
  },
  {
   "cell_type": "code",
   "execution_count": null,
   "id": "b65005b7-426a-4574-b577-915b65c84aa1",
   "metadata": {},
   "outputs": [],
   "source": []
  },
  {
   "cell_type": "code",
   "execution_count": null,
   "id": "3c827fb6-3d5c-45a3-b80c-e692b064096f",
   "metadata": {},
   "outputs": [],
   "source": [
    "index = trips.loc[mask].iloc[0].name\n",
    "i = trips.index.get_loc(index)\n",
    "trips.iloc[i-2:i+3]"
   ]
  },
  {
   "cell_type": "code",
   "execution_count": null,
   "id": "988b41c6-2e1a-468c-9ab7-25f55060db8b",
   "metadata": {},
   "outputs": [],
   "source": [
    "fig,ax=plt.subplots()\n",
    "trips.iloc[i-10:i+10].plot(y='sog', style='.-', ax=ax)\n",
    "ax.plot(trips.iloc[i].name, trips.iloc[i]['sog'],'go')\n",
    "ax.plot(trips.iloc[i-1].name, trips.iloc[i-1]['sog'],'ro')\n",
    "\n",
    "fig,ax=plt.subplots()\n",
    "trips.iloc[i-10:i+10].plot(y='consumption', style='.-', ax=ax)\n",
    "ax.plot(trips.iloc[i].name, trips.iloc[i]['consumption'],'go')\n",
    "ax.plot(trips.iloc[i-1].name, trips.iloc[i-1]['consumption'],'ro')\n",
    "\n",
    "plot_trips(df=trips.iloc[i-10:i+10], zoom_start=14)"
   ]
  },
  {
   "cell_type": "code",
   "execution_count": null,
   "id": "d01f7c77-e6fb-4f23-a214-f90ab14700ca",
   "metadata": {},
   "outputs": [],
   "source": [
    "harbours"
   ]
  },
  {
   "cell_type": "code",
   "execution_count": null,
   "id": "c30e8fed-69ff-4fc9-904f-281b86d04af4",
   "metadata": {},
   "outputs": [],
   "source": [
    "harbour = harbours['Norgersund']\n",
    "latitude = harbour[0]\n",
    "longitude = harbour[1]\n",
    "\n",
    "trips['distance to Norgersund'] = np.sqrt((trips.latitude - latitude)**2 + (trips.longitude - longitude)**2)\n"
   ]
  },
  {
   "cell_type": "code",
   "execution_count": null,
   "id": "a4c657f9-d00f-4a57-b213-1263df7db888",
   "metadata": {},
   "outputs": [],
   "source": [
    "trip = trips.groupby(by='trip_no').get_group(100)\n",
    "plot_map(trip, zoom_start=13)"
   ]
  },
  {
   "cell_type": "code",
   "execution_count": null,
   "id": "912129f4-a8fc-4230-a0d3-9845f78ffe07",
   "metadata": {},
   "outputs": [],
   "source": [
    "trip.plot(y='distance to Norgersund')"
   ]
  },
  {
   "cell_type": "code",
   "execution_count": null,
   "id": "e05d392c-ae3f-43bb-976b-5f1d2f58cbd2",
   "metadata": {},
   "outputs": [],
   "source": [
    "trip.head()"
   ]
  },
  {
   "cell_type": "code",
   "execution_count": null,
   "id": "6cc77f4a-565f-46fd-9d22-b8e20f04696c",
   "metadata": {},
   "outputs": [],
   "source": [
    "distance_limit = 0.0004\n",
    "mask = trips['distance to Norgersund'] < distance_limit\n",
    "plot_trips(trips.loc[mask])"
   ]
  },
  {
   "cell_type": "code",
   "execution_count": null,
   "id": "08756c95-3a32-418f-997a-d80f2b8a460b",
   "metadata": {},
   "outputs": [],
   "source": [
    "np.roll(distance, -1)"
   ]
  },
  {
   "cell_type": "code",
   "execution_count": null,
   "id": "a867da0f-03df-418a-85d2-3e937cb144ac",
   "metadata": {},
   "outputs": [],
   "source": [
    "distance"
   ]
  },
  {
   "cell_type": "code",
   "execution_count": null,
   "id": "b072c9c4-a277-4d2e-9257-c66835a1586c",
   "metadata": {},
   "outputs": [],
   "source": []
  },
  {
   "cell_type": "code",
   "execution_count": null,
   "id": "66507634-1a0b-45bc-b908-44c6fd5a689e",
   "metadata": {},
   "outputs": [],
   "source": [
    "distance"
   ]
  },
  {
   "cell_type": "code",
   "execution_count": null,
   "id": "3c583b27-5a96-4b50-b4b8-499381c1ac53",
   "metadata": {},
   "outputs": [],
   "source": [
    "N = 5\n",
    "distance = trips['distance to Norgersund']\n",
    "\n",
    "M = np.concatenate([[np.roll(distance,-i)] for i in range(N,1,-1)])\n",
    "average_previous_distance = M.mean(axis=0)\n",
    "\n",
    "mask = ((distance <= distance_limit) & (average_previous_distance > distance_limit))\n",
    "entering = trips.loc[mask]       "
   ]
  },
  {
   "cell_type": "code",
   "execution_count": null,
   "id": "83b6c8a3-f2a5-434c-a71b-0f8cc1bed5fc",
   "metadata": {},
   "outputs": [],
   "source": [
    "def entering_or_leaving_harbour(harbour: list, trips :pd.DataFrame, entering=True, initial_speed_separator=0.1, distance_limit = 0.0004, N = 5):\n",
    "                        \n",
    "        \n",
    "    latitude = harbour[0]\n",
    "    longitude = harbour[1]\n",
    "    \n",
    "    distance = np.sqrt((trips.latitude - latitude)**2 + (trips.longitude - longitude)**2)\n",
    "    sog = trips['sog']\n",
    "\n",
    "    # Matrix with data shifted forward in time in the rows\n",
    "    if N > 1:\n",
    "        M = np.concatenate([[np.roll(distance,-i)] for i in range(N,1,-1)])\n",
    "        average_previous_distance = M.mean(axis=0)\n",
    "    else:\n",
    "        average_previous_distance = np.roll(distance,-1)\n",
    "        \n",
    "    # If the ship is within the distance_limit of the harbour \n",
    "    # and the mean distance from the N previous time steps is larger, \n",
    "    # this is an entering harbour event.\n",
    "    \n",
    "    if entering:\n",
    "        # Entering:\n",
    "        mask = ((distance >= distance_limit) & (average_previous_distance < distance_limit))\n",
    "    else:\n",
    "        # Leaving:\n",
    "        mask = ((distance <= distance_limit) & (average_previous_distance > distance_limit))\n",
    "    \n",
    "    events = trips.loc[mask]\n",
    "    return events\n",
    "        \n",
    "\n",
    "    "
   ]
  },
  {
   "cell_type": "code",
   "execution_count": null,
   "id": "fc937361-5635-4629-a4fe-71340473a0f4",
   "metadata": {},
   "outputs": [],
   "source": [
    "distance_limit = 0.0006\n",
    "entering_harbour1 = entering_or_leaving_harbour(harbour=harbours['Norgersund'], trips=trips, entering=True, distance_limit=distance_limit, N=1)\n",
    "leaving_harbour1 = entering_or_leaving_harbour(harbour=harbours['Norgersund'], trips=trips, entering=False, distance_limit=distance_limit, N=1)"
   ]
  },
  {
   "cell_type": "code",
   "execution_count": null,
   "id": "7e41a0b6-3479-4508-aa1d-a4aae7c7bf0f",
   "metadata": {},
   "outputs": [],
   "source": [
    "distance_limit = 0.0006\n",
    "entering_harbour2 = entering_or_leaving_harbour(harbour=harbours['Hanö'], trips=trips, entering=True, distance_limit=distance_limit, N=1)\n",
    "leaving_harbour2 = entering_or_leaving_harbour(harbour=harbours['Hanö'], trips=trips, entering=False, distance_limit=distance_limit, N=1)"
   ]
  },
  {
   "cell_type": "code",
   "execution_count": null,
   "id": "9f6df623-8835-4a1a-babc-bb345894742a",
   "metadata": {},
   "outputs": [],
   "source": [
    "fig,ax=plt.subplots()\n",
    "entering_harbour1.plot(y='sog', style='r^', label='entering Norgersund', ax=ax)\n",
    "leaving_harbour1.plot(y='sog', style='go', label='leaving Norgersund', ax=ax)\n",
    "\n",
    "entering_harbour2.plot(y='sog', style='rv', label='entering Hanö', ax=ax)\n",
    "leaving_harbour2.plot(y='sog', style='gs', label='leaving Hanö', ax=ax)\n",
    "\n",
    "trips.plot(y='sog', style='.-', label='sog', ax=ax, zorder=-10)\n",
    "ax.set_xlim('2022-05-01','2022-05-02')\n",
    "ax.legend()"
   ]
  },
  {
   "cell_type": "code",
   "execution_count": null,
   "id": "c3b32794-9100-430c-8ff6-3075e2fe190e",
   "metadata": {},
   "outputs": [],
   "source": [
    "mask = trips['sog'] > 0.1\n",
    "\n",
    "fig,ax=plt.subplots()\n",
    "entering_harbour1.plot(y='sog', style='r^', label='entering Norgersund', ax=ax)\n",
    "leaving_harbour1.plot(y='sog', style='go', label='leaving Norgersund', ax=ax)\n",
    "\n",
    "entering_harbour2.plot(y='sog', style='rv', label='entering Hanö', ax=ax)\n",
    "leaving_harbour2.plot(y='sog', style='gs', label='leaving Hanö', ax=ax)\n",
    "\n",
    "trips.loc[mask].plot(y='sog', style='.-', label='sog', ax=ax, zorder=-10)\n",
    "ax.set_xlim('2022-05-01','2022-05-02')\n",
    "ax.legend()\n"
   ]
  },
  {
   "cell_type": "code",
   "execution_count": null,
   "id": "fe1bf677-e10d-4784-b54d-138c86a6a721",
   "metadata": {},
   "outputs": [],
   "source": [
    "fig,ax=plt.subplots()\n",
    "df_clean.plot(x='start_time', y='sog', style='go', label='trip start', ax=ax)\n",
    "df_clean.plot(x='end_time', y='sog', style='r^', label='trip end', ax=ax)\n",
    "trips.plot(y='sog', style='.-', label='sog', ax=ax, zorder=-10)\n",
    "ax.set_xlim('2022-05-01','2022-05-02')\n",
    "ax.legend()"
   ]
  },
  {
   "cell_type": "code",
   "execution_count": null,
   "id": "9e14571d-e866-4a54-9a6f-2650f035bf8b",
   "metadata": {},
   "outputs": [],
   "source": [
    "df_clean.head()"
   ]
  },
  {
   "cell_type": "code",
   "execution_count": null,
   "id": "10574991-14ac-48a5-b351-645cbfb44012",
   "metadata": {},
   "outputs": [],
   "source": [
    "mask.idxmax()"
   ]
  },
  {
   "cell_type": "code",
   "execution_count": null,
   "id": "d770d101-4515-4629-9737-59cf2d8744be",
   "metadata": {
    "tags": [
     "remove_input",
     "remove_cell"
    ]
   },
   "outputs": [],
   "source": [
    "interesting = ['sog','consumption']\n",
    "df_compare = df_.groupby(by='period', sort=False).mean()[interesting]\n",
    "table = df_compare.style.format(precision=2)\n",
    "glue(\"periods\", table)"
   ]
  },
  {
   "cell_type": "markdown",
   "id": "69bbd48d-b0d4-4039-b704-b9708e99bc43",
   "metadata": {},
   "source": [
    "```{glue:figure} fuel\n",
    ":figwidth: 1000px\n",
    ":name: \"fuel\"\n",
    "\n",
    "Fuel consumption over time\n",
    "```\n",
    "\n",
    "```{glue:figure} wind\n",
    ":figwidth: 1000px\n",
    ":name: \"wind\"\n",
    "\n",
    "Wind speed over time\n",
    "```\n",
    "\n",
    "```{glue:figure} periods\n",
    ":name: \"periods\"\n",
    "\n",
    "Mean values for each period.\n",
    "```"
   ]
  },
  {
   "cell_type": "markdown",
   "id": "7cf677a5-e4c8-42f1-a70f-ffd5447b797c",
   "metadata": {},
   "source": [
    "It seems that the speed has decreased when going from Ven to Landskrona as seen in {numref}`sog_Ven-Landskrona` but not in the other direction as seen in {numref}`sog_Landskrona-Ven`.\n",
    "\n",
    "```{glue:figure} sog_Ven-Landskrona\n",
    ":figwidth: 1000px\n",
    ":name: \"sog_Ven-Landskrona\"\n",
    "\n",
    "Speed over ground: Ven-Landskrona\n",
    "```\n",
    "\n",
    "```{glue:figure} sog_Landskrona-Ven\n",
    ":figwidth: 1000px\n",
    ":name: \"sog_Landskrona-Ven\"\n",
    "\n",
    "Speed over ground: Landskrona-Ven\n",
    "```\n",
    "\n",
    "The Aft thrust allocation factor is representing how much the aft azimuth thruster is contributing, where a value of 1.0 means that only the aft azimuth is working. It can be seen that this factor has changed for trips from Ven to Landskrona as seen in {numref}`thrust_factor_Ven-Landskrona`. For \"släckta skärmar\" the factor is most often 0.5 meaning a 50-50% split between the thrusters. This has changed towards having a larger contribution on the aft asimuth thruster. This change cannot be observered in the other direction as seen in {numref}`thrust_factor_Landskrona-Ven`.\n",
    "\n",
    "\n",
    "```{glue:figure} thrust_factor_Ven-Landskrona\n",
    ":figwidth: 1000px\n",
    ":name: \"thrust_factor_Ven-Landskrona\"\n",
    "\n",
    "Aft thrust allocation factor: Ven-Landskrona\n",
    "```\n",
    "\n",
    "```{glue:figure} thrust_factor_Landskrona-Ven\n",
    ":figwidth: 1000px\n",
    ":name: \"thrust_factor_Landskrona-Ven\"\n",
    "\n",
    "Aft thrust allocation factor: Landskrona-Ven\n",
    "```\n",
    "\n",
    "\n",
    "\n"
   ]
  },
  {
   "cell_type": "code",
   "execution_count": null,
   "id": "11619bdb-9f91-4234-80f2-a744a6160c38",
   "metadata": {},
   "outputs": [],
   "source": [
    "keys = ['sog',\n",
    "        'consumption',\n",
    "        'distance',\n",
    "       ]\n",
    "\n",
    "\n",
    "for key in keys:\n",
    "    bins = np.linspace(df_[key].min(), df_[key].max(), 100)\n",
    "    \n",
    "    for direction, df_direction in df_.groupby(by='trip_direction', sort=False):\n",
    "        grid = sns.displot(df_direction, x=key, kind='kde', hue='period', common_norm=False, bw_adjust=0.5);\n",
    "        fig = grid.figure\n",
    "        fig.suptitle(direction)\n",
    "        \n",
    "        fig_name = f'{key}_{direction}'\n",
    "        glue(fig_name, fig, display=False)"
   ]
  },
  {
   "cell_type": "code",
   "execution_count": null,
   "id": "5e295dc6-ebda-4f48-9ce3-19c90061e306",
   "metadata": {},
   "outputs": [],
   "source": []
  }
 ],
 "metadata": {
  "kernelspec": {
   "display_name": "d2e2f",
   "language": "python",
   "name": "python3"
  },
  "language_info": {
   "codemirror_mode": {
    "name": "ipython",
    "version": 3
   },
   "file_extension": ".py",
   "mimetype": "text/x-python",
   "name": "python",
   "nbconvert_exporter": "python",
   "pygments_lexer": "ipython3",
   "version": "3.7.9"
  },
  "papermill": {
   "default_parameters": {},
   "duration": 468.144174,
   "end_time": "2021-05-21T16:01:05.321603",
   "environment_variables": {},
   "exception": null,
   "input_path": "steps\\03.1_explore_trip_statistics.ipynb",
   "output_path": "experiments\\2020-01-01-till-2021-02-28-tycho-brahe\\03.1_explore_trip_statistics.ipynb",
   "parameters": {
    "n_rows": null,
    "name": "2020-01-01-till-2021-02-28-tycho-brahe"
   },
   "start_time": "2021-05-21T15:53:17.177429",
   "version": "2.3.3"
  }
 },
 "nbformat": 4,
 "nbformat_minor": 5
}
