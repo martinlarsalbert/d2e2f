{
 "cells": [
  {
   "cell_type": "code",
   "execution_count": null,
   "id": "ef06ed64-4964-4801-959f-8c8889d60d40",
   "metadata": {
    "papermill": {
     "duration": 3.700467,
     "end_time": "2021-05-21T15:53:22.375142",
     "exception": false,
     "start_time": "2021-05-21T15:53:18.674675",
     "status": "completed"
    },
    "tags": [
     "remove_cell"
    ]
   },
   "outputs": [],
   "source": [
    "# %load imports.py\n",
    "# %load ../imports.py\n",
    "%matplotlib inline\n",
    "%load_ext autoreload\n",
    "%autoreload 2\n",
    "%config Completer.use_jedi = False  ## (To fix autocomplete)\n",
    "\n",
    "import numpy as np\n",
    "import pandas as pd\n",
    "import matplotlib.pyplot as plt\n",
    "\n",
    "import seaborn as sns\n",
    "\n",
    "#import seaborn as sns\n",
    "import os\n",
    "from collections import OrderedDict\n",
    "\n",
    "from IPython.display import display\n",
    "\n",
    "pd.options.display.max_rows = 999\n",
    "pd.options.display.max_columns = 999\n",
    "pd.set_option(\"display.max_columns\", None)\n",
    "\n",
    "import folium\n",
    "import plotly.express as px\n",
    "import plotly.graph_objects as go\n",
    "\n",
    "import sys\n",
    "import os\n",
    "\n",
    "from sklearn.metrics import r2_score\n",
    "\n",
    "import scipy.integrate\n",
    "import seaborn as sns\n",
    "\n",
    "import pyarrow as pa\n",
    "import pyarrow.parquet as pq\n",
    "\n",
    "import dask.dataframe\n",
    "import statsmodels.api as sm\n",
    "\n",
    "from d2e2f.visualization import visualize\n",
    "import scipy.integrate\n",
    "\n",
    "from d2e2f.pipelines.trip_statistics import clean_statistics\n",
    "from scipy.stats import norm\n",
    "from myst_nb import glue\n",
    "#plt.style.use('presentation')\n",
    "from IPython.display import display, Markdown, Latex\n",
    "import sympy as sp\n",
    "from d2e2f.visualization.visualize import plot_map, plot_trips\n",
    "import statsmodels.api as sm\n",
    "import geopandas as gp\n",
    "from d2e2f.pipelines.data_preprocessing.prepare import prepare\n",
    "from operator import add\n",
    "from functools import reduce"
   ]
  },
  {
   "cell_type": "markdown",
   "id": "e81ae1ec-b499-439c-8e30-15cead58a803",
   "metadata": {
    "tags": []
   },
   "source": [
    "(data)=\n",
    "# Data"
   ]
  },
  {
   "cell_type": "code",
   "execution_count": null,
   "id": "d43d5a62-a22e-42cf-9169-a0986963b9b0",
   "metadata": {
    "tags": [
     "remove_cell"
    ]
   },
   "outputs": [],
   "source": [
    "%reload_kedro\n",
    "ship='vitaskar'\n",
    "shipname = 'Vitaskär'\n",
    "df = catalog.load(f'{ship}.preprocessed_data')\n",
    "loader_raw = catalog.load(f'{ship}.raw_data')\n",
    "df_raw = loader_raw[list(loader_raw.keys())[-1]]()\n",
    "dt = pd.to_datetime(df_raw['Timestamp']).diff().mean()\n",
    "t_start = pd.to_datetime(df.dropna()['time']).iloc[0]\n",
    "t_end = pd.to_datetime(df.dropna()['time']).iloc[-1]\n",
    "\n",
    "trip_statistics = catalog.load(f'{ship}.trip_statistics')\n",
    "trip_statistics_clean = catalog.load(f'{ship}.trip_statistics_clean')\n",
    "\n",
    "\n",
    "harbours = catalog.load(f'params:{ship}.harbours')\n",
    "min_time = catalog.load(f'params:{ship}.min_time')\n",
    "max_time = catalog.load(f'params:{ship}.max_time')\n",
    "min_distance = catalog.load(f'params:{ship}.min_distance')\n",
    "min_start_speed = catalog.load(f'params:{ship}.min_start_speed')\n",
    "max_time_diff = catalog.load(f\"params:{ship}.max_time_diff\")"
   ]
  },
  {
   "cell_type": "code",
   "execution_count": null,
   "id": "cd679d85-0888-4c38-b139-13b90ed69684",
   "metadata": {
    "tags": [
     "remove_cell"
    ]
   },
   "outputs": [],
   "source": [
    "glue('harbour1', list(harbours.keys())[0])\n",
    "glue('harbour2', list(harbours.keys())[1])\n",
    "glue('min_time', min_time)\n",
    "glue('max_time', max_time)\n",
    "glue('min_distance', min_distance)\n",
    "glue('min_start_speed', min_start_speed)\n",
    "glue('shipname', shipname)\n",
    "glue('max_time_diff', max_time_diff)\n",
    "glue('dt',dt)\n",
    "glue('t_start',str(t_start.date()))\n",
    "glue('t_end',str(t_end.date()))\n",
    "glue('no_samples',np.round(len(df)/(10**6), decimals=1))"
   ]
  },
  {
   "cell_type": "code",
   "execution_count": null,
   "id": "06043701-678b-446d-ab8a-781fa3a52dad",
   "metadata": {
    "tags": [
     "remove_cell"
    ]
   },
   "outputs": [],
   "source": [
    "formatter = {\n",
    "    'Latitude (deg)' : '{:.3f}',\n",
    "    'Longitude (deg)' : '{:.3f}',\n",
    "}\n",
    "for key in df_raw.columns:\n",
    "    if not key in formatter:\n",
    "        formatter[key] = '{:.1f}'\n",
    "#table = df_raw.describe().drop(index='count').style.format(formatter)\n",
    "table = df_raw.describe().drop(index='count')\n",
    "\n",
    "glue('data_describe',table)\n",
    "#glue('data_describe',table.to_html())"
   ]
  },
  {
   "cell_type": "markdown",
   "id": "f3311a72-d2f8-41c6-acf2-5c8289496f3b",
   "metadata": {},
   "source": [
    "Data has been collected onboard {glue:text}`shipname` ({numref}`fig:ship`) with [BlueFlow](https://www.blueflow.se/) Energy Management System between {glue:text}`t_start` and {glue:text}`t_end` with {glue:}`no_samples` million time samples. The data is summarized in {numref}`tab:data_describe`.\n",
    "\n",
    "```{figure} vitaskär.jpg\n",
    "---\n",
    "height: 200px\n",
    "name: fig:ship\n",
    "---\n",
    "{glue:text}`shipname`\n",
    "\n",
    "```\n",
    "\n",
    "```{glue:figure} data_describe\n",
    ":figwidth: 300px\n",
    ":name: \"tab:data_describe\"\n",
    "\n",
    "Data summary\n",
    "```"
   ]
  },
  {
   "cell_type": "code",
   "execution_count": null,
   "id": "cfa4ffe6-98c9-4f2d-9a8c-07a9d73d61e6",
   "metadata": {},
   "outputs": [],
   "source": []
  }
 ],
 "metadata": {
  "kernelspec": {
   "display_name": "d2e2f",
   "language": "python",
   "name": "python3"
  },
  "language_info": {
   "codemirror_mode": {
    "name": "ipython",
    "version": 3
   },
   "file_extension": ".py",
   "mimetype": "text/x-python",
   "name": "python",
   "nbconvert_exporter": "python",
   "pygments_lexer": "ipython3",
   "version": "3.7.9"
  }
 },
 "nbformat": 4,
 "nbformat_minor": 5
}
