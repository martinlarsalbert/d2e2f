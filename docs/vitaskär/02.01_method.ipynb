{
 "cells": [
  {
   "cell_type": "markdown",
   "id": "a224994d-2f6b-4ba7-b8ad-62592d230400",
   "metadata": {},
   "source": [
    "# Method"
   ]
  },
  {
   "cell_type": "code",
   "execution_count": null,
   "id": "b13258fd-149a-46ee-9609-83470c122fbb",
   "metadata": {
    "papermill": {
     "duration": 3.700467,
     "end_time": "2021-05-21T15:53:22.375142",
     "exception": false,
     "start_time": "2021-05-21T15:53:18.674675",
     "status": "completed"
    },
    "tags": [
     "remove_cell"
    ]
   },
   "outputs": [],
   "source": [
    "# %load imports.py\n",
    "# %load ../imports.py\n",
    "%matplotlib inline\n",
    "%load_ext autoreload\n",
    "%autoreload 2\n",
    "%config Completer.use_jedi = False  ## (To fix autocomplete)\n",
    "\n",
    "import numpy as np\n",
    "import pandas as pd\n",
    "import matplotlib.pyplot as plt\n",
    "\n",
    "import seaborn as sns\n",
    "width=20\n",
    "height=3\n",
    "plt.rcParams[\"figure.figsize\"] = (width,height)\n",
    "sns.set(rc={'figure.figsize':(width,height)})\n",
    "\n",
    "#import seaborn as sns\n",
    "import os\n",
    "from collections import OrderedDict\n",
    "\n",
    "from IPython.display import display\n",
    "\n",
    "pd.options.display.max_rows = 999\n",
    "pd.options.display.max_columns = 999\n",
    "pd.set_option(\"display.max_columns\", None)\n",
    "\n",
    "import folium\n",
    "import plotly.express as px\n",
    "import plotly.graph_objects as go\n",
    "\n",
    "import sys\n",
    "import os\n",
    "\n",
    "from sklearn.metrics import r2_score\n",
    "\n",
    "import scipy.integrate\n",
    "import seaborn as sns\n",
    "\n",
    "import pyarrow as pa\n",
    "import pyarrow.parquet as pq\n",
    "\n",
    "import dask.dataframe\n",
    "import statsmodels.api as sm\n",
    "\n",
    "from d2e2f.visualization import visualize\n",
    "import scipy.integrate\n",
    "\n",
    "from d2e2f.pipelines.trip_statistics import clean_statistics\n",
    "from scipy.stats import norm\n",
    "from myst_nb import glue\n",
    "#plt.style.use('presentation')\n",
    "from IPython.display import display, Markdown, Latex\n",
    "import sympy as sp\n",
    "from d2e2f.visualization.visualize import plot_map, plot_trips\n",
    "import statsmodels.api as sm\n",
    "import geopandas as gp\n",
    "from d2e2f.pipelines.data_preprocessing.prepare import prepare\n",
    "from operator import add\n",
    "from functools import reduce"
   ]
  },
  {
   "cell_type": "code",
   "execution_count": null,
   "id": "b726fcac-76f3-4f99-a7b0-2017c5e35e70",
   "metadata": {
    "tags": [
     "remove_cell"
    ]
   },
   "outputs": [],
   "source": [
    "%reload_kedro\n",
    "loaders = catalog.load('vitaskar.raw_data')\n",
    "renames = catalog.load('params:renames')\n",
    "min_speed = catalog.load('params:vitaskar.min_speed')\n",
    "\n",
    "loader = list(loaders.values())[6]\n",
    "df_raw = loader()\n",
    "#df_raw = df_raw.iloc[8900:9500].copy()\n",
    "df_raw = df_raw.iloc[9500:20000].copy()\n",
    "\n",
    "df_raw2 = df_raw.copy()\n",
    "df_raw2.set_index(\"Timestamp\", inplace=True)\n",
    "df_raw2.index = pd.to_datetime(df_raw2.index)\n",
    "df_raw2.sort_index(inplace=True)\n",
    "df_raw2.index.name = \"time\""
   ]
  },
  {
   "cell_type": "code",
   "execution_count": null,
   "id": "0ac46156-b560-45e4-bd0a-69582a86577a",
   "metadata": {
    "tags": [
     "remove_cell"
    ]
   },
   "outputs": [],
   "source": [
    "df_raw.head()"
   ]
  },
  {
   "cell_type": "code",
   "execution_count": null,
   "id": "cf8bfd93-76bf-4948-af3a-8b39375bc80f",
   "metadata": {},
   "outputs": [],
   "source": [
    "df = prepare(df_raw, P_max=None, min_speed=min_speed, renames = renames)"
   ]
  },
  {
   "cell_type": "code",
   "execution_count": null,
   "id": "b4538925-7ef3-4494-9eb0-f655afe573b4",
   "metadata": {},
   "outputs": [],
   "source": [
    "mask = ((df_raw2.index >= df.index[0]) & (df_raw2.index <= df.index[-1]))\n",
    "df_raw2 = df_raw2.loc[mask].copy()\n",
    "\n",
    "\n",
    "fig,ax=plt.subplots()\n",
    "df_raw2['sog'] = df_raw2['Speed over ground (kts)']*1.852/3.6\n",
    "df_raw2['limit'] = min_speed\n",
    "\n",
    "df_raw2.plot(y='sog', style='.-', ax=ax)\n",
    "df.plot(y='sog', style='.-', ax=ax)\n",
    "df_raw2.plot(y='limit', style='-', ax=ax)\n"
   ]
  },
  {
   "cell_type": "code",
   "execution_count": null,
   "id": "c9514923-572d-4fc0-8b25-58bf5ae60046",
   "metadata": {},
   "outputs": [],
   "source": [
    "mask = ((df_raw2['sog'] < min_speed))\n",
    "mask[90:110]"
   ]
  },
  {
   "cell_type": "code",
   "execution_count": null,
   "id": "8a9c2bfd-d2ed-4722-a913-eb92997cae1c",
   "metadata": {},
   "outputs": [],
   "source": [
    "mask = ((np.roll(df_raw2['sog'],1) >= min_speed) & (df_raw2['sog'] < min_speed))\n",
    "mask[90:110]"
   ]
  },
  {
   "cell_type": "code",
   "execution_count": null,
   "id": "b7b0494c-9fae-44e4-b6ad-8d9f9ac60535",
   "metadata": {},
   "outputs": [],
   "source": [
    "mask = ((np.roll(df_raw2['sog'],1) < min_speed) & (df_raw2['sog'] >= min_speed))"
   ]
  },
  {
   "cell_type": "code",
   "execution_count": null,
   "id": "82eee2b8-547c-4bd8-8bf4-fe12f98de5d4",
   "metadata": {},
   "outputs": [],
   "source": [
    "sog = df_raw2['sog']\n",
    "\n",
    "mask_end = ((np.roll(sog,1) >= min_speed) & (sog < min_speed))\n",
    "mask_start = ((sog < min_speed) & (np.roll(sog,-1) >= min_speed))\n",
    "\n",
    "df_raw2.loc[mask_start,'state'] = 'start'\n",
    "df_raw2.loc[mask_end,'state'] = 'end'\n",
    "\n",
    "\n",
    "ends = df_raw2.loc[mask_end]\n",
    "starts = df_raw2.loc[mask_start]"
   ]
  },
  {
   "cell_type": "code",
   "execution_count": null,
   "id": "b34656d8-a89b-4ba1-8dd9-638a189d9731",
   "metadata": {},
   "outputs": [],
   "source": [
    "fig,ax=plt.subplots()\n",
    "df_raw2.plot(y='sog', ax=ax)\n",
    "starts.plot(y='sog', style='sg', ax=ax)\n",
    "ends.plot(y='sog', style='^r', ax=ax)"
   ]
  },
  {
   "cell_type": "code",
   "execution_count": null,
   "id": "156e8cfd-0d95-48fd-8cf6-585302ee25a1",
   "metadata": {},
   "outputs": [],
   "source": [
    "#mask = df_raw2['state'].isin(['start','end'])\n",
    "mask = df_raw2['state'].isin(['start'])\n",
    "\n",
    "df_raw2['time'] = df_raw2.index\n",
    "events = df_raw2.loc[mask]\n",
    "time_limit = '300S'\n",
    "events['time'].diff() < time_limit"
   ]
  },
  {
   "cell_type": "code",
   "execution_count": null,
   "id": "ef75f05c-e40f-4191-ab12-26b3449aa2d5",
   "metadata": {},
   "outputs": [],
   "source": [
    "events"
   ]
  },
  {
   "cell_type": "code",
   "execution_count": null,
   "id": "eb999d06-37c0-4ebe-9a93-f5735fcd6417",
   "metadata": {},
   "outputs": [],
   "source": [
    "mask = events['time'].diff() < time_limit"
   ]
  },
  {
   "cell_type": "code",
   "execution_count": null,
   "id": "30e611a0-0a89-4bdf-8e78-bb1aace33462",
   "metadata": {},
   "outputs": [],
   "source": [
    "events.loc[mask]"
   ]
  },
  {
   "cell_type": "code",
   "execution_count": null,
   "id": "57766b27-12fb-4e25-bbf3-023e0e5424d9",
   "metadata": {},
   "outputs": [],
   "source": [
    "iis = np.array([events.index.get_loc(row.name) for _,row in events.loc[mask].iterrows()])"
   ]
  },
  {
   "cell_type": "code",
   "execution_count": null,
   "id": "48899c69-f06b-4aa3-a458-012bbb9e91ab",
   "metadata": {},
   "outputs": [],
   "source": [
    "iis"
   ]
  },
  {
   "cell_type": "code",
   "execution_count": null,
   "id": "2a9a307b-e312-47d4-8434-f98d7cd907b0",
   "metadata": {},
   "outputs": [],
   "source": []
  },
  {
   "cell_type": "code",
   "execution_count": null,
   "id": "c117b637-6150-45c9-a314-9cfe3c38b7d3",
   "metadata": {},
   "outputs": [],
   "source": [
    "mask = events['time'].diff() < time_limit\n",
    "#index = events.loc[mask].index\n",
    "df_raw2.loc[events.loc[mask].index,'state'] = np.NaN\n",
    "#iis = np.array([events.index.get_loc(row.name) for _,row in events.loc[mask].iterrows()])\n",
    "#df_raw2.loc[events.iloc[iis-1].index,'state'] = np.NaN\n",
    "\n",
    "#df_raw2.iloc[iis+1]['state'] = np.NaN"
   ]
  },
  {
   "cell_type": "code",
   "execution_count": null,
   "id": "bd78f950-3484-419c-b0f9-ed3f58485bf1",
   "metadata": {},
   "outputs": [],
   "source": [
    "mask = df_raw2['state']=='start'\n",
    "df_raw2.loc[mask,'zero time'] = df_raw2.loc[mask,'time']\n",
    "df_raw2['zero time'] = df_raw2['zero time'].fillna(method='ffill')\n",
    "df_raw2['trip time'] = df_raw2['time'] - df_raw2['zero time']\n",
    "mask = df_raw2['trip time'].notnull()\n",
    "df_raw2=df_raw2.loc[mask]"
   ]
  },
  {
   "cell_type": "code",
   "execution_count": null,
   "id": "cb70c3df-e125-45eb-bf41-79dd177a3fed",
   "metadata": {},
   "outputs": [],
   "source": [
    "mask_end = ((np.roll(sog,1) >= min_speed) & (sog < min_speed) & (df_raw2['trip time'] > '600S'))\n",
    "mask = df_raw2['state'] == 'end'\n",
    "df_raw2.loc[mask,'state'] = np.NaN\n",
    "\n",
    "df_raw2.loc[mask_end,'state'] = 'end'"
   ]
  },
  {
   "cell_type": "code",
   "execution_count": null,
   "id": "261a41a1-83d3-4bac-9031-6d59171af571",
   "metadata": {},
   "outputs": [],
   "source": [
    "fig,ax=plt.subplots()\n",
    "df_raw2.plot(y='sog', ax=ax)\n",
    "\n",
    "for state, df__ in df_raw2.groupby(by='state'):\n",
    "    if state is 'start':\n",
    "        df__.plot(y='sog', style='sg', ax=ax)\n",
    "    elif state is 'end':\n",
    "        df__.plot(y='sog', style='^r', ax=ax)\n"
   ]
  },
  {
   "cell_type": "code",
   "execution_count": null,
   "id": "8c04c801-bd50-4f74-9fb4-129cc40c6ec0",
   "metadata": {},
   "outputs": [],
   "source": [
    "figs = []\n",
    "figs.append(px.line(df_raw2, y='sog').data)\n",
    "\n",
    "for state, df__ in df_raw2.groupby(by='state'):\n",
    "    if state is 'start':\n",
    "        figs.append(px.scatter(df__, y='sog',).update_traces(marker=dict(color='green')).data)\n",
    "    elif state is 'end':\n",
    "        figs.append(px.scatter(df__, y='sog').update_traces(marker=dict(color='red')).data)\n",
    "\n",
    "\n",
    "fig = go.Figure(data=reduce(add, figs))\n",
    "display(fig)"
   ]
  },
  {
   "cell_type": "code",
   "execution_count": null,
   "id": "65c5f689-84eb-48bf-9f70-928b3b8f8402",
   "metadata": {},
   "outputs": [],
   "source": [
    "df_raw2"
   ]
  },
  {
   "cell_type": "code",
   "execution_count": null,
   "id": "fa7223cb-8425-41dd-a0ea-724eb121f959",
   "metadata": {},
   "outputs": [],
   "source": [
    "df = df_raw2\n",
    "mask = df[\"state\"] == \"start\"\n",
    "starts = df.loc[mask]\n",
    "mask = df[\"state\"] == \"end\"\n",
    "ends = df.loc[mask]\n"
   ]
  },
  {
   "cell_type": "code",
   "execution_count": null,
   "id": "77e71dd7-0ddd-4a16-8109-b9621c590dc1",
   "metadata": {},
   "outputs": [],
   "source": [
    "len(starts)"
   ]
  },
  {
   "cell_type": "code",
   "execution_count": null,
   "id": "44921202-954a-49ba-94b5-9db10377844c",
   "metadata": {},
   "outputs": [],
   "source": [
    "len(ends)"
   ]
  },
  {
   "cell_type": "code",
   "execution_count": null,
   "id": "f195e400-daec-41d5-9b60-c097fb39923f",
   "metadata": {},
   "outputs": [],
   "source": [
    "starts.head()"
   ]
  },
  {
   "cell_type": "code",
   "execution_count": null,
   "id": "041df36a-f3da-450b-b15a-0cd8b670923e",
   "metadata": {},
   "outputs": [],
   "source": [
    "ends.head()"
   ]
  },
  {
   "cell_type": "code",
   "execution_count": null,
   "id": "58c9d955-8acf-4973-8314-0267798d7b73",
   "metadata": {},
   "outputs": [],
   "source": [
    "if ends.index[0] < starts.index[0]:\n",
    "    ends.drop(index=ends.iloc[0].name, inplace=True)\n",
    "    \n",
    "if ends.index[-1] < starts.index[-1]:\n",
    "    starts.drop(index=starts.iloc[-1].name, inplace=True)\n"
   ]
  },
  {
   "cell_type": "code",
   "execution_count": null,
   "id": "de310437-c7f5-445c-88d0-ad03aaa4228e",
   "metadata": {},
   "outputs": [],
   "source": [
    "mask = df[\"state\"] == \"start\"\n",
    "starts = df.loc[mask]\n",
    "\n",
    "start_number = 0\n",
    "end_number = start_number + 1 + len(starts)\n",
    "trip_numbers = np.arange(start_number + 1, end_number, dtype=int)\n",
    "\n",
    "df.loc[starts.index, \"trip_no\"] = trip_numbers\n",
    "df[\"trip_no\"] = df[\"trip_no\"].fillna(method=\"ffill\")\n",
    "df[\"trip_no\"] = df[\"trip_no\"].fillna(start_number)\n",
    "df[\"trip_no\"] = df[\"trip_no\"].astype(int)"
   ]
  },
  {
   "cell_type": "code",
   "execution_count": null,
   "id": "ccf096bc-7e70-46d9-8ec4-8c296ada08ed",
   "metadata": {},
   "outputs": [],
   "source": [
    "df"
   ]
  },
  {
   "cell_type": "code",
   "execution_count": null,
   "id": "c34adc34-bd38-4640-ab03-ea708b9f810d",
   "metadata": {},
   "outputs": [],
   "source": [
    "df = catalog.load(\"vitaskar.preprocessed_data\")"
   ]
  },
  {
   "cell_type": "code",
   "execution_count": null,
   "id": "cdf20536-2a18-4265-9b1c-62ee660420c0",
   "metadata": {},
   "outputs": [],
   "source": [
    "df.iloc[0:1000]"
   ]
  },
  {
   "cell_type": "code",
   "execution_count": null,
   "id": "3d6d3307-6b4a-48e8-9196-08ac9d26f181",
   "metadata": {},
   "outputs": [],
   "source": [
    "mask = df.index.duplicated(keep=\"first\")\n",
    "len(df.loc[~mask])"
   ]
  },
  {
   "cell_type": "code",
   "execution_count": null,
   "id": "60660e75-c040-48b6-9a17-31a8293b5c81",
   "metadata": {},
   "outputs": [],
   "source": [
    "df.loc[~mask]"
   ]
  },
  {
   "cell_type": "code",
   "execution_count": null,
   "id": "7c981daf-77ef-435f-8021-0d2cd624115d",
   "metadata": {},
   "outputs": [],
   "source": []
  }
 ],
 "metadata": {
  "kernelspec": {
   "display_name": "d2e2f",
   "language": "python",
   "name": "python3"
  },
  "language_info": {
   "codemirror_mode": {
    "name": "ipython",
    "version": 3
   },
   "file_extension": ".py",
   "mimetype": "text/x-python",
   "name": "python",
   "nbconvert_exporter": "python",
   "pygments_lexer": "ipython3",
   "version": "3.7.9"
  }
 },
 "nbformat": 4,
 "nbformat_minor": 5
}
