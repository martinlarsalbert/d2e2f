{
 "cells": [
  {
   "cell_type": "code",
   "execution_count": null,
   "id": "b13258fd-149a-46ee-9609-83470c122fbb",
   "metadata": {
    "papermill": {
     "duration": 3.700467,
     "end_time": "2021-05-21T15:53:22.375142",
     "exception": false,
     "start_time": "2021-05-21T15:53:18.674675",
     "status": "completed"
    },
    "tags": [
     "remove_cell"
    ]
   },
   "outputs": [],
   "source": [
    "# %load imports.py\n",
    "# %load ../imports.py\n",
    "%matplotlib inline\n",
    "%load_ext autoreload\n",
    "%autoreload 2\n",
    "%config Completer.use_jedi = False  ## (To fix autocomplete)\n",
    "\n",
    "import numpy as np\n",
    "import pandas as pd\n",
    "import matplotlib.pyplot as plt\n",
    "plt.style.use('paper')\n",
    "from IPython.display import set_matplotlib_formats\n",
    "set_matplotlib_formats('pdf')\n",
    "\n",
    "import seaborn as sns\n",
    "\n",
    "#import seaborn as sns\n",
    "import os\n",
    "from collections import OrderedDict\n",
    "\n",
    "from IPython.display import display\n",
    "\n",
    "pd.options.display.max_rows = 999\n",
    "pd.options.display.max_columns = 999\n",
    "pd.set_option(\"display.max_columns\", None)\n",
    "\n",
    "import folium\n",
    "import plotly.express as px\n",
    "import plotly.graph_objects as go\n",
    "\n",
    "import sys\n",
    "import os\n",
    "\n",
    "from sklearn.metrics import r2_score\n",
    "\n",
    "import scipy.integrate\n",
    "import seaborn as sns\n",
    "\n",
    "import pyarrow as pa\n",
    "import pyarrow.parquet as pq\n",
    "\n",
    "import dask.dataframe\n",
    "import statsmodels.api as sm\n",
    "\n",
    "from d2e2f.visualization import visualize\n",
    "import scipy.integrate\n",
    "\n",
    "from d2e2f.pipelines.trip_statistics import clean_statistics\n",
    "from scipy.stats import norm\n",
    "from myst_nb import glue\n",
    "#plt.style.use('presentation')\n",
    "from IPython.display import display, Markdown, Latex\n",
    "import sympy as sp\n",
    "from d2e2f.visualization.visualize import plot_map, plot_trips\n",
    "import statsmodels.api as sm\n",
    "import geopandas as gp\n",
    "from d2e2f.pipelines.data_preprocessing.prepare import prepare\n",
    "from operator import add\n",
    "from functools import reduce"
   ]
  },
  {
   "cell_type": "markdown",
   "id": "a224994d-2f6b-4ba7-b8ad-62592d230400",
   "metadata": {},
   "source": [
    "# Method\n",
    "(method)=\n",
    "In order to investigate the energy efficiency of {glue:text}`shipname` the data is divided into trips from {glue:text}`harbour1` to {glue:text}`harbour2` or the reversed direction. The method to define the trips is further explained in the [trip section](sec:trips)."
   ]
  },
  {
   "cell_type": "code",
   "execution_count": null,
   "id": "b726fcac-76f3-4f99-a7b0-2017c5e35e70",
   "metadata": {
    "tags": [
     "remove_cell"
    ]
   },
   "outputs": [],
   "source": [
    "%reload_kedro\n",
    "ship='vitaskar'\n",
    "shipname = 'Vitaskär'\n",
    "df = catalog.load(f'{ship}.preprocessed_data')\n",
    "loader_raw = catalog.load(f'{ship}.raw_data')\n",
    "df_raw = loader_raw[list(loader_raw.keys())[-1]]()\n",
    "dt = pd.to_datetime(df_raw['Timestamp']).diff().mean()\n",
    "trip_statistics = catalog.load(f'{ship}.trip_statistics')\n",
    "trip_statistics_clean = catalog.load(f'{ship}.trip_statistics_clean')\n",
    "\n",
    "\n",
    "harbours = catalog.load(f'params:{ship}.harbours')\n",
    "min_time = catalog.load(f'params:{ship}.min_time')\n",
    "max_time = catalog.load(f'params:{ship}.max_time')\n",
    "min_distance = catalog.load(f'params:{ship}.min_distance')\n",
    "min_start_speed = catalog.load(f'params:{ship}.min_start_speed')\n",
    "max_time_diff = catalog.load(f\"params:{ship}.max_time_diff\")"
   ]
  },
  {
   "cell_type": "code",
   "execution_count": null,
   "id": "e492998e-daf5-4e7c-9f59-3050cedebbcd",
   "metadata": {
    "tags": [
     "remove_cell"
    ]
   },
   "outputs": [],
   "source": [
    "glue('harbour1', list(harbours.keys())[0])\n",
    "glue('harbour2', list(harbours.keys())[1])\n",
    "glue('min_time', min_time)\n",
    "glue('max_time', max_time)\n",
    "glue('min_distance', min_distance)\n",
    "glue('min_start_speed', min_start_speed)\n",
    "glue('shipname', shipname)\n",
    "glue('max_time_diff', max_time_diff)\n",
    "glue('dt',dt)"
   ]
  },
  {
   "cell_type": "markdown",
   "id": "4f221ded-2260-42c5-a8cd-61bee4137cd2",
   "metadata": {
    "tags": []
   },
   "source": [
    "(sec:trips)=\n",
    "## Trips\n",
    "The speed over ground (sog) signal is used to define the start an end of the trips. Start and ends are defined by upcrossings and downcrossing of $sog$ compared to a minumum speed $sog_{min}$. This simple algorithm will however also identify false starts of trips since {glue:text}`shipname` starts each trip by reversing from the pier and then turn to ahead as seen in {numref}`fig:false_start`.\n",
    "\n",
    "\n",
    "```{glue:figure} fig:false_start\n",
    ":name: \"fig:false_start\"\n",
    "\n",
    "The initial reversing may identify false starts.\n",
    "```\n"
   ]
  },
  {
   "cell_type": "code",
   "execution_count": null,
   "id": "70cf79b2-16ca-4daf-93c2-7aeaaa7f4993",
   "metadata": {
    "tags": [
     "remove_cell"
    ]
   },
   "outputs": [],
   "source": [
    "# Find possible starts of trips:\n",
    "sog = df[\"sog\"]\n",
    "mask_start = (sog < min_start_speed) & (np.roll(sog, -1) >= min_start_speed)\n",
    "df.loc[mask_start, \"state\"] = \"start\"\n",
    "\n",
    "# Remove false starts:\n",
    "mask = df[\"state\"].isin([\"start\"])\n",
    "df[\"time\"] = df.index\n",
    "events = df.loc[mask]\n",
    "\n"
   ]
  },
  {
   "cell_type": "code",
   "execution_count": null,
   "id": "90e14610-fd3d-4e31-8b2b-c35682b9ed24",
   "metadata": {
    "tags": [
     "remove_cell"
    ]
   },
   "outputs": [],
   "source": [
    "mask = events[\"time\"].diff() < f'{min_time}S'\n",
    "df.loc[events.loc[mask].index,'state'] = 'false start'\n",
    "false_start = events.loc[mask].iloc[0]\n",
    "t0 = false_start.name - pd.Timedelta(100,unit='s')\n",
    "t1 = false_start.name + pd.Timedelta(300,unit='s')\n",
    "\n",
    "df_ = df.loc[t0:t1]\n",
    "\n",
    "with plt.style.context('paper'):\n",
    "    fig,ax=plt.subplots()\n",
    "    df_.plot(y='sog', label=r'$sog$', ax=ax)\n",
    "    mask = (df_['state'] == 'start')\n",
    "    df_.loc[mask].plot(y='sog', label=r'$t_{start}$', style='sg', ax=ax)\n",
    "    mask = (df_['state'] == 'false start')\n",
    "    df_.loc[mask].plot(y='sog', label=r'False $t_{start}$', style='sk', ax=ax)\n",
    "    ax.set_ylabel('Ship speed over ground $sog$ [m/s]')\n",
    "    ax.legend();\n",
    "    glue('fig:false_start', fig, display=False)"
   ]
  },
  {
   "cell_type": "markdown",
   "id": "4e384a5b-4e3e-4fe8-9827-3c6da7f0ac63",
   "metadata": {
    "tags": []
   },
   "source": [
    "A minimum trip time $t_{min}$ is introduced to exclude these false starts giving the following algorithm:\n",
    "\n",
    "\n",
    "**Inputs** $sog$, $sog_{min}$, $t_{min}$\n",
    "\n",
    "**Output** $t_{start}$, $t_{end}$\n",
    "\n",
    "1. Identify possible trip starts: $t_{start}$: $(sog_i < sog_{min}) \\wedge (sog_{i+i} >= sog_{min})$\n",
    "2. Keep only valid trip starts: $t_{start,n+1} - t_{start,n} > t_{min}$\n",
    "3. Identify trip ends: $t_{end}$: $(sog_{i-1} >= sog_{min}) \\wedge (sog_{i} < sog_{min}) \\wedge ((t_i - t_{i-1}) > t_{min} $\n",
    "\n",
    "where $sog_{min}$={glue:}`min_start_speed` m/s and $t_{min}$={glue:}`min_time` s. The algorithm now disregards the initial reversing as seen in {numref}`fig:divide_trips`.  \n",
    "\n",
    "```{glue:figure} fig:divide_trips\n",
    ":name: \"fig:divide_trips\"\n",
    "\n",
    "The data is divided into trips based on the speed over ground (sog) signal.\n",
    "```"
   ]
  },
  {
   "cell_type": "code",
   "execution_count": null,
   "id": "0ac46156-b560-45e4-bd0a-69582a86577a",
   "metadata": {
    "tags": [
     "remove_input",
     "remove_cell"
    ]
   },
   "outputs": [],
   "source": [
    "t2 = false_start.name + pd.Timedelta(4000,unit='s')\n",
    "\n",
    "df_cut = df.loc[t0:t2]\n",
    "\n",
    "with plt.style.context('paper'):\n",
    "    \n",
    "    fig,ax=plt.subplots()\n",
    "    df_cut.plot(y='sog', label=r'$sog$', ax=ax)\n",
    "    \n",
    "    for state, df__ in df_cut.groupby(by='state'):\n",
    "        if state == 'start':\n",
    "            df__.plot(y='sog', style='sg', label=r'$t_{start}$', ax=ax)\n",
    "        elif state == 'end':\n",
    "            df__.plot(y='sog', style='^r', label=r'$t_{end}$', ax=ax)\n",
    "            \n",
    "    ax.legend();\n",
    "    ax.set_ylabel('Ship speed over ground $sog$ [m/s]')\n",
    "    glue('fig:divide_trips', fig, display=False)"
   ]
  },
  {
   "cell_type": "code",
   "execution_count": null,
   "id": "e20ac8cf-78da-43ff-a3e9-f94e6ac7606d",
   "metadata": {
    "tags": [
     "remove_cell"
    ]
   },
   "outputs": [],
   "source": [
    "glue('no_trips',len(trip_statistics))\n",
    "glue('no_trips_clean',len(trip_statistics_clean))\n"
   ]
  },
  {
   "cell_type": "markdown",
   "id": "1ab1f0ae-5cb5-4209-9b15-6f1ea6e1b9b8",
   "metadata": {},
   "source": [
    "## Data cleaning\n",
    "Some of the trips are removed, for instance if there is missing data or the trip is too long, based on the following criteria:\n",
    "\n",
    "* trips should have time gaps that are smaller than {glue:}`max_time_diff` s\n",
    "* trips should have a duration between {glue:}`min_time` and {glue:}`max_time` s\n",
    "* trips should be longer than {glue:}`min_distance` m\n",
    "\n",
    "From {glue:}`no_trips` initial trips {glue:}`no_trips_clean` trips fulfills the above criteria."
   ]
  }
 ],
 "metadata": {
  "kernelspec": {
   "display_name": "d2e2f",
   "language": "python",
   "name": "python3"
  },
  "language_info": {
   "codemirror_mode": {
    "name": "ipython",
    "version": 3
   },
   "file_extension": ".py",
   "mimetype": "text/x-python",
   "name": "python",
   "nbconvert_exporter": "python",
   "pygments_lexer": "ipython3",
   "version": "3.7.9"
  }
 },
 "nbformat": 4,
 "nbformat_minor": 5
}
