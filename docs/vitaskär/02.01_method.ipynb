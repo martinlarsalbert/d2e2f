{
 "cells": [
  {
   "cell_type": "code",
   "execution_count": null,
   "id": "b13258fd-149a-46ee-9609-83470c122fbb",
   "metadata": {
    "papermill": {
     "duration": 3.700467,
     "end_time": "2021-05-21T15:53:22.375142",
     "exception": false,
     "start_time": "2021-05-21T15:53:18.674675",
     "status": "completed"
    },
    "tags": [
     "remove_cell"
    ]
   },
   "outputs": [],
   "source": [
    "# %load imports.py\n",
    "# %load ../imports.py\n",
    "%matplotlib inline\n",
    "%load_ext autoreload\n",
    "%autoreload 2\n",
    "%config Completer.use_jedi = False  ## (To fix autocomplete)\n",
    "\n",
    "import numpy as np\n",
    "import pandas as pd\n",
    "import matplotlib.pyplot as plt\n",
    "plt.style.use('paper')\n",
    "from IPython.display import set_matplotlib_formats\n",
    "set_matplotlib_formats('pdf')\n",
    "\n",
    "import seaborn as sns\n",
    "\n",
    "#import seaborn as sns\n",
    "import os\n",
    "from collections import OrderedDict\n",
    "\n",
    "from IPython.display import display\n",
    "\n",
    "pd.options.display.max_rows = 999\n",
    "pd.options.display.max_columns = 999\n",
    "pd.set_option(\"display.max_columns\", None)\n",
    "\n",
    "import folium\n",
    "import plotly.express as px\n",
    "import plotly.graph_objects as go\n",
    "\n",
    "import sys\n",
    "import os\n",
    "\n",
    "from sklearn.metrics import r2_score\n",
    "\n",
    "import scipy.integrate\n",
    "import seaborn as sns\n",
    "\n",
    "import pyarrow as pa\n",
    "import pyarrow.parquet as pq\n",
    "\n",
    "import dask.dataframe\n",
    "import statsmodels.api as sm\n",
    "\n",
    "from d2e2f.visualization import visualize\n",
    "import scipy.integrate\n",
    "\n",
    "from d2e2f.pipelines.trip_statistics import clean_statistics\n",
    "from scipy.stats import norm\n",
    "from myst_nb import glue\n",
    "#plt.style.use('presentation')\n",
    "from IPython.display import display, Markdown, Latex\n",
    "import sympy as sp\n",
    "from d2e2f.visualization.visualize import plot_map, plot_trips\n",
    "import statsmodels.api as sm\n",
    "import geopandas as gp\n",
    "from d2e2f.pipelines.data_preprocessing.prepare import prepare\n",
    "from operator import add\n",
    "from functools import reduce\n",
    "from d2e2f.reporting import pop_index, reload_kedro\n",
    "import yaml\n",
    "catalog = reload_kedro()"
   ]
  },
  {
   "cell_type": "code",
   "execution_count": null,
   "id": "b726fcac-76f3-4f99-a7b0-2017c5e35e70",
   "metadata": {
    "tags": [
     "remove_cell"
    ]
   },
   "outputs": [],
   "source": [
    "with open('metadata.yml',mode='r', encoding='utf8') as file:\n",
    "    metadata = yaml.safe_load(file)\n",
    "ship=metadata['ship']\n",
    "shipname = metadata['shipname']\n",
    "\n",
    "df = catalog.load(f'{ship}.data_with_trip_numbers')\n",
    "loader_raw = catalog.load(f'{ship}.raw_data')\n",
    "df_raw = loader_raw[list(loader_raw.keys())[-1]]()\n",
    "dt = pd.to_datetime(df_raw['Timestamp']).diff().mean()\n",
    "trip_statistics = catalog.load(f'{ship}.trip_statistics')\n",
    "trip_statistics_clean = catalog.load(f'{ship}.trip_statistics_clean')\n",
    "\n",
    "\n",
    "harbours = catalog.load(f'params:{ship}.harbours')\n",
    "min_time = catalog.load(f'params:{ship}.min_time')\n",
    "max_time = catalog.load(f'params:{ship}.max_time')\n",
    "min_distance = catalog.load(f'params:{ship}.min_distance')\n",
    "min_start_speed = catalog.load(f'params:{ship}.min_start_speed')\n",
    "max_time_diff = catalog.load(f\"params:{ship}.max_time_diff\")"
   ]
  },
  {
   "cell_type": "code",
   "execution_count": null,
   "id": "e492998e-daf5-4e7c-9f59-3050cedebbcd",
   "metadata": {
    "tags": [
     "remove_cell"
    ]
   },
   "outputs": [],
   "source": [
    "glue('harbour1', list(harbours.keys())[0])\n",
    "glue('harbour2', list(harbours.keys())[1])\n",
    "glue('min_time', min_time)\n",
    "glue('max_time', max_time)\n",
    "glue('min_distance', min_distance)\n",
    "glue('min_start_speed', min_start_speed)\n",
    "glue('shipname', shipname)\n",
    "glue('max_time_diff', max_time_diff)\n",
    "glue('dt',dt)"
   ]
  },
  {
   "cell_type": "markdown",
   "id": "a224994d-2f6b-4ba7-b8ad-62592d230400",
   "metadata": {},
   "source": [
    "# Method\n",
    "(method)=\n",
    "In order to investigate the energy efficiency of {glue:text}`shipname` the data is divided into trips from {glue:text}`harbour1` to {glue:text}`harbour2` or the reversed direction. The method to define the trips is further explained in the next section."
   ]
  },
  {
   "cell_type": "markdown",
   "id": "4f221ded-2260-42c5-a8cd-61bee4137cd2",
   "metadata": {
    "tags": []
   },
   "source": [
    "(sec:trips)=\n",
    "## Trips\n",
    "The speed over ground (sog) signal is used to define the start an end of the trips. Start and ends are defined by up-crossings and down-crossing of $sog$ compared to a minumum speed $sog_{min}$ ({glue:text}`min_start_speed` m/s). This simple algorithm will however also identify false starts an ends as seen in {numref}`fig:crossings`. Starts and ends that enclose trips that have too short time duration, as seen in {numref}`fig:crossings` are disregarded as false starts and ends.\n",
    "\n",
    "```{glue:figure} fig:crossings\n",
    ":name: \"fig:crossings\"\n",
    "\n",
    "Downcrossings and upcrossings of the speed signal are used to identify trip starts and ends.\n",
    "```\n"
   ]
  },
  {
   "cell_type": "code",
   "execution_count": null,
   "id": "8018bfe0-caaf-4b25-9271-d48bc81a5b95",
   "metadata": {
    "tags": [
     "remove_cell"
    ]
   },
   "outputs": [],
   "source": [
    "# Find possible starts of trips:\n",
    "df_ = df.loc[\"2022-06-13 09:45\":\"2022-06-13 11:00\"]\n",
    "sog = df_[\"sog\"]\n",
    "mask_downcross = (np.roll(sog, 1) >= min_start_speed) & (sog < min_start_speed) & (np.roll(sog, -1) < min_start_speed)\n",
    "mask_upcross = (np.roll(sog, 1) < min_start_speed) & (sog < min_start_speed) & (np.roll(sog, -1) >= min_start_speed)\n",
    "\n",
    "\n",
    "downcrossings = df_.loc[mask_downcross]\n",
    "upcrossings = df_.loc[mask_upcross]\n",
    "\n",
    "fig,ax=plt.subplots()\n",
    "df_.plot(y='sog', style='.-', ax =ax)\n",
    "downcrossings.plot(y='sog', style='rv', label='downcrossings', ax=ax)\n",
    "upcrossings.plot(y='sog', style='g^', label='upcrossings', ax=ax)\n",
    "df_['min_start_speed'] = min_start_speed\n",
    "df_.plot(y='min_start_speed', style='--', label='minimum start speed', ax=ax)\n",
    "ax.legend()\n",
    "#ax.set_ylim(-0.05,5*min_start_speed)\n",
    "ax.set_ylabel('Ship speed sog [m/s]')\n",
    "ax.grid(True)\n",
    "glue(\"fig:crossings\",fig,display=False)"
   ]
  },
  {
   "cell_type": "markdown",
   "id": "b4d7f81c-d6d0-4ad9-b677-2aa9f9d1e290",
   "metadata": {},
   "source": [
    "Examples of some starts and ends of trips are displayed in {numref}`fig:clean_starts`. \n",
    "\n",
    "```{glue:figure} fig:clean_starts\n",
    ":name: \"fig:clean_starts\"\n",
    "\n",
    "Downcrossings and upcrossings of the speed signal are used to identify trip starts and ends.\n",
    "```"
   ]
  },
  {
   "cell_type": "code",
   "execution_count": null,
   "id": "14a37151-9316-4aa6-b3fa-57596c99c559",
   "metadata": {
    "tags": [
     "remove_cell"
    ]
   },
   "outputs": [],
   "source": [
    "nrows=4\n",
    "fig,axes = plt.subplots(ncols=1, nrows=nrows)\n",
    "axes = axes.flatten()\n",
    "\n",
    "index = df.loc[\"2022-06-13\":\"2022-06-13\"].index\n",
    "indexes = np.array_split(index,nrows)\n",
    "\n",
    "for index,ax in zip(indexes,axes):\n",
    "        \n",
    "    df_=df.loc[index]\n",
    "    \n",
    "    starts=df_.loc[df['state']=='start']\n",
    "    ends=df_.loc[df['state']=='end']\n",
    "        \n",
    "    df_.plot(y='sog', ax=ax)\n",
    "    starts.plot(y='sog', style='gs', ax=ax, label='start')\n",
    "    ends.plot(y='sog', style='r^', ax=ax, label='end')\n",
    "        \n",
    "    ax.get_legend().set_visible(False)\n",
    "    ax.set_xlabel('')\n",
    "    \n",
    "axes[0].legend(loc='upper center', bbox_to_anchor=(0.5, 2.7), ncol=3)\n",
    "\n",
    "ax.set_xlabel('Time')\n",
    "plt.tight_layout()\n",
    "glue(\"fig:clean_starts\",fig, display=False)"
   ]
  },
  {
   "cell_type": "markdown",
   "id": "1ab1f0ae-5cb5-4209-9b15-6f1ea6e1b9b8",
   "metadata": {},
   "source": [
    "(sec:datacleaning)=\n",
    "## Data cleaning\n",
    "Some of the trips are removed, for instance if there is missing data or the trip is too long, based on the following criteria:\n",
    "\n",
    "* trips should have time gaps that are smaller than {glue:}`max_time_diff` s\n",
    "* trips should have a duration between {glue:}`min_time` and {glue:}`max_time` s\n",
    "* trips should be longer than {glue:}`min_distance` m"
   ]
  },
  {
   "cell_type": "code",
   "execution_count": null,
   "id": "b0522063-3548-4eb9-b488-fe2c8a3a832f",
   "metadata": {},
   "outputs": [],
   "source": []
  }
 ],
 "metadata": {
  "kernelspec": {
   "display_name": "Python 3 (ipykernel)",
   "language": "python",
   "name": "python3"
  },
  "language_info": {
   "codemirror_mode": {
    "name": "ipython",
    "version": 3
   },
   "file_extension": ".py",
   "mimetype": "text/x-python",
   "name": "python",
   "nbconvert_exporter": "python",
   "pygments_lexer": "ipython3",
   "version": "3.7.9"
  }
 },
 "nbformat": 4,
 "nbformat_minor": 5
}
