{
 "cells": [
  {
   "cell_type": "markdown",
   "id": "1510ac6f",
   "metadata": {
    "papermill": {
     "duration": 0.015624,
     "end_time": "2021-05-21T15:53:18.518461",
     "exception": false,
     "start_time": "2021-05-21T15:53:18.502837",
     "status": "completed"
    },
    "tags": []
   },
   "source": [
    "# Uraniborg"
   ]
  },
  {
   "cell_type": "code",
   "execution_count": null,
   "id": "c06d4e35",
   "metadata": {
    "papermill": {
     "duration": 3.700467,
     "end_time": "2021-05-21T15:53:22.375142",
     "exception": false,
     "start_time": "2021-05-21T15:53:18.674675",
     "status": "completed"
    },
    "tags": [
     "remove_cell"
    ]
   },
   "outputs": [],
   "source": [
    "# %load imports.py\n",
    "# %load ../imports.py\n",
    "%matplotlib inline\n",
    "%load_ext autoreload\n",
    "%autoreload 2\n",
    "%config Completer.use_jedi = False  ## (To fix autocomplete)\n",
    "\n",
    "import numpy as np\n",
    "import pandas as pd\n",
    "import matplotlib.pyplot as plt\n",
    "\n",
    "import seaborn as sns\n",
    "width=20\n",
    "height=3\n",
    "plt.rcParams[\"figure.figsize\"] = (width,height)\n",
    "sns.set(rc={'figure.figsize':(width,height)})\n",
    "\n",
    "#import seaborn as sns\n",
    "import os\n",
    "from collections import OrderedDict\n",
    "\n",
    "from IPython.display import display\n",
    "\n",
    "pd.options.display.max_rows = 999\n",
    "pd.options.display.max_columns = 999\n",
    "pd.set_option(\"display.max_columns\", None)\n",
    "\n",
    "import folium\n",
    "import plotly.express as px\n",
    "import plotly.graph_objects as go\n",
    "\n",
    "import sys\n",
    "import os\n",
    "\n",
    "from sklearn.metrics import r2_score\n",
    "\n",
    "import scipy.integrate\n",
    "import seaborn as sns\n",
    "\n",
    "import pyarrow as pa\n",
    "import pyarrow.parquet as pq\n",
    "\n",
    "import dask.dataframe\n",
    "import statsmodels.api as sm\n",
    "\n",
    "from d2e2f.visualization import visualize\n",
    "import scipy.integrate\n",
    "\n",
    "from d2e2f.pipelines.trip_statistics import clean_statistics\n",
    "from scipy.stats import norm\n",
    "from myst_nb import glue\n",
    "plt.style.use('presentation')\n",
    "from IPython.display import display, Markdown, Latex"
   ]
  },
  {
   "cell_type": "code",
   "execution_count": null,
   "id": "c4af21de",
   "metadata": {
    "papermill": {
     "duration": 0.234474,
     "end_time": "2021-05-21T15:53:22.625141",
     "exception": false,
     "start_time": "2021-05-21T15:53:22.390667",
     "status": "completed"
    },
    "tags": [
     "remove_cell",
     "remove_output"
    ]
   },
   "outputs": [],
   "source": [
    "%reload_kedro\n",
    "df_stat = catalog.load('uraniborg.trip_statistics_clean')\n",
    "#df_stat = catalog.load('uraniborg.trip_statistics')\n",
    "df_stat['start_time'] = pd.to_datetime(df_stat['start_time'], utc=True)\n",
    "df_stat['end_time'] = pd.to_datetime(df_stat['end_time'], utc=True);\n",
    "#df_stat.describe()"
   ]
  },
  {
   "cell_type": "code",
   "execution_count": null,
   "id": "14f16344",
   "metadata": {
    "papermill": {
     "duration": 0.17193,
     "end_time": "2021-05-21T15:53:23.000185",
     "exception": false,
     "start_time": "2021-05-21T15:53:22.828255",
     "status": "completed"
    },
    "tags": [
     "remove_cell"
    ]
   },
   "outputs": [],
   "source": [
    "#df_stat.info()"
   ]
  },
  {
   "cell_type": "code",
   "execution_count": null,
   "id": "3afab4e6-982a-4fbd-bc0b-75cb22f6b6d0",
   "metadata": {
    "tags": [
     "remove_cell"
    ]
   },
   "outputs": [],
   "source": [
    "df_stat[\"consumption\"] = df_stat[\"Consumption ME1 (L)\"] + df_stat[\"Consumption ME2 (L)\"]"
   ]
  },
  {
   "cell_type": "code",
   "execution_count": null,
   "id": "49e4574d-b31c-49fb-b526-04c2b98eaaa1",
   "metadata": {
    "tags": [
     "remove_cell"
    ]
   },
   "outputs": [],
   "source": [
    "df_stat['item'] = 'raw'\n",
    "df_clean = df_stat.copy()\n",
    "df_clean['item'] = 'clean'\n",
    "df_clean.dropna(subset=['consumption'], inplace=True)\n",
    "#mask = df_clean['E'] > df_clean['E'].quantile(0.01) \n",
    "#df_clean = df_clean.loc[mask].copy()"
   ]
  },
  {
   "cell_type": "code",
   "execution_count": null,
   "id": "f0a18f24-93f8-4179-9baa-96c0556d2541",
   "metadata": {
    "tags": [
     "remove_input",
     "remove_cell"
    ]
   },
   "outputs": [],
   "source": [
    "fig,ax=plt.subplots()\n",
    "fig.set_size_inches(20,5)\n",
    "facegrid = sns.scatterplot(data=df_clean, x='start_time',y='consumption', ax=ax);\n",
    "ax.set_ylabel('(Fuel consumption per trip) [l]');\n",
    "\n",
    "fig = ax.get_figure()\n",
    "fig_name = 'overview'\n",
    "glue(fig_name, fig, display=False)"
   ]
  },
  {
   "cell_type": "code",
   "execution_count": null,
   "id": "939a40d0-4e48-4aea-abb2-6eaf9e96fb25",
   "metadata": {
    "tags": [
     "remove_input",
     "remove_cell"
    ]
   },
   "outputs": [],
   "source": [
    "fig,ax=plt.subplots()\n",
    "fig.set_size_inches(20,5)\n",
    "sns.histplot(df_clean, x='consumption', hue='trip_direction', ax=ax);\n",
    "\n",
    "fig_name = 'fuel_hist'\n",
    "glue(fig_name, fig, display=False)"
   ]
  },
  {
   "cell_type": "code",
   "execution_count": null,
   "id": "c4ca8d14-77c2-47fd-853c-a95f5327653d",
   "metadata": {
    "tags": [
     "remove_cell"
    ]
   },
   "outputs": [],
   "source": [
    "fig,ax=plt.subplots()\n",
    "fig.set_size_inches(20,5)\n",
    "sns.histplot(df_clean, x='sog', hue='trip_direction', ax=ax);\n",
    "\n",
    "fig_name = 'sog_hist'\n",
    "glue(fig_name, fig, display=False)"
   ]
  },
  {
   "cell_type": "markdown",
   "id": "a056578f-ffbc-4898-9f7c-40e62ffd999a",
   "metadata": {},
   "source": [
    "```{glue:figure} overview\n",
    ":figwidth: 1000px\n",
    ":name: \"overview\"\n",
    "\n",
    "Fuel consumption over time\n",
    "```\n",
    "\n",
    "```{glue:figure} fuel_hist\n",
    ":figwidth: 1000px\n",
    ":name: \"fuel_hist\"\n",
    "\n",
    "Histogram over fuel consumption in both directions.\n",
    "```\n",
    "\n",
    "```{glue:figure} sog_hist\n",
    ":figwidth: 1000px\n",
    ":name: \"sog_hist\"\n",
    "\n",
    "Histogram over speed over ground in both directions.\n",
    "```"
   ]
  },
  {
   "cell_type": "code",
   "execution_count": null,
   "id": "9177fead-9cec-433f-a356-75f28eec294f",
   "metadata": {
    "tags": [
     "remove_cell"
    ]
   },
   "outputs": [],
   "source": [
    "df_ = df_clean.set_index('start_time')\n",
    "df_.sort_index(inplace=True)\n",
    "\n",
    "tänd = '2021-04-01'\n",
    "utbildning = '2021-05-11'\n",
    "\n",
    "df_.loc[:tänd,'period'] = 'släckta skärmar'\n",
    "df_.loc[tänd:utbildning,'period'] = 'tända skärmar'\n",
    "df_.loc[utbildning:,'period'] = 'efter utbildning'"
   ]
  },
  {
   "cell_type": "code",
   "execution_count": null,
   "id": "b8edcd45-f570-4ea3-9a41-3f99c434f20d",
   "metadata": {
    "tags": [
     "remove_cell"
    ]
   },
   "outputs": [],
   "source": [
    "df_expanding = df_.expanding().mean()"
   ]
  },
  {
   "cell_type": "code",
   "execution_count": null,
   "id": "95c496af-db5c-4fe6-877d-9e3ff5094e4d",
   "metadata": {
    "tags": [
     "remove_input",
     "remove_cell"
    ]
   },
   "outputs": [],
   "source": [
    "fig,ax=plt.subplots()\n",
    "fig.set_size_inches(20,15)\n",
    "\n",
    "#df_before.plot(y='consumption', label='before', ax=ax, style='b.')\n",
    "#df_after.plot(y='consumption', label='after', ax=ax, style='g.')\n",
    "\n",
    "styles = ['k.','g.','b.']\n",
    "for style, (period, df_period) in zip(styles,df_.groupby(by='period', sort=False)):\n",
    "    df_period.plot(y='consumption', label=period, ax=ax, style=style)\n",
    "\n",
    "\n",
    "df_expanding.loc[tänd:].plot(y='consumption', label=f'expanding mean', ax=ax, style='k-', lw=3)\n",
    "ax.set_ylabel('Fuel consumption [liters]')\n",
    "ax.legend();\n",
    "\n",
    "fig = ax.get_figure()\n",
    "fig_name = 'fuel'\n",
    "glue(fig_name, fig, display=False)"
   ]
  },
  {
   "cell_type": "code",
   "execution_count": null,
   "id": "56954998-66a4-46be-af1f-d2b1a7998174",
   "metadata": {
    "tags": [
     "remove_cell"
    ]
   },
   "outputs": [],
   "source": [
    "fig,ax=plt.subplots()\n",
    "fig.set_size_inches(20,15)\n",
    "\n",
    "styles = ['k.','g.','b.']\n",
    "for style, (period, df_period) in zip(styles,df_.groupby(by='period', sort=False)):\n",
    "    df_period.plot(y='w', label=period, ax=ax, style=style)\n",
    "\n",
    "df_expanding.loc[tänd:].plot(y='w', label=f'expanding mean', ax=ax, style='k-', lw=3)\n",
    "ylims = ax.get_ylim()\n",
    "ax.set_ylim((0,ylims[1]))\n",
    "ax.set_ylabel('Wind speed [m/s]')\n",
    "ax.legend();\n",
    "\n",
    "fig = ax.get_figure()\n",
    "fig_name = 'wind'\n",
    "glue(fig_name, fig, display=False)"
   ]
  },
  {
   "cell_type": "code",
   "execution_count": null,
   "id": "d770d101-4515-4629-9737-59cf2d8744be",
   "metadata": {
    "tags": [
     "remove_input",
     "remove_cell"
    ]
   },
   "outputs": [],
   "source": [
    "interesting = ['sog','consumption','w']\n",
    "df_compare = df_.groupby(by='period', sort=False).mean()[interesting]\n",
    "table = df_compare.style.format(precision=1)\n",
    "glue(\"periods\", table)"
   ]
  },
  {
   "cell_type": "markdown",
   "id": "69bbd48d-b0d4-4039-b704-b9708e99bc43",
   "metadata": {},
   "source": [
    "```{glue:figure} fuel\n",
    ":figwidth: 1000px\n",
    ":name: \"fuel\"\n",
    "\n",
    "Fuel consumption over time\n",
    "```\n",
    "\n",
    "```{glue:figure} wind\n",
    ":figwidth: 1000px\n",
    ":name: \"wind\"\n",
    "\n",
    "Wind speed over time\n",
    "```\n",
    "\n",
    "```{glue:figure} periods\n",
    ":name: \"periods\"\n",
    "\n",
    "Mean values for each period.\n",
    "```"
   ]
  },
  {
   "cell_type": "code",
   "execution_count": null,
   "id": "1136d08b-3de0-4a72-992a-5b4a9d74a0b9",
   "metadata": {
    "tags": [
     "remove_input",
     "remove_cell"
    ]
   },
   "outputs": [],
   "source": [
    "M = np.tile(df_compare['consumption'],(len(df_compare),1))\n",
    "changes = np.triu(M - M.T)\n",
    "df_changes = pd.DataFrame(changes, index=df_compare.index, columns=df_compare.index)\n",
    "\n",
    "columns = df_changes.columns[~(df_changes==0).all(axis=0)]\n",
    "rows = df_changes.index[~(df_changes==0).all(axis=1)]\n",
    "df_changes = df_changes.loc[rows,columns].copy()\n",
    "\n",
    "df_changes = (df_changes/df_compare.loc['släckta skärmar']['consumption'])*100\n",
    "df_changes"
   ]
  },
  {
   "cell_type": "code",
   "execution_count": null,
   "id": "6a478856-50d0-40e1-a5f5-e5cf527343c5",
   "metadata": {
    "tags": [
     "remove_cell"
    ]
   },
   "outputs": [],
   "source": [
    "glue('släckt_to_tänd', np.round(df_changes.loc['släckta skärmar','tända skärmar'],1))\n",
    "glue('tänd_to_efter_utbildning', np.round(df_changes.loc['tända skärmar','efter utbildning'],1))\n",
    "glue('släckt_to_efter_utbildning', np.round(df_changes.loc['släckta skärmar','efter utbildning'],1))"
   ]
  },
  {
   "cell_type": "markdown",
   "id": "8a6d1a7d-c25a-49ca-8cda-a74a3fd4dc8e",
   "metadata": {},
   "source": [
    "* Släckt to tänd: {glue:}`släckt_to_tänd`%\n",
    "* Tänd to efter utbildning: {glue:}`tänd_to_efter_utbildning`%\n",
    "* Släckt to efter utbildning: {glue:}`släckt_to_efter_utbildning`%\n"
   ]
  },
  {
   "cell_type": "markdown",
   "id": "0c5b2dc9-c91d-4317-8879-8f1511cc91b8",
   "metadata": {
    "tags": []
   },
   "source": [
    "## Hypothesis testing"
   ]
  },
  {
   "cell_type": "code",
   "execution_count": null,
   "id": "89a02912-c06f-41b0-a626-68295ba5157d",
   "metadata": {
    "tags": [
     "remove_cell"
    ]
   },
   "outputs": [],
   "source": [
    "from statsmodels.stats import weightstats as stests"
   ]
  },
  {
   "cell_type": "code",
   "execution_count": null,
   "id": "e30d4564-4376-4d87-99d0-9e7509d8ac8b",
   "metadata": {
    "tags": [
     "remove_cell"
    ]
   },
   "outputs": [],
   "source": [
    "saving = 6\n",
    "glue('saving', saving, display=False)"
   ]
  },
  {
   "cell_type": "markdown",
   "id": "24a7f8bc-0db5-45a6-ace1-01e88a8d504b",
   "metadata": {},
   "source": [
    "H0: fuel consumption has decresed {glue:}`saving`% from \"släckta skärmar\" to \"efter utbildning\"."
   ]
  },
  {
   "cell_type": "code",
   "execution_count": null,
   "id": "de2ecf2b-fc4a-4414-9985-115100ac1a15",
   "metadata": {
    "tags": [
     "remove_cell"
    ]
   },
   "outputs": [],
   "source": [
    "periods = df_.groupby(by='period', sort=False)\n",
    "key='consumption' \n",
    "z1 = periods.get_group('släckta skärmar')[key]\n",
    "z2 = periods.get_group('efter utbildning')[key]"
   ]
  },
  {
   "cell_type": "code",
   "execution_count": null,
   "id": "5ec4e62a-6524-4ba8-8cdc-546fb40cd4a1",
   "metadata": {
    "tags": [
     "remove_cell"
    ]
   },
   "outputs": [],
   "source": [
    "diff = saving/100*z1.mean()\n",
    "ztest ,pvalue = stests.ztest(z1, z2, value=diff)\n",
    "glue(\"pvalue\",pvalue, display=False)"
   ]
  },
  {
   "cell_type": "code",
   "execution_count": null,
   "id": "a8d00bae-ccaf-4ba0-92ed-5d955a46b2ee",
   "metadata": {
    "tags": [
     "remove_input"
    ]
   },
   "outputs": [],
   "source": [
    "alpha = 0.95\n",
    "rejected = pvalue < 1-alpha\n",
    "if rejected:\n",
    "    display(Markdown(f\"Null hypotesis is rejected since p-value: {np.round(pvalue,3)} is smaller than {np.round(1-alpha,3)} ({round(alpha*100,0)}% confidence)\"))\n",
    "else:\n",
    "    display(Markdown(f\"Null hypotesis cannot be rejected since p-value: {np.round(pvalue,3)} is larger than {np.round(1-alpha,3)} ({round(alpha*100,0)}% confidence)\"))"
   ]
  },
  {
   "cell_type": "code",
   "execution_count": null,
   "id": "2281cdb2-dcb9-419a-9e0f-cbba81bfc4a9",
   "metadata": {
    "tags": [
     "remove_cell"
    ]
   },
   "outputs": [],
   "source": [
    "key ='sog'\n",
    "\n",
    "bins = np.linspace(df_[key].min(), df_[key].max(), 100)\n",
    "\n",
    "for direction, df_direction in df_.groupby(by='trip_direction', sort=False):\n",
    "    grid = sns.displot(df_direction, x=key, kind='kde', hue='period', common_norm=False);\n",
    "    fig = grid.figure\n",
    "    fig.suptitle(direction)\n",
    "    \n",
    "    fig_name = f'{direction}'\n",
    "    glue(fig_name, fig, display=False)"
   ]
  },
  {
   "cell_type": "markdown",
   "id": "7cf677a5-e4c8-42f1-a70f-ffd5447b797c",
   "metadata": {},
   "source": [
    "```{glue:figure} Ven-Landskrona\n",
    ":figwidth: 1000px\n",
    ":name: \"Ven-Landskrona\"\n",
    "\n",
    "Ven-Landskrona\n",
    "```\n",
    "\n",
    "```{glue:figure} Landskrona-Ven\n",
    ":figwidth: 1000px\n",
    ":name: \"Landskrona-Ven\"\n",
    "\n",
    "Landskrona-Ven\n",
    "```"
   ]
  },
  {
   "cell_type": "code",
   "execution_count": null,
   "id": "49a20380-4caf-4aea-9fc0-28b3baa46491",
   "metadata": {},
   "outputs": [],
   "source": []
  }
 ],
 "metadata": {
  "kernelspec": {
   "display_name": "d2e2f",
   "language": "python",
   "name": "python3"
  },
  "language_info": {
   "codemirror_mode": {
    "name": "ipython",
    "version": 3
   },
   "file_extension": ".py",
   "mimetype": "text/x-python",
   "name": "python",
   "nbconvert_exporter": "python",
   "pygments_lexer": "ipython3",
   "version": "3.7.9"
  },
  "papermill": {
   "default_parameters": {},
   "duration": 468.144174,
   "end_time": "2021-05-21T16:01:05.321603",
   "environment_variables": {},
   "exception": null,
   "input_path": "steps\\03.1_explore_trip_statistics.ipynb",
   "output_path": "experiments\\2020-01-01-till-2021-02-28-tycho-brahe\\03.1_explore_trip_statistics.ipynb",
   "parameters": {
    "n_rows": null,
    "name": "2020-01-01-till-2021-02-28-tycho-brahe"
   },
   "start_time": "2021-05-21T15:53:17.177429",
   "version": "2.3.3"
  }
 },
 "nbformat": 4,
 "nbformat_minor": 5
}
