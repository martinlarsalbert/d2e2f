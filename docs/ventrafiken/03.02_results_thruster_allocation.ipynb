{
 "cells": [
  {
   "cell_type": "markdown",
   "id": "05228f74-4794-497a-89d6-37b646c4fc70",
   "metadata": {},
   "source": [
    "(thruster_allocation)=\n",
    "## Thruster allocation"
   ]
  },
  {
   "cell_type": "code",
   "execution_count": null,
   "id": "6969fa5c-555d-4314-96db-be5d4deff4ca",
   "metadata": {
    "papermill": {
     "duration": 3.700467,
     "end_time": "2021-05-21T15:53:22.375142",
     "exception": false,
     "start_time": "2021-05-21T15:53:18.674675",
     "status": "completed"
    },
    "tags": [
     "remove_cell"
    ]
   },
   "outputs": [],
   "source": [
    "# %load imports.py\n",
    "# %load ../imports.py\n",
    "%matplotlib inline\n",
    "%load_ext autoreload\n",
    "%autoreload 2\n",
    "%config Completer.use_jedi = False  ## (To fix autocomplete)\n",
    "\n",
    "import numpy as np\n",
    "import pandas as pd\n",
    "import matplotlib.pyplot as plt\n",
    "\n",
    "import seaborn as sns\n",
    "plt.style.use('paper')\n",
    "from IPython.display import set_matplotlib_formats\n",
    "set_matplotlib_formats('pdf')\n",
    "\n",
    "#import seaborn as sns\n",
    "import os\n",
    "from collections import OrderedDict\n",
    "\n",
    "from IPython.display import display\n",
    "\n",
    "pd.options.display.max_rows = 999\n",
    "pd.options.display.max_columns = 999\n",
    "pd.set_option(\"display.max_columns\", None)\n",
    "\n",
    "import folium\n",
    "import plotly.express as px\n",
    "import plotly.graph_objects as go\n",
    "\n",
    "import sys\n",
    "import os\n",
    "\n",
    "from sklearn.metrics import r2_score\n",
    "\n",
    "import scipy.integrate\n",
    "import seaborn as sns\n",
    "\n",
    "import pyarrow as pa\n",
    "import pyarrow.parquet as pq\n",
    "\n",
    "import dask.dataframe\n",
    "import statsmodels.api as sm\n",
    "\n",
    "from d2e2f.visualization import visualize\n",
    "import scipy.integrate\n",
    "\n",
    "from d2e2f.pipelines.trip_statistics import clean_statistics\n",
    "from scipy.stats import norm\n",
    "from myst_nb import glue\n",
    "#plt.style.use('presentation')\n",
    "from IPython.display import display, Markdown, Latex\n",
    "import sympy as sp\n",
    "from d2e2f.visualization.visualize import plot_map, plot_trips\n",
    "import statsmodels.api as sm\n",
    "import geopandas as gp\n",
    "from d2e2f.reporting import pop_index, reload_kedro\n",
    "import yaml\n",
    "catalog = reload_kedro()\n",
    "from d2e2f.analyze import arange_trip_matrix"
   ]
  },
  {
   "cell_type": "code",
   "execution_count": null,
   "id": "1b1559c0-5d57-4c98-8f2e-f683317dfac7",
   "metadata": {
    "tags": [
     "remove_cell"
    ]
   },
   "outputs": [],
   "source": [
    "with open('metadata.yml',mode='r') as file:\n",
    "    metadata = yaml.safe_load(file)\n",
    "ship=metadata['ship']\n",
    "shipname = metadata['shipname']\n",
    "\n",
    "df = catalog.load(f'{ship}.data_with_trip_columns')\n",
    "df['time'] = df.index\n",
    "loader_raw = catalog.load(f'{ship}.raw_data')\n",
    "df_raw = loader_raw[list(loader_raw.keys())[-1]]()\n",
    "df_raw.index = pd.to_datetime(df_raw['Timestamp'])\n",
    "dt = pd.to_datetime(df_raw['Timestamp']).diff().mean()\n",
    "t_start = df.iloc[0].name\n",
    "t_end = df.iloc[-1].name\n",
    "\n",
    "trip_statistics = catalog.load(f'{ship}.trip_statistics')\n",
    "trip_statistics_clean = catalog.load(f'{ship}.trip_statistics_clean')\n",
    "trip_statistics_clean['trip_no'] = trip_statistics_clean.index\n",
    "trip_statistics_clean.index = pd.to_datetime(trip_statistics_clean['start_time'])\n",
    "trip_statistics_clean.index.name = 'time'\n",
    "\n",
    "harbours = catalog.load(f'params:{ship}.harbours')\n",
    "min_time = catalog.load(f'params:{ship}.min_time')\n",
    "max_time = catalog.load(f'params:{ship}.max_time')\n",
    "min_distance = catalog.load(f'params:{ship}.min_distance')\n",
    "max_distance = catalog.load(f'params:{ship}.max_distance')\n",
    "min_start_speed = catalog.load(f'params:{ship}.min_start_speed')\n",
    "max_time_diff = catalog.load(f\"params:{ship}.max_time_diff\")"
   ]
  },
  {
   "cell_type": "code",
   "execution_count": null,
   "id": "345c1b50-14aa-4548-b7ae-1680480e31c2",
   "metadata": {
    "tags": [
     "remove_cell"
    ]
   },
   "outputs": [],
   "source": [
    "glue('harbour1', list(harbours.keys())[0])\n",
    "glue('harbour2', list(harbours.keys())[1])\n",
    "glue('min_time', min_time)\n",
    "glue('max_time', max_time)\n",
    "glue('min_distance', min_distance)\n",
    "glue('max_distance', max_distance)\n",
    "glue('min_start_speed', min_start_speed)\n",
    "glue('shipname', shipname)\n",
    "glue('max_time_diff', max_time_diff)\n",
    "glue('dt',dt)\n",
    "glue('t_start',str(t_start.date()))\n",
    "glue('t_end',str(t_end.date()))\n",
    "glue('no_samples',np.round(len(df)/(10**6), decimals=1))\n",
    "glue('direction1',trip_statistics_clean['trip_direction'].unique()[0])\n",
    "glue('direction2',trip_statistics_clean['trip_direction'].unique()[1])\n",
    "glue('no_trips',len(trip_statistics_clean))"
   ]
  },
  {
   "cell_type": "markdown",
   "id": "7e250df4-cc08-4fc6-b601-8c362e91d448",
   "metadata": {},
   "source": [
    "High correlation between the aft thruster consumption ratio $r_{aft}$ ([eq](eq:aft_thrust_ratio)) and fuel consumption \n",
    "was observed as shown in {numref}`fig:thruster_correlation`.\n",
    "\n",
    "```{math}\n",
    ":label: eq:aft_thrust_ratio\n",
    "r_{aft} = \\frac{C_{aft}}{C_{aft} + C_{fwd}}\n",
    "```"
   ]
  },
  {
   "cell_type": "markdown",
   "id": "80fa01c8-9e09-4df6-b377-5902b4106d86",
   "metadata": {
    "tags": [
     "remove_cell"
    ]
   },
   "source": [
    "$$r_{aft} = \\frac{C_{aft}}{C_{aft} + C_{fwd}}$$"
   ]
  },
  {
   "cell_type": "markdown",
   "id": "02b5f057-fa68-4dd6-a9d1-dc581ddac609",
   "metadata": {},
   "source": [
    "where $C_{aft}$ and $C_{fwd}$ are the fuel consumption origin from the aft and forward thruster.\n",
    "\n",
    "```{glue:figure} fig:thruster_correlation\n",
    ":name: \"fig:thruster_correlation\"\n",
    "\n",
    "Correlation between the fuel consumption and the aft thruster ratio\n",
    "```\n",
    "\n",
    "This means that the fuel consumption is often higher when the thrust allocation is 50-50% between the aft and forward thruster, compared to when more of the thrust comes from the aft thruster."
   ]
  },
  {
   "cell_type": "code",
   "execution_count": null,
   "id": "746b76a2-6b1d-4aca-938e-7b43a375e5a2",
   "metadata": {
    "tags": [
     "remove_cell"
    ]
   },
   "outputs": [],
   "source": [
    "fig,ax=plt.subplots()\n",
    "\n",
    "sns.regplot(data=trip_statistics_clean, x='thrust_factor', y='consumption', line_kws={\"color\": \"C1\"}, scatter_kws={'alpha':0.1})\n",
    "ax.set_ylabel('Fuel consumption [l/trip]')\n",
    "ax.set_xlabel(r'Aft thruster ratio: $\\frac{C_{aft}}{C_{aft} +C_{fwd}}$')\n",
    "\n",
    "\n",
    "ax.annotate('50\\%-50\\% \\n aft-fwd thruster', (0.5,65), \n",
    "            xytext=(0.52,45), \n",
    "            arrowprops=dict(arrowstyle=\"->\"), horizontalalignment='center', verticalalignment='top')\n",
    "\n",
    "ax.annotate('90\\%-10\\% \\n aft-fwd thruster', (0.90,32), \n",
    "            xytext=(0.9,60), \n",
    "            arrowprops=dict(arrowstyle=\"->\"), horizontalalignment='center', verticalalignment='top')\n",
    "\n",
    "ax.set_xlim(0.45,0.95)\n",
    "\n",
    "glue('fig:thruster_correlation', fig,display=False)\n",
    "fig.savefig('correlation.pdf')"
   ]
  }
 ],
 "metadata": {
  "kernelspec": {
   "display_name": "Python 3 (ipykernel)",
   "language": "python",
   "name": "python3"
  },
  "language_info": {
   "codemirror_mode": {
    "name": "ipython",
    "version": 3
   },
   "file_extension": ".py",
   "mimetype": "text/x-python",
   "name": "python",
   "nbconvert_exporter": "python",
   "pygments_lexer": "ipython3",
   "version": "3.7.9"
  }
 },
 "nbformat": 4,
 "nbformat_minor": 5
}
