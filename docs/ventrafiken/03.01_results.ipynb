{
 "cells": [
  {
   "cell_type": "markdown",
   "id": "05228f74-4794-497a-89d6-37b646c4fc70",
   "metadata": {},
   "source": [
    "(results)=\n",
    "# Results"
   ]
  },
  {
   "cell_type": "code",
   "execution_count": null,
   "id": "6969fa5c-555d-4314-96db-be5d4deff4ca",
   "metadata": {
    "papermill": {
     "duration": 3.700467,
     "end_time": "2021-05-21T15:53:22.375142",
     "exception": false,
     "start_time": "2021-05-21T15:53:18.674675",
     "status": "completed"
    },
    "tags": [
     "remove_cell"
    ]
   },
   "outputs": [],
   "source": [
    "# %load imports.py\n",
    "# %load ../imports.py\n",
    "%matplotlib inline\n",
    "%load_ext autoreload\n",
    "%autoreload 2\n",
    "%config Completer.use_jedi = False  ## (To fix autocomplete)\n",
    "\n",
    "import numpy as np\n",
    "import pandas as pd\n",
    "import matplotlib.pyplot as plt\n",
    "\n",
    "import seaborn as sns\n",
    "plt.style.use('paper')\n",
    "from IPython.display import set_matplotlib_formats\n",
    "set_matplotlib_formats('pdf')\n",
    "\n",
    "#import seaborn as sns\n",
    "import os\n",
    "from collections import OrderedDict\n",
    "\n",
    "from IPython.display import display\n",
    "\n",
    "pd.options.display.max_rows = 999\n",
    "pd.options.display.max_columns = 999\n",
    "pd.set_option(\"display.max_columns\", None)\n",
    "\n",
    "import folium\n",
    "import plotly.express as px\n",
    "import plotly.graph_objects as go\n",
    "\n",
    "import sys\n",
    "import os\n",
    "\n",
    "from sklearn.metrics import r2_score\n",
    "\n",
    "import scipy.integrate\n",
    "import seaborn as sns\n",
    "\n",
    "import pyarrow as pa\n",
    "import pyarrow.parquet as pq\n",
    "\n",
    "import dask.dataframe\n",
    "import statsmodels.api as sm\n",
    "\n",
    "from d2e2f.visualization import visualize\n",
    "import scipy.integrate\n",
    "\n",
    "from d2e2f.pipelines.trip_statistics import clean_statistics\n",
    "from scipy.stats import norm\n",
    "from myst_nb import glue\n",
    "#plt.style.use('presentation')\n",
    "from IPython.display import display, Markdown, Latex\n",
    "import sympy as sp\n",
    "from d2e2f.visualization.visualize import plot_map, plot_trips\n",
    "import statsmodels.api as sm\n",
    "import geopandas as gp\n",
    "from d2e2f.reporting import pop_index, reload_kedro\n",
    "import yaml\n",
    "catalog = reload_kedro()"
   ]
  },
  {
   "cell_type": "code",
   "execution_count": null,
   "id": "1b1559c0-5d57-4c98-8f2e-f683317dfac7",
   "metadata": {
    "tags": [
     "remove_cell"
    ]
   },
   "outputs": [],
   "source": [
    "with open('metadata.yml',mode='r') as file:\n",
    "    metadata = yaml.safe_load(file)\n",
    "ship=metadata['ship']\n",
    "shipname = metadata['shipname']\n",
    "\n",
    "df = catalog.load(f'{ship}.data_with_trip_columns')\n",
    "df['time'] = df.index\n",
    "loader_raw = catalog.load(f'{ship}.raw_data')\n",
    "df_raw = loader_raw[list(loader_raw.keys())[-1]]()\n",
    "df_raw.index = pd.to_datetime(df_raw['Timestamp'])\n",
    "dt = pd.to_datetime(df_raw['Timestamp']).diff().mean()\n",
    "t_start = df.iloc[0].name\n",
    "t_end = df.iloc[-1].name\n",
    "\n",
    "trip_statistics = catalog.load(f'{ship}.trip_statistics')\n",
    "trip_statistics_clean = catalog.load(f'{ship}.trip_statistics_clean')\n",
    "trip_statistics_clean['trip_no'] = trip_statistics_clean.index\n",
    "trip_statistics_clean.index = pd.to_datetime(trip_statistics_clean['start_time'])\n",
    "trip_statistics_clean.index.name = 'time'\n",
    "\n",
    "harbours = catalog.load(f'params:{ship}.harbours')\n",
    "min_time = catalog.load(f'params:{ship}.min_time')\n",
    "max_time = catalog.load(f'params:{ship}.max_time')\n",
    "min_distance = catalog.load(f'params:{ship}.min_distance')\n",
    "min_start_speed = catalog.load(f'params:{ship}.min_start_speed')\n",
    "max_time_diff = catalog.load(f\"params:{ship}.max_time_diff\")"
   ]
  },
  {
   "cell_type": "code",
   "execution_count": null,
   "id": "ee3d7117-2ca7-48bd-8c12-1049bfd03e8b",
   "metadata": {},
   "outputs": [],
   "source": [
    "with open('metadata.yml',mode='r') as file:\n",
    "    metadata = yaml.safe_load(file)\n",
    "ship=metadata['ship']\n",
    "shipname = metadata['shipname']\n",
    "\n",
    "df = catalog.load(f'{ship}.data_with_trip_columns')\n",
    "df['time'] = df.index\n",
    "loader_raw = catalog.load(f'{ship}.raw_data')\n",
    "df_raw = loader_raw[list(loader_raw.keys())[-1]]()\n",
    "df_raw.index = pd.to_datetime(df_raw['Timestamp'])\n",
    "dt = pd.to_datetime(df_raw['Timestamp']).diff().mean()\n",
    "t_start = df.iloc[0].name\n",
    "t_end = df.iloc[-1].name\n",
    "\n",
    "trip_statistics = catalog.load(f'{ship}.trip_statistics')\n",
    "trip_statistics_clean = catalog.load(f'{ship}.trip_statistics_clean')\n",
    "trip_statistics_clean['trip_no'] = trip_statistics_clean.index\n",
    "trip_statistics_clean.index = pd.to_datetime(trip_statistics_clean['start_time'])\n",
    "trip_statistics_clean.index.name = 'time'\n",
    "\n",
    "harbours = catalog.load(f'params:{ship}.harbours')\n",
    "min_time = catalog.load(f'params:{ship}.min_time')\n",
    "max_time = catalog.load(f'params:{ship}.max_time')\n",
    "min_distance = catalog.load(f'params:{ship}.min_distance')\n",
    "min_start_speed = catalog.load(f'params:{ship}.min_start_speed')\n",
    "max_time_diff = catalog.load(f\"params:{ship}.max_time_diff\")"
   ]
  },
  {
   "cell_type": "code",
   "execution_count": null,
   "id": "345c1b50-14aa-4548-b7ae-1680480e31c2",
   "metadata": {
    "tags": [
     "remove_cell"
    ]
   },
   "outputs": [],
   "source": [
    "glue('harbour1', list(harbours.keys())[0])\n",
    "glue('harbour2', list(harbours.keys())[1])\n",
    "glue('min_time', min_time)\n",
    "glue('max_time', max_time)\n",
    "glue('min_distance', min_distance)\n",
    "glue('min_start_speed', min_start_speed)\n",
    "glue('shipname', shipname)\n",
    "glue('max_time_diff', max_time_diff)\n",
    "glue('dt',dt)\n",
    "glue('t_start',str(t_start.date()))\n",
    "glue('t_end',str(t_end.date()))\n",
    "glue('no_samples',np.round(len(df)/(10**6), decimals=1))\n",
    "glue('direction1',trip_statistics_clean['trip_direction'].unique()[0])\n",
    "glue('direction2',trip_statistics_clean['trip_direction'].unique()[1])\n",
    "glue('no_trips',len(trip_statistics_clean))"
   ]
  },
  {
   "cell_type": "markdown",
   "id": "83cb75fe-02ce-4477-886e-8e222a24c354",
   "metadata": {},
   "source": [
    "## Trips"
   ]
  },
  {
   "cell_type": "code",
   "execution_count": null,
   "id": "e652f288-de8f-4a43-b1b4-5e1fab50c507",
   "metadata": {
    "tags": [
     "remove_cell"
    ]
   },
   "outputs": [],
   "source": [
    "interesting = ['latitude',\n",
    "               'longitude',\n",
    "               'sog',\n",
    "               'cog',\n",
    "               'consumption',\n",
    "               'trip_time',\n",
    "               'distance',\n",
    "              ]\n",
    "\n",
    "for i,(direction, trips_) in enumerate(trip_statistics_clean.groupby(by='trip_direction', sort=False)):    \n",
    "    df_ = trips_[interesting].describe()\n",
    "    \n",
    "    #df_['Statistic'] = df_.index\n",
    "    #columns = list(df_.columns)\n",
    "    #columns.remove('Statistic')\n",
    "    #columns = ['Statistic'] + columns\n",
    "    \n",
    "    decimals = {\n",
    "        'latitude' : 3,\n",
    "        'longitude' : 3,\n",
    "        'sog':2,\n",
    "        'consumption':2,\n",
    "    }\n",
    "    for key in df_.columns:\n",
    "        if not key in decimals:\n",
    "            decimals[key] = 1\n",
    "            \n",
    "    table = df_.drop(index='count').round(decimals).transpose()\n",
    "    table.index.name='Signal'\n",
    "    glue(f'trips_describe_{i}',pop_index(table))\n"
   ]
  },
  {
   "cell_type": "code",
   "execution_count": null,
   "id": "51a9c564-f867-4e61-9b59-60e2e9c21c07",
   "metadata": {
    "tags": [
     "remove_cell"
    ]
   },
   "outputs": [],
   "source": [
    "decimals = {\n",
    "'distance':0,\n",
    "}\n",
    "\n",
    "def format(value, decimal):\n",
    "    value = value.round(decimal)\n",
    "    if decimal==0:\n",
    "        value=int(value)\n",
    "    return value\n",
    "\n",
    "for key in interesting:\n",
    "    \n",
    "    decimal=decimals.get(key,1)\n",
    "        \n",
    "    glue(f'{key}_min',format(trip_statistics_clean[key].min(), decimal=decimal), display=False)\n",
    "    glue(f'{key}_max',format(trip_statistics_clean[key].max(), decimal=decimal), display=False)\n",
    "    glue(f'{key}_std',format(trip_statistics_clean[key].std(), decimal=decimal), display=False)\n",
    "    \n",
    "    "
   ]
  },
  {
   "cell_type": "markdown",
   "id": "7f204840-eb28-41dc-aa34-c7a111871c49",
   "metadata": {},
   "source": [
    "Statistics for the {glue:}`no_trips` trips are summarized in {numref}`tab:trips_describe_0` for the {glue:text}`direction1` direction and in {numref}`tab:trips_describe_1` for the {glue:text}`direction2` direction.\n",
    "\n",
    "```{glue:figure} trips_describe_0\n",
    ":figwidth: 300px\n",
    ":name: \"tab:trips_describe_0\"\n",
    "\n",
    "Trips {glue:text}`direction1`\n",
    "```\n",
    "\n",
    "```{glue:figure} trips_describe_1\n",
    ":figwidth: 300px\n",
    ":name: \"tab:trips_describe_1\"\n",
    "\n",
    "Trips {glue:text}`direction2`\n",
    "```\n",
    "\n",
    "Latitude, longitude, speed over ground (sog) and course over ground (cog) are expressed as the mean values for each trip. Consumption, trip_time and distance are expressed as the total fuel consumption (in liters), total trip duration (in seconds) and total distance (in meters).\n",
    "\n",
    "The statistics display a very consistent way to operate this ship; the speed over ground (sog) varies between {glue:}`sog_min` and {glue:}`sog_max` m/s with a standard deviation of {glue:}`sog_std` m/s; the distance varies between {glue:}`distance_min` and {glue:}`distance_max` meters with a standard deviation of {glue:}`distance_std` meters.\n",
    "\n",
    "The total fuel consumption varies between {glue:}`consumption_min` and {glue:}`consumption_max` liters per trip with a standard deviation of {glue:}`consumption_std` liters.\n",
    "\n",
    "The mean consumption is a bit higher for trips in the {glue:text}`direction2` direction, which can also be seen in {numref}`fig:fuel_hist`.\n",
    "\n",
    "```{glue:figure} fig:fuel_hist\n",
    ":name: \"fig:fuel_hist\"\n",
    "\n",
    "Histogram over the fuel consumption per trip in the two directions.\n",
    "```"
   ]
  },
  {
   "cell_type": "code",
   "execution_count": null,
   "id": "0c84019a-3f84-4e0a-8104-77eaf60a0693",
   "metadata": {
    "tags": [
     "remove_input",
     "remove_cell"
    ]
   },
   "outputs": [],
   "source": [
    "fig,ax=plt.subplots()\n",
    "trip_statistics_clean['trip direction'] = trip_statistics_clean['trip_direction']\n",
    "sns.histplot(trip_statistics_clean, x='consumption', hue='trip direction', ax=ax);\n",
    "\n",
    "fig_name = 'fig:fuel_hist'\n",
    "glue(fig_name, fig, display=False)"
   ]
  },
  {
   "cell_type": "markdown",
   "id": "b4a51ba9-8476-4225-9fe4-8a8fc8f53611",
   "metadata": {
    "tags": []
   },
   "source": [
    "## Crew training"
   ]
  },
  {
   "cell_type": "code",
   "execution_count": null,
   "id": "ca02f7b9-48f7-44df-b92d-9de1b16ff2fd",
   "metadata": {
    "tags": [
     "remove_cell"
    ]
   },
   "outputs": [],
   "source": [
    "period_starts = metadata.get('period_starts',{'start':'start'})\n",
    "period_starts = {key: t_start.date() if value=='start' else value for key,value in period_starts.items()}\n",
    "ends = list(period_starts.values())[1:] + [t_end.date()]\n",
    "\n",
    "for (period,start),end in zip(period_starts.items(),ends):\n",
    "        \n",
    "    glue(period,start, display=False)\n",
    "    \n",
    "    trip_statistics_clean.loc[str(start):str(end),'period'] = period\n",
    "\n",
    "    \n",
    "    \n",
    "#trip_statistics_clean.loc[utbildning:lowseason,'period'] = r'After training high season'\n",
    "#trip_statistics_clean.loc[lowseason:,'period'] = r'After training low season'"
   ]
  },
  {
   "cell_type": "markdown",
   "id": "e81335e8-88c2-42df-9534-32245d625df4",
   "metadata": {},
   "source": [
    "Crew training in eco driving to reduce the fuel consumption of the operation of {glue:text}`shipname` was carried out {glue:text}`training`. Fuel consumption for trips before and after this training can be seen in {numref}`fig:pre_after`. The average fuel consumption per trip is very similar before and after training as seen in {numref}`fig:pre_after`.\n",
    "\n",
    "```{glue:figure} fig:pre_after\n",
    ":name: \"fig:pre_after\"\n",
    "\n",
    "Fuel consumption for all trips before and after crew training.\n",
    "```"
   ]
  },
  {
   "cell_type": "code",
   "execution_count": null,
   "id": "97134a1d-a6ea-4871-8d1c-de1899d5ed6c",
   "metadata": {
    "tags": [
     "remove_cell"
    ]
   },
   "outputs": [],
   "source": [
    "fig,ax=plt.subplots()\n",
    "\n",
    "styles = ['k.','g.','b.']\n",
    "for style, (period, df_period) in zip(styles,trip_statistics_clean.groupby(by='period', sort=False)):\n",
    "    plot = df_period.plot(y='consumption', label=period, ax=ax, style=style, alpha=0.5)\n",
    "    xs = [df_period.index[0],df_period.index[-1]]\n",
    "    ys = np.array([1,1])*df_period['consumption'].mean()\n",
    "    ax.plot(xs, ys, '-', label=f\"Average {period.lower()}\", color=plot.lines[-1].get_color(), zorder=10)\n",
    "    \n",
    "    \n",
    "    ax.set_ylabel('Fuel consumption per trip [liters]')\n",
    "\n",
    "#get handles and labels\n",
    "handles, labels = plt.gca().get_legend_handles_labels()\n",
    "\n",
    "#specify order of items in legend\n",
    "order = list(np.arange(0,len(handles),2)) + list(np.arange(1,len(handles),2))\n",
    "    \n",
    "ax.legend([handles[idx] for idx in order],[labels[idx] for idx in order], ncol=2, loc='upper center');\n",
    "glue('fig:pre_after',fig, display=False)"
   ]
  },
  {
   "cell_type": "code",
   "execution_count": null,
   "id": "05879cef-06a5-444e-bc6c-c15288f2836d",
   "metadata": {
    "tags": [
     "remove_cell"
    ]
   },
   "outputs": [],
   "source": [
    "df_compare = trip_statistics_clean.groupby(by='period', sort=False)[interesting].mean()\n",
    "\n",
    "decimals = {\n",
    "    'latitude \t' : 3,\n",
    "    'longitude' : 3,\n",
    "}\n",
    "for key in df_compare.columns:\n",
    "    if not key in decimals:\n",
    "        decimals[key] = 1\n",
    "\n",
    "table = df_compare.round(decimals=decimals)\n",
    "glue('tab:savings',pop_index(table))"
   ]
  },
  {
   "cell_type": "code",
   "execution_count": null,
   "id": "11d19118-af93-4a02-9c0a-08554c19f65b",
   "metadata": {
    "tags": [
     "remove_cell"
    ]
   },
   "outputs": [],
   "source": [
    "import matplotlib.ticker as mtick\n",
    "df_ = df_compare[interesting]\n",
    "fig,ax=plt.subplots()\n",
    "df_ = df_.divide(df_.iloc[0])*100\n",
    "df_.transpose().plot(kind='bar', ax=ax)\n",
    "ax.legend(loc='upper center', bbox_to_anchor=(0.5, 1.15), ncol=3)\n",
    "\n",
    "ax.set_ylim(df_.min().min()-0.05*np.abs(df_.min().min()),df_.max().max()+0.03*np.abs(df_.max().max()))\n",
    "ax.grid(True)\n",
    "ax.yaxis.set_major_formatter(mtick.PercentFormatter())\n",
    "glue('fig:savings',fig, display=False)"
   ]
  },
  {
   "cell_type": "markdown",
   "id": "b538592c-7a64-4a01-8bbd-3b89c01798f9",
   "metadata": {},
   "source": [
    "Mean values for the periods are shown in {numref}`tab:savings` and {numref}`fig:savings`.\n",
    "\n",
    "```{glue:figure} tab:savings\n",
    ":name: \"tab:savings\"\n",
    "\n",
    "Mean values for trips for each period.\n",
    "```\n",
    "There is a small tendency that the fuel consumption is larger during the low season.\n",
    "```{glue:figure} fig:savings\n",
    ":name: \"fig:savings\"\n",
    "\n",
    "Mean values for trips for each period as percentage of values before training.\n",
    "```"
   ]
  },
  {
   "cell_type": "markdown",
   "id": "3f0f14e0-c7ed-40a2-acc2-b5c633dab33f",
   "metadata": {},
   "source": [
    "## Trip analysis"
   ]
  },
  {
   "cell_type": "markdown",
   "id": "96ad5436-0bdc-49c4-956f-8d1faf72cbd2",
   "metadata": {},
   "source": [
    "The average trip can be studied by calculating the mean speed and consumption for each time stamp along the trips. The average speed over ground (sog) for the trip time stamps is displayed for each period in {numref}`fig:mean_speed`. The speed is lower in the beginning and higher in the end of the trips {glue:text}`direction1` at the low season which is producing a higher fuel consumption as displayed in {numref}`fig:mean_consumption`.\n",
    "\n",
    "```{glue:figure} fig:mean_speed\n",
    ":name: \"fig:mean_speed\"\n",
    "\n",
    "Speed over ground during average trips.\n",
    "\n",
    "```\n",
    "\n",
    "```{glue:figure} fig:mean_consumption\n",
    ":name: \"fig:mean_consumption\"\n",
    "\n",
    "Fuel consumption during average trips.\n",
    "\n",
    "```\n"
   ]
  },
  {
   "cell_type": "code",
   "execution_count": null,
   "id": "675a8a23-dd64-49e7-aa8e-7d0f557943e9",
   "metadata": {
    "tags": [
     "remove_cell"
    ]
   },
   "outputs": [],
   "source": [
    "fig,axes=plt.subplots(nrows=2)\n",
    "\n",
    "for ax, (trip_direction, df_) in zip(axes,trip_statistics_clean.groupby(by=['trip_direction'], sort=False)):\n",
    "    \n",
    "    for period, df__ in df_.groupby(by=['period'], sort=False):\n",
    "        \n",
    "        mask = df['trip_no'].isin(df__['trip_no'].unique())\n",
    "        df.loc[mask].groupby('trip_time')['sog'].mean().plot(label=period, ax=ax)\n",
    "        ax.set_xlim(0,1450)\n",
    "        ax.set_xlabel('')\n",
    "        ax.set_ylabel('sog [m/s]')\n",
    "        ax.set_title(trip_direction)\n",
    "        ax.legend()\n",
    "        \n",
    "ax.set_xlabel('trip time [s]');\n",
    "ax.get_legend().set_visible(False)\n",
    "glue('fig:mean_speed',fig, display=False) "
   ]
  },
  {
   "cell_type": "code",
   "execution_count": null,
   "id": "69f0d0ce-efee-4c57-b9c6-e91c294aaf6d",
   "metadata": {
    "tags": [
     "remove_cell"
    ]
   },
   "outputs": [],
   "source": [
    "fig,axes=plt.subplots(nrows=2)\n",
    "\n",
    "for ax, (trip_direction, df_) in zip(axes,trip_statistics_clean.groupby(by=['trip_direction'], sort=False)):\n",
    "    \n",
    "    for period, df__ in df_.groupby(by=['period'], sort=False):\n",
    "        \n",
    "        mask = df['trip_no'].isin(df__['trip_no'].unique())\n",
    "        df.loc[mask].groupby('trip_time')['consumption'].mean().plot(label=period, ax=ax)\n",
    "        ax.set_xlim(0,1450)\n",
    "        ax.set_xlabel('')\n",
    "        ax.set_ylabel('Fuel consumption')\n",
    "        ax.set_title(trip_direction)\n",
    "        ax.legend()\n",
    "        \n",
    "ax.set_xlabel('trip time [s]');\n",
    "ax.get_legend().set_visible(False)\n",
    "glue('fig:mean_consumption',fig, display=False) "
   ]
  }
 ],
 "metadata": {
  "kernelspec": {
   "display_name": "Python 3 (ipykernel)",
   "language": "python",
   "name": "python3"
  },
  "language_info": {
   "codemirror_mode": {
    "name": "ipython",
    "version": 3
   },
   "file_extension": ".py",
   "mimetype": "text/x-python",
   "name": "python",
   "nbconvert_exporter": "python",
   "pygments_lexer": "ipython3",
   "version": "3.7.9"
  }
 },
 "nbformat": 4,
 "nbformat_minor": 5
}
