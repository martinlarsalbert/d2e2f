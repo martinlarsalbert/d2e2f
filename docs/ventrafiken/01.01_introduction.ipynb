{
 "cells": [
  {
   "cell_type": "markdown",
   "id": "55192364-addf-4cd9-a3f1-c7e55ae31bba",
   "metadata": {
    "tags": []
   },
   "source": [
    "# Introduction"
   ]
  },
  {
   "cell_type": "code",
   "execution_count": null,
   "id": "2d28c6e6-168b-449f-8616-eef842b6b52f",
   "metadata": {
    "tags": [
     "remove_cell"
    ]
   },
   "outputs": [],
   "source": [
    "import yaml\n",
    "from myst_nb import glue\n",
    "\n",
    "with open('metadata.yml',mode='r') as file:\n",
    "    metadata = yaml.safe_load(file)\n",
    "\n",
    "\n",
    "for key,value in metadata.items():\n",
    "    \n",
    "    if isinstance(value,dict):\n",
    "        continue\n",
    "\n",
    "    if isinstance(value,list):\n",
    "        continue\n",
    "        \n",
    "    glue(key,value, display=False)\n",
    "    print(f\"{key}: {value}\")\n",
    "    \n",
    "\n",
    "    "
   ]
  },
  {
   "cell_type": "markdown",
   "id": "674fb6b2-799a-4757-b037-dc73f1ab2be6",
   "metadata": {
    "tags": []
   },
   "source": [
    "The operation of {glue:text}`shipname` as seen in {numref}`fig:ship` is investigated with historical data collected from the online [Blueflow](https://www.blueflow.se/) monitoring systems installed on the ships. This kind of analysis is important for the *Energy management* of ships: monitoring, analyzing and controlling. Only energy consumption that is related to the propulsion of the ships, the energy that moves the ships from A to B is analyzed. The energy consumption from the ''hotel'' of the ships is thereby not included in this analysis.   \n",
    "\n",
    "```{figure} ship.png\n",
    "---\n",
    "height: 200px\n",
    "name: fig:ship\n",
    "---\n",
    "Uraniborg\n",
    "```\n",
    "\n",
    "The report is organized with a [method section](method) which explains how the analysis has been conducted in detail followed by a section about the [collected data](data). The results from the analysis is presented in the [result section](results) followed by [summary and conclusions](summary)."
   ]
  },
  {
   "cell_type": "code",
   "execution_count": null,
   "id": "b36351f5-9e00-4165-b40a-836c0f96a01a",
   "metadata": {},
   "outputs": [],
   "source": []
  }
 ],
 "metadata": {
  "kernelspec": {
   "display_name": "Python 3 (ipykernel)",
   "language": "python",
   "name": "python3"
  },
  "language_info": {
   "codemirror_mode": {
    "name": "ipython",
    "version": 3
   },
   "file_extension": ".py",
   "mimetype": "text/x-python",
   "name": "python",
   "nbconvert_exporter": "python",
   "pygments_lexer": "ipython3",
   "version": "3.7.9"
  }
 },
 "nbformat": 4,
 "nbformat_minor": 5
}
