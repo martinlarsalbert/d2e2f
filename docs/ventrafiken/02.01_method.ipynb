{
 "cells": [
  {
   "cell_type": "code",
   "execution_count": null,
   "id": "b13258fd-149a-46ee-9609-83470c122fbb",
   "metadata": {
    "papermill": {
     "duration": 3.700467,
     "end_time": "2021-05-21T15:53:22.375142",
     "exception": false,
     "start_time": "2021-05-21T15:53:18.674675",
     "status": "completed"
    },
    "tags": [
     "remove_cell"
    ]
   },
   "outputs": [],
   "source": [
    "# %load imports.py\n",
    "# %load ../imports.py\n",
    "%matplotlib inline\n",
    "%load_ext autoreload\n",
    "%autoreload 2\n",
    "%config Completer.use_jedi = False  ## (To fix autocomplete)\n",
    "\n",
    "import numpy as np\n",
    "import pandas as pd\n",
    "import matplotlib.pyplot as plt\n",
    "#plt.style.use('paper')\n",
    "#from IPython.display import set_matplotlib_formats\n",
    "#set_matplotlib_formats('pdf')\n",
    "\n",
    "import seaborn as sns\n",
    "\n",
    "#import seaborn as sns\n",
    "import os\n",
    "from collections import OrderedDict\n",
    "\n",
    "from IPython.display import display\n",
    "\n",
    "pd.options.display.max_rows = 999\n",
    "pd.options.display.max_columns = 999\n",
    "pd.set_option(\"display.max_columns\", None)\n",
    "\n",
    "import folium\n",
    "import plotly.express as px\n",
    "import plotly.graph_objects as go\n",
    "\n",
    "import sys\n",
    "import os\n",
    "\n",
    "from sklearn.metrics import r2_score\n",
    "\n",
    "import scipy.integrate\n",
    "import seaborn as sns\n",
    "\n",
    "import pyarrow as pa\n",
    "import pyarrow.parquet as pq\n",
    "\n",
    "import dask.dataframe\n",
    "import statsmodels.api as sm\n",
    "\n",
    "from d2e2f.visualization import visualize\n",
    "import scipy.integrate\n",
    "\n",
    "from d2e2f.pipelines.trip_statistics import clean_statistics\n",
    "from scipy.stats import norm\n",
    "from myst_nb import glue\n",
    "#plt.style.use('presentation')\n",
    "from IPython.display import display, Markdown, Latex\n",
    "import sympy as sp\n",
    "from d2e2f.visualization.visualize import plot_map, plot_trips\n",
    "import statsmodels.api as sm\n",
    "import geopandas as gp\n",
    "from d2e2f.pipelines.data_preprocessing.prepare import prepare\n",
    "from operator import add\n",
    "from functools import reduce\n",
    "from d2e2f.reporting import pop_index, reload_kedro\n",
    "import yaml\n",
    "catalog = reload_kedro()"
   ]
  },
  {
   "cell_type": "code",
   "execution_count": null,
   "id": "b726fcac-76f3-4f99-a7b0-2017c5e35e70",
   "metadata": {
    "tags": [
     "remove_cell"
    ]
   },
   "outputs": [],
   "source": [
    "with open('metadata.yml',mode='r') as file:\n",
    "    metadata = yaml.safe_load(file)\n",
    "ship=metadata['ship']\n",
    "shipname = metadata['shipname']\n",
    "\n",
    "df = catalog.load(f'{ship}.data_with_trip_numbers')\n",
    "loader_raw = catalog.load(f'{ship}.raw_data')\n",
    "df_raw = loader_raw[list(loader_raw.keys())[-1]]()\n",
    "dt = pd.to_datetime(df_raw['Timestamp']).diff().mean()\n",
    "trip_statistics = catalog.load(f'{ship}.trip_statistics')\n",
    "trip_statistics_clean = catalog.load(f'{ship}.trip_statistics_clean')\n",
    "\n",
    "\n",
    "harbours = catalog.load(f'params:{ship}.harbours')\n",
    "min_time = catalog.load(f'params:{ship}.min_time')\n",
    "max_time = catalog.load(f'params:{ship}.max_time')\n",
    "min_distance = catalog.load(f'params:{ship}.min_distance')\n",
    "min_start_speed = catalog.load(f'params:{ship}.min_start_speed')\n",
    "max_time_diff = catalog.load(f\"params:{ship}.max_time_diff\")"
   ]
  },
  {
   "cell_type": "code",
   "execution_count": null,
   "id": "e492998e-daf5-4e7c-9f59-3050cedebbcd",
   "metadata": {
    "tags": [
     "remove_cell"
    ]
   },
   "outputs": [],
   "source": [
    "glue('harbour1', list(harbours.keys())[0])\n",
    "glue('harbour2', list(harbours.keys())[1])\n",
    "glue('min_time', min_time)\n",
    "glue('max_time', max_time)\n",
    "glue('min_distance', min_distance)\n",
    "glue('min_start_speed', min_start_speed)\n",
    "glue('shipname', shipname)\n",
    "glue('max_time_diff', max_time_diff)\n",
    "glue('dt',dt)"
   ]
  },
  {
   "cell_type": "markdown",
   "id": "a224994d-2f6b-4ba7-b8ad-62592d230400",
   "metadata": {},
   "source": [
    "# Method\n",
    "(method)=\n",
    "In order to investigate the energy efficiency of {glue:text}`shipname` the data is divided into trips from {glue:text}`harbour1` to {glue:text}`harbour2` or the reversed direction. The method to define the trips is further explained in the [trip section](sec:trips)."
   ]
  },
  {
   "cell_type": "markdown",
   "id": "4f221ded-2260-42c5-a8cd-61bee4137cd2",
   "metadata": {
    "tags": []
   },
   "source": [
    "(sec:trips)=\n",
    "## Trips\n",
    "The speed over ground (sog) signal is used to define the start an end of the trips. Start and ends are defined by upcrossings and downcrossing of $sog$ compared to a minumum speed $sog_{min}$. This simple algorithm will however also identify false starts of trips since {glue:text}`shipname` starts each trip by reversing from the pier and then turn to ahead as seen in {numref}`fig:false_start`.\n",
    "\n",
    "\n",
    "```{glue:figure} fig:false_start\n",
    ":name: \"fig:false_start\"\n",
    "\n",
    "The initial reversing may identify false starts.\n",
    "```\n"
   ]
  },
  {
   "cell_type": "code",
   "execution_count": null,
   "id": "aa39b5ac-50cb-48cd-879b-369453d51f65",
   "metadata": {},
   "outputs": [],
   "source": [
    "np.roll([1,2,3],-1)"
   ]
  },
  {
   "cell_type": "code",
   "execution_count": null,
   "id": "8018bfe0-caaf-4b25-9271-d48bc81a5b95",
   "metadata": {},
   "outputs": [],
   "source": [
    "# Find possible starts of trips:\n",
    "df_ = df.loc[\"2021-02-23 20:15\":\"2021-02-23 20:30\"]\n",
    "sog = df_[\"sog\"]\n",
    "mask_downcross = (np.roll(sog, 1) >= min_start_speed) & (sog < min_start_speed) & (np.roll(sog, -1) < min_start_speed)\n",
    "mask_upcross = (np.roll(sog, 1) < min_start_speed) & (sog < min_start_speed) & (np.roll(sog, -1) >= min_start_speed)\n",
    "\n",
    "\n",
    "downcrossings = df_.loc[mask_downcross]\n",
    "upcrossings = df_.loc[mask_upcross]\n",
    "\n",
    "fig,ax=plt.subplots()\n",
    "df_.plot(y='sog', style='.-', ax =ax)\n",
    "downcrossings.plot(y='sog', style='rv', label='downcrossings', ax=ax)\n",
    "upcrossings.plot(y='sog', style='g^', label='upcrossings', ax=ax)\n",
    "df_['min_start_speed'] = min_start_speed\n",
    "df_.plot(y='min_start_speed', style='--', label='minimum start speed', ax=ax)\n",
    "ax.legend()\n",
    "ax.set_ylim(-0.05,3*min_start_speed)\n",
    "#df.loc[mask_start, \"state\"] = \"start\""
   ]
  },
  {
   "cell_type": "code",
   "execution_count": null,
   "id": "3b809fda-ca4c-45f2-8dfb-0ad133968b1f",
   "metadata": {},
   "outputs": [],
   "source": [
    "df_ = df.loc[\"2021-02-23 20:15\":\"2021-02-23 21:30\"]\n",
    "sog = df_[\"sog\"]\n",
    "mask_downcross = (sog < min_start_speed) & (np.roll(sog, 1) >= min_start_speed)\n",
    "mask_upcross = (sog < min_start_speed) & (np.roll(sog, -1) >= min_start_speed)\n",
    "downcrossings = df_.loc[mask_downcross]\n",
    "upcrossings = df_.loc[mask_upcross]\n",
    "\n",
    "mask = upcrossings.index[0] < downcrossings.index\n",
    "downcrossings_correct_order = downcrossings.loc[mask]"
   ]
  },
  {
   "cell_type": "code",
   "execution_count": null,
   "id": "5331033c-7371-4b53-bd8b-492a7b63a763",
   "metadata": {},
   "outputs": [],
   "source": [
    "mask = downcrossings.index[-1] > upcrossings.index\n",
    "upcrossings_correct_order = upcrossings.loc[mask]"
   ]
  },
  {
   "cell_type": "code",
   "execution_count": null,
   "id": "987fe86a-e07b-4d30-80a9-5b8f64451ed1",
   "metadata": {},
   "outputs": [],
   "source": [
    "fig,ax=plt.subplots()\n",
    "df_.plot(y='sog', style='.-', ax =ax)\n",
    "downcrossings_correct_order.plot(y='sog', style='rv', ax=ax)\n",
    "upcrossings_correct_order.plot(y='sog', style='g^', ax=ax)"
   ]
  },
  {
   "cell_type": "code",
   "execution_count": null,
   "id": "330ddc17-e61b-4242-978c-7bae22c4b6f1",
   "metadata": {},
   "outputs": [],
   "source": [
    "len(downcrossings_correct_order)"
   ]
  },
  {
   "cell_type": "code",
   "execution_count": null,
   "id": "d56ebe95-45ae-429a-9812-3435c47f2a0c",
   "metadata": {},
   "outputs": [],
   "source": [
    "len(upcrossings_correct_order)"
   ]
  },
  {
   "cell_type": "code",
   "execution_count": null,
   "id": "ca6a70f1-8980-49e7-bf7e-5dea0062bfb4",
   "metadata": {},
   "outputs": [],
   "source": [
    "trip_durations = downcrossings_correct_order.index - upcrossings_correct_order.index"
   ]
  },
  {
   "cell_type": "code",
   "execution_count": null,
   "id": "608f6b7d-7e6f-4ffb-9d82-91e677264543",
   "metadata": {},
   "outputs": [],
   "source": [
    "trip_durations"
   ]
  },
  {
   "cell_type": "code",
   "execution_count": null,
   "id": "00cf9bdc-a10c-4c5b-ad0a-54e7d4d4948a",
   "metadata": {},
   "outputs": [],
   "source": [
    "mask = trip_durations > f\"{min_time}S\"\n",
    "\n",
    "upcrossings_ok = upcrossings_correct_order.loc[mask]\n",
    "downcrossings_ok = downcrossings_correct_order.loc[mask]"
   ]
  },
  {
   "cell_type": "code",
   "execution_count": null,
   "id": "b00c6abc-5c7d-4315-b541-99b9981c4569",
   "metadata": {},
   "outputs": [],
   "source": [
    "fig,ax=plt.subplots()\n",
    "df_.plot(y='sog', style='.-', ax =ax)\n",
    "downcrossings_ok.plot(y='sog', style='rv', ax=ax)\n",
    "upcrossings_ok.plot(y='sog', style='g^', ax=ax)\n"
   ]
  },
  {
   "cell_type": "code",
   "execution_count": null,
   "id": "3b071cbe-4748-48f9-82ad-251e80b5f4da",
   "metadata": {},
   "outputs": [],
   "source": [
    "def get_upcrossings(df):\n",
    "    sog = df[\"sog\"]\n",
    "    mask_upcross = (np.roll(sog, 1) < min_start_speed) & (sog < min_start_speed) & (np.roll(sog, -1) >= min_start_speed)\n",
    "    upcrossings = df_.loc[mask_upcross]\n",
    "    return upcrossings\n",
    "    \n",
    "def get_downcrossings(df):\n",
    "    sog = df[\"sog\"]\n",
    "    mask_downcross = (np.roll(sog, 1) >= min_start_speed) & (sog < min_start_speed) & (np.roll(sog, -1) < min_start_speed)\n",
    "    downcrossings = df_.loc[mask_downcross]\n",
    "    return downcrossings\n",
    "\n",
    "upcrossings = get_upcrossings(df)\n",
    "downcrossings = get_downcrossings(df)\n",
    "    \n",
    "def correct_the_order(upcrossings, downcrossings):\n",
    "    mask = upcrossings.index[0] < downcrossings.index\n",
    "    downcrossings_correct_order = downcrossings.loc[mask]\n",
    "    \n",
    "    mask = downcrossings.index[-1] > upcrossings.index\n",
    "    upcrossings_correct_order = upcrossings.loc[mask]\n",
    "    \n",
    "    assert len(downcrossings_correct_order) == len(upcrossings_correct_order)\n",
    "    assert len(set(downcrossings_correct_order.index) & set(upcrossings_correct_order.index)) == 0\n",
    "    \n",
    "    \n",
    "    return upcrossings_correct_order, downcrossings_correct_order\n",
    "\n",
    "\n",
    "upcrossings_correct_order, downcrossings_correct_order = correct_the_order(upcrossings=upcrossings, downcrossings=downcrossings)\n",
    "\n",
    "def filter_with_trip_duration(upcrossings_correct_order, downcrossings_correct_order, min_time:int):\n",
    "    trip_durations = downcrossings_correct_order.index - upcrossings_correct_order.index\n",
    "    mask = trip_durations > f\"{min_time}S\"\n",
    "    upcrossings_ok = upcrossings_correct_order.loc[mask]\n",
    "    downcrossings_ok = downcrossings_correct_order.loc[mask]\n",
    "    \n",
    "    return upcrossings_ok, downcrossings_ok\n",
    "\n",
    "upcrossings_ok, downcrossings_ok = filter_with_trip_duration(upcrossings_correct_order=upcrossings_correct_order, downcrossings_correct_order=downcrossings_correct_order, min_time=min_time)\n",
    "\n",
    "df.loc[upcrossings_ok.index,'state'] = 'start'\n",
    "df.loc[downcrossings_ok.index,'state'] = 'end'\n"
   ]
  },
  {
   "cell_type": "code",
   "execution_count": null,
   "id": "70cf79b2-16ca-4daf-93c2-7aeaaa7f4993",
   "metadata": {
    "tags": [
     "remove_cell"
    ]
   },
   "outputs": [],
   "source": [
    "# Find possible starts of trips:\n",
    "sog = df[\"sog\"]\n",
    "mask_start = (sog < min_start_speed) & (np.roll(sog, -1) >= min_start_speed)\n",
    "df.loc[mask_start, \"state\"] = \"start\"\n",
    "\n",
    "# Remove false starts:\n",
    "mask = df[\"state\"].isin([\"start\"])\n",
    "df[\"time\"] = df.index\n",
    "events = df.loc[mask]\n",
    "\n",
    "mask = events[\"time\"].diff() < f'{min_time}S'\n",
    "df.loc[events.loc[mask].index,'state'] = 'false start'\n",
    "\n",
    "mask = df['state'].isin(['start'])\n",
    "starts = df.loc[mask]\n",
    "mask = df['state'].isin(['false start'])\n",
    "false_starts = df.loc[mask]\n",
    "mask = df[\"state\"].isin([\"start\",'false start'])\n",
    "events = df.loc[mask]"
   ]
  },
  {
   "cell_type": "code",
   "execution_count": null,
   "id": "2a085af1-32ca-453c-bf8e-2ce43d308568",
   "metadata": {},
   "outputs": [],
   "source": [
    "events['state'].iloc[0:100]"
   ]
  },
  {
   "cell_type": "code",
   "execution_count": null,
   "id": "90e14610-fd3d-4e31-8b2b-c35682b9ed24",
   "metadata": {
    "tags": [
     "remove_cell"
    ]
   },
   "outputs": [],
   "source": [
    "\n",
    "false_start = false_starts.iloc[0]\n",
    "t0 = false_start.name - pd.Timedelta(min_time,unit='s')\n",
    "t1 = false_start.name + pd.Timedelta(min_time,unit='s')\n",
    "\n",
    "df_ = df.loc[t0:t1]\n",
    "\n",
    "with plt.style.context('paper'):\n",
    "    fig,ax=plt.subplots()\n",
    "    df_.plot(y='sog', label=r'$sog$', ax=ax)\n",
    "    mask = (df_['state'] == 'start')\n",
    "    \n",
    "    if mask.any():\n",
    "        df_.loc[mask].plot(y='sog', label=r'$t_{start}$', style='sg', ax=ax)\n",
    "    \n",
    "    mask = (df_['state'] == 'false start')\n",
    "    if mask.any():\n",
    "        df_.loc[mask].plot(y='sog', label=r'False $t_{start}$', style='sk', ax=ax)\n",
    "    \n",
    "    ax.set_ylabel('Ship speed over ground $sog$ [m/s]')\n",
    "    ax.legend();\n",
    "    glue('fig:false_start', fig, display=False)"
   ]
  },
  {
   "cell_type": "markdown",
   "id": "4e384a5b-4e3e-4fe8-9827-3c6da7f0ac63",
   "metadata": {
    "tags": []
   },
   "source": [
    "A minimum trip time $t_{min}$ is introduced to exclude these false starts giving the following algorithm:\n",
    "\n",
    "\n",
    "**Inputs** $sog$, $sog_{min}$, $t_{min}$\n",
    "\n",
    "**Output** $t_{start}$, $t_{end}$\n",
    "\n",
    "1. Identify possible trip starts: $t_{start}$: $(sog_i < sog_{min}) \\wedge (sog_{i+i} >= sog_{min})$\n",
    "2. Keep only valid trip starts: $t_{start,n+1} - t_{start,n} > t_{min}$\n",
    "3. Identify trip ends: $t_{end}$: $(sog_{i-1} >= sog_{min}) \\wedge (sog_{i} < sog_{min}) \\wedge ((t_i - t_{i-1}) > t_{min} $\n",
    "\n",
    "where $sog_{min}$={glue:}`min_start_speed` m/s and $t_{min}$={glue:}`min_time` s. The algorithm now disregards the initial reversing as seen in {numref}`fig:divide_trips`.  \n",
    "\n",
    "```{glue:figure} fig:divide_trips\n",
    ":name: \"fig:divide_trips\"\n",
    "\n",
    "The data is divided into trips based on the speed over ground (sog) signal.\n",
    "```"
   ]
  },
  {
   "cell_type": "code",
   "execution_count": null,
   "id": "0ac46156-b560-45e4-bd0a-69582a86577a",
   "metadata": {
    "tags": [
     "remove_input",
     "remove_cell"
    ]
   },
   "outputs": [],
   "source": [
    "mask = (df['state'] == 'start').idxmax()\n",
    "t0 = df.loc[mask].name\n",
    "t2 = t0 + pd.Timedelta(4500,unit='s')\n",
    "\n",
    "df_cut = df.loc[t0:t2]\n",
    "\n",
    "with plt.style.context('paper'):\n",
    "    \n",
    "    fig,ax=plt.subplots()\n",
    "    df_cut.plot(y='sog', label=r'$sog$', ax=ax)\n",
    "    \n",
    "    for state, df__ in df_cut.groupby(by='state'):\n",
    "        if state == 'start':\n",
    "            df__.plot(y='sog', style='sg', label=r'$t_{start}$', ax=ax)\n",
    "        elif state == 'end':\n",
    "            df__.plot(y='sog', style='^r', label=r'$t_{end}$', ax=ax)\n",
    "            \n",
    "    ax.legend();\n",
    "    ax.set_ylabel('Ship speed over ground $sog$ [m/s]')\n",
    "    glue('fig:divide_trips', fig, display=False)"
   ]
  },
  {
   "cell_type": "code",
   "execution_count": null,
   "id": "e20ac8cf-78da-43ff-a3e9-f94e6ac7606d",
   "metadata": {
    "tags": [
     "remove_cell"
    ]
   },
   "outputs": [],
   "source": [
    "glue('no_trips',len(trip_statistics))\n",
    "glue('no_trips_clean',len(trip_statistics_clean))\n"
   ]
  },
  {
   "cell_type": "markdown",
   "id": "1ab1f0ae-5cb5-4209-9b15-6f1ea6e1b9b8",
   "metadata": {},
   "source": [
    "## Data cleaning\n",
    "Some of the trips are removed, for instance if there is missing data or the trip is too long, based on the following criteria:\n",
    "\n",
    "* trips should have time gaps that are smaller than {glue:}`max_time_diff` s\n",
    "* trips should have a duration between {glue:}`min_time` and {glue:}`max_time` s\n",
    "* trips should be longer than {glue:}`min_distance` m\n",
    "\n",
    "From {glue:}`no_trips` initial trips {glue:}`no_trips_clean` trips fulfills the above criteria."
   ]
  }
 ],
 "metadata": {
  "kernelspec": {
   "display_name": "Python 3 (ipykernel)",
   "language": "python",
   "name": "python3"
  },
  "language_info": {
   "codemirror_mode": {
    "name": "ipython",
    "version": 3
   },
   "file_extension": ".py",
   "mimetype": "text/x-python",
   "name": "python",
   "nbconvert_exporter": "python",
   "pygments_lexer": "ipython3",
   "version": "3.7.9"
  }
 },
 "nbformat": 4,
 "nbformat_minor": 5
}
