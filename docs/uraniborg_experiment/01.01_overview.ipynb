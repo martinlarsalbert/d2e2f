{
 "cells": [
  {
   "cell_type": "markdown",
   "id": "1510ac6f",
   "metadata": {
    "papermill": {
     "duration": 0.015624,
     "end_time": "2021-05-21T15:53:18.518461",
     "exception": false,
     "start_time": "2021-05-21T15:53:18.502837",
     "status": "completed"
    },
    "tags": []
   },
   "source": [
    "# Thruster experiment Overview"
   ]
  },
  {
   "cell_type": "code",
   "execution_count": null,
   "id": "c06d4e35",
   "metadata": {
    "papermill": {
     "duration": 3.700467,
     "end_time": "2021-05-21T15:53:22.375142",
     "exception": false,
     "start_time": "2021-05-21T15:53:18.674675",
     "status": "completed"
    },
    "tags": [
     "remove_cell"
    ]
   },
   "outputs": [],
   "source": [
    "# %load imports.py\n",
    "# %load ../imports.py\n",
    "%matplotlib inline\n",
    "%load_ext autoreload\n",
    "%autoreload 2\n",
    "%config Completer.use_jedi = False  ## (To fix autocomplete)\n",
    "\n",
    "import numpy as np\n",
    "import pandas as pd\n",
    "import matplotlib.pyplot as plt\n",
    "\n",
    "import seaborn as sns\n",
    "width=20\n",
    "height=3\n",
    "plt.rcParams[\"figure.figsize\"] = (width,height)\n",
    "sns.set(rc={'figure.figsize':(width,height)})\n",
    "\n",
    "#import seaborn as sns\n",
    "import os\n",
    "from collections import OrderedDict\n",
    "\n",
    "from IPython.display import display\n",
    "\n",
    "pd.options.display.max_rows = 999\n",
    "pd.options.display.max_columns = 999\n",
    "pd.set_option(\"display.max_columns\", None)\n",
    "\n",
    "import folium\n",
    "import plotly.express as px\n",
    "import plotly.graph_objects as go\n",
    "\n",
    "import sys\n",
    "import os\n",
    "\n",
    "from sklearn.metrics import r2_score\n",
    "\n",
    "import scipy.integrate\n",
    "import seaborn as sns\n",
    "\n",
    "import pyarrow as pa\n",
    "import pyarrow.parquet as pq\n",
    "\n",
    "import statsmodels.api as sm\n",
    "\n",
    "from d2e2f.visualization import visualize\n",
    "import scipy.integrate\n",
    "\n",
    "from scipy.stats import norm\n",
    "#from myst_nb import glue\n",
    "#plt.style.use('presentation')\n",
    "from IPython.display import display, Markdown, Latex\n",
    "import sympy as sp\n",
    "from d2e2f.reporting import pop_index, reload_kedro\n",
    "import yaml\n",
    "catalog = reload_kedro()"
   ]
  },
  {
   "cell_type": "code",
   "execution_count": null,
   "id": "c4af21de",
   "metadata": {
    "papermill": {
     "duration": 0.234474,
     "end_time": "2021-05-21T15:53:22.625141",
     "exception": false,
     "start_time": "2021-05-21T15:53:22.390667",
     "status": "completed"
    },
    "tags": [
     "remove_cell",
     "remove_output"
    ]
   },
   "outputs": [],
   "source": [
    "#df_stat = catalog.load('uraniborg_experiment.trip_statistics_clean')\n",
    "df_stat = catalog.load('uraniborg_experiment.steaming.trip_statistics')\n",
    "df_stat['start_time'] = pd.to_datetime(df_stat['start_time'], utc=True)\n",
    "df_stat['end_time'] = pd.to_datetime(df_stat['end_time'], utc=True);\n",
    "df_stat['start_time'] = df_stat['start_time'].apply(lambda x : x.tz_convert(tz='Europe/Berlin'))\n",
    "df_stat['end_time'] = df_stat['end_time'].apply(lambda x : x.tz_convert(tz='Europe/Berlin'))\n",
    "#df_stat.describe()"
   ]
  },
  {
   "cell_type": "markdown",
   "id": "933a4d95-b974-4a68-9411-dd385a6ed200",
   "metadata": {
    "tags": [
     "remove_cell"
    ]
   },
   "source": [
    "The port manoeuvres were ex\n",
    "\n",
    "Statistics for steaming data (excluding in port manoeuvres) between the points in {numref}`fig:steaming`.\n",
    "\n",
    "```{figure} steaming.png\n",
    "---\n",
    "name: fig:steaming\n",
    "---\n",
    "The trips are cut at longitudes indicated by the black lines. \n",
    "```\n"
   ]
  },
  {
   "cell_type": "markdown",
   "id": "66622f9a-1e9a-4b2f-b32e-ece394623929",
   "metadata": {},
   "source": [
    "![](steaming.png)"
   ]
  },
  {
   "cell_type": "code",
   "execution_count": null,
   "id": "d31c0a55-20bb-4745-940e-413447ba1694",
   "metadata": {
    "tags": [
     "remove_cell"
    ]
   },
   "outputs": [],
   "source": [
    "df = catalog.load('uraniborg_experiment.data_steaming')\n",
    "visualize.plot_trips(df)"
   ]
  },
  {
   "cell_type": "code",
   "execution_count": null,
   "id": "49e4574d-b31c-49fb-b526-04c2b98eaaa1",
   "metadata": {
    "tags": [
     "remove_cell"
    ]
   },
   "outputs": [],
   "source": [
    "df_clean = df_stat.copy()"
   ]
  },
  {
   "cell_type": "markdown",
   "id": "509cf651-ac7b-4e82-ba39-0825d9d90b0c",
   "metadata": {},
   "source": [
    "Time history of fuel consumption for all trips during the experiment."
   ]
  },
  {
   "cell_type": "code",
   "execution_count": null,
   "id": "cd87e0d7-712c-488a-9610-71cf2be7e8dd",
   "metadata": {},
   "outputs": [],
   "source": [
    "def extract(df_clean, start, end):\n",
    "    start_index = (df_clean['start_time'] - start).abs().idxmin()\n",
    "    end_index = (df_clean['start_time'] - end).abs().idxmin()\n",
    "    df=df_clean.loc[start_index:end_index].copy()\n",
    "    steps = df_clean['trip_no'] - df_clean.loc[start_index]['trip_no']\n",
    "    super_trips = np.floor(steps / 2)\n",
    "    df['operation'] = super_trips.apply(lambda x : 'ÖST' if x % 2 == 0 else 'BFH')\n",
    "    return df"
   ]
  },
  {
   "cell_type": "code",
   "execution_count": null,
   "id": "45ccbf09-b66c-4284-ada1-bb12c0fecea8",
   "metadata": {},
   "outputs": [],
   "source": [
    "start_experiment = pd.to_datetime(\"2022-08-19 14:15:00+2\", utc=False).tz_convert(tz='Europe/Berlin')\n",
    "end_experiment = pd.to_datetime(\"2022-08-22 06:50:00+2\", utc=False).tz_convert(tz='Europe/Berlin')\n",
    "start_pre_experiment = pd.to_datetime(\"2022-07-08 14:15:00+2\", utc=False).tz_convert(tz='Europe/Berlin')\n",
    "end_pre_experiment = pd.to_datetime(\"2022-07-11 06:50:00+2\", utc=False).tz_convert(tz='Europe/Berlin')\n",
    "\n",
    "df_experiment = extract(df_clean, start=start_experiment, end=end_experiment)\n",
    "df_experiment['group'] = 'experiment'\n",
    "df_pre_experiment = extract(df_clean, start=start_pre_experiment, end=end_pre_experiment)\n",
    "df_pre_experiment['group'] = 'pre experiment'\n",
    "df_data = df_pre_experiment.append(df_experiment)"
   ]
  },
  {
   "cell_type": "code",
   "execution_count": null,
   "id": "f0a18f24-93f8-4179-9baa-96c0556d2541",
   "metadata": {
    "tags": [
     "remove_input",
     "remove_cell"
    ]
   },
   "outputs": [],
   "source": [
    "fig,ax=plt.subplots()\n",
    "fig.set_size_inches(20,5)\n",
    "facegrid = sns.scatterplot(data=df_data, x='start_time',y='consumption', hue='group', ax=ax);\n",
    "ax.set_ylabel('(Fuel consumption per trip) [l]');\n",
    "\n",
    "fig = ax.get_figure()\n",
    "fig_name = 'overview'"
   ]
  },
  {
   "cell_type": "code",
   "execution_count": null,
   "id": "81fa33f3-90ad-459f-be8c-dfcd0d71af81",
   "metadata": {},
   "outputs": [],
   "source": [
    "sns.displot(df_data, x='consumption',hue='group', kind=\"kde\");"
   ]
  },
  {
   "cell_type": "code",
   "execution_count": null,
   "id": "cd8a1030-3677-4634-abc7-c8fd90f97210",
   "metadata": {},
   "outputs": [],
   "source": [
    "interesting = ['sog','PR','consumption']\n",
    "means = df_data.groupby(by=['group'], sort=False).mean()\n",
    "means[interesting]"
   ]
  },
  {
   "cell_type": "code",
   "execution_count": null,
   "id": "435d5aca-23ab-4792-957d-b539d050c1ea",
   "metadata": {},
   "outputs": [],
   "source": [
    "means[['consumption']].transpose().plot.bar()"
   ]
  },
  {
   "cell_type": "code",
   "execution_count": null,
   "id": "584aa9fc-6f37-4bc1-8b4a-d0d15f0fbf1c",
   "metadata": {},
   "outputs": [],
   "source": [
    "time_table = catalog.load(\"uraniborg_experiment.time_table\")\n",
    "time_table.index = time_table.index.tz_convert(tz='Europe/Berlin')\n",
    "assert (df_data['operation'] == time_table['operation'].values).all()\n",
    "assert (df_data['trip_direction'] == time_table['direction'].values).all()"
   ]
  },
  {
   "cell_type": "markdown",
   "id": "dd4c4bf7-2332-4929-a169-79b9fcc3c917",
   "metadata": {},
   "source": [
    "Uraniborg is run with the following time table during the experiment. The operation of the ship is switching every other roundtrip Landskrona-Ven-Landskrona between the captain (BFH) and by the chief mate (ÖST)."
   ]
  },
  {
   "cell_type": "code",
   "execution_count": null,
   "id": "98251d83-1bc0-40d9-9121-68610dc3081a",
   "metadata": {},
   "outputs": [],
   "source": [
    "time_table.head()"
   ]
  },
  {
   "cell_type": "code",
   "execution_count": null,
   "id": "ded77b89-c41f-4bec-a10e-4bb5e0e3a506",
   "metadata": {},
   "outputs": [],
   "source": [
    "df_data['time_table'] = time_table.index.tz_convert(tz='Europe/Berlin')"
   ]
  },
  {
   "cell_type": "code",
   "execution_count": null,
   "id": "46f7444f-f28e-42a6-bb06-410fa7cce0be",
   "metadata": {},
   "outputs": [],
   "source": [
    "df_data['delay'] = (df_data['start_time']) - df_data['time_table']"
   ]
  },
  {
   "cell_type": "code",
   "execution_count": null,
   "id": "72716602-a13d-43ad-a07c-2ffe557d9053",
   "metadata": {},
   "outputs": [],
   "source": [
    "assert (df_data['delay'] < pd.to_timedelta(\"10T\")).all()"
   ]
  },
  {
   "cell_type": "markdown",
   "id": "c03c4acd-d01b-4050-abe9-8fdf1d5030d9",
   "metadata": {},
   "source": [
    "The trips operated by ÖST and BFH are shown below."
   ]
  },
  {
   "cell_type": "code",
   "execution_count": null,
   "id": "1d63f584-9241-40aa-a930-1803eedef2aa",
   "metadata": {},
   "outputs": [],
   "source": [
    "px.scatter(data_frame=df_data, x='start_time', y='consumption', color='operation')"
   ]
  },
  {
   "cell_type": "code",
   "execution_count": null,
   "id": "cb16b648-4b2b-4b18-83cd-c0ff797e2fc6",
   "metadata": {},
   "outputs": [],
   "source": [
    "df_experiment.groupby(by='operation').count()['consumption']"
   ]
  },
  {
   "cell_type": "code",
   "execution_count": null,
   "id": "8089b040-c2fd-4198-be73-547e5af1bb33",
   "metadata": {},
   "outputs": [],
   "source": [
    "df_experiment.groupby(by='operation')['consumption'].mean()"
   ]
  },
  {
   "cell_type": "code",
   "execution_count": null,
   "id": "c43b99be-900d-431e-b843-566baaedb428",
   "metadata": {},
   "outputs": [],
   "source": [
    "df_experiment.groupby(by='operation')['consumption'].sum()/22"
   ]
  },
  {
   "cell_type": "code",
   "execution_count": null,
   "id": "9fe4ad59-a720-43e9-9879-57ad2f86c017",
   "metadata": {},
   "outputs": [],
   "source": [
    "df_data.groupby(by=['operation','group'], sort=False)['consumption'].sum()/22"
   ]
  },
  {
   "cell_type": "code",
   "execution_count": null,
   "id": "67d4bd94-1601-4020-ab48-ae4798d1643c",
   "metadata": {},
   "outputs": [],
   "source": [
    "df_data.groupby(by=['operation','group'], sort=False)['consumption'].mean()"
   ]
  },
  {
   "cell_type": "code",
   "execution_count": null,
   "id": "9fbb9dc5-6b11-407d-97ca-61c7bd928bd6",
   "metadata": {},
   "outputs": [],
   "source": [
    "sums = df_data.groupby(by=['operation','group'], sort=False)['consumption'].sum()\n",
    "sum_experiment = sums.loc[('BFH','experiment')]\n",
    "(sums-sum_experiment)/sum_experiment"
   ]
  },
  {
   "cell_type": "code",
   "execution_count": null,
   "id": "162e87de-4c26-4b31-a737-9c0596483453",
   "metadata": {},
   "outputs": [],
   "source": [
    "means = df_data.groupby(by=['operation','group'], sort=True).mean()\n",
    "mean_BFH_experiment = means.loc[('BFH','experiment')]\n",
    "comparison = (means-mean_BFH_experiment)/mean_BFH_experiment"
   ]
  },
  {
   "cell_type": "code",
   "execution_count": null,
   "id": "ecc1f9a1-50a5-4152-a4dd-09921912f9db",
   "metadata": {},
   "outputs": [],
   "source": [
    "comparison"
   ]
  },
  {
   "cell_type": "code",
   "execution_count": null,
   "id": "c88fc82d-a8dc-4a5a-b5af-747361ba7c7f",
   "metadata": {},
   "outputs": [],
   "source": [
    "means[['sog','PR','consumption']]"
   ]
  },
  {
   "cell_type": "code",
   "execution_count": null,
   "id": "79918268-576a-484b-9026-6e4a14634d2d",
   "metadata": {},
   "outputs": [],
   "source": [
    "comparison[['sog','PR','consumption']]"
   ]
  },
  {
   "cell_type": "code",
   "execution_count": null,
   "id": "1fb78907-978e-4b2a-8cbb-6556efd9efeb",
   "metadata": {},
   "outputs": [],
   "source": [
    "z1 = df_data.groupby(by=['operation','group'], sort=False).get_group(('ÖST','experiment',))['consumption']\n",
    "z2 = df_data.groupby(by=['operation','group'], sort=False).get_group(('BFH','experiment',))['consumption']"
   ]
  },
  {
   "cell_type": "code",
   "execution_count": null,
   "id": "10da3524-7a7a-4aae-bdbb-7beb0e3294ff",
   "metadata": {},
   "outputs": [],
   "source": [
    "from scipy.stats import ttest_ind\n",
    "stat, p = ttest_ind(z1, z2)\n",
    "if p > 0.05:\n",
    "    print('probably the same distribution')\n",
    "else:\n",
    "    print('probably not the same distribution')"
   ]
  },
  {
   "cell_type": "code",
   "execution_count": null,
   "id": "5a787cb3-d560-4196-a1b5-54c9f1fd0285",
   "metadata": {},
   "outputs": [],
   "source": [
    "stat, p = ttest_ind(z1-np.mean(z1), z2-np.mean(z2))\n",
    "if p > 0.05:\n",
    "    print('probably the same distribution')\n",
    "else:\n",
    "    print('probably not the same distribution')"
   ]
  },
  {
   "cell_type": "code",
   "execution_count": null,
   "id": "05565922-18aa-4d3c-a8c7-74ba641c15cc",
   "metadata": {},
   "outputs": [],
   "source": [
    "from statsmodels.stats import weightstats as stests\n",
    "diff = 0.14*45.96\n",
    "ztest ,pvalue = stests.ztest(z1, z2, value=diff)\n",
    "\n",
    "if pvalue > 0.05:\n",
    "    print('difference is significant')\n",
    "else:\n",
    "    print('difference is not significant')\n"
   ]
  },
  {
   "cell_type": "code",
   "execution_count": null,
   "id": "812b9f0a-1340-4eef-914d-bbc542fea3db",
   "metadata": {},
   "outputs": [],
   "source": [
    "alpha = 0.95\n",
    "rejected = pvalue < 1-alpha\n",
    "if rejected:\n",
    "    display(Markdown(f\"Null hypotesis is rejected since p-value: {np.round(pvalue,3)} is smaller than {np.round(1-alpha,3)} ({round(alpha*100,0)}% confidence)\"))\n",
    "else:\n",
    "    display(Markdown(f\"Null hypotesis cannot be rejected since p-value: {np.round(pvalue,3)} is larger than {np.round(1-alpha,3)} ({round(alpha*100,0)}% confidence)\"))"
   ]
  },
  {
   "cell_type": "markdown",
   "id": "bbc9d1f2-9133-4034-a9f9-33d85d6d3be0",
   "metadata": {},
   "source": [
    "The consumption is plotted vs. the power ratio (PR) in the figure below. PR=1 means that only the aft thruster is run."
   ]
  },
  {
   "cell_type": "code",
   "execution_count": null,
   "id": "b7a0b4ca-57b3-47b0-bd0c-3711cdbda232",
   "metadata": {},
   "outputs": [],
   "source": [
    "df_experiment = df_data.groupby('group').get_group('experiment')\n",
    "df_pre_experiment = df_data.groupby('group').get_group('pre experiment')"
   ]
  },
  {
   "cell_type": "code",
   "execution_count": null,
   "id": "44363ccf-cd5c-4184-b51c-ffd97b1894c1",
   "metadata": {},
   "outputs": [],
   "source": [
    "df_data['case'] = df_data.apply(lambda df : f\"{df['operation']} {df['group']}\", axis=1)\n",
    "px.scatter(data_frame=df_data, x='PR', y='consumption', color='case', hover_data=[\"time_table\",\"sog\"])"
   ]
  },
  {
   "cell_type": "markdown",
   "id": "5dabb22d-3152-423e-a7a1-e4e8b9cd43f8",
   "metadata": {},
   "source": [
    "There is however a difference in the average speed over ground (sog) between ÖST and BFH as seen in the figure below."
   ]
  },
  {
   "cell_type": "code",
   "execution_count": null,
   "id": "cec76315-1a4c-4042-bc7e-4e3f0e31b888",
   "metadata": {},
   "outputs": [],
   "source": [
    "px.scatter(data_frame=df_data, x='PR', y='sog', color='case', hover_data=[\"time_table\"])"
   ]
  },
  {
   "cell_type": "code",
   "execution_count": null,
   "id": "2b91eb0f-9dfb-40b5-8cfe-23f04ff3624c",
   "metadata": {},
   "outputs": [],
   "source": [
    "means = df_data.groupby(by=['operation','group'], sort=False).mean()\n",
    "\n",
    "fig,ax=plt.subplots()\n",
    "means['sog'].plot.bar(ax=ax)\n",
    "ax.set_ylim(4,5);"
   ]
  },
  {
   "cell_type": "markdown",
   "id": "b3d0e28f-c60e-4109-85ae-25f7a5784bdb",
   "metadata": {},
   "source": [
    "To make a more fair comparison, some trips are excluded so that the mean of the average trip speed for ÖST and BFH is the same:"
   ]
  },
  {
   "cell_type": "code",
   "execution_count": null,
   "id": "b22b097e-3b69-4345-bd18-c01ed50fbfde",
   "metadata": {},
   "outputs": [],
   "source": [
    "mask_BFH_pre_experiment = ((df_data['operation'] == 'BFH') & (df_data['group'] == 'pre experiment') & (df_data['sog'] > 3.5) & (df_data['sog'] < 10.0))\n",
    "mask_BFH_experiment = ((df_data['operation'] == 'BFH') & (df_data['group'] == 'experiment') & (df_data['sog'] > 4.5) & (df_data['sog'] < 10.0) & (df_data['PR'] > 0.9))\n",
    "mask_ÖST_pre_experiment = ((df_data['operation'] == 'ÖST') & (df_data['group'] == 'pre experiment') & (df_data['sog'] > 3.0) & (df_data['sog'] < 5.18))\n",
    "mask_ÖST_experiment = ((df_data['operation'] == 'ÖST') & (df_data['group'] == 'experiment') & (df_data['sog'] > 3.0) & (df_data['sog'] < 4.9))\n",
    "\n",
    "df_data_select = pd.concat([df_data.loc[mask_BFH_pre_experiment],\n",
    "                            df_data.loc[mask_BFH_experiment],\n",
    "                            df_data.loc[mask_ÖST_pre_experiment],\n",
    "                            df_data.loc[mask_ÖST_experiment],\n",
    "                           ])\n",
    "                            \n",
    "\n",
    "df_data['speed classify'] = 'excluded'\n",
    "df_data.loc[mask_experiment, 'speed classify'] = 'experiment'\n",
    "df_data.loc[mask_others, 'speed classify'] = 'others'"
   ]
  },
  {
   "cell_type": "code",
   "execution_count": null,
   "id": "8a18ef7b-ff3d-46fe-a019-e35b06e807ed",
   "metadata": {},
   "outputs": [],
   "source": [
    "means = df_data_select.groupby(by=['operation','group'], sort=False).mean()\n",
    "\n",
    "fig,ax=plt.subplots()\n",
    "means['sog'].plot.bar(ax=ax)\n",
    "ax.set_ylim(4,5);"
   ]
  },
  {
   "cell_type": "code",
   "execution_count": null,
   "id": "6f0ed8e7-5183-4188-aa23-279dab7f5a93",
   "metadata": {},
   "outputs": [],
   "source": [
    "px.scatter(data_frame=df_data_select, x='PR', y='sog', color='case', hover_data=[\"time_table\"])"
   ]
  },
  {
   "cell_type": "code",
   "execution_count": null,
   "id": "d72a98de-f63d-48df-9118-f19123a77305",
   "metadata": {},
   "outputs": [],
   "source": [
    "px.scatter(data_frame=df_data_select, x='PR', y='consumption', color='case', hover_data=[\"time_table\"])"
   ]
  },
  {
   "cell_type": "code",
   "execution_count": null,
   "id": "d1725cb6-0a12-4ef4-b9ea-edabe7e687d0",
   "metadata": {},
   "outputs": [],
   "source": [
    "len(df_data)"
   ]
  },
  {
   "cell_type": "code",
   "execution_count": null,
   "id": "a7bd6053-abc6-42ad-b063-40a6918d3c02",
   "metadata": {},
   "outputs": [],
   "source": [
    "len(df_data_select)"
   ]
  },
  {
   "cell_type": "code",
   "execution_count": null,
   "id": "0b5ae024-63ed-4ed6-8f42-2813012d7697",
   "metadata": {},
   "outputs": [],
   "source": [
    "means = df_data_select.groupby(by=['operation','group'], sort=True).mean()\n",
    "mean_BFH_experiment = means.loc[('BFH','experiment')]\n",
    "comparison = (means-mean_BFH_experiment)/mean_BFH_experiment\n",
    "\n",
    "comparison[['sog','PR','consumption']]"
   ]
  },
  {
   "cell_type": "code",
   "execution_count": null,
   "id": "46cdf982-66d8-4183-b34e-0c1e6dc55b5d",
   "metadata": {},
   "outputs": [],
   "source": [
    "df_data_select.groupby(by=['operation','group'], sort=False)['sog'].count()"
   ]
  },
  {
   "cell_type": "code",
   "execution_count": null,
   "id": "6f472f45-3d99-4bd8-a7c5-1bb141935a61",
   "metadata": {},
   "outputs": [],
   "source": [
    "df_data.plot(x='sog',y='consumption', style='.')"
   ]
  },
  {
   "cell_type": "code",
   "execution_count": null,
   "id": "3d1beaf1-651d-4561-a20c-e6f759b1df08",
   "metadata": {},
   "outputs": [],
   "source": [
    "df_data.head()"
   ]
  },
  {
   "cell_type": "code",
   "execution_count": null,
   "id": "60efed03-3b63-4539-8b67-53161118f309",
   "metadata": {},
   "outputs": [],
   "source": [
    "y = df_data['consumption']\n",
    "\n",
    "def features(df):\n",
    "    X = pd.DataFrame(index=df.index)\n",
    "    #X['sog'] = df['sog']\n",
    "    X['sog**2'] = df['sog']**2\n",
    "    #X['sog**3'] = df['sog**3']\n",
    "    \n",
    "    X['PR'] = df['PR']\n",
    "    X['intercept'] = 1\n",
    "    return X\n",
    "X=features(df_data)\n",
    "model = sm.OLS(y,X,hasconst=False)\n",
    "result = model.fit()\n",
    "result.summary()"
   ]
  },
  {
   "cell_type": "code",
   "execution_count": null,
   "id": "164fdf8f-c266-4ffe-a59a-7cbb65a7345a",
   "metadata": {},
   "outputs": [],
   "source": [
    "sogs = np.linspace(df_data['sog'].min(), df_data['sog'].max(),10)\n",
    "PRs = np.linspace(df_data['PR'].min(), df_data['PR'].max(),5)\n",
    "\n",
    "S,P = np.meshgrid(sogs, PRs)\n",
    "df_ = pd.DataFrame()\n",
    "df_['sog'] = S.flatten()\n",
    "df_['PR'] = P.flatten()\n",
    "X_ = features(df_)\n",
    "df_['consumption'] = result.predict(X_)"
   ]
  },
  {
   "cell_type": "code",
   "execution_count": null,
   "id": "f582a9a3-eeba-44ba-b578-11ffb11d6aa5",
   "metadata": {},
   "outputs": [],
   "source": [
    "fig,ax=plt.subplots()\n",
    "df_data.plot(x='sog',y='consumption',style='o', ax=ax)\n",
    "\n",
    "for PR, group in df_.groupby(by='PR'):\n",
    "    \n",
    "    group.plot(x='sog', y='consumption', label=f'{PR}', ax=ax)\n"
   ]
  },
  {
   "cell_type": "code",
   "execution_count": null,
   "id": "c0af9f7a-2e18-4d08-bf80-0d30c566afa4",
   "metadata": {},
   "outputs": [],
   "source": [
    "fig,ax=plt.subplots()\n",
    "ax.plot(y,result.predict(X),'.')\n",
    "ax.plot([y.min(),y.max()], [y.min(),y.max()], 'r')\n",
    "ax.set_aspect('equal', 'box')"
   ]
  },
  {
   "cell_type": "code",
   "execution_count": null,
   "id": "6bf7c9d3-e5f7-49e3-9c9b-0acd98eba728",
   "metadata": {},
   "outputs": [],
   "source": [
    "df_corrected = df_data.copy()\n",
    "df_corrected['sog'] = df_data['sog'].mean()\n",
    "X_corrected = features(df_corrected)\n",
    "X = features(df_data)\n",
    "y = df_data['consumption']\n",
    "model_error = y - result.predict(X)"
   ]
  },
  {
   "cell_type": "code",
   "execution_count": null,
   "id": "23f1b5cf-344d-44d2-b461-ee5454107034",
   "metadata": {},
   "outputs": [],
   "source": [
    "df_corrected['consumption'] = result.predict(X_corrected) + model_error"
   ]
  },
  {
   "cell_type": "code",
   "execution_count": null,
   "id": "e18b7f29-aef0-4fbb-abaf-12487dbd854e",
   "metadata": {},
   "outputs": [],
   "source": [
    "fig,ax=plt.subplots()\n",
    "\n",
    "df_data.plot(x='sog', y='consumption', ax=ax, style='g.')\n",
    "ax.plot(df_data['sog'], df_corrected['consumption'],'r.')\n",
    "ax.plot([df_data['sog'].mean(),df_data['sog'].mean()],[20,80],'b--')\n",
    "\n",
    "dx=df_corrected['sog'] - df_data['sog']\n",
    "dy=df_corrected['consumption'] - df_data['consumption']\n",
    "\n",
    "for (_,data),(_,corrected) in zip(df_data.iterrows(),df_corrected.iterrows()):\n",
    "    ax.plot([data['sog'],data['sog']], [data['consumption'],corrected['consumption']], 'k-', zorder=-10)\n"
   ]
  },
  {
   "cell_type": "code",
   "execution_count": null,
   "id": "a89a2d0b-ee66-40d2-a7a4-9b1cdaf78db5",
   "metadata": {},
   "outputs": [],
   "source": [
    "means = df_corrected.groupby(by=['operation','group'], sort=True).mean()\n",
    "mean_BFH_experiment = means.loc[('BFH','experiment')]\n",
    "comparison = (means-mean_BFH_experiment)/mean_BFH_experiment\n",
    "\n",
    "comparison[['sog','PR','consumption']]"
   ]
  },
  {
   "cell_type": "code",
   "execution_count": null,
   "id": "fc969eda-2fec-407a-b94f-99f3ac9c9777",
   "metadata": {},
   "outputs": [],
   "source": [
    "means[['consumption']]"
   ]
  },
  {
   "cell_type": "markdown",
   "id": "2d0d1642-97d7-484e-8f01-01ec3d93197f",
   "metadata": {},
   "source": [
    "## Conclusion"
   ]
  },
  {
   "cell_type": "markdown",
   "id": "531f2a44-9cad-4a96-93e4-92281aee311b",
   "metadata": {},
   "source": [
    "BFH, which is utlizing more of the aft thruster, has **14%** lower fuel consumption than ÖST. If this improvement originate entirely from the changed thrust allocation is not certain. Perhaps BFH is also a more skilled operator than ÖST from the start? Trips prior to this experiment made by BFH and ÖST will be further investigated to also see if this is the case. Regardless of this the present result show that it should be possible to reduce the fuel consumption by around 20%, also accounting for other improvments when comparing the operation of BFH and ÖST, such as speed and speed profile etc."
   ]
  },
  {
   "cell_type": "code",
   "execution_count": null,
   "id": "4bba0d8e-a913-4905-a272-bf7e75a9c5c9",
   "metadata": {},
   "outputs": [],
   "source": []
  }
 ],
 "metadata": {
  "kernelspec": {
   "display_name": "Python 3 (ipykernel)",
   "language": "python",
   "name": "python3"
  },
  "language_info": {
   "codemirror_mode": {
    "name": "ipython",
    "version": 3
   },
   "file_extension": ".py",
   "mimetype": "text/x-python",
   "name": "python",
   "nbconvert_exporter": "python",
   "pygments_lexer": "ipython3",
   "version": "3.7.9"
  },
  "papermill": {
   "default_parameters": {},
   "duration": 468.144174,
   "end_time": "2021-05-21T16:01:05.321603",
   "environment_variables": {},
   "exception": null,
   "input_path": "steps\\03.1_explore_trip_statistics.ipynb",
   "output_path": "experiments\\2020-01-01-till-2021-02-28-tycho-brahe\\03.1_explore_trip_statistics.ipynb",
   "parameters": {
    "n_rows": null,
    "name": "2020-01-01-till-2021-02-28-tycho-brahe"
   },
   "start_time": "2021-05-21T15:53:17.177429",
   "version": "2.3.3"
  }
 },
 "nbformat": 4,
 "nbformat_minor": 5
}
