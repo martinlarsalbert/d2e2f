{
 "cells": [
  {
   "cell_type": "markdown",
   "id": "4cb817ad-410c-4f8c-978c-ce605a3995d6",
   "metadata": {},
   "source": [
    "# T-test"
   ]
  },
  {
   "cell_type": "code",
   "execution_count": null,
   "id": "23e65f3b-b01d-4136-83ff-20b2c6f08e34",
   "metadata": {},
   "outputs": [],
   "source": [
    "from scipy.stats import norm\n",
    "import matplotlib.pyplot as plt\n",
    "import seaborn as sns\n",
    "import numpy as np"
   ]
  },
  {
   "cell_type": "code",
   "execution_count": null,
   "id": "0dfffe51-f459-4994-979b-ae1ef0f571e2",
   "metadata": {},
   "outputs": [],
   "source": [
    "N=1000\n",
    "loc1 = 0\n",
    "scale1 = 1\n",
    "r1 = norm(loc=loc1, scale=scale1)\n",
    "\n",
    "loc2 = 1\n",
    "scale2 = scale1\n",
    "r2 = norm(loc=loc2, scale=scale2)\n",
    "\n"
   ]
  },
  {
   "cell_type": "code",
   "execution_count": null,
   "id": "ab60a0a2-1824-4fb2-9c1f-023e9337840a",
   "metadata": {},
   "outputs": [],
   "source": [
    "np.random.seed(42)\n",
    "x1 = r1.rvs(size=N)\n",
    "x2 = r2.rvs(size=N)"
   ]
  },
  {
   "cell_type": "code",
   "execution_count": null,
   "id": "5c32b21a-09c2-4676-af23-34d20c6c9bbf",
   "metadata": {},
   "outputs": [],
   "source": [
    "np.mean(x1)"
   ]
  },
  {
   "cell_type": "code",
   "execution_count": null,
   "id": "ae817b19-2a87-416d-ab89-3eded36d8df5",
   "metadata": {},
   "outputs": [],
   "source": [
    "np.mean(x2)"
   ]
  },
  {
   "cell_type": "code",
   "execution_count": null,
   "id": "71215336-95fa-42ee-949c-ed1ddf06da74",
   "metadata": {},
   "outputs": [],
   "source": [
    "np.std(x1)"
   ]
  },
  {
   "cell_type": "code",
   "execution_count": null,
   "id": "98fbdbfd-b1ab-459e-843e-a1a0787333d2",
   "metadata": {},
   "outputs": [],
   "source": [
    "np.std(x2)"
   ]
  },
  {
   "cell_type": "code",
   "execution_count": null,
   "id": "30a57ba9-1ee6-43f8-97e5-a955635efd65",
   "metadata": {},
   "outputs": [],
   "source": [
    "fig,ax=plt.subplots()\n",
    "bins = np.linspace(np.min(x1), np.max(x1), 20)\n",
    "sns.histplot(data=x1, bins=bins, label='x1', ax=ax)\n",
    "sns.histplot(data=x2, bins=bins, alpha=0.5, label='x2', color='r', ax=ax)\n",
    "ax.legend();"
   ]
  },
  {
   "cell_type": "code",
   "execution_count": null,
   "id": "045b9222-eb74-418b-bbdc-9a85830ef209",
   "metadata": {},
   "outputs": [],
   "source": [
    "from statsmodels.stats.weightstats import ttest_ind\n",
    "stat, p, dof = ttest_ind(x1, x2, alternative=\"two-sided\", value=0)\n",
    "print('stat=%.3f, p=%.3f' % (stat, p))\n",
    "if p > 0.05:\n",
    "\tprint('Probably the same distribution')\n",
    "else:\n",
    "\tprint('Probably different distributions')"
   ]
  },
  {
   "cell_type": "code",
   "execution_count": null,
   "id": "c5b7572b-3639-46a0-bc37-049ff98292ea",
   "metadata": {},
   "outputs": [],
   "source": [
    "ttest_ind(x2, x1, alternative=\"larger\", value=loc2-loc1)"
   ]
  },
  {
   "cell_type": "code",
   "execution_count": null,
   "id": "127f04ca-4d60-4a96-aeaf-7258d70ae112",
   "metadata": {},
   "outputs": [],
   "source": [
    "ttest_ind(x2, x1, alternative=\"smaller\", value=1)"
   ]
  },
  {
   "cell_type": "code",
   "execution_count": null,
   "id": "0e796b41-ff30-4f8a-b7f3-f0a73d4d12e5",
   "metadata": {},
   "outputs": [],
   "source": [
    "stat, p = ttest_ind(x1-loc1, x2-loc2)\n",
    "print('stat=%.3f, p=%.3f' % (stat, p))\n",
    "if p > 0.05:\n",
    "\tprint('Probably the same distribution')\n",
    "else:\n",
    "\tprint('Probably different distributions')"
   ]
  },
  {
   "cell_type": "code",
   "execution_count": null,
   "id": "2d1b408b-32bb-4220-9ae1-9560c1861e66",
   "metadata": {},
   "outputs": [],
   "source": [
    "stat, p = ttest_ind(x1-np.mean(x1), x2-np.mean(x2))\n",
    "print('stat=%.3f, p=%.3f' % (stat, p))\n",
    "if p > 0.05:\n",
    "\tprint('Probably the same distribution')\n",
    "else:\n",
    "\tprint('Probably different distributions')"
   ]
  },
  {
   "cell_type": "code",
   "execution_count": null,
   "id": "f2eab7b9-dd21-4c1c-ae60-bccb82cbea75",
   "metadata": {},
   "outputs": [],
   "source": [
    "tstat, pvalue = ztest(x1=x1, x2=x2, value=loc1-loc2)\n",
    "pvalue"
   ]
  },
  {
   "cell_type": "code",
   "execution_count": null,
   "id": "fa19cf24-ba43-4e8f-8e56-e273b3e0e208",
   "metadata": {},
   "outputs": [],
   "source": [
    "tstat, pvalue = ztest(x1=x1, x2=x2, value=np.mean(x1)-np.mean(x2))\n",
    "pvalue"
   ]
  },
  {
   "cell_type": "code",
   "execution_count": null,
   "id": "4f526856-4ab7-48b5-aa4d-563141060a6a",
   "metadata": {},
   "outputs": [],
   "source": [
    "tstat, pvalue = ztest(x1=x1, x2=x2, value=-0.95)\n",
    "pvalue"
   ]
  },
  {
   "cell_type": "code",
   "execution_count": null,
   "id": "e2368b97-1b23-450f-84e3-71e627380638",
   "metadata": {},
   "outputs": [],
   "source": [
    "tstat, pvalue = ztest(x1=x1, x2=x2, value=-1)\n",
    "pvalue"
   ]
  },
  {
   "cell_type": "code",
   "execution_count": null,
   "id": "5541694e-e455-4bd9-93e1-5a13568a294b",
   "metadata": {},
   "outputs": [],
   "source": []
  },
  {
   "cell_type": "code",
   "execution_count": null,
   "id": "50af116d-bed5-4414-b925-38f055bf2ea2",
   "metadata": {},
   "outputs": [],
   "source": []
  }
 ],
 "metadata": {
  "kernelspec": {
   "display_name": "master_thesis",
   "language": "python",
   "name": "python3"
  },
  "language_info": {
   "codemirror_mode": {
    "name": "ipython",
    "version": 3
   },
   "file_extension": ".py",
   "mimetype": "text/x-python",
   "name": "python",
   "nbconvert_exporter": "python",
   "pygments_lexer": "ipython3",
   "version": "3.8.10"
  }
 },
 "nbformat": 4,
 "nbformat_minor": 5
}
