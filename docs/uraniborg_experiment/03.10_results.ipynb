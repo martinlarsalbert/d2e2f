{
 "cells": [
  {
   "cell_type": "markdown",
   "id": "8a386db3-0f54-4793-a12f-902b1bef4481",
   "metadata": {},
   "source": [
    "(results)=\n",
    "## Results"
   ]
  },
  {
   "cell_type": "code",
   "execution_count": null,
   "id": "748a339a-64ac-40dd-a64b-2c5a777b273b",
   "metadata": {
    "papermill": {
     "duration": 3.700467,
     "end_time": "2021-05-21T15:53:22.375142",
     "exception": false,
     "start_time": "2021-05-21T15:53:18.674675",
     "status": "completed"
    },
    "tags": [
     "remove_cell"
    ]
   },
   "outputs": [],
   "source": [
    "# %load imports.py\n",
    "# %load ../imports.py\n",
    "%matplotlib inline\n",
    "%load_ext autoreload\n",
    "%autoreload 2\n",
    "%config Completer.use_jedi = False  ## (To fix autocomplete)\n",
    "\n",
    "import numpy as np\n",
    "import pandas as pd\n",
    "import matplotlib.pyplot as plt\n",
    "\n",
    "import seaborn as sns\n",
    "plt.style.use('paper')\n",
    "from IPython.display import set_matplotlib_formats\n",
    "set_matplotlib_formats('pdf')\n",
    "\n",
    "#import seaborn as sns\n",
    "import os\n",
    "from collections import OrderedDict\n",
    "\n",
    "from IPython.display import display\n",
    "\n",
    "pd.options.display.max_rows = 999\n",
    "pd.options.display.max_columns = 999\n",
    "pd.set_option(\"display.max_columns\", None)\n",
    "\n",
    "import folium\n",
    "import plotly.express as px\n",
    "import plotly.graph_objects as go\n",
    "\n",
    "import sys\n",
    "import os\n",
    "\n",
    "from sklearn.metrics import r2_score\n",
    "\n",
    "import scipy.integrate\n",
    "import seaborn as sns\n",
    "\n",
    "import pyarrow as pa\n",
    "import pyarrow.parquet as pq\n",
    "\n",
    "import dask.dataframe\n",
    "import statsmodels.api as sm\n",
    "\n",
    "from d2e2f.visualization import visualize\n",
    "import scipy.integrate\n",
    "\n",
    "from d2e2f.pipelines.trip_statistics import clean_statistics\n",
    "from scipy.stats import norm\n",
    "from myst_nb import glue\n",
    "#plt.style.use('presentation')\n",
    "from IPython.display import display, Markdown, Latex\n",
    "import sympy as sp\n",
    "from d2e2f.visualization.visualize import plot_map, plot_trips\n",
    "import statsmodels.api as sm\n",
    "import geopandas as gp\n",
    "from d2e2f.reporting import pop_index, reload_kedro\n",
    "import yaml\n",
    "catalog = reload_kedro()\n",
    "from d2e2f.analyze import arange_trip_matrix"
   ]
  },
  {
   "cell_type": "code",
   "execution_count": null,
   "id": "0ba7d74e-8d58-4f49-8602-1c1d9b03c4ba",
   "metadata": {
    "papermill": {
     "duration": 0.234474,
     "end_time": "2021-05-21T15:53:22.625141",
     "exception": false,
     "start_time": "2021-05-21T15:53:22.390667",
     "status": "completed"
    },
    "tags": [
     "remove_cell",
     "remove_output"
    ]
   },
   "outputs": [],
   "source": [
    "#df_stat = catalog.load('uraniborg_experiment.trip_statistics_clean')\n",
    "df_stat = catalog.load('uraniborg_experiment.steaming.trip_statistics')\n",
    "df_stat['start_time'] = pd.to_datetime(df_stat['start_time'], utc=True)\n",
    "df_stat['end_time'] = pd.to_datetime(df_stat['end_time'], utc=True);\n",
    "df_stat['start_time'] = df_stat['start_time'].apply(lambda x : x.tz_convert(tz='Europe/Berlin'))\n",
    "df_stat['end_time'] = df_stat['end_time'].apply(lambda x : x.tz_convert(tz='Europe/Berlin'))\n",
    "#df_stat.describe()"
   ]
  },
  {
   "cell_type": "markdown",
   "id": "b5e21ef2-be93-4af5-8975-98d1d005b8c9",
   "metadata": {
    "tags": []
   },
   "source": [
    "Statistics for steaming data (excluding in port manoeuvres) between the points in {numref}`fig:steaming`.\n",
    "\n",
    "```{figure} steaming.png\n",
    "---\n",
    "name: \"fig:steaming\"\n",
    "height: 200px\n",
    "---\n",
    "The trips are cut at longitudes indicated by the black lines. \n",
    "```\n"
   ]
  },
  {
   "cell_type": "markdown",
   "id": "5ff15ea0-25de-4060-9996-6e2f80f2c894",
   "metadata": {
    "tags": [
     "remove_cell"
    ]
   },
   "source": [
    "![](steaming.png)"
   ]
  },
  {
   "cell_type": "code",
   "execution_count": null,
   "id": "2ae915f2-3ab0-41e3-952e-80e059868197",
   "metadata": {
    "tags": [
     "remove_cell"
    ]
   },
   "outputs": [],
   "source": [
    "df = catalog.load('uraniborg_experiment.data_steaming')\n",
    "visualize.plot_trips(df)"
   ]
  },
  {
   "cell_type": "code",
   "execution_count": null,
   "id": "29237dc2-b8be-40dd-8d99-4560b6f1ea83",
   "metadata": {
    "tags": [
     "remove_cell"
    ]
   },
   "outputs": [],
   "source": [
    "df_clean = df_stat.copy()"
   ]
  },
  {
   "cell_type": "code",
   "execution_count": null,
   "id": "1663dd10-599e-45f2-aaee-86765a8e8e34",
   "metadata": {
    "tags": [
     "remove_cell"
    ]
   },
   "outputs": [],
   "source": [
    "def extract(df_clean, start, end):\n",
    "    start_index = (df_clean['start_time'] - start).abs().idxmin()\n",
    "    end_index = (df_clean['start_time'] - end).abs().idxmin()\n",
    "    df=df_clean.loc[start_index:end_index].copy()\n",
    "    steps = df_clean['trip_no'] - df_clean.loc[start_index]['trip_no']\n",
    "    super_trips = np.floor(steps / 2)\n",
    "    df['operation'] = super_trips.apply(lambda x : 'ÖST' if x % 2 == 0 else 'BFH')\n",
    "    return df"
   ]
  },
  {
   "cell_type": "code",
   "execution_count": null,
   "id": "8ed997a2-b98f-4d1d-9c45-7e2542214632",
   "metadata": {
    "tags": [
     "remove_cell"
    ]
   },
   "outputs": [],
   "source": [
    "start_experiment = pd.to_datetime(\"2022-08-19 14:15:00+2\", utc=False).tz_convert(tz='Europe/Berlin')\n",
    "end_experiment = pd.to_datetime(\"2022-08-22 06:50:00+2\", utc=False).tz_convert(tz='Europe/Berlin')\n",
    "start_pre_experiment = pd.to_datetime(\"2022-07-08 14:15:00+2\", utc=False).tz_convert(tz='Europe/Berlin')\n",
    "end_pre_experiment = pd.to_datetime(\"2022-07-11 06:50:00+2\", utc=False).tz_convert(tz='Europe/Berlin')\n",
    "\n",
    "df_experiment = extract(df_clean, start=start_experiment, end=end_experiment)\n",
    "df_experiment['group'] = 'experiment'\n",
    "df_pre_experiment = extract(df_clean, start=start_pre_experiment, end=end_pre_experiment)\n",
    "df_pre_experiment['group'] = 'before experiment'\n",
    "df_data = df_pre_experiment.append(df_experiment)\n",
    "df_data_raw = df_data.copy()"
   ]
  },
  {
   "cell_type": "markdown",
   "id": "faaf969e-5fee-43f1-9491-8beb4b9c1790",
   "metadata": {},
   "source": [
    "Data was collected from the experiment and also from a period before the experiment. This period is intended as a reference period to the experiment. The same chief and mate was operating the ship during both the experiment and the reference period. {numref}`fig:overview` shows the time frames of the experiment and reference period.  \n",
    "\n",
    "```{glue:figure} fig:overview\n",
    ":name: \"fig:overview\"\n",
    "\n",
    "Fuel consumption for trips before (pre) and after experiment.\n",
    "```"
   ]
  },
  {
   "cell_type": "code",
   "execution_count": null,
   "id": "accb99d8-1193-4895-8daf-4d2157062af3",
   "metadata": {
    "tags": [
     "remove_cell"
    ]
   },
   "outputs": [],
   "source": [
    "fig,ax=plt.subplots()\n",
    "facegrid = sns.scatterplot(data=df_data_raw, x='start_time',y='consumption', hue='group', ax=ax);\n",
    "ax.set_ylabel('Fuel consumption per trip [liters]');\n",
    "ax.set_xlabel('Trip start time');\n",
    "\n",
    "ax.set_xticks(pd.date_range(start=df_data_raw.iloc[0]['start_time'], \n",
    "                            end=df_data_raw.iloc[-1]['start_time'], \n",
    "                            periods=5))\n",
    "\n",
    "\n",
    "ax.legend(loc='upper center')\n",
    "fig = ax.get_figure()\n",
    "glue(\"fig:overview\",fig, display=False)"
   ]
  },
  {
   "cell_type": "code",
   "execution_count": null,
   "id": "56fd3b8c-5b8e-4590-bd48-abeca6ea5932",
   "metadata": {
    "tags": [
     "remove_cell"
    ]
   },
   "outputs": [],
   "source": [
    "time_table = catalog.load(\"uraniborg_experiment.time_table\")\n",
    "time_table.index = time_table.index.tz_convert(tz='Europe/Berlin')\n",
    "assert (df_data_raw['operation'] == time_table['operation'].values).all()\n",
    "assert (df_data_raw['trip_direction'] == time_table['direction'].values).all()"
   ]
  },
  {
   "cell_type": "code",
   "execution_count": null,
   "id": "3ee81575-4535-4fca-9841-f7eb630970ec",
   "metadata": {
    "tags": [
     "remove_cell"
    ]
   },
   "outputs": [],
   "source": [
    "df_data_raw['time_table'] = time_table.index.tz_convert(tz='Europe/Berlin')"
   ]
  },
  {
   "cell_type": "markdown",
   "id": "ef70dc58-780c-4225-a6ad-605738b2e218",
   "metadata": {},
   "source": [
    "It can be noted in {numref}`fig:steaming` that there are some trips where the ship makes long detours. The crew reported that this was due to other ships crossing the normal route. These trips were removed from the data as shown in {numref}`fig:clean_distance` and {numref}`fig:steaming_clean`. \n",
    "\n",
    "```{glue:figure} fig:clean_distance\n",
    ":name: \"fig:clean_distance\"\n",
    "\n",
    "Trips with long distances are excluded in the data cleaning.\n",
    "```\n",
    "\n",
    "```{figure} steaming_clean.png\n",
    "---\n",
    "name: \"fig:steaming_clean\"\n",
    "height: 200px\n",
    "---\n",
    "Remaining trips after data cleaning.\n",
    "```"
   ]
  },
  {
   "cell_type": "code",
   "execution_count": null,
   "id": "00d115cc-f9e1-49c2-91eb-07e81326917e",
   "metadata": {
    "tags": [
     "remove_cell"
    ]
   },
   "outputs": [],
   "source": [
    "mask = df_data_raw['distance'] <= df_data_raw['distance'].quantile(0.97)\n",
    "df_data = df_data_raw.loc[mask].copy()\n",
    "\n",
    "df_data['operation'].replace(to_replace='ÖST', value='Mate', inplace=True)\n",
    "df_data['operation'].replace(to_replace='BFH', value='Capt.', inplace=True)\n",
    "df_data['case'] = df_data.apply(lambda df : f\"{df['operation']} {df['group']}\", axis=1)\n",
    "df_data_all = df_data.copy()\n",
    "\n",
    "fig,axes=plt.subplots(nrows=2)\n",
    "bins = np.linspace(df_data_raw['distance'].min(), df_data_raw['distance'].max(), 30)\n",
    "\n",
    "ax=axes[0]\n",
    "df_data_raw.hist('distance', ax=ax, bins=bins,label='Raw')\n",
    "ax.set_title('')\n",
    "ax.set_xticklabels([])\n",
    "ax.set_ylabel('Number of trips')\n",
    "ax.legend()\n",
    "\n",
    "ax=axes[1]\n",
    "df_data_all.hist('distance', ax=ax, bins=bins, color='g', label='Cleaned')\n",
    "axes[1].set_ylim(axes[0].get_ylim())\n",
    "ax.set_title('')\n",
    "ax.legend()\n",
    "ax.set_xlabel('Trip distance [m]')\n",
    "ax.set_ylabel('Number of trips')\n",
    "plt.tight_layout()\n",
    "glue(\"fig:clean_distance\",fig, display=False)"
   ]
  },
  {
   "cell_type": "code",
   "execution_count": null,
   "id": "1aa7a7b0-cc6b-47b4-b017-07c119633c7e",
   "metadata": {},
   "outputs": [],
   "source": [
    "df_data.columns"
   ]
  },
  {
   "cell_type": "code",
   "execution_count": null,
   "id": "522c2b8a-5ad5-4d0f-b2ac-727dc030f4e3",
   "metadata": {},
   "outputs": [],
   "source": [
    "df_data['delta1'].hist(bins=20)\n",
    "df_data['delta2'].hist(bins=20)"
   ]
  },
  {
   "cell_type": "code",
   "execution_count": null,
   "id": "f220a2da-f316-4f44-80cc-4df6b56c278a",
   "metadata": {
    "tags": [
     "remove_cell"
    ]
   },
   "outputs": [],
   "source": [
    "mask = df['trip_no'].isin(df_data_all.index)\n",
    "visualize.plot_trips(df.loc[mask])"
   ]
  },
  {
   "cell_type": "code",
   "execution_count": null,
   "id": "63a2810d-3b41-4f2e-9009-2560321ebcc6",
   "metadata": {
    "tags": [
     "remove_cell"
    ]
   },
   "outputs": [],
   "source": [
    "mask_remove1 = ((df_data_all['operation']=='Capt.') & \n",
    "               (df_data_all['group']=='experiment') & \n",
    "               (df_data_all['PR']<0.9))\n",
    "\n",
    "mask_remove2 = ((df_data_all['operation']=='Mate') & \n",
    "               (df_data_all['group']=='experiment') & \n",
    "               (df_data_all['PR']>=0.9))\n",
    "\n",
    "mask_remove = mask_remove1 | mask_remove2\n",
    "df_data_remove = df_data_all.loc[mask_remove].copy()\n",
    "df_data = df_data_all.loc[~mask_remove].copy()\n"
   ]
  },
  {
   "cell_type": "markdown",
   "id": "9c329027-e39a-4df0-98e9-f3ac65652b00",
   "metadata": {},
   "source": [
    "{numref}`fig:operation_group` shows the four datasets of fuel consumption during and before the experiment with the ship operated by either the captain or the chief mate. The captain managed to run the ship with almost  full utilization of the aft thruster ($r_{aft}=1$) for most of the trips, as seen in in the lower right plot. From this plot it can also bee seen that three of the captains experiment trips had utilization that were too low and were therefore excluded from the experiments. No points were removed from the data before the experiment regardless of which utilization was used, since this data was not part of the experiment and $r_{aft}$ was thus not a controlled variable.\n",
    "\n",
    "```{glue:figure} fig:operation_group\n",
    ":name: \"fig:operation_group\"\n",
    "\n",
    "Fuel consumption for trips with ship operated by the captain or chief mate before and after the experiment.\n",
    "```"
   ]
  },
  {
   "cell_type": "code",
   "execution_count": null,
   "id": "79c3f6f5-ecf3-4fe7-ab3f-090f4eb8e32c",
   "metadata": {
    "tags": [
     "remove_cell"
    ]
   },
   "outputs": [],
   "source": [
    "df_data.sort_values(by=['start_time','operation'], inplace=True)\n",
    "\n",
    "fig,axes = plt.subplots(ncols=2,nrows=2)\n",
    "axes=axes.flatten()\n",
    "\n",
    "remove_groups = df_data_remove.groupby(by='case', sort=False)\n",
    "for (case,group),ax in zip(df_data.groupby('case', sort=False), axes):\n",
    "\n",
    "    group.plot(x='PR', y='consumption', style='.', label='Data', ax=ax)\n",
    "    if case in remove_groups.groups:\n",
    "        remove_groups.get_group(case).plot(x='PR', \n",
    "                                           y='consumption', \n",
    "                                           style='r.', \n",
    "                                           label='Removed data', \n",
    "                                           ax=ax)\n",
    "        ax.legend(loc='lower left')\n",
    "    else:\n",
    "        ax.get_legend().set_visible(False)\n",
    "    \n",
    "    ax.set_xlim(0.98*df_data['PR'].min(),1.02*df_data['PR'].max())\n",
    "    ax.set_ylim(0.98*df_data['consumption'].min(),1.02*df_data['consumption'].max())\n",
    "    ax.grid(True)\n",
    "    ax.set_title(case)\n",
    "    \n",
    "axes[1].set_yticklabels([])\n",
    "axes[3].set_yticklabels([])\n",
    "axes[0].set_xticklabels([])\n",
    "axes[1].set_xticklabels([])\n",
    "axes[0].set_xlabel('')\n",
    "axes[1].set_xlabel('')\n",
    "axes[2].set_xlabel('$r_{aft}$')\n",
    "axes[3].set_xlabel('$r_{aft}$')\n",
    "axes[0].set_ylabel('F. consumption [l]')\n",
    "axes[2].set_ylabel('F. consumption [l]')\n",
    "\n",
    "\n",
    "plt.tight_layout()\n",
    "\n",
    "glue('fig:operation_group',fig, display=False)"
   ]
  },
  {
   "cell_type": "code",
   "execution_count": null,
   "id": "24465ff8-e82e-48f0-a373-42900ce803c2",
   "metadata": {
    "tags": [
     "remove_cell"
    ]
   },
   "outputs": [],
   "source": [
    "def means_and_comparison(df_data):\n",
    "    means = df_data.groupby(by=['operation','group'], sort=False).mean()\n",
    "    means['trips'] = df_data.groupby(by=['operation','group'], sort=False)['sog'].count()\n",
    "    mean_BFH_experiment = means.loc[('Capt.','experiment')]\n",
    "    comparison = (mean_BFH_experiment-means)/means\n",
    "    return means, comparison\n",
    "\n",
    "means, comparison = means_and_comparison(df_data)"
   ]
  },
  {
   "cell_type": "markdown",
   "id": "63e7ba8b-bfc4-4d1e-a2d5-a38ce6b650c4",
   "metadata": {},
   "source": [
    "{numref}`tab:means_1` shows the mean values of the four datasets where the mean fuel consumption obtained for the captain at the experiment is 20-25% lower, compared to the other datasets. The speed is around 5-10% lower for the captains experimental data which definitely has increases the fuel consumption reduction. The fuel consumption reduction in {numref}`tab:means_1` should therefore be considered as too optimistic. Different speed correction methods are applied in the next section, to come up with a more realistic estimation of the fuel saving potential.\n",
    "\n",
    "```{glue:figure} tab:means_1\n",
    ":name: \"tab:means_1\"\n",
    "\n",
    "Mean values before and during the experiment with ship operated by the captain and the first mate.\n",
    "```\n"
   ]
  },
  {
   "cell_type": "code",
   "execution_count": null,
   "id": "ad60655d-4160-410a-9297-bb1d3a7d247c",
   "metadata": {
    "tags": [
     "remove_cell"
    ]
   },
   "outputs": [],
   "source": [
    "interesting=['sog','PR','consumption','trips']\n",
    "\n",
    "decimals = {\n",
    "        'sog' : 1,\n",
    "        'PR' : 1,\n",
    "        'consumption':0,\n",
    "    }\n",
    "\n",
    "table=means[interesting].reset_index().round(decimals)\n",
    "glue(f'tab:means_1',table)"
   ]
  },
  {
   "cell_type": "code",
   "execution_count": null,
   "id": "81406d74-6c2f-4eff-8766-8014ec22a788",
   "metadata": {
    "tags": [
     "remove_cell"
    ]
   },
   "outputs": [],
   "source": [
    "interesting_pct=['sog','PR','consumption']\n",
    "table=(100*comparison[interesting_pct]).reset_index().round(decimals=0)\n",
    "glue(f'tab:pct_1',table)"
   ]
  },
  {
   "cell_type": "markdown",
   "id": "563b1467-82d4-4f53-9ba0-363f3e2cd3f2",
   "metadata": {
    "tags": []
   },
   "source": [
    "## Speed correction by manual selection"
   ]
  },
  {
   "cell_type": "code",
   "execution_count": null,
   "id": "fac972d9-3d4d-4418-8148-809df2019c64",
   "metadata": {
    "tags": [
     "remove_output",
     "remove_cell"
    ]
   },
   "outputs": [],
   "source": [
    "mask_BFH_pre_experiment = ((df_data['operation'] == 'Capt.') & (df_data['group'] == 'before experiment') & (df_data['sog'] > 3.5) & (df_data['sog'] < 10.0))\n",
    "mask_BFH_experiment = ((df_data['operation'] == 'Capt.') & (df_data['group'] == 'experiment') & (df_data['sog'] > 4.5) & (df_data['sog'] < 10.0) & (df_data['PR'] > 0.9))\n",
    "mask_ÖST_pre_experiment = ((df_data['operation'] == 'Mate') & (df_data['group'] == 'before experiment') & (df_data['sog'] > 3.0) & (df_data['sog'] < 5.15))\n",
    "mask_ÖST_experiment = ((df_data['operation'] == 'Mate') & (df_data['group'] == 'experiment') & (df_data['sog'] > 3.0) & (df_data['sog'] < 4.92))\n",
    "\n",
    "df_data_select = pd.concat([df_data.loc[mask_BFH_pre_experiment],\n",
    "                            df_data.loc[mask_BFH_experiment],\n",
    "                            df_data.loc[mask_ÖST_pre_experiment],\n",
    "                            df_data.loc[mask_ÖST_experiment],\n",
    "                           ])\n",
    "df_data_select.sort_values(by='start_time', inplace=True)\n",
    "means_select, comparison_select = means_and_comparison(df_data_select)"
   ]
  },
  {
   "cell_type": "markdown",
   "id": "58a84e9b-134b-4bd9-b62f-8f2203ba7cc6",
   "metadata": {},
   "source": [
    "The four datasets can be forced to have almost the same average speed by manually excluding some trips from the datasets as seen in {numref}`fig:remove_speed_average`.\n",
    "\n",
    "```{glue:figure} fig:remove_speed_average\n",
    ":name: \"fig:remove_speed_average\"\n",
    "\n",
    "Average speed for all datasets, before (top) and after (bottom) some trips have been excluded.\n",
    "```"
   ]
  },
  {
   "cell_type": "code",
   "execution_count": null,
   "id": "7ce7dbc4-7c8f-4f1d-8ab4-ad0cf9faea8a",
   "metadata": {
    "tags": [
     "remove_cell"
    ]
   },
   "outputs": [],
   "source": [
    "fig,axes=plt.subplots(nrows=2)\n",
    "ax = axes[0]\n",
    "means['sog'].plot.bar(ax=ax)\n",
    "means['sog_max'] = means['sog'].max()\n",
    "means['sog_max'].plot(style='k--', ax=ax)\n",
    "ax.set_ylim(4,5);\n",
    "ax.set_xticklabels([])\n",
    "ax.set_xlabel('')\n",
    "ax.set_ylabel('Average sog [m/s]')\n",
    "\n",
    "ax = axes[1]\n",
    "means_select['sog'].plot.bar(ax=ax)\n",
    "means_select['sog_max'] = means_select['sog'].max()\n",
    "means_select['sog_max'].plot(style='k--', ax=ax)\n",
    "ax.set_ylabel('Average sog [m/s]')\n",
    "ax.set_ylim(4,5);\n",
    "ax.set_xlabel('')\n",
    "ax.set_xticklabels(ax.get_xmajorticklabels(), rotation = -10)\n",
    "plt.tight_layout()\n",
    "glue(\"fig:remove_speed_average\", fig, display=False)"
   ]
  },
  {
   "cell_type": "markdown",
   "id": "785063a8-99a0-4bc6-a858-8a528b2318f9",
   "metadata": {},
   "source": [
    "The mean values when speeds corrected by manual selections have been applied are shown in {numref}`tab:means_2`.\n",
    "\n",
    "```{glue:figure} tab:means_2\n",
    ":name: \"tab:means_2\"\n",
    "\n",
    "Mean values before and during the experiment with ship operated by the captain and the first mate with speeds corrected by manual selections.\n",
    "```"
   ]
  },
  {
   "cell_type": "code",
   "execution_count": null,
   "id": "5d423672-a081-45f4-a164-ecd62a90630e",
   "metadata": {
    "tags": [
     "remove_cell"
    ]
   },
   "outputs": [],
   "source": [
    "decimals = {\n",
    "        'sog' : 1,\n",
    "        'PR' : 1,\n",
    "        'consumption':0,\n",
    "    }\n",
    "\n",
    "table=means_select[interesting].reset_index().round(decimals)\n",
    "glue(f'tab:means_2',table)"
   ]
  },
  {
   "cell_type": "code",
   "execution_count": null,
   "id": "305d72ee-0f97-467a-9686-081e7549c82c",
   "metadata": {
    "tags": [
     "remove_cell"
    ]
   },
   "outputs": [],
   "source": [
    "table=(100*comparison_select[interesting_pct]).reset_index().round(decimals=0)\n",
    "glue(f'tab:pct_2',table)"
   ]
  },
  {
   "cell_type": "markdown",
   "id": "e3900050-515f-448e-8e8f-c9d51bf046e4",
   "metadata": {},
   "source": [
    "## Speed model correction"
   ]
  },
  {
   "cell_type": "code",
   "execution_count": null,
   "id": "483a180d-2c16-4c48-b8d0-e22414894023",
   "metadata": {
    "tags": [
     "remove_cell"
    ]
   },
   "outputs": [],
   "source": [
    "df_statistics_big = catalog.load('uraniborg.steaming.trip_statistics_clean')\n",
    "mask = df_statistics_big['distance']<df_statistics_big['distance'].quantile(0.96)\n",
    "df_statistics_big_clean = df_statistics_big.loc[mask].copy()"
   ]
  },
  {
   "cell_type": "code",
   "execution_count": null,
   "id": "7fc6b2c7-edb4-4290-be49-097984339bdd",
   "metadata": {},
   "outputs": [],
   "source": [
    "df_statistics_big_clean['delta1'].hist(bins=100)\n",
    "df_statistics_big_clean['delta2'].hist(bins=100)"
   ]
  },
  {
   "cell_type": "code",
   "execution_count": null,
   "id": "d279a7a4-e0f4-415a-b98f-84cfd2aad258",
   "metadata": {
    "tags": [
     "remove_cell"
    ]
   },
   "outputs": [],
   "source": [
    "def features_uraniborg(df):\n",
    "    \n",
    "    X = pd.DataFrame(index=df.index)\n",
    "    #X['sog'] = df['sog']\n",
    "    X['sog**2'] = df['sog**2']\n",
    "    #X['drift_angle'] = df['drift_angle']\n",
    "    #X['Rate of turn (deg/min)'] = df['Rate of turn (deg/min)']\n",
    "    #X['sog**3'] = df['sog**3']\n",
    "    #X['distance'] = df['distance']\n",
    "    X['PR'] = df['PR']\n",
    "    X['intercept'] = 1\n",
    "    \n",
    "    if 'aw_x**2*sog' in df:\n",
    "        X['aw_x**2*sog'] = df['aw_x**2*sog']\n",
    "    \n",
    "    mask = X.notnull().all(axis=1) & df['consumption'].notnull()\n",
    "    y = df.loc[mask,'consumption']   \n",
    "    X = X.loc[mask]\n",
    "    \n",
    "    return X, y"
   ]
  },
  {
   "cell_type": "code",
   "execution_count": null,
   "id": "07d9434a-596e-4059-a4dc-92b6c4fa4435",
   "metadata": {
    "tags": [
     "remove_cell"
    ]
   },
   "outputs": [],
   "source": [
    "X,y=features_uraniborg(df_statistics_big_clean)\n",
    "model_speed = sm.OLS(y,X,hasconst=True)\n",
    "\n",
    "result_speed = model_speed.fit()\n",
    "result_speed.summary()"
   ]
  },
  {
   "cell_type": "code",
   "execution_count": null,
   "id": "ad2c721f-b373-4ad1-8ce3-0277127294e3",
   "metadata": {},
   "outputs": [],
   "source": [
    "from statsmodels.sandbox.regression.predstd import wls_prediction_std"
   ]
  },
  {
   "cell_type": "code",
   "execution_count": null,
   "id": "3580ef3d-d216-457d-8847-59016642e835",
   "metadata": {},
   "outputs": [],
   "source": [
    "fig,ax=plt.subplots()\n",
    "X,y=features_uraniborg(df_statistics_big_clean.iloc[0:70])\n",
    "prstd, iv_l, iv_u = wls_prediction_std(result_speed, X)\n",
    "y_pred = result_speed.predict(X)\n",
    "y.plot(ax=ax, style='.-', label='True')\n",
    "y_pred.plot(ax=ax, style='.-', label='Prediction')\n",
    "ax.fill_between(y.index, iv_l, iv_u, color='grey', label=r'Confidence intervall (95\\%)', zorder=-10)\n",
    "ax.set_ylabel('Fuel consumption per trip [l]')\n",
    "ax.set_xlabel('Trip number')\n",
    "ax.legend(loc='upper right')"
   ]
  },
  {
   "cell_type": "code",
   "execution_count": null,
   "id": "aaf9c285-44fa-4f5d-9fee-cf166d99afb9",
   "metadata": {},
   "outputs": [],
   "source": [
    "fig,ax=plt.subplots()\n",
    "df_ = df_statistics_big_clean.iloc[0:200].sort_values(by='sog').copy()\n",
    "X,y=features_uraniborg(df_)\n",
    "df_=df_.loc[y.index].copy()\n",
    "#prstd, iv_l, iv_u = wls_prediction_std(result_speed, X)\n",
    "y_pred = result_speed.predict(X)\n",
    "\n",
    "ax.plot(df_['sog'], y, '.', label='True')\n",
    "#ax.plot(df_['sog'], y_pred, label='Prediction')\n",
    "\n",
    "#ax.fill_between(y.index, iv_l, iv_u, color='grey', label=r'Confidence intervall (95\\%)', zorder=-10)\n",
    "ax.set_ylabel('Fuel consumption per trip [l]')\n",
    "ax.set_xlabel('sog [m/s]')\n",
    "ax.legend(loc='upper right')"
   ]
  },
  {
   "cell_type": "code",
   "execution_count": null,
   "id": "7d2ddf8a-c4be-427c-819b-4396dc86c1d5",
   "metadata": {
    "tags": [
     "remove_cell"
    ]
   },
   "outputs": [],
   "source": [
    "df_corrected = df_data.copy()\n",
    "df_corrected['sog'] = df_data['sog'].mean()\n",
    "df_corrected['sog**2'] = df_data['sog**2'].mean()\n",
    "X_corrected,_ = features_uraniborg(df_corrected)\n",
    "X_corrected[\"aw_x**2*sog\"]=0 #missing\"\n",
    "X,_ = features_uraniborg(df_data)\n",
    "X[\"aw_x**2*sog\"]=0 #missing\"\n",
    "y = df_data['consumption']\n",
    "model_error = y - result_speed.predict(X)"
   ]
  },
  {
   "cell_type": "code",
   "execution_count": null,
   "id": "3fdca2a3-2454-401c-8619-7752e74f3e59",
   "metadata": {
    "tags": [
     "remove_cell"
    ]
   },
   "outputs": [],
   "source": [
    "df_corrected['consumption'] = result_speed.predict(X_corrected) + model_error\n",
    "means_corrected, comparison_corrected = means_and_comparison(df_corrected)"
   ]
  },
  {
   "cell_type": "markdown",
   "id": "2ce2ae14-0d2d-4057-b90c-117da817db23",
   "metadata": {},
   "source": [
    "```{glue:figure} fig:speed_corrections\n",
    ":name: \"fig:speed_corrections\"\n",
    "\n",
    "Average speed for all datasets, before (top) and after (bottom) some trips have been excluded.\n",
    "```"
   ]
  },
  {
   "cell_type": "code",
   "execution_count": null,
   "id": "44b587ea-deba-449f-81f9-193b1793aad5",
   "metadata": {
    "tags": [
     "remove_cell"
    ]
   },
   "outputs": [],
   "source": [
    "fig,ax=plt.subplots()\n",
    "\n",
    "df_data.plot(x='sog', y='consumption', label='Original data',ax=ax, style='g.')\n",
    "ax.plot(df_data['sog'], df_corrected['consumption'],'r.',label='Corrected data')\n",
    "ax.legend()\n",
    "ax.plot([df_data['sog'].mean(),df_data['sog'].mean()],[20,85],'b--',label='average sog')\n",
    "ax.annotate('Average sog', xy=(df_data['sog'].mean()+0.02,20))\n",
    "ax.set_ylabel('Fuel consumption per trip [l]')\n",
    "ax.set_xlabel('Ship speed over ground (sog) [m/s]')\n",
    "\n",
    "for (_,data),(_,corrected) in zip(df_data.iterrows(),df_corrected.iterrows()):\n",
    "    ax.plot([data['sog'],data['sog']], [data['consumption'],corrected['consumption']], 'k:', zorder=-10)\n",
    "\n",
    "glue(\"fig:speed_corrections\", fig, display=False)"
   ]
  },
  {
   "cell_type": "markdown",
   "id": "082424e6-61e0-4ca5-8c28-f1d7cc6a6742",
   "metadata": {},
   "source": [
    "The mean values when speeds corrected by a regression model have been applied are shown in {numref}`tab:means_3`.\n",
    "\n",
    "```{glue:figure} tab:means_3\n",
    ":name: \"tab:means_3\"\n",
    "\n",
    "Mean values before and during the experiment with ship operated by the captain and the first mate with speeds corrected by regression model.\n",
    "```"
   ]
  },
  {
   "cell_type": "code",
   "execution_count": null,
   "id": "c03295e8-bd25-4678-9f11-8a59755f981c",
   "metadata": {
    "tags": [
     "remove_cell"
    ]
   },
   "outputs": [],
   "source": [
    "decimals = {\n",
    "        'sog' : 1,\n",
    "        'PR' : 1,\n",
    "        'consumption':0,\n",
    "    }\n",
    "\n",
    "table=means_corrected[interesting].reset_index().round(decimals)\n",
    "glue(f'tab:means_3',table)"
   ]
  },
  {
   "cell_type": "code",
   "execution_count": null,
   "id": "95bc6762-2e49-4106-bd1a-4f896c5e711c",
   "metadata": {
    "tags": [
     "remove_cell"
    ]
   },
   "outputs": [],
   "source": [
    "table=(100*comparison_corrected[interesting_pct]).reset_index().round(decimals=0)\n",
    "glue(f'tab:pct_3',table)"
   ]
  },
  {
   "cell_type": "code",
   "execution_count": null,
   "id": "41a867e5-2634-4bf4-89a6-38c13f2670a8",
   "metadata": {},
   "outputs": [],
   "source": []
  }
 ],
 "metadata": {
  "kernelspec": {
   "display_name": "Python 3 (ipykernel)",
   "language": "python",
   "name": "python3"
  },
  "language_info": {
   "codemirror_mode": {
    "name": "ipython",
    "version": 3
   },
   "file_extension": ".py",
   "mimetype": "text/x-python",
   "name": "python",
   "nbconvert_exporter": "python",
   "pygments_lexer": "ipython3",
   "version": "3.7.9"
  }
 },
 "nbformat": 4,
 "nbformat_minor": 5
}
