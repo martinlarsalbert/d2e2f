{
 "cells": [
  {
   "cell_type": "markdown",
   "id": "1510ac6f",
   "metadata": {
    "papermill": {
     "duration": 0.015624,
     "end_time": "2021-05-21T15:53:18.518461",
     "exception": false,
     "start_time": "2021-05-21T15:53:18.502837",
     "status": "completed"
    },
    "tags": []
   },
   "source": [
    "# Thruster experiment Overview"
   ]
  },
  {
   "cell_type": "code",
   "execution_count": null,
   "id": "c06d4e35",
   "metadata": {
    "papermill": {
     "duration": 3.700467,
     "end_time": "2021-05-21T15:53:22.375142",
     "exception": false,
     "start_time": "2021-05-21T15:53:18.674675",
     "status": "completed"
    },
    "tags": [
     "remove_cell"
    ]
   },
   "outputs": [],
   "source": [
    "# %load imports.py\n",
    "# %load ../imports.py\n",
    "%matplotlib inline\n",
    "%load_ext autoreload\n",
    "%autoreload 2\n",
    "%config Completer.use_jedi = False  ## (To fix autocomplete)\n",
    "\n",
    "import numpy as np\n",
    "import pandas as pd\n",
    "import matplotlib.pyplot as plt\n",
    "\n",
    "import seaborn as sns\n",
    "width=20\n",
    "height=3\n",
    "plt.rcParams[\"figure.figsize\"] = (width,height)\n",
    "sns.set(rc={'figure.figsize':(width,height)})\n",
    "\n",
    "#import seaborn as sns\n",
    "import os\n",
    "from collections import OrderedDict\n",
    "\n",
    "from IPython.display import display\n",
    "\n",
    "pd.options.display.max_rows = 999\n",
    "pd.options.display.max_columns = 999\n",
    "pd.set_option(\"display.max_columns\", None)\n",
    "\n",
    "import folium\n",
    "import plotly.express as px\n",
    "import plotly.graph_objects as go\n",
    "\n",
    "import sys\n",
    "import os\n",
    "\n",
    "from sklearn.metrics import r2_score\n",
    "\n",
    "import scipy.integrate\n",
    "import seaborn as sns\n",
    "\n",
    "import pyarrow as pa\n",
    "import pyarrow.parquet as pq\n",
    "\n",
    "import statsmodels.api as sm\n",
    "\n",
    "from master_thesis.visualization import visualize\n",
    "import scipy.integrate\n",
    "\n",
    "from master_thesis.pipelines.trip_statistics import clean_statistics\n",
    "from scipy.stats import norm\n",
    "#from myst_nb import glue\n",
    "#plt.style.use('presentation')\n",
    "from IPython.display import display, Markdown, Latex\n",
    "import sympy as sp"
   ]
  },
  {
   "cell_type": "code",
   "execution_count": null,
   "id": "c4af21de",
   "metadata": {
    "papermill": {
     "duration": 0.234474,
     "end_time": "2021-05-21T15:53:22.625141",
     "exception": false,
     "start_time": "2021-05-21T15:53:22.390667",
     "status": "completed"
    },
    "tags": [
     "remove_cell",
     "remove_output"
    ]
   },
   "outputs": [],
   "source": [
    "%reload_kedro\n",
    "#df_stat = catalog.load('uraniborg.trip_statistics_clean')\n",
    "df_stat = catalog.load('uraniborg.steaming.trip_statistics')\n",
    "df_stat['start_time'] = pd.to_datetime(df_stat['start_time'], utc=True)\n",
    "df_stat['end_time'] = pd.to_datetime(df_stat['end_time'], utc=True);\n",
    "\n",
    "df_stat['start_time'] = df_stat['start_time'].apply(lambda x : x.tz_convert(tz='Europe/Berlin'))\n",
    "df_stat['end_time'] = df_stat['end_time'].apply(lambda x : x.tz_convert(tz='Europe/Berlin'))\n",
    "#df_stat.describe()"
   ]
  },
  {
   "cell_type": "markdown",
   "id": "933a4d95-b974-4a68-9411-dd385a6ed200",
   "metadata": {},
   "source": [
    "Statistics for steaming data (excluding in port manoeuvres) between the points in the figure:"
   ]
  },
  {
   "cell_type": "code",
   "execution_count": null,
   "id": "73de1b24-1455-4bc4-87a2-5bdfbb305b72",
   "metadata": {},
   "outputs": [],
   "source": [
    "data_steaming = catalog.load(\"uraniborg.data_steaming\")\n",
    "trip_no = list(data_steaming.groupby(by='trip_no').groups.keys())[0]\n",
    "df = data_steaming.groupby(by='trip_no', sort=False).get_group(trip_no)\n",
    "visualize.plot_map(df)"
   ]
  },
  {
   "cell_type": "code",
   "execution_count": null,
   "id": "49e4574d-b31c-49fb-b526-04c2b98eaaa1",
   "metadata": {
    "tags": [
     "remove_cell"
    ]
   },
   "outputs": [],
   "source": [
    "df_clean = df_stat.copy()"
   ]
  },
  {
   "cell_type": "markdown",
   "id": "509cf651-ac7b-4e82-ba39-0825d9d90b0c",
   "metadata": {},
   "source": [
    "Time history of fuel consumption for all trips during the experiment."
   ]
  },
  {
   "cell_type": "code",
   "execution_count": null,
   "id": "f0a18f24-93f8-4179-9baa-96c0556d2541",
   "metadata": {
    "tags": [
     "remove_input",
     "remove_cell"
    ]
   },
   "outputs": [],
   "source": [
    "fig,ax=plt.subplots()\n",
    "fig.set_size_inches(20,5)\n",
    "facegrid = sns.scatterplot(data=df_clean, x='start_time',y='Consumption ME (L)', ax=ax);\n",
    "ax.set_ylabel('(Fuel consumption per trip) [l]');\n",
    "\n",
    "fig = ax.get_figure()\n",
    "fig_name = 'overview'"
   ]
  },
  {
   "cell_type": "code",
   "execution_count": null,
   "id": "45ccbf09-b66c-4284-ada1-bb12c0fecea8",
   "metadata": {},
   "outputs": [],
   "source": [
    "start_experiment = pd.to_datetime(\"2022-08-19 14:15:00+2\", utc=False).tz_convert(tz='Europe/Berlin')\n",
    "end_experiment = pd.to_datetime(\"2022-08-22 06:50:00+2\", utc=False).tz_convert(tz='Europe/Berlin')\n",
    "\n",
    "start_index = (df_clean['start_time'] - start_experiment).abs().idxmin()\n",
    "end_index = (df_clean['start_time'] - end_experiment).abs().idxmin()\n",
    "\n",
    "df_clean=df_clean.loc[start_index:end_index].copy()\n",
    "steps = df_clean['trip_no'] - df_clean.loc[start_index]['trip_no']"
   ]
  },
  {
   "cell_type": "code",
   "execution_count": null,
   "id": "c6ed71fb-57fd-442f-82b2-bccfb08ad09c",
   "metadata": {},
   "outputs": [],
   "source": [
    "super_trips = np.floor(steps / 2)"
   ]
  },
  {
   "cell_type": "code",
   "execution_count": null,
   "id": "f41f78b7-f5a7-4c9c-ac7c-beb58fb15e3c",
   "metadata": {},
   "outputs": [],
   "source": [
    "df_clean['operation'] = super_trips.apply(lambda x : 'ÖST' if x % 2 == 0 else 'BFH')"
   ]
  },
  {
   "cell_type": "code",
   "execution_count": null,
   "id": "584aa9fc-6f37-4bc1-8b4a-d0d15f0fbf1c",
   "metadata": {},
   "outputs": [],
   "source": [
    "%reload_kedro\n",
    "time_table = catalog.load(\"uraniborg.time_table\")\n",
    "time_table.index = time_table.index.tz_convert(tz='Europe/Berlin')\n",
    "assert (df_clean['operation'] == time_table['operation'].values).all()\n",
    "assert (df_clean['trip_direction'] == time_table['direction'].values).all()"
   ]
  },
  {
   "cell_type": "markdown",
   "id": "dd4c4bf7-2332-4929-a169-79b9fcc3c917",
   "metadata": {},
   "source": [
    "Uraniborg is run with the following time table during the experiment. The operation of the ship is switching every other roundtrip Landskrona-Ven-Landskrona between the captain (BFH) and by the chief mate (ÖST)."
   ]
  },
  {
   "cell_type": "code",
   "execution_count": null,
   "id": "98251d83-1bc0-40d9-9121-68610dc3081a",
   "metadata": {},
   "outputs": [],
   "source": [
    "time_table"
   ]
  },
  {
   "cell_type": "code",
   "execution_count": null,
   "id": "ded77b89-c41f-4bec-a10e-4bb5e0e3a506",
   "metadata": {},
   "outputs": [],
   "source": [
    "df_clean['time_table'] = time_table.index.tz_convert(tz='Europe/Berlin')"
   ]
  },
  {
   "cell_type": "code",
   "execution_count": null,
   "id": "46f7444f-f28e-42a6-bb06-410fa7cce0be",
   "metadata": {},
   "outputs": [],
   "source": [
    "df_clean['delay'] = (df_clean['start_time']) - df_clean['time_table']"
   ]
  },
  {
   "cell_type": "code",
   "execution_count": null,
   "id": "72716602-a13d-43ad-a07c-2ffe557d9053",
   "metadata": {},
   "outputs": [],
   "source": [
    "assert (df_clean['delay'] < pd.to_timedelta(\"10T\")).all()"
   ]
  },
  {
   "cell_type": "markdown",
   "id": "c03c4acd-d01b-4050-abe9-8fdf1d5030d9",
   "metadata": {},
   "source": [
    "The trips operated by ÖST and BFH are shown below."
   ]
  },
  {
   "cell_type": "code",
   "execution_count": null,
   "id": "1d63f584-9241-40aa-a930-1803eedef2aa",
   "metadata": {},
   "outputs": [],
   "source": [
    "px.scatter(data_frame=df_clean, x='start_time', y='Consumption ME (L)', color='operation')"
   ]
  },
  {
   "cell_type": "markdown",
   "id": "bbc9d1f2-9133-4034-a9f9-33d85d6d3be0",
   "metadata": {},
   "source": [
    "The consumption is plotted vs. the power ratio (PR) in the figure below. PR=1 means that only the aft thruster is run."
   ]
  },
  {
   "cell_type": "code",
   "execution_count": null,
   "id": "44363ccf-cd5c-4184-b51c-ffd97b1894c1",
   "metadata": {},
   "outputs": [],
   "source": [
    "px.scatter(data_frame=df_clean, x='PR', y='Consumption ME (L)', color='operation', hover_data=[\"time_table\",\"sog\"])"
   ]
  },
  {
   "cell_type": "markdown",
   "id": "5dabb22d-3152-423e-a7a1-e4e8b9cd43f8",
   "metadata": {},
   "source": [
    "There is however a difference in the average speed over ground (sog) between ÖST and BFH as seen in the figure below."
   ]
  },
  {
   "cell_type": "code",
   "execution_count": null,
   "id": "cec76315-1a4c-4042-bc7e-4e3f0e31b888",
   "metadata": {},
   "outputs": [],
   "source": [
    "px.scatter(data_frame=df_clean, x='PR', y='sog', color='operation', hover_data=[\"time_table\"])"
   ]
  },
  {
   "cell_type": "markdown",
   "id": "b3d0e28f-c60e-4109-85ae-25f7a5784bdb",
   "metadata": {},
   "source": [
    "To make a more fair comparison, some trips are excluded so that the mean of the average trip speed for ÖST and BFH is the same:"
   ]
  },
  {
   "cell_type": "code",
   "execution_count": null,
   "id": "6d1501f5-fc24-404b-be80-d95b547ac869",
   "metadata": {},
   "outputs": [],
   "source": [
    "mask = ((df_clean['operation'] == 'BFH') & (df_clean['PR'] > 0.9) & (df_clean['sog'] > 4.5))\n",
    "df_experiment_sog = df_clean.loc[mask].copy()\n",
    "df_clean['speed classify'] = np.NaN\n",
    "df_clean.loc[mask,'speed classify'] = 'experiment'\n",
    "\n",
    "df_experiment_sog.mean(numeric_only=True)[['sog','Consumption ME (L)']]\n"
   ]
  },
  {
   "cell_type": "code",
   "execution_count": null,
   "id": "db543ea7-a22c-48c2-95a9-09570b4160d6",
   "metadata": {},
   "outputs": [],
   "source": [
    "mask = ((df_clean['operation'] == 'ÖST') & (df_clean['PR'] < 0.9) & (df_clean['sog'] < 4.95))\n",
    "df_normal_sog = df_clean.loc[mask].copy()\n",
    "df_clean.loc[mask,'speed classify'] = 'normal'\n",
    "df_clean['speed classify'] = df_clean['speed classify'].fillna('excluded')\n",
    "df_normal_sog.mean(numeric_only=True)[['sog','Consumption ME (L)']]"
   ]
  },
  {
   "cell_type": "code",
   "execution_count": null,
   "id": "e6981de4-beef-4573-89b8-f07b483f7b7c",
   "metadata": {},
   "outputs": [],
   "source": [
    "(df_normal_sog['Consumption ME (L)'].mean() - df_experiment_sog['Consumption ME (L)'].mean())/df_normal_sog['Consumption ME (L)'].mean()\n"
   ]
  },
  {
   "cell_type": "code",
   "execution_count": null,
   "id": "68be51c0-d7cf-4f82-8f93-f80b644e878d",
   "metadata": {},
   "outputs": [],
   "source": [
    "px.scatter(data_frame=df_clean, x='PR', y='Consumption ME (L)', color='speed classify', hover_data=[\"time_table\",\"sog\"])"
   ]
  },
  {
   "cell_type": "markdown",
   "id": "2d0d1642-97d7-484e-8f01-01ec3d93197f",
   "metadata": {},
   "source": [
    "## Conclusion"
   ]
  },
  {
   "cell_type": "markdown",
   "id": "531f2a44-9cad-4a96-93e4-92281aee311b",
   "metadata": {},
   "source": [
    "BFH, which is utlizing more of the aft thruster, has **14%** lower fuel consumption than ÖST. If this improvement originate entirely from the changed thrust allocation is not certain. Perhaps BFH is also a more skilled operator than ÖST from the start? Trips prior to this experiment made by BFH and ÖST will be further investigated to also see if this is the case. Regardless of this the present result show that it should be possible to reduce the fuel consumption by around 20%, also accounting for other improvments when comparing the operation of BFH and ÖST, such as speed and speed profile etc."
   ]
  },
  {
   "cell_type": "code",
   "execution_count": null,
   "id": "8cb8e39a-8da2-4548-8d9d-493a24c67b92",
   "metadata": {},
   "outputs": [],
   "source": []
  },
  {
   "cell_type": "code",
   "execution_count": null,
   "id": "37916971-5120-4590-8f81-5fb73b22adce",
   "metadata": {},
   "outputs": [],
   "source": []
  }
 ],
 "metadata": {
  "kernelspec": {
   "display_name": "Python 3 (ipykernel)",
   "language": "python",
   "name": "python3"
  },
  "language_info": {
   "codemirror_mode": {
    "name": "ipython",
    "version": 3
   },
   "file_extension": ".py",
   "mimetype": "text/x-python",
   "name": "python",
   "nbconvert_exporter": "python",
   "pygments_lexer": "ipython3",
   "version": "3.7.9"
  },
  "papermill": {
   "default_parameters": {},
   "duration": 468.144174,
   "end_time": "2021-05-21T16:01:05.321603",
   "environment_variables": {},
   "exception": null,
   "input_path": "steps\\03.1_explore_trip_statistics.ipynb",
   "output_path": "experiments\\2020-01-01-till-2021-02-28-tycho-brahe\\03.1_explore_trip_statistics.ipynb",
   "parameters": {
    "n_rows": null,
    "name": "2020-01-01-till-2021-02-28-tycho-brahe"
   },
   "start_time": "2021-05-21T15:53:17.177429",
   "version": "2.3.3"
  }
 },
 "nbformat": 4,
 "nbformat_minor": 5
}
