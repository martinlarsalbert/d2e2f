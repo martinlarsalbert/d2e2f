{
 "cells": [
  {
   "cell_type": "markdown",
   "id": "d96c654a-f39c-49b6-854e-86e0d3273b38",
   "metadata": {
    "tags": []
   },
   "source": [
    "## Following trips"
   ]
  },
  {
   "cell_type": "markdown",
   "id": "7581e448-4b7b-4f07-ab04-7bd253fe59a1",
   "metadata": {},
   "source": [
    "If it can be assumed that the environmental as well as loading conditions are the same within the small time window between two trips in the same direction with Aurora and Tycho Brahe, the difference in energy consumption between the ships must depend on how the ships are run. We cannot change the weather, but we can change how the ships are run. So if one of the ships is doing it better at a certain trip, it should also be possible to operate the other ship in the same, more optimal way. A comparison between the trips in the same direction that are closest to each other for the two vessels are compared in this section."
   ]
  },
  {
   "cell_type": "code",
   "execution_count": null,
   "id": "5154ee76-3a29-49da-a7dc-5f45e51da40a",
   "metadata": {
    "papermill": {
     "duration": 3.700467,
     "end_time": "2021-05-21T15:53:22.375142",
     "exception": false,
     "start_time": "2021-05-21T15:53:18.674675",
     "status": "completed"
    },
    "tags": [
     "remove_cell"
    ]
   },
   "outputs": [],
   "source": [
    "# %load imports.py\n",
    "# %load ../imports.py\n",
    "%matplotlib inline\n",
    "%load_ext autoreload\n",
    "%autoreload 2\n",
    "\n",
    "import warnings\n",
    "warnings.filterwarnings('ignore')\n",
    "\n",
    "import numpy as np\n",
    "import pandas as pd\n",
    "import matplotlib.pyplot as pltb\n",
    "import matplotlib.pyplot as plt\n",
    "import seaborn as sns\n",
    "width=20\n",
    "height=3\n",
    "plt.rcParams[\"figure.figsize\"] = (width,height)\n",
    "sns.set(rc={'figure.figsize':(width,height)})\n",
    "\n",
    "#import seaborn as sns\n",
    "import os\n",
    "from collections import OrderedDict\n",
    "\n",
    "from IPython.display import display\n",
    "\n",
    "pd.options.display.max_rows = 999\n",
    "pd.options.display.max_columns = 999\n",
    "pd.set_option(\"display.max_columns\", None)\n",
    "\n",
    "import sys\n",
    "import os\n",
    "\n",
    "from sklearn.metrics import r2_score\n",
    "import seaborn as sns\n",
    "\n",
    "import statsmodels.api as sm\n",
    "\n",
    "from d2e2f.visualization import visualize\n",
    "import re\n",
    "from myst_nb import glue"
   ]
  },
  {
   "cell_type": "code",
   "execution_count": null,
   "id": "9c396b4e-66a0-4d80-b47b-ded13db36b69",
   "metadata": {
    "tags": [
     "remove_cell"
    ]
   },
   "outputs": [],
   "source": [
    "ship_names = ['tycho','aurora']\n",
    "\n",
    "df = pd.DataFrame()\n",
    "for ship_name in ship_names:\n",
    "    df_ = catalog.load(f'{ship_name}.trip_statistics_joined_thrusters')\n",
    "    df_['ship'] = ship_name\n",
    "    df_['start_time'] = pd.to_datetime(df_['start_time'], utc=True)\n",
    "    df_['end_time'] = pd.to_datetime(df_['end_time'], utc=True)\n",
    "    \n",
    "    df = df.append(df_, ignore_index=True)\n",
    "\n",
    "df.sort_values(by='start_time', inplace=True)\n",
    "\n",
    "df['E']/=3600  #--> [kWh]\n"
   ]
  },
  {
   "cell_type": "code",
   "execution_count": null,
   "id": "0265186f-bc34-49b2-9657-97b102f7872d",
   "metadata": {
    "tags": [
     "remove_cell"
    ]
   },
   "outputs": [],
   "source": [
    "start = df.iloc[0]['start_time'].date()\n",
    "end = df.iloc[-1]['start_time'].date()\n",
    "glue('start',str(start))\n",
    "glue('end',str(end))"
   ]
  },
  {
   "cell_type": "code",
   "execution_count": null,
   "id": "c2024b4e-d6fd-4211-967c-dc8a43fe598d",
   "metadata": {
    "tags": [
     "remove_cell"
    ]
   },
   "outputs": [],
   "source": [
    "facegrid = sns.relplot(data=df, x='start_time',y='E', hue='ship', height=3, aspect=3);\n",
    "facegrid.set_ylabels('E (Energy consumption per trip) [kWh]')\n",
    "\n",
    "glue('fig:tycho-aurora', facegrid.fig, display=False)"
   ]
  },
  {
   "cell_type": "markdown",
   "id": "761d9b9a-0c07-4eb0-9c5e-ded2999a31e1",
   "metadata": {},
   "source": [
    "{numref}`fig:tycho-aurora` shows the energy consumption for trips with the two ships between {glue:}`start` and {glue:}`end`. The trips are filtered to contain only trips where there exist one trip with Aurora and one trip with Tycho Brahe within the time window of 1 hour as shown in {numref}`fig:tycho-aurora-cut`. It can be seen that there is a period in the begining of May (where Tycho Brahe was taken out of service.) that has been excluded. \n",
    "\n",
    "```{glue:figure} fig:tycho-aurora\n",
    ":figwidth: 800px\n",
    ":name: \"fig:tycho-aurora\"\n",
    "\n",
    "Mean power for all trips and both ships \n",
    "```\n",
    "\n",
    "```{glue:figure} fig:tycho-aurora-cut\n",
    ":figwidth: 800px\n",
    ":name: \"fig:tycho-aurora-cut\"\n",
    "\n",
    "Mean power for all trips and both ships \n",
    "```\n"
   ]
  },
  {
   "cell_type": "code",
   "execution_count": null,
   "id": "444d3578-90b5-42cb-9401-a85873fa975d",
   "metadata": {
    "tags": [
     "remove_cell"
    ]
   },
   "outputs": [],
   "source": [
    "ships = df.groupby(by='ship')\n",
    "df_tycho=ships.get_group('tycho')\n",
    "df_aurora=ships.get_group('aurora')\n",
    "mask = df_aurora['start_time'].apply(lambda x: ((x-df_tycho['start_time']).abs() < \"0 days 01:00:00\").any())\n",
    "df_aurora = df_aurora.loc[mask].copy()\n",
    "df_cut = pd.concat([df_tycho, df_aurora])"
   ]
  },
  {
   "cell_type": "code",
   "execution_count": null,
   "id": "78570592-293a-40fd-9a49-6be8b720d6bb",
   "metadata": {
    "tags": [
     "remove_cell"
    ]
   },
   "outputs": [],
   "source": [
    "facegrid = sns.relplot(data=df_cut, x='start_time',y='E', hue='ship', height=3, aspect=3);\n",
    "facegrid.set_ylabels(\"E (Energy consumption) [kWh]\", clear_inner=False)\n",
    "glue('fig:tycho-aurora-cut', facegrid.fig, display=False)"
   ]
  },
  {
   "cell_type": "code",
   "execution_count": null,
   "id": "3f24abbe-1258-4145-a119-9bee2d095feb",
   "metadata": {
    "tags": [
     "remove_cell"
    ]
   },
   "outputs": [],
   "source": [
    "grid = sns.displot(df_cut, x='sog', hue='ship', kind=\"kde\", bw_adjust=1, height=3, aspect=3)\n",
    "ax = grid.fig.axes[0]\n",
    "ax.set_xticks(np.arange(3,6,0.25))\n",
    "\n",
    "ax.annotate('Tycho higher speeds', (4.45,0.8))\n",
    "ax.annotate('Aurora higher speeds', (4.80,0.17))\n",
    "\n",
    "glue('fig:sog_distribution',grid.fig, display=False)"
   ]
  },
  {
   "cell_type": "code",
   "execution_count": null,
   "id": "fdf8e6b0-8f71-4a3a-886c-6c630409ec11",
   "metadata": {
    "tags": [
     "remove_cell"
    ]
   },
   "outputs": [],
   "source": [
    "grid = sns.displot(df_cut, x='E', hue='ship', kind=\"kde\", bw_adjust=1, height=3, aspect=3)\n",
    "glue('fig:energy_distribution',grid.fig, display=False)"
   ]
  },
  {
   "cell_type": "code",
   "execution_count": null,
   "id": "52f3fa14-dc98-4b70-96e8-57c872415f62",
   "metadata": {
    "tags": [
     "remove_cell"
    ]
   },
   "outputs": [],
   "source": [
    "df_mean = df_cut.groupby(by='ship').mean()[['sog','E', 'distance']]\n",
    "\n",
    "df_mean.rename(\n",
    "    columns={'sog':'sog [m/s]',\n",
    "            'E':'E [kWh]',\n",
    "            'distance':'Trip distance [m]',}, inplace=True)\n",
    "\n",
    "formatter = {\n",
    "'sog [m/s]' : '{:.2f}',\n",
    "'E [kWh]' : '{:.0f}',\n",
    "'Trip distance [m]' : '{:.0f}',\n",
    "}\n",
    "glue('tab:mean',df_mean.style.format(formatter))"
   ]
  },
  {
   "cell_type": "code",
   "execution_count": null,
   "id": "03408e6a-b7c3-45ab-9edc-5ff9a86d0b1c",
   "metadata": {
    "tags": [
     "remove_cell"
    ]
   },
   "outputs": [],
   "source": [
    "P_pct_diff = int(np.round((df_tycho['E'].mean() - df_aurora['E'].mean()) / df_aurora['E'].mean()*100))\n",
    "glue('E_pct_diff', P_pct_diff)"
   ]
  },
  {
   "cell_type": "markdown",
   "id": "a4440db8-5395-41a5-a468-16b87be29e0f",
   "metadata": {},
   "source": [
    "{numref}`fig:sog_distribution` shows the distribution of trip average speed for all the trips with the two ships. It can be seen that Tycho Brahe has a higher average trip speed more ofthen than Aurora. In the higher speed range (above 4.75 m/s) Aurora has more trips however. Aurora sometimes have emergency trips, carrying ambulances, which probably explaines this. \n",
    "\n",
    "```{glue:figure} fig:sog_distribution\n",
    ":name: \"fig:sog_distribution\"\n",
    "Distribution of Speed over ground [m/s]\n",
    "```\n",
    "\n",
    "The similar trends can also be seen in the trip Energy consumption distribution as a as seen in {numref}`fig:energy_distribution`.\n",
    "\n",
    "```{glue:figure} fig:energy_distribution\n",
    ":name: \"fig:energy_distribution\"\n",
    "Distribution of Energy consumption [kWh]\n",
    "```\n",
    "\n",
    "Eventhough Aurora often has a lower average trip speed, the emergency trips is balancing this, so that the total mean speed is the same for both ships as seen in {numref}`tab:mean`. This table also show that the mean energy consumption differs {glue:}`E_pct_diff`% in favor of Aurora. Aurora has a little bit lower energy consumption, but the difference is quite small. \n",
    "\n",
    "```{glue:figure} tab:mean\n",
    ":name: \"tab:mean\"\n",
    "Trip mean values\n",
    "```\n",
    "\n",
    "The sister ships should therefore have similar possibilites to minimize the energy consumption. Two following trips: one with Aurora and one with Tycho Brahe in the same direction and closest in time can be paired. These pairs can be compared, and since the time window is now very small (less than 1 hour), the difference in energy consumption should come from the operation of the ships. To further constrain the pairs, only pairs where the mean wind speed recorded onboard the ships differs less than {glue:}`w_max_diff` m/s between the ships is included in the anlysis.\n"
   ]
  },
  {
   "cell_type": "code",
   "execution_count": null,
   "id": "102e9f00-d2a5-4163-a6ad-03d1b94fc2a4",
   "metadata": {
    "tags": [
     "remove_cell"
    ]
   },
   "outputs": [],
   "source": [
    "df_following = pd.DataFrame()\n",
    "for trip_direction, df_aurora_ in df_aurora.groupby(by='trip_direction'):\n",
    "    \n",
    "    df_tycho_ = df_tycho.groupby(by='trip_direction').get_group(trip_direction)\n",
    "    \n",
    "    close_indexes = df_aurora_['start_time'].apply(lambda x: ((x-df_tycho_['start_time']).abs()).idxmin())\n",
    "    \n",
    "    df_aurora_.reset_index(inplace=True)\n",
    "    df_tycho_ = df_tycho_.loc[close_indexes].reset_index()\n",
    "    \n",
    "    df = pd.merge(df_aurora_, df_tycho_, how='inner', left_index=True, right_index=True, \n",
    "                  suffixes = ('_aurora', '_tycho'))\n",
    "    df['trip_direction'] = trip_direction    \n",
    "    df['E_min'] = df[['E_aurora','E_tycho']].min(axis=1)\n",
    "    df['E_max'] = df[['E_aurora','E_tycho']].max(axis=1)\n",
    "    df['E_tot'] = df[['E_aurora','E_tycho']].sum(axis=1)\n",
    "    df['w_diff'] = (df['w_aurora'] - df['w_tycho']).abs()\n",
    "    df['time_diff'] = (df['start_time_aurora'] - df['start_time_tycho']).abs()\n",
    "    \n",
    "    df['E_aurora - E_tycho'] = df['E_aurora'] - df['E_tycho']\n",
    "    df['sog_aurora - sog_tycho'] = df['sog_aurora'] - df['sog_tycho']\n",
    "    \n",
    "    df['energy_saving'] = (df['E_max'] - df['E_min'])\n",
    "    \n",
    "    df_following = df_following.append(df)\n",
    "    "
   ]
  },
  {
   "cell_type": "code",
   "execution_count": null,
   "id": "493ab85c-631b-4eee-8509-d8cb864a20ac",
   "metadata": {
    "tags": [
     "remove_cell"
    ]
   },
   "outputs": [],
   "source": [
    "w_max_diff = 1\n",
    "glue('w_max_diff',w_max_diff)\n",
    "mask = ((df_following['w_diff'] < w_max_diff) &\n",
    "        (df_following['time_diff'] <= '0 days 01:00:00'))\n",
    "\n",
    "\n",
    "\n",
    "df_following = df_following.loc[mask]\n",
    "for trip_direction, df in df_following.groupby('trip_direction'):\n",
    "    facegrid = sns.relplot(data=df, x='E_aurora',y='E_tycho', height=3, aspect=3);\n",
    "    glue(f'fig:E_following_{trip_direction}', facegrid.fig, display=False)\n",
    "\n",
    "    facegrid = sns.relplot(data=df, x='sog_aurora - sog_tycho',y='E_aurora - E_tycho', height=3, aspect=3);\n",
    "    glue(f'fig:sog_following_{trip_direction}', facegrid.fig, display=False)  \n",
    "    \n",
    "    facegrid = sns.relplot(data=df, x='w_aurora',y='w_tycho', height=3, aspect=3);\n",
    "    glue(f'fig:w_following_{trip_direction}', facegrid.fig, display=False)  "
   ]
  },
  {
   "cell_type": "markdown",
   "id": "9d9b64a8-7c01-44ed-9b61-a3bf32fe849d",
   "metadata": {},
   "source": [
    "The mean power of the following trip paris is shown in {numref}`fig:E_following_Helsingborg-Helsingør` and {numref}`fig:E_following_Helsingør-Helsingborg` for the two directions. The mean power of Aurora (x-axis) is plotted against Tycho Brahe (y-axis). It is very clear that the mean power differs a lot between the ships for trips that are very close in time, where the environment etc. should be very similar. "
   ]
  },
  {
   "cell_type": "code",
   "execution_count": null,
   "id": "a4905d50-264b-4215-8e09-e2f9a75e8403",
   "metadata": {
    "tags": [
     "remove_cell"
    ]
   },
   "outputs": [],
   "source": [
    "df_energy_saving = df_following.groupby(by='trip_direction')[['energy_saving','E_tot']].sum()\n",
    "df_energy_saving['energy_saving_pct'] = df_energy_saving['energy_saving']/df_energy_saving['E_tot']*100\n",
    "\n",
    "df_table = df_energy_saving[['energy_saving_pct']].copy()\n",
    "\n",
    "df_table.rename(\n",
    "    columns={'trip_direction':'Direction',\n",
    "            'energy_saving_pct':'Energy saving [%]',}, inplace=True)\n",
    "\n",
    "formatter = {\n",
    "'Energy saving [%]' : '{:.0f}',\n",
    "}\n",
    "glue('tab:energy_saving_following',df_table.style.format(formatter))"
   ]
  },
  {
   "cell_type": "markdown",
   "id": "6c1efe84-7a4a-4be4-bc25-aa4563cf1181",
   "metadata": {},
   "source": [
    "```{glue:figure} fig:E_following_Helsingborg-Helsingør\n",
    ":figwidth: 800px\n",
    ":name: \"fig:E_following_Helsingborg-Helsingør\"\n",
    "\n",
    "Comparison of mean power between the two ships for trips (Helsingborg-Helsingør) that are closest in time (1 hour maximum).\n",
    "\n",
    "```\n",
    "\n",
    "```{glue:figure} fig:E_following_Helsingør-Helsingborg\n",
    ":figwidth: 800px\n",
    ":name: \"fig:E_following_Helsingør-Helsingborg\"\n",
    "\n",
    "Comparison of mean power between the two ships for trips (Helsingør-Helsingborg) that are closest in time (1 hour maximum).\n",
    "\n",
    "```\n",
    "\n",
    "The energy saving potential is estimated by calculating the amount of energy that could be saved if both vessels are always operated as the better of the two (in the pairs). The result from this calculation is shown in {numref}`tab:energy_saving_following`.\n",
    "\n",
    "```{glue:figure} tab:energy_saving_following\n",
    ":name: \"tab:energy_saving_following\"\n",
    "Energy saving potential\n",
    "```\n",
    "\n",
    "The difference in speed (x-axis) is plotted againast the difference in mean power (y-axis) for the trip pairs in {numref}`fig:sog_following_Helsingborg-Helsingør` and {numref}`fig:sog_following_Helsingør-Helsingborg`. It can be seen from these figures that the mean power difference has a high correlation with the speed difference and therefore seems to be the main explaination to why the energy consumption differs. This is however not the only explaination which will be further investigated in the Outliers section below."
   ]
  },
  {
   "cell_type": "markdown",
   "id": "29c1c357-d0a8-442f-9943-444f0bf3a263",
   "metadata": {},
   "source": [
    "```{glue:figure} fig:sog_following_Helsingborg-Helsingør\n",
    ":figwidth: 800px\n",
    ":name: \"fig:sog_following_Helsingborg-Helsingør\"\n",
    "\n",
    "Comparison of mean power difference and mean speed difference between the two ships for trips (Helsingborg-Helsingør) that are closest in time (1 hour maximum).\n",
    "\n",
    "```\n",
    "\n",
    "```{glue:figure} fig:sog_following_Helsingør-Helsingborg\n",
    ":figwidth: 800px\n",
    ":name: \"fig:sog_following_Helsingør-Helsingborg\"\n",
    "\n",
    "Comparison of mean power difference and mean speed difference between the two ships for trips (Helsingør-Helsingborg) that are closest in time (1 hour maximum).\n",
    "\n",
    "```\n"
   ]
  },
  {
   "cell_type": "markdown",
   "id": "51706a93-f5d2-48bf-bc7d-e5460875af24",
   "metadata": {},
   "source": [
    "Analysing the difference between pair trips between Aurora and Tycho Brahe estimates that there is an energy saving potential of at least 7%. "
   ]
  },
  {
   "cell_type": "markdown",
   "id": "199793cd-dcf9-48fa-8fbf-c011b4685161",
   "metadata": {},
   "source": [
    "## Outliers"
   ]
  },
  {
   "cell_type": "code",
   "execution_count": null,
   "id": "51f9168e-f5ca-4121-97cf-8a8ed01daf03",
   "metadata": {
    "tags": [
     "remove_input",
     "remove_cell"
    ]
   },
   "outputs": [],
   "source": [
    "group_directions = df_following.groupby('trip_direction')\n",
    "df_ = group_directions.get_group('Helsingør-Helsingborg').copy()\n",
    "mask = df_['sog_aurora - sog_tycho'].abs() < 0.5\n",
    "df_ = df_.loc[mask].copy()\n",
    "\n",
    "df_['outlier_factor'] = (df_['E_aurora - E_tycho']/df_['sog_aurora - sog_tycho']**(1)).abs()\n",
    "df_ = df_.sort_values(by='outlier_factor', ascending=False)\n",
    "\n",
    "fig,ax=plt.subplots()\n",
    "fig.set_size_inches(15,6)\n",
    "df_.plot(x='sog_aurora - sog_tycho', y='E_aurora - E_tycho', style='b.', label='pairs', ax=ax)\n",
    "\n",
    "outlier_1 = df_.iloc[0]\n",
    "outlier_2 = df_.iloc[7]\n",
    "\n",
    "df_.loc[[outlier_1.name]].plot(x='sog_aurora - sog_tycho', y='E_aurora - E_tycho', style='ro', label='outlier 1', ax=ax)\n",
    "df_.loc[[outlier_2.name]].plot(x='sog_aurora - sog_tycho', y='E_aurora - E_tycho', style='go', label='outlier 2', ax=ax)\n",
    "\n",
    "ax.set_xlabel('sog_aurora - sog_tycho')\n",
    "ax.set_ylabel('E_aurora - E_tycho')\n",
    "ax.legend();\n",
    "glue(\"fig:outliers\", fig, display=False)"
   ]
  },
  {
   "cell_type": "markdown",
   "id": "570b6b12-0859-4b4b-ab53-dc6f8d81a133",
   "metadata": {},
   "source": [
    "Some of the pairs have similar speeds but still differ in energy consumption. Two of these \"outliers\" have been selected according to {numref}`fig:outliers`.\n",
    "\n",
    "```{glue:figure} fig:outliers\n",
    ":name: \"fig:outliers\"\n",
    ":figwidth: 800px\n",
    "Two outliers where Energy consumption differs a lot but speed does not differ.\n",
    "```\n",
    "A closer look at the time series of these pairs will be conducted below.\n"
   ]
  },
  {
   "cell_type": "markdown",
   "id": "8af96a61-30a3-416d-9438-eca9c0eb7010",
   "metadata": {},
   "source": [
    "### Outlier 1\n",
    "Outlier 1 is the red dot in {numref}`fig:outliers` where the energy consumption is lower for Aurora eventhough the average speed is the same for both ships (sog_aurora - sog_tycho = 0). The track plot is shown below together with time series of Power, cumulative energy consumption (energy consumed since start of trip) and speed over ground (sog)."
   ]
  },
  {
   "cell_type": "code",
   "execution_count": null,
   "id": "af329983-c049-4796-8615-d779006b35e9",
   "metadata": {
    "tags": [
     "remove_cell"
    ]
   },
   "outputs": [],
   "source": [
    "df_tycho_time = catalog.load(\"tycho.data_with_trip_columns\")\n",
    "df_aurora_time = catalog.load(\"aurora.data_with_trip_columns\")"
   ]
  },
  {
   "cell_type": "code",
   "execution_count": null,
   "id": "316d216e-e0fc-48ca-860b-621afc7de65a",
   "metadata": {
    "tags": [
     "remove_input"
    ]
   },
   "outputs": [],
   "source": [
    "trip_tycho = df_tycho_time.groupby(by='trip_no').get_group(outlier_1.trip_no_tycho)\n",
    "trip_aurora = df_aurora_time.groupby(by='trip_no').get_group(outlier_1.trip_no_aurora)\n",
    "\n",
    "E = cumtrapz(y=trip_tycho['P'], x=trip_tycho['trip_time'])/3600\n",
    "trip_tycho['E'] = np.concatenate([[0],E])\n",
    "\n",
    "E = cumtrapz(y=trip_aurora['P'], x=trip_aurora['trip_time'])/3600\n",
    "trip_aurora['E'] = np.concatenate([[0],E])\n",
    "\n",
    "display(visualize.plot_map(trip_tycho))\n",
    "display(visualize.plot_map(trip_aurora))\n",
    "\n",
    "\n",
    "fig,ax=plt.subplots()\n",
    "fig.set_size_inches(15,6)\n",
    "trip_tycho.plot(x='trip_time', y='P', ax=ax, label='tycho');\n",
    "trip_aurora.plot(x='trip_time', y='P', ax=ax, label='aurora');\n",
    "ax.set_ylabel('P [kW]')\n",
    "\n",
    "fig,ax=plt.subplots()\n",
    "fig.set_size_inches(15,6)\n",
    "trip_tycho.plot(x='trip_time', y='E', ax=ax, label='tycho');\n",
    "trip_aurora.plot(x='trip_time', y='E', ax=ax, label='aurora');\n",
    "ax.set_ylabel('E [kWh]');\n",
    "\n",
    "fig,ax=plt.subplots()\n",
    "fig.set_size_inches(15,6)\n",
    "trip_tycho.plot(x='trip_time', y='sog', ax=ax, label='tycho');\n",
    "trip_aurora.plot(x='trip_time', y='sog', ax=ax, label='aurora');\n",
    "ax.set_ylabel('sog [m/s]');\n"
   ]
  },
  {
   "cell_type": "markdown",
   "id": "559d052d-54ee-453f-add4-6fb7f4212ebe",
   "metadata": {},
   "source": [
    "It can be seen that Aurora has a lower and stable speed that is maintined for a longer part of the trip giving a lower energy consumption."
   ]
  },
  {
   "cell_type": "markdown",
   "id": "51bd90a9-d7b1-45e5-b491-9d905f4e8955",
   "metadata": {
    "tags": []
   },
   "source": [
    "### Outlier 2\n",
    "Outlier 2 is the green dot in {numref}`fig:outliers` where the energy consumption is higher for Aurora eventhough the average speed is the same for both ships (sog_aurora - sog_tycho = 0). The track plot is shown below together with time series of Power, cumulative energy consumption (energy consumed since start of trip) and speed over ground (sog)."
   ]
  },
  {
   "cell_type": "code",
   "execution_count": null,
   "id": "1a1fde99-7033-4afd-8214-5ae3710b5097",
   "metadata": {
    "tags": [
     "remove_cell"
    ]
   },
   "outputs": [],
   "source": [
    "from scipy.integrate import cumtrapz"
   ]
  },
  {
   "cell_type": "code",
   "execution_count": null,
   "id": "52bdc00b-13c1-42c1-976c-75c32ca1ef35",
   "metadata": {
    "tags": [
     "remove_input"
    ]
   },
   "outputs": [],
   "source": [
    "trip_tycho = df_tycho_time.groupby(by='trip_no').get_group(outlier_2.trip_no_tycho)\n",
    "trip_aurora = df_aurora_time.groupby(by='trip_no').get_group(outlier_2.trip_no_aurora)\n",
    "\n",
    "E = cumtrapz(y=trip_tycho['P'], x=trip_tycho['trip_time'])/3600\n",
    "trip_tycho['E'] = np.concatenate([[0],E])\n",
    "\n",
    "E = cumtrapz(y=trip_aurora['P'], x=trip_aurora['trip_time'])/3600\n",
    "trip_aurora['E'] = np.concatenate([[0],E])\n",
    "\n",
    "\n",
    "display(visualize.plot_map(trip_tycho))\n",
    "display(visualize.plot_map(trip_aurora))\n",
    "\n",
    "fig,ax=plt.subplots()\n",
    "fig.set_size_inches(15,6)\n",
    "trip_tycho.plot(x='trip_time', y='P', ax=ax, label='tycho');\n",
    "trip_aurora.plot(x='trip_time', y='P', ax=ax, label='aurora');\n",
    "ax.set_ylabel('P [kW]')\n",
    "\n",
    "fig,ax=plt.subplots()\n",
    "fig.set_size_inches(15,6)\n",
    "trip_tycho.plot(x='trip_time', y='E', ax=ax, label='tycho');\n",
    "trip_aurora.plot(x='trip_time', y='E', ax=ax, label='aurora');\n",
    "ax.set_ylabel('E [kWh]');\n",
    "\n",
    "fig,ax=plt.subplots()\n",
    "fig.set_size_inches(15,6)\n",
    "trip_tycho.plot(x='trip_time', y='sog', ax=ax, label='tycho');\n",
    "trip_aurora.plot(x='trip_time', y='sog', ax=ax, label='aurora');\n",
    "ax.set_ylabel('sog [m/s]');"
   ]
  },
  {
   "cell_type": "markdown",
   "id": "c0874f3e-3191-4fd2-a017-088671bb3f26",
   "metadata": {},
   "source": [
    "In this case Tycho has a more stable speed and Aurora is making a large detour that is giving a higher energy consumption."
   ]
  }
 ],
 "metadata": {
  "kernelspec": {
   "display_name": "d2e2f",
   "language": "python",
   "name": "python3"
  },
  "language_info": {
   "codemirror_mode": {
    "name": "ipython",
    "version": 3
   },
   "file_extension": ".py",
   "mimetype": "text/x-python",
   "name": "python",
   "nbconvert_exporter": "python",
   "pygments_lexer": "ipython3",
   "version": "3.7.9"
  }
 },
 "nbformat": 4,
 "nbformat_minor": 5
}
