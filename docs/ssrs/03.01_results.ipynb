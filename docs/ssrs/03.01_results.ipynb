{
 "cells": [
  {
   "cell_type": "markdown",
   "id": "8f724a0b-6988-42c5-b51c-5575f8abcf24",
   "metadata": {},
   "source": [
    "# Results"
   ]
  },
  {
   "cell_type": "code",
   "execution_count": null,
   "id": "f3d659b0-664e-43b0-bfe3-2809030810b2",
   "metadata": {
    "tags": [
     "remove-cell"
    ]
   },
   "outputs": [],
   "source": [
    "# %load imports.py\n",
    "%matplotlib inline\n",
    "%load_ext autoreload\n",
    "%autoreload 2\n",
    "%config Completer.use_jedi = False  ## (To fix autocomplete)\n",
    "\n",
    "import numpy as np\n",
    "import pandas as pd\n",
    "import matplotlib.pyplot as plt\n",
    "\n",
    "import seaborn as sns\n",
    "width=20\n",
    "height=3\n",
    "#plt.rcParams[\"figure.figsize\"] = (width,height)\n",
    "#sns.set(rc={'figure.figsize':(width,height)})\n",
    "\n",
    "import matplotlib\n",
    "plt.style.use('paper')\n",
    "from IPython.display import set_matplotlib_formats\n",
    "set_matplotlib_formats('pdf')\n",
    "\n",
    "#import seaborn as sns\n",
    "import os\n",
    "from collections import OrderedDict\n",
    "\n",
    "from IPython.display import display\n",
    "\n",
    "pd.options.display.max_rows = 999\n",
    "pd.options.display.max_columns = 999\n",
    "pd.set_option(\"display.max_columns\", None)\n",
    "\n",
    "import folium\n",
    "import plotly.express as px\n",
    "import plotly.graph_objects as go\n",
    "\n",
    "import sys\n",
    "import os\n",
    "\n",
    "from sklearn.metrics import r2_score\n",
    "\n",
    "import scipy.integrate\n",
    "import seaborn as sns\n",
    "\n",
    "import pyarrow as pa\n",
    "import pyarrow.parquet as pq\n",
    "\n",
    "import dask.dataframe\n",
    "import statsmodels.api as sm\n",
    "\n",
    "from d2e2f.visualization import visualize\n",
    "import scipy.integrate\n",
    "from sklearn.linear_model import LinearRegression, Ridge, Lasso\n",
    "from d2e2f.visualization.visualize import plot_map, plot_trips\n",
    "from myst_nb import glue\n",
    "from jb_helpers import df_to_myst"
   ]
  },
  {
   "cell_type": "code",
   "execution_count": null,
   "id": "10068b2d-d086-42ef-8487-5600855cc150",
   "metadata": {
    "tags": [
     "remove-cell"
    ]
   },
   "outputs": [],
   "source": [
    "exclude_ships = catalog.load(\"params:ssrs.exclude_ships\")\n",
    "statistics_summary = catalog.load(\"ssrs.statistics_summary\")\n",
    "statistics_moving_summary = catalog.load(\"ssrs.statistics_moving_summary\")\n",
    "statistics_running_summary = catalog.load(\"ssrs.statistics_running_summary\")\n",
    "data_selected = catalog.load(\"ssrs.data_selected\")\n",
    "for key in exclude_ships:\n",
    "    data_selected.pop(key)\n",
    "    \n",
    "data_running = catalog.load(\"ssrs.data_running\")\n",
    "for key in exclude_ships:\n",
    "    data_running.pop(key)\n",
    "\n",
    "models = catalog.load(\"ssrs.model_running\")\n",
    "    \n",
    "statistics_summary.drop(index=exclude_ships, inplace=True)\n",
    "statistics_moving_summary.drop(index=exclude_ships, inplace=True)\n",
    "statistics_running_summary.drop(index=exclude_ships, inplace=True)\n",
    "\n",
    "statistics_all = {\n",
    "    'all' : statistics_summary,\n",
    "    'moving' : statistics_moving_summary,\n",
    "    'running' : statistics_running_summary,\n",
    "\n",
    "}"
   ]
  },
  {
   "cell_type": "markdown",
   "id": "d53b2411-61c2-4f81-a9aa-5c7c6eaff223",
   "metadata": {},
   "source": [
    "## Statistics"
   ]
  },
  {
   "cell_type": "code",
   "execution_count": null,
   "id": "dcb2d977-ac62-435c-9651-af605d639ddf",
   "metadata": {
    "tags": [
     "remove-cell"
    ]
   },
   "outputs": [],
   "source": [
    "interesting = ['ship','consumption','consumption per hour', 'consumption per nautical mile', 'distance', 'sog', 'time']\n",
    "\n",
    "statistics_summary_tables = {}\n",
    "for item, statistics_summary in statistics_all.items():\n",
    "\n",
    "    statistics_summary['sog'] = statistics_summary['sog']*3.6/1.852\n",
    "    statistics_summary['ship'] = [key.split('_')[0] for key in statistics_summary.index]\n",
    "    statistics_summary_table = statistics_summary[interesting].copy()\n",
    "    statistics_summary_table['time'] = statistics_summary_table['time']/3600\n",
    "    statistics_summary_table['distance'] = statistics_summary_table['distance']/1852\n",
    "    units={\n",
    "        'consumption' : 'm3',\n",
    "        'consumption per hour' : 'l/h',\n",
    "        'consumption per nautical mile' : 'l/NM',\n",
    "        'distance':'NM', \n",
    "        'sog': 'kts',\n",
    "        'time' : 'h',\n",
    "    \n",
    "    }\n",
    "    \n",
    "    renames = {key:f\"{key} [{value}]\" for key, value in units.items()}\n",
    "    statistics_summary_table.rename(columns=renames, inplace=True)\n",
    "    statistics_summary_tables[item] = statistics_summary_table\n",
    "    \n",
    "    print(df_to_myst(statistics_summary_table.round(decimals=1), \n",
    "                         title=f'Statistics {item}', \n",
    "                         name=f\"statistics_{item}\", include_index=False))\n",
    "\n",
    "for item, statistics_summary in statistics_summary_tables.items():\n",
    "    display(statistics_summary.round(decimals=1))"
   ]
  },
  {
   "cell_type": "markdown",
   "id": "b2732df4-8fcf-439d-b668-164733ca6b86",
   "metadata": {},
   "source": [
    "Data was collected during one month time for two vessels SSRS15-01 (01) and SSRS15-03 (03). The total fuel consumption and sailed distance are shown in {numref}`statistics_all` and {numref}`bars_all`. The fuel consumption during this period is very similar for both vessels. Majority of the time the ships are not moving, so that the average speed over ground (sog) is very small.\n",
    "\n",
    "Data points where the ships are moving (sog > 0) have been filtered out and corresponding statistics are shown in {numref}`statistics_moving` and {numref}`bars_moving`. The average speed for 01 is now much higher than 03, which also increases the consumption per hour. Note that the consumption per nautical mile (CNM) is much lower for 01.\n",
    "\n",
    "Data points where the ships are running (sog > 2 kts) have been filtered out and corresponding statistics are shown in {numref}`statistics_running` and {numref}`bars_running`. Note that 03 has only 7 hours of this data."
   ]
  },
  {
   "cell_type": "markdown",
   "id": "80a05f8d-363d-4ed3-a27a-23db44cd6e80",
   "metadata": {},
   "source": [
    "\n",
    "```{list-table} Statistics all\n",
    ":header-rows: 1\n",
    ":name: statistics_all\n",
    "* - ship\n",
    "  - consumption [m3]\n",
    "  - consumption per hour [l/h]\n",
    "  - consumption per nautical mile [l/NM]\n",
    "  - distance [NM]\n",
    "  - sog [kts]\n",
    "  - time [h]\n",
    "* - SSRS15-01\n",
    "  - 7.7\n",
    "  - 20.1\n",
    "  - 11.6\n",
    "  - 660.3\n",
    "  - 1.7\n",
    "  - 380.9\n",
    "* - SSRS15-03\n",
    "  - 7.0\n",
    "  - 15.0\n",
    "  - 33.3\n",
    "  - 210.8\n",
    "  - 0.4\n",
    "  - 468.8\n",
    "\n",
    "```\n",
    "\n",
    "\n",
    "```{list-table} Statistics moving\n",
    ":header-rows: 1\n",
    ":name: statistics_moving\n",
    "* - ship\n",
    "  - consumption [m3]\n",
    "  - consumption per hour [l/h]\n",
    "  - consumption per nautical mile [l/NM]\n",
    "  - distance [NM]\n",
    "  - sog [kts]\n",
    "  - time [h]\n",
    "* - SSRS15-01\n",
    "  - 4.6\n",
    "  - 62.6\n",
    "  - 7.0\n",
    "  - 649.0\n",
    "  - 8.9\n",
    "  - 72.9\n",
    "* - SSRS15-03\n",
    "  - 4.0\n",
    "  - 17.7\n",
    "  - 20.4\n",
    "  - 197.4\n",
    "  - 0.9\n",
    "  - 227.9\n",
    "\n",
    "```\n",
    "\n",
    "\n",
    "```{list-table} Statistics running\n",
    ":header-rows: 1\n",
    ":name: statistics_running\n",
    "* - ship\n",
    "  - consumption [m3]\n",
    "  - consumption per hour [l/h]\n",
    "  - consumption per nautical mile [l/NM]\n",
    "  - distance [NM]\n",
    "  - sog [kts]\n",
    "  - time [h]\n",
    "* - SSRS15-01\n",
    "  - 4.0\n",
    "  - 107.2\n",
    "  - 6.2\n",
    "  - 638.9\n",
    "  - 17.2\n",
    "  - 37.2\n",
    "* - SSRS15-03\n",
    "  - 1.2\n",
    "  - 164.1\n",
    "  - 7.6\n",
    "  - 153.7\n",
    "  - 21.5\n",
    "  - 7.2\n",
    "\n",
    "```\n",
    "\n",
    "\n"
   ]
  },
  {
   "cell_type": "markdown",
   "id": "8091073c-a201-4f48-b5b9-c49b20a7116d",
   "metadata": {},
   "source": [
    "```{glue:figure} bars_all\n",
    ":figwidth: 1000px\n",
    ":name: \"bars_all\"\n",
    "\n",
    "Comparison between ships using all data\n",
    "```\n",
    "\n",
    "```{glue:figure} bars_moving\n",
    ":figwidth: 1000px\n",
    ":name: \"bars_moving\"\n",
    "\n",
    "Comparison between ships using data where ships are moving\n",
    "```\n",
    "\n",
    "```{glue:figure} bars_running\n",
    ":figwidth: 1000px\n",
    ":name: \"bars_running\"\n",
    "\n",
    "Comparison between ships using data where ships are running.\n",
    "```"
   ]
  },
  {
   "cell_type": "code",
   "execution_count": null,
   "id": "a81ad343-1e51-45ed-bf5b-b36758381636",
   "metadata": {
    "tags": [
     "remove-cell"
    ]
   },
   "outputs": [],
   "source": [
    "for item, statistics_summary_table in statistics_summary_tables.items():\n",
    "    #df_ = statistics_summary_table.select_dtypes(exclude='object').transpose()\n",
    "    df_ = statistics_summary_table.set_index('ship', drop=True).transpose()\n",
    "    df_ = df_.divide(df_.sum(axis=1), axis=0)\n",
    "    \n",
    "    fig,ax=plt.subplots()\n",
    "    df_.plot.barh(ax=ax,stacked=True)\n",
    "    glue(f\"bars_{item}\", fig, display=False);"
   ]
  },
  {
   "cell_type": "code",
   "execution_count": null,
   "id": "b42ea6cb-2e17-460f-a546-265713acea74",
   "metadata": {
    "tags": [
     "remove-cell"
    ]
   },
   "outputs": [],
   "source": [
    "data = pd.DataFrame()\n",
    "for ship, loader in data_selected.items():\n",
    "    data = data.append(loader(), ignore_index=True)\n",
    "    \n",
    "data['sog_kt'] = data['sog']*3.6/1.852\n",
    "data['fuel_per_m'] = data['fuel_rate']/data['sog']*1000/3600*1852\n",
    "data['sog_kt_round'] = 2*(1/2*data['sog_kt']).round(decimals=0)\n",
    "df_speed_table = data.groupby(by='sog_kt_round').mean()\n",
    "df_speed_table_std = data.groupby(by='sog_kt_round').std()"
   ]
  },
  {
   "cell_type": "markdown",
   "id": "a75491e5-7882-48ab-bc1d-38f58998e7b5",
   "metadata": {},
   "source": [
    "If the speeds are divided into equaly spaced (2 kts) bins, mean values and standard deviation can be calculated for each bin to see how the consumption changes with speed which can be seen in {numref}`mean_consumption_sog` and {numref}`speed_table`.\n",
    "\n",
    "```{glue:figure} mean_consumption_sog\n",
    ":figwidth: 1000px\n",
    ":name: \"mean_consumption_sog\"\n",
    "\n",
    "Mean consumption per nautical mile for the whole speed range with data for both vessels. \n",
    "```"
   ]
  },
  {
   "cell_type": "code",
   "execution_count": null,
   "id": "12c52613-d3e2-48e0-b34e-6999eec73b50",
   "metadata": {
    "tags": [
     "remove-cell"
    ]
   },
   "outputs": [],
   "source": [
    "fig,ax=plt.subplots()\n",
    "df_speed_table.plot(x='sog_kt', y='fuel_per_m', label='mean', style='k-', ax=ax)\n",
    "y1 = (df_speed_table - df_speed_table_std)['fuel_per_m']\n",
    "y2 = (df_speed_table + df_speed_table_std)['fuel_per_m']\n",
    "\n",
    "\n",
    "ax.fill_between(df_speed_table['sog_kt'], y1, y2, zorder=-10, color='lightgray', label='+/-std')\n",
    "ax.set_ylim(0,15.0)\n",
    "ax.legend()\n",
    "ax.grid(True)\n",
    "ax.set_ylabel('CNM [l/NM]')\n",
    "ax.set_xlabel('sog [kts]')\n",
    "\n",
    "glue(\"mean_consumption_sog\",fig, display=False)\n"
   ]
  },
  {
   "cell_type": "code",
   "execution_count": null,
   "id": "ade79b67-798e-4552-8b94-0792a83e1715",
   "metadata": {
    "tags": [
     "remove-cell"
    ]
   },
   "outputs": [],
   "source": [
    "speed_table = df_speed_table[['sog_kt','rpm','fuel_rate','fuel_per_m']].copy()\n",
    "speed_table['sog_kt'] = speed_table['sog_kt'].round(decimals=1)\n",
    "speed_table['rpm'] = speed_table['rpm'].round(decimals=0).astype(int)\n",
    "speed_table['fuel_rate'] = (1000*speed_table['fuel_rate']).round(decimals=1)\n",
    "speed_table['fuel_per_m'] = (speed_table['fuel_per_m']).round(decimals=1)\n",
    "\n",
    "renames['fuel_rate'] = 'fuel rate [l/h]'\n",
    "renames['fuel_per_m'] = 'consumption per nautical mile [l/NM]'\n",
    "\n",
    "speed_table.rename(columns=renames, inplace=True)\n",
    "\n",
    "print(df_to_myst(speed_table, \n",
    "                 title=f'Speed table', \n",
    "                 name=f\"speed_table\", include_index=False))\n",
    "\n",
    "speed_table"
   ]
  },
  {
   "cell_type": "markdown",
   "id": "3e405b2c-a11b-48a2-8b06-4ecf2ba67821",
   "metadata": {},
   "source": [
    "```{list-table} Speed table\n",
    ":header-rows: 1\n",
    ":name: speed_table\n",
    "* - sog_kt\n",
    "  - rpm\n",
    "  - fuel rate [l/h]\n",
    "  - consumption per nautical mile [l/NM]\n",
    "* - 0.1\n",
    "  - 15.0\n",
    "  - 11.8\n",
    "  - 265.5\n",
    "* - 1.7\n",
    "  - 616.0\n",
    "  - 17.7\n",
    "  - 11.0\n",
    "* - 4.1\n",
    "  - 687.0\n",
    "  - 22.7\n",
    "  - 5.7\n",
    "* - 6.1\n",
    "  - 722.0\n",
    "  - 27.6\n",
    "  - 4.6\n",
    "* - 7.9\n",
    "  - 929.0\n",
    "  - 44.1\n",
    "  - 5.5\n",
    "* - 9.8\n",
    "  - 1203.0\n",
    "  - 76.2\n",
    "  - 7.8\n",
    "* - 11.9\n",
    "  - 1346.0\n",
    "  - 93.5\n",
    "  - 7.9\n",
    "* - 14.0\n",
    "  - 1395.0\n",
    "  - 109.7\n",
    "  - 7.9\n",
    "* - 16.0\n",
    "  - 1436.0\n",
    "  - 118.7\n",
    "  - 7.4\n",
    "* - 18.0\n",
    "  - 1481.0\n",
    "  - 126.7\n",
    "  - 7.0\n",
    "* - 20.1\n",
    "  - 1542.0\n",
    "  - 134.9\n",
    "  - 6.7\n",
    "* - 22.0\n",
    "  - 1580.0\n",
    "  - 146.5\n",
    "  - 6.7\n",
    "* - 24.1\n",
    "  - 1632.0\n",
    "  - 157.0\n",
    "  - 6.5\n",
    "* - 26.0\n",
    "  - 1673.0\n",
    "  - 170.5\n",
    "  - 6.6\n",
    "* - 28.0\n",
    "  - 1716.0\n",
    "  - 178.5\n",
    "  - 6.4\n",
    "* - 29.9\n",
    "  - 1755.0\n",
    "  - 197.2\n",
    "  - 6.6\n",
    "* - 32.0\n",
    "  - 1804.0\n",
    "  - 216.2\n",
    "  - 6.8\n",
    "* - 34.1\n",
    "  - 1857.0\n",
    "  - 227.2\n",
    "  - 6.7\n",
    "* - 36.0\n",
    "  - 1886.0\n",
    "  - 239.2\n",
    "  - 6.6\n",
    "* - 37.6\n",
    "  - 1947.0\n",
    "  - 256.3\n",
    "  - 6.8\n",
    "\n",
    "```"
   ]
  },
  {
   "cell_type": "markdown",
   "id": "dec7d02f-5903-48b7-8ff0-b39853ea4de8",
   "metadata": {},
   "source": [
    "## Fuel consumption model"
   ]
  },
  {
   "cell_type": "markdown",
   "id": "07f43c5a-b54b-42b1-936e-9fc440efd242",
   "metadata": {},
   "source": [
    "The fuel consumption data for the two vessels are shown in {numref}`data_SSRS15-01_322012079` and {numref}`data_SSRS15-03_322012059`.\n",
    "\n",
    "```{glue:figure} data_SSRS15-01_322012079\n",
    ":figwidth: 1000px\n",
    ":name: \"data_SSRS15-01_322012079\"\n",
    "\n",
    "Data SSRS15-01\n",
    "```\n",
    "\n",
    "```{glue:figure} data_SSRS15-03_322012059\n",
    ":figwidth: 1000px\n",
    ":name: \"data_SSRS15-03_322012059\"\n",
    "\n",
    "Data SSRS15-03\n",
    "```"
   ]
  },
  {
   "cell_type": "code",
   "execution_count": null,
   "id": "ccd7cb9b-ff9e-43d2-ac45-fa7e1c26f3f6",
   "metadata": {
    "tags": [
     "remove-cell"
    ]
   },
   "outputs": [],
   "source": [
    "for ship, loader in data_running.items():\n",
    "    data = loader()\n",
    "    model = models[ship]()\n",
    "    \n",
    "    data['sog_kt'] = data['sog']*3.6/1.852\n",
    "    X_pred = pd.DataFrame()\n",
    "    X_pred['sog'] = np.linspace(data['sog'].min(), data['sog'].max(), 100)\n",
    "    \n",
    "    prediction = X_pred.copy()\n",
    "    prediction['fuel_rate'] = model.predict(X_pred)\n",
    "    prediction['fuel_per_m'] = prediction['fuel_rate']/X_pred['sog']*1000/3600*1852\n",
    "    prediction['sog_kt'] = prediction['sog']*3.6/1.852\n",
    "    \n",
    "    fig,axes=plt.subplots(nrows=2)\n",
    "    ax =axes[0]\n",
    "    data['fuel_per_m'] = data['fuel_rate']/data['sog']*1000/3600*1852\n",
    "    data.resample('10S').mean().plot(x='sog_kt', y='fuel_per_m', style='.', alpha=0.1, ax=ax, label='__no_label__')\n",
    "    \n",
    "    ax.set_ylim(data['fuel_per_m'].quantile(0.01), \n",
    "                data['fuel_per_m'].quantile(0.90))\n",
    "    ax.plot([],'b.', label='data')\n",
    "    \n",
    "    prediction.plot(x='sog_kt', y='fuel_per_m', ax=ax, label='regression')\n",
    "    ax.set_xticks(np.arange(0,int(np.ceil(data['sog_kt'].max())),2));\n",
    "    ax.grid(True)\n",
    "    ax.legend()\n",
    "    ax.set_ylabel('CNM [L/NM]')\n",
    "    ax.set_xlabel('Speed over ground [kts]')\n",
    "    \n",
    "    \n",
    "    ax = axes[1]\n",
    "    data['sog_kt'].hist(bins=50, density=True, ax=ax)\n",
    "    ax.set_xticks(np.arange(0,int(np.ceil(data['sog_kt'].max())),2));\n",
    "    ax.set_xlabel('sog [m/s]');\n",
    "    ax.set_ylabel('Probability density')\n",
    "    ax.set_xlabel('Speed over ground [kts]')\n",
    "    \n",
    "    name = f\"data_{ship}\"\n",
    "    display(name)\n",
    "    glue(name, fig, display=False)"
   ]
  },
  {
   "cell_type": "markdown",
   "id": "1796587a-b474-4482-8fdd-ebebc9bf0776",
   "metadata": {},
   "source": [
    "## Fuel saving potential"
   ]
  },
  {
   "cell_type": "code",
   "execution_count": null,
   "id": "4f572ec5-5d69-40b7-acd0-57056885fb44",
   "metadata": {
    "tags": [
     "remove-cell"
    ]
   },
   "outputs": [],
   "source": [
    "ship = 'SSRS15-01_322012079'\n",
    "data = data_running[ship]()\n",
    "data['sog_kt'] = data['sog']*3.6/1.852\n",
    "data['fuel_per_m'] = data['fuel_rate']/data['sog']*1000/3600*1852\n",
    "model = models['all']()"
   ]
  },
  {
   "cell_type": "code",
   "execution_count": null,
   "id": "131bfa1b-4339-487c-836a-543b8bfa1f67",
   "metadata": {
    "tags": [
     "remove-cell"
    ]
   },
   "outputs": [],
   "source": [
    "good_speeds = [5,25,36]"
   ]
  },
  {
   "cell_type": "code",
   "execution_count": null,
   "id": "122141a4-b1ed-4097-af4f-d470e2520b48",
   "metadata": {
    "tags": [
     "remove-cell"
    ]
   },
   "outputs": [],
   "source": [
    "import scipy.interpolate\n",
    "f = scipy.interpolate.interp1d([0] + good_speeds + [50], \n",
    "                               [good_speeds[0]] + good_speeds + [good_speeds[-1]], \n",
    "                               kind='nearest', \n",
    "                               bounds_error=False)\n",
    "data['good_speed'] = f(data['sog_kt'].values)"
   ]
  },
  {
   "cell_type": "markdown",
   "id": "e1e3a0dd-38ab-45a0-863c-5d3ad953a0c4",
   "metadata": {},
   "source": [
    "A fuel saving scenario is simulated for 01. In this scenario all data points are divided into three speeds groups: 5, 25 and 36 kts (see {numref}`scenario`). The speed is changed to either 5, 25 or 36 kts depending on the group. The fuel consumption is predicted with the developed model covering the same distance for each group.\n",
    "\n",
    "```{glue:figure} scenario\n",
    ":figwidth: 1000px\n",
    ":name: \"scenario\"\n",
    "\n",
    "Fuel saving scenario using speeds: 5, 25 and 36 kts.\n",
    "```"
   ]
  },
  {
   "cell_type": "code",
   "execution_count": null,
   "id": "3ad4a612-6868-4de0-b51f-f11e6f82d174",
   "metadata": {
    "tags": [
     "remove-cell"
    ]
   },
   "outputs": [],
   "source": [
    "fig,ax=plt.subplots()\n",
    "\n",
    "X_pred = pd.DataFrame()\n",
    "X_pred['sog'] = np.linspace(data['sog'].min(), data['sog'].max(), 100)\n",
    "\n",
    "prediction = X_pred.copy()\n",
    "prediction['fuel_rate'] = model.predict(X_pred)\n",
    "prediction['fuel_per_m'] = prediction['fuel_rate']/X_pred['sog']*1000/3600*1852\n",
    "prediction['sog_kt'] = prediction['sog']*3.6/1.852\n",
    "prediction.plot(x='sog_kt', y='fuel_per_m', ax=ax, style='k-', label='regression')\n",
    "\n",
    "for good_speed, group in data.groupby(by=['good_speed'], sort=False):\n",
    "    \n",
    "    plot = group.resample('10S').mean().plot(x='sog_kt', y='fuel_per_m', \n",
    "                                      style='.', alpha=0.1, ax=ax, label=\"__no_legend__\")\n",
    "    \n",
    "    ax.plot([], '.', label=f\"{good_speed} kts\", color=plot.get_lines()[-1].get_color())\n",
    "    \n",
    "    sog = good_speed*1.852/3.6\n",
    "    fuel_rate = model.predict([[sog]])\n",
    "    fuel_per_m = fuel_rate/sog*1000/3600*1852\n",
    "    \n",
    "    ax.plot(good_speed, fuel_per_m,'o', color=ax.get_lines()[-1].get_color())\n",
    "    \n",
    "    ax.set_ylim(group['fuel_per_m'].quantile(0.01), \n",
    "                group['fuel_per_m'].quantile(0.90))\n",
    "ax.legend(loc='lower right')\n",
    "ax.grid(True)\n",
    "ax.set_ylabel('CNM [L/NM]')\n",
    "ax.set_xlabel('Speed over ground [m/s]')\n",
    "glue(\"scenario\",fig, display=False)"
   ]
  },
  {
   "cell_type": "code",
   "execution_count": null,
   "id": "4eb76b3e-0006-4d32-9e0f-d6429568bb42",
   "metadata": {
    "tags": [
     "remove-cell"
    ]
   },
   "outputs": [],
   "source": [
    "consumptions = pd.Series()\n",
    "\n",
    "for good_speed, group in data.groupby(by=['good_speed'], sort=False):\n",
    "    \n",
    "    sog = good_speed*1.852/3.6\n",
    "    distance = scipy.integrate.simps(group[\"sog\"], dx=1.0)  # [m]\n",
    "    time = distance/sog\n",
    "        \n",
    "    fuel_rate = model.predict([[sog]])[0]\n",
    "    consumption = fuel_rate/3600*time\n",
    "    consumptions[good_speed] = consumption"
   ]
  },
  {
   "cell_type": "code",
   "execution_count": null,
   "id": "aaf90c13-fac5-4207-ba5a-9efd8b51236a",
   "metadata": {
    "tags": [
     "remove-cell"
    ]
   },
   "outputs": [],
   "source": [
    "df_consumptions = {key: values.loc[ship,'consumption'] for key,values in statistics_all.items()}\n",
    "df_consumptions['scenario'] = consumptions.sum()\n",
    "df_consumptions = pd.Series(df_consumptions)\n",
    "table = df_consumptions.to_frame(name='total fuel consumption [m3]').transpose().round(decimals=1)\n",
    "\n",
    "print(df_to_myst(table, \n",
    "                 title=f'Fuel saving potential', \n",
    "                 name=f\"total_fuel_consumption\", include_index=True))"
   ]
  },
  {
   "cell_type": "markdown",
   "id": "d975cecf-d42f-4dcc-81a4-5245607a9bd2",
   "metadata": {},
   "source": [
    "The predicted total fuel consumption for 01 in the scenario is shown together with the total fuel consumtion for all data, moving data and running data in {numref}`total_fuel_consumption`"
   ]
  },
  {
   "cell_type": "markdown",
   "id": "5167826f-7951-4b72-a8f6-56f88928ea2d",
   "metadata": {},
   "source": [
    "```{list-table} Fuel saving potential\n",
    ":header-rows: 1\n",
    ":name: total_fuel_consumption\n",
    "* -  \n",
    "  - all\n",
    "  - moving\n",
    "  - running\n",
    "  - scenario\n",
    "* - total fuel consumption [m3]\n",
    "  - 7.7\n",
    "  - 4.6\n",
    "  - 4.0\n",
    "  - 3.9\n",
    "\n",
    "```"
   ]
  },
  {
   "cell_type": "code",
   "execution_count": null,
   "id": "356c08da-233a-4f38-b118-a3461fc5a217",
   "metadata": {},
   "outputs": [],
   "source": []
  }
 ],
 "metadata": {
  "kernelspec": {
   "display_name": "d2e2f",
   "language": "python",
   "name": "python3"
  },
  "language_info": {
   "codemirror_mode": {
    "name": "ipython",
    "version": 3
   },
   "file_extension": ".py",
   "mimetype": "text/x-python",
   "name": "python",
   "nbconvert_exporter": "python",
   "pygments_lexer": "ipython3",
   "version": "3.7.9"
  }
 },
 "nbformat": 4,
 "nbformat_minor": 5
}
