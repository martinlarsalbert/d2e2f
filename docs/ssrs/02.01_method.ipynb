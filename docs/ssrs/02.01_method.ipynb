{
 "cells": [
  {
   "cell_type": "markdown",
   "id": "f080d5fd-fbcb-46f9-b13a-36d7e744c00e",
   "metadata": {},
   "source": [
    "# Method"
   ]
  },
  {
   "cell_type": "markdown",
   "id": "3348a195-f9fb-4388-bf9f-e623e8ef2e13",
   "metadata": {
    "tags": []
   },
   "source": [
    "## Preprocessing data\n",
    "The raw data is supplied by Datavärde ([datavarde.se](https://datavarde.se/)) as folder structure with a series of zipped json files for each measured item (''telematikenhet''). The measured items are resampled with 1 second sampling period to enable time syncing between the items, so that all items can be represented in one time series table for each vessel.  "
   ]
  },
  {
   "cell_type": "markdown",
   "id": "3dbc229a-dcc6-401a-85e0-8feee4c7d5da",
   "metadata": {},
   "source": [
    "## Cleaning data\n",
    "* Latitudes should be in intervall -90  to 90 degrees.\n",
    "* Longitudes should be in the intervall 0 to 180 degrees.\n",
    "* Valued smaller than 0.001 percentile for *sog* and *fuel rate* are removed\n",
    "* Valued larger than 0.999 percentile for *sog* and *fuel rate* are removed\n"
   ]
  },
  {
   "cell_type": "markdown",
   "id": "2112c7e8-b792-4dd4-911b-22a18169ba4d",
   "metadata": {},
   "source": [
    "## Selection data\n",
    "The following selections are defined:\n",
    "* *all*: all data points\n",
    "* *moving*: data points where the ships are moving (sog > 0) \n",
    "* *running*: data points where the ships are running (sog > 2 kts)"
   ]
  },
  {
   "cell_type": "markdown",
   "id": "2e040d81-73c0-425e-99a1-0628146ac8a8",
   "metadata": {},
   "source": [
    "## Statistics\n",
    "\n",
    "The average course over ground $\\overline{cog}$ is calculated as: \n",
    "\n",
    "```{math}\n",
    ":label: eq-cog\n",
    "\n",
    "\\overline{cog} = \\arctan \\left(\\frac{\\overline{\\sin(cog)}}{\\overline{\\cos(cog)}} \\right)\n",
    "```\n",
    "where line over means arithmetic mean value."
   ]
  },
  {
   "cell_type": "markdown",
   "id": "f55d98b8-2c04-4e6e-9901-49b3f23ac229",
   "metadata": {
    "tags": [
     "remove-cell"
    ]
   },
   "source": [
    "$$ \\overline{cog} = \\arctan \\left(\\frac{\\overline{\\sin(cog)}}{\\overline{\\cos(cog)}} \\right)$$"
   ]
  },
  {
   "cell_type": "markdown",
   "id": "8afa3e06-5fdf-4d04-9cc3-086dd70bbf1f",
   "metadata": {},
   "source": [
    "The distance and consumption are calculated as the time integral:\n",
    "\n",
    "```{math}\n",
    ":label: eq-integral\n",
    "\n",
    "x_{total} = \\int_{n=0}^{n=N} x_n \\,dt\n",
    "```"
   ]
  },
  {
   "cell_type": "markdown",
   "id": "0bab3ec5-b0b0-45a8-bef7-8b3c7733cc89",
   "metadata": {
    "tags": [
     "remove-cell"
    ]
   },
   "source": [
    "$$ x_{total} = \\int_{n=0}^{n=N} x_n \\,dt $$"
   ]
  },
  {
   "cell_type": "markdown",
   "id": "6c75c156-2bda-4f4f-a21f-93fbdd848f10",
   "metadata": {},
   "source": [
    "The integral is solved with simpson integration where $x$ is replaced by *sog* or *fuel rate/3600* to get distance or consumption. The sampling period is used for $dt$. The integration is split into many integrations if there are gaps in the time signal:\n",
    "\n",
    "```{math}\n",
    ":label: eq-integral-split\n",
    "\n",
    "x_{total} = \\int_{n=0}^{n=N} x_n \\,dt + \\int_{n=N+1}^{n=K} x_n \\,dt + ...\n",
    "```"
   ]
  },
  {
   "cell_type": "markdown",
   "id": "ca512e93-6bab-4e95-89d7-2d29f8228914",
   "metadata": {
    "tags": [
     "remove-cell"
    ]
   },
   "source": [
    "$$ x_{total} = \\int_{n=0}^{n=N} x_n \\,dt + \\int_{n=N+1}^{n=K} x_n \\,dt + ... $$"
   ]
  },
  {
   "cell_type": "markdown",
   "id": "de45b770-a943-429b-a430-36d05692e3f4",
   "metadata": {},
   "source": [
    "## Fuel consumption model"
   ]
  },
  {
   "cell_type": "markdown",
   "id": "233f2ba7-3592-4485-86e4-424a06843bf8",
   "metadata": {},
   "source": [
    "A spline function is used as the model to describe the fuel consumption as function of sog. The number of knots and degree of the spline is selected with Repeated K-fold cross validation. "
   ]
  }
 ],
 "metadata": {
  "kernelspec": {
   "display_name": "d2e2f",
   "language": "python",
   "name": "python3"
  },
  "language_info": {
   "codemirror_mode": {
    "name": "ipython",
    "version": 3
   },
   "file_extension": ".py",
   "mimetype": "text/x-python",
   "name": "python",
   "nbconvert_exporter": "python",
   "pygments_lexer": "ipython3",
   "version": "3.7.9"
  }
 },
 "nbformat": 4,
 "nbformat_minor": 5
}
