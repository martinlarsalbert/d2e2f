{
 "cells": [
  {
   "cell_type": "markdown",
   "id": "f080d5fd-fbcb-46f9-b13a-36d7e744c00e",
   "metadata": {},
   "source": [
    "# Introduction"
   ]
  },
  {
   "cell_type": "markdown",
   "id": "6bf3493f-694b-41b2-86c0-9f76522f790f",
   "metadata": {},
   "source": [
    "Data driven energy efficiency of ships at Swedish Sea Rescue Society (SSRS) should be investigated. \n",
    "Operational data has been collected onboard two Search And Rescue (SAR) vessels of the Hallberg Rassy ship class (see {numref}`vessel` and {numref}`main_particulars`) with ''the ShipToShore System'' supplied by Datavärde ([datavarde.se](https://datavarde.se/)).\n",
    "\n",
    "```{figure} figures/mai_rassy_0.jpg\n",
    "---\n",
    "height: 300px\n",
    "name: vessel\n",
    "---\n",
    "One of the ships in Hallberg Rassy ship class.\n",
    "```\n"
   ]
  },
  {
   "cell_type": "markdown",
   "id": "b9e45328-f87c-4d3d-9753-d2bece533a0b",
   "metadata": {
    "tags": [
     "remove-cell"
    ]
   },
   "source": [
    "![](figures/mai_rassy_0.jpg)"
   ]
  },
  {
   "cell_type": "markdown",
   "id": "72243749-5037-4cf3-93ef-43b030a11a4b",
   "metadata": {},
   "source": [
    "```{list-table} Main particulars of Hallberg Rassy ship class\n",
    ":name: main_particulars\n",
    "\n",
    "* - Length\n",
    "  - 15.7 m\n",
    "* - Beam\n",
    "  - 3.9 m\n",
    "* - Draught\n",
    "  - 1 m\n",
    "* - Material\n",
    "  - Composite\n",
    "* - Displacement\n",
    "  - 17 tons\n",
    "* - Engines\n",
    "  - 2x650 hk Scania diesel\n",
    "* - Propulsion\n",
    "  - 2xMJP X350 water jet\n",
    "* - Speed\n",
    "  - 34 kts\n",
    "* - Crew \n",
    "  - 3-5 personer\n",
    "\n",
    "```\n"
   ]
  },
  {
   "cell_type": "markdown",
   "id": "be15a418-7c55-4291-81f4-acd51444ba87",
   "metadata": {},
   "source": [
    "Data for one of the vessels (SSRS15-01) has been collected during operation on the west coast of Sweden (see {numref}`map_SSRS15-01`). Data for the other vessel (SSRS15-03) was collected during operation in northern part of Stockholm arhcipelago (see {numref}`map_SSRS15-03`).\n",
    "\n",
    "```{figure} figures/SSRS15-01_322012079.PNG\n",
    "---\n",
    "height: 500px\n",
    "name: map_SSRS15-01\n",
    "---\n",
    "Data collected with SSRS15-01 on the west coast of Sweden.\n",
    "```"
   ]
  },
  {
   "cell_type": "markdown",
   "id": "cdc9633f-4628-4fb9-ab58-00fea9afa81f",
   "metadata": {
    "tags": [
     "remove-cell"
    ]
   },
   "source": [
    "![](figures/SSRS15-01_322012079.PNG)"
   ]
  },
  {
   "cell_type": "markdown",
   "id": "69c34321-3414-4154-b6ea-53936697a386",
   "metadata": {},
   "source": [
    "```{figure} figures/SSRS15-03_322012059.PNG\n",
    "---\n",
    "height: 500px\n",
    "name: map_SSRS15-03\n",
    "---\n",
    "Data collected with SSRS15-03 in northern part of Stockholm arhcipelago.\n",
    "```"
   ]
  },
  {
   "cell_type": "markdown",
   "id": "97489a21-9642-4008-a7e6-951f9dd4387a",
   "metadata": {
    "tags": [
     "remove-cell"
    ]
   },
   "source": [
    "![](figures/SSRS15-03_322012059.PNG)"
   ]
  },
  {
   "cell_type": "code",
   "execution_count": null,
   "id": "0589b28e-effe-4ee5-a1ef-bdc33935021b",
   "metadata": {},
   "outputs": [],
   "source": []
  }
 ],
 "metadata": {
  "kernelspec": {
   "display_name": "d2e2f",
   "language": "python",
   "name": "python3"
  },
  "language_info": {
   "codemirror_mode": {
    "name": "ipython",
    "version": 3
   },
   "file_extension": ".py",
   "mimetype": "text/x-python",
   "name": "python",
   "nbconvert_exporter": "python",
   "pygments_lexer": "ipython3",
   "version": "3.7.9"
  }
 },
 "nbformat": 4,
 "nbformat_minor": 5
}
