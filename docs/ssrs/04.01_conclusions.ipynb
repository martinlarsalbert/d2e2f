{
 "cells": [
  {
   "cell_type": "markdown",
   "id": "93a569a7-f3f7-4432-9617-8a88a1a10e0d",
   "metadata": {},
   "source": [
    "# Conclusions"
   ]
  },
  {
   "cell_type": "markdown",
   "id": "f86af374-0292-41c2-9d8c-b6c0ff49cd5c",
   "metadata": {},
   "source": [
    "Vessel 01 has covered much longer distance than 03 during the measurement period. The total fuel consumption is however almost the same for both vessels.\n",
    "The fuel consumption per nautical mile (CNM) is extremely high for very low speeds (< 2 kts). \n",
    "The speed with best fuel economy is at about 5 kts where CNM is the lowest. There is a speed region between 7 and 20 kts with poor fuel economy (high CNM). The vessels are expected to be in pre-planing or semi-planing for these speeds. At higher speeds (> 20 kts) the fuel economy is improved (when the vessels are planing).\n",
    "\n",
    "Statistics have been calculated for:\n",
    "* *all*: all data points\n",
    "* *moving*: data points where the ships are moving (sog > 0) \n",
    "* *running*: data points where the ships are running (sog > 2 kts) \n",
    "\n",
    "The total fuel consumption for *all* is much higher than *moving* or *running*, which means that a lot of fuel is consumed at zero speed.\n",
    "\n",
    "A scenario with more optimal speeds was investigated for 01 which gave a very small improvement compared to *running*, which means that the operation of the vessels for *running* is as optimal as it can get.\n",
    "\n",
    "There is a great fuel saving potential for zero speed. Removing the fuel consumption at zero speed completely would give a 40% reduction in total fuel consumption."
   ]
  },
  {
   "cell_type": "code",
   "execution_count": null,
   "id": "53eeae1c-a36b-4f64-8906-27670f4127c1",
   "metadata": {},
   "outputs": [],
   "source": []
  }
 ],
 "metadata": {
  "kernelspec": {
   "display_name": "d2e2f",
   "language": "python",
   "name": "python3"
  },
  "language_info": {
   "codemirror_mode": {
    "name": "ipython",
    "version": 3
   },
   "file_extension": ".py",
   "mimetype": "text/x-python",
   "name": "python",
   "nbconvert_exporter": "python",
   "pygments_lexer": "ipython3",
   "version": "3.7.9"
  }
 },
 "nbformat": 4,
 "nbformat_minor": 5
}
